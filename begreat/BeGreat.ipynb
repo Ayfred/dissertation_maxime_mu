{
 "cells": [
  {
   "cell_type": "code",
   "execution_count": 4,
   "metadata": {},
   "outputs": [
    {
     "name": "stdout",
     "output_type": "stream",
     "text": [
      "Defaulting to user installation because normal site-packages is not writeable\n",
      "\u001b[33mWARNING: Ignoring invalid distribution -vidia-nccl-cu12 (/users/pgrad/mamu/.local/lib/python3.10/site-packages)\u001b[0m\u001b[33m\n",
      "\u001b[0m\u001b[33mWARNING: Ignoring invalid distribution -andas (/users/pgrad/mamu/.local/lib/python3.10/site-packages)\u001b[0m\u001b[33m\n",
      "\u001b[0m\u001b[33mWARNING: Ignoring invalid distribution -vidia-nccl-cu12 (/users/pgrad/mamu/.local/lib/python3.10/site-packages)\u001b[0m\u001b[33m\n",
      "\u001b[0m\u001b[33mWARNING: Ignoring invalid distribution -andas (/users/pgrad/mamu/.local/lib/python3.10/site-packages)\u001b[0m\u001b[33m\n",
      "\u001b[0mRequirement already satisfied: transformers in /users/pgrad/mamu/.local/lib/python3.10/site-packages (4.40.2)\n",
      "Collecting transformers\n",
      "  Downloading transformers-4.41.1-py3-none-any.whl (9.1 MB)\n",
      "\u001b[2K     \u001b[90m━━━━━━━━━━━━━━━━━━━━━━━━━━━━━━━━━━━━━━━━\u001b[0m \u001b[32m9.1/9.1 MB\u001b[0m \u001b[31m37.0 MB/s\u001b[0m eta \u001b[36m0:00:00\u001b[0m00:01\u001b[0m00:01\u001b[0m\n",
      "\u001b[?25hRequirement already satisfied: be_great in /users/pgrad/mamu/.local/lib/python3.10/site-packages (0.0.7)\n",
      "Requirement already satisfied: tokenizers<0.20,>=0.19 in /users/pgrad/mamu/.local/lib/python3.10/site-packages (from transformers) (0.19.1)\n",
      "Requirement already satisfied: safetensors>=0.4.1 in /users/pgrad/mamu/.local/lib/python3.10/site-packages (from transformers) (0.4.3)\n",
      "Requirement already satisfied: requests in /users/pgrad/mamu/.local/lib/python3.10/site-packages (from transformers) (2.31.0)\n",
      "Requirement already satisfied: huggingface-hub<1.0,>=0.23.0 in /users/pgrad/mamu/.local/lib/python3.10/site-packages (from transformers) (0.23.0)\n",
      "Requirement already satisfied: pyyaml>=5.1 in /users/pgrad/mamu/.local/lib/python3.10/site-packages (from transformers) (6.0.1)\n",
      "Requirement already satisfied: regex!=2019.12.17 in /users/pgrad/mamu/.local/lib/python3.10/site-packages (from transformers) (2024.5.10)\n",
      "Requirement already satisfied: numpy>=1.17 in /users/pgrad/mamu/.local/lib/python3.10/site-packages (from transformers) (1.24.4)\n",
      "Requirement already satisfied: packaging>=20.0 in /users/pgrad/mamu/.local/lib/python3.10/site-packages (from transformers) (24.0)\n",
      "Requirement already satisfied: tqdm>=4.27 in /users/pgrad/mamu/.local/lib/python3.10/site-packages (from transformers) (4.66.4)\n",
      "Requirement already satisfied: filelock in /users/pgrad/mamu/.local/lib/python3.10/site-packages (from transformers) (3.14.0)\n",
      "Requirement already satisfied: accelerate>=0.20.1 in /users/pgrad/mamu/.local/lib/python3.10/site-packages (from be_great) (0.23.0)\n",
      "Requirement already satisfied: datasets>=2.5.2 in /users/pgrad/mamu/.local/lib/python3.10/site-packages (from be_great) (2.14.6)\n",
      "Requirement already satisfied: pandas>=1.4.4 in /users/pgrad/mamu/.local/lib/python3.10/site-packages (from be_great) (2.2.2)\n",
      "Requirement already satisfied: scikit-learn>=1.1.1 in /users/pgrad/mamu/.local/lib/python3.10/site-packages (from be_great) (1.3.2)\n",
      "Requirement already satisfied: torch>=1.10.2 in /users/pgrad/mamu/.local/lib/python3.10/site-packages (from be_great) (2.1.2)\n",
      "Requirement already satisfied: psutil in /usr/lib/python3/dist-packages (from accelerate>=0.20.1->be_great) (5.9.0)\n",
      "Requirement already satisfied: pyarrow>=8.0.0 in /users/pgrad/mamu/.local/lib/python3.10/site-packages (from datasets>=2.5.2->be_great) (13.0.0)\n",
      "Requirement already satisfied: aiohttp in /users/pgrad/mamu/.local/lib/python3.10/site-packages (from datasets>=2.5.2->be_great) (3.8.6)\n",
      "Requirement already satisfied: fsspec[http]<=2023.10.0,>=2023.1.0 in /users/pgrad/mamu/.local/lib/python3.10/site-packages (from datasets>=2.5.2->be_great) (2023.10.0)\n",
      "Requirement already satisfied: dill<0.3.8,>=0.3.0 in /users/pgrad/mamu/.local/lib/python3.10/site-packages (from datasets>=2.5.2->be_great) (0.3.7)\n",
      "Requirement already satisfied: multiprocess in /users/pgrad/mamu/.local/lib/python3.10/site-packages (from datasets>=2.5.2->be_great) (0.70.15)\n",
      "Requirement already satisfied: xxhash in /users/pgrad/mamu/.local/lib/python3.10/site-packages (from datasets>=2.5.2->be_great) (3.4.1)\n",
      "Requirement already satisfied: typing-extensions>=3.7.4.3 in /users/pgrad/mamu/.local/lib/python3.10/site-packages (from huggingface-hub<1.0,>=0.23.0->transformers) (4.11.0)\n",
      "Requirement already satisfied: pytz>=2020.1 in /usr/lib/python3/dist-packages (from pandas>=1.4.4->be_great) (2022.1)\n",
      "Requirement already satisfied: tzdata>=2022.7 in /users/pgrad/mamu/.local/lib/python3.10/site-packages (from pandas>=1.4.4->be_great) (2023.3)\n",
      "Requirement already satisfied: python-dateutil>=2.8.2 in /users/pgrad/mamu/.local/lib/python3.10/site-packages (from pandas>=1.4.4->be_great) (2.8.2)\n",
      "Requirement already satisfied: idna<4,>=2.5 in /usr/lib/python3/dist-packages (from requests->transformers) (3.3)\n",
      "Requirement already satisfied: charset-normalizer<4,>=2 in /users/pgrad/mamu/.local/lib/python3.10/site-packages (from requests->transformers) (3.3.1)\n",
      "Requirement already satisfied: certifi>=2017.4.17 in /usr/lib/python3/dist-packages (from requests->transformers) (2020.6.20)\n",
      "Requirement already satisfied: urllib3<3,>=1.21.1 in /users/pgrad/mamu/.local/lib/python3.10/site-packages (from requests->transformers) (2.2.1)\n",
      "Requirement already satisfied: threadpoolctl>=2.0.0 in /users/pgrad/mamu/.local/lib/python3.10/site-packages (from scikit-learn>=1.1.1->be_great) (3.2.0)\n",
      "Requirement already satisfied: scipy>=1.5.0 in /usr/lib/python3/dist-packages (from scikit-learn>=1.1.1->be_great) (1.8.0)\n",
      "Requirement already satisfied: joblib>=1.1.1 in /users/pgrad/mamu/.local/lib/python3.10/site-packages (from scikit-learn>=1.1.1->be_great) (1.3.2)\n",
      "Requirement already satisfied: sympy in /usr/lib/python3/dist-packages (from torch>=1.10.2->be_great) (1.9)\n",
      "Requirement already satisfied: triton==2.1.0 in /users/pgrad/mamu/.local/lib/python3.10/site-packages (from torch>=1.10.2->be_great) (2.1.0)\n",
      "Requirement already satisfied: nvidia-cuda-cupti-cu12==12.1.105 in /users/pgrad/mamu/.local/lib/python3.10/site-packages (from torch>=1.10.2->be_great) (12.1.105)\n",
      "Requirement already satisfied: nvidia-nccl-cu12==2.18.1 in /users/pgrad/mamu/.local/lib/python3.10/site-packages (from torch>=1.10.2->be_great) (2.18.1)\n",
      "Requirement already satisfied: nvidia-curand-cu12==10.3.2.106 in /users/pgrad/mamu/.local/lib/python3.10/site-packages (from torch>=1.10.2->be_great) (10.3.2.106)\n",
      "Requirement already satisfied: nvidia-cuda-nvrtc-cu12==12.1.105 in /users/pgrad/mamu/.local/lib/python3.10/site-packages (from torch>=1.10.2->be_great) (12.1.105)\n",
      "Requirement already satisfied: nvidia-nvtx-cu12==12.1.105 in /users/pgrad/mamu/.local/lib/python3.10/site-packages (from torch>=1.10.2->be_great) (12.1.105)\n",
      "Requirement already satisfied: nvidia-cufft-cu12==11.0.2.54 in /users/pgrad/mamu/.local/lib/python3.10/site-packages (from torch>=1.10.2->be_great) (11.0.2.54)\n",
      "Requirement already satisfied: nvidia-cublas-cu12==12.1.3.1 in /users/pgrad/mamu/.local/lib/python3.10/site-packages (from torch>=1.10.2->be_great) (12.1.3.1)\n",
      "Requirement already satisfied: nvidia-cusparse-cu12==12.1.0.106 in /users/pgrad/mamu/.local/lib/python3.10/site-packages (from torch>=1.10.2->be_great) (12.1.0.106)\n",
      "Requirement already satisfied: nvidia-cuda-runtime-cu12==12.1.105 in /users/pgrad/mamu/.local/lib/python3.10/site-packages (from torch>=1.10.2->be_great) (12.1.105)\n",
      "Requirement already satisfied: jinja2 in /users/pgrad/mamu/.local/lib/python3.10/site-packages (from torch>=1.10.2->be_great) (3.1.3)\n",
      "Requirement already satisfied: nvidia-cusolver-cu12==11.4.5.107 in /users/pgrad/mamu/.local/lib/python3.10/site-packages (from torch>=1.10.2->be_great) (11.4.5.107)\n",
      "Requirement already satisfied: networkx in /users/pgrad/mamu/.local/lib/python3.10/site-packages (from torch>=1.10.2->be_great) (3.2.1)\n",
      "Requirement already satisfied: nvidia-cudnn-cu12==8.9.2.26 in /users/pgrad/mamu/.local/lib/python3.10/site-packages (from torch>=1.10.2->be_great) (8.9.2.26)\n",
      "Requirement already satisfied: nvidia-nvjitlink-cu12 in /users/pgrad/mamu/.local/lib/python3.10/site-packages (from nvidia-cusolver-cu12==11.4.5.107->torch>=1.10.2->be_great) (12.3.52)\n",
      "Requirement already satisfied: multidict<7.0,>=4.5 in /users/pgrad/mamu/.local/lib/python3.10/site-packages (from aiohttp->datasets>=2.5.2->be_great) (6.0.4)\n",
      "Requirement already satisfied: attrs>=17.3.0 in /users/pgrad/mamu/.local/lib/python3.10/site-packages (from aiohttp->datasets>=2.5.2->be_great) (23.2.0)\n",
      "Requirement already satisfied: aiosignal>=1.1.2 in /users/pgrad/mamu/.local/lib/python3.10/site-packages (from aiohttp->datasets>=2.5.2->be_great) (1.3.1)\n",
      "Requirement already satisfied: frozenlist>=1.1.1 in /users/pgrad/mamu/.local/lib/python3.10/site-packages (from aiohttp->datasets>=2.5.2->be_great) (1.4.0)\n",
      "Requirement already satisfied: yarl<2.0,>=1.0 in /users/pgrad/mamu/.local/lib/python3.10/site-packages (from aiohttp->datasets>=2.5.2->be_great) (1.9.2)\n",
      "Requirement already satisfied: async-timeout<5.0,>=4.0.0a3 in /users/pgrad/mamu/.local/lib/python3.10/site-packages (from aiohttp->datasets>=2.5.2->be_great) (4.0.3)\n",
      "Requirement already satisfied: six>=1.5 in /usr/lib/python3/dist-packages (from python-dateutil>=2.8.2->pandas>=1.4.4->be_great) (1.16.0)\n",
      "Requirement already satisfied: MarkupSafe>=2.0 in /users/pgrad/mamu/.local/lib/python3.10/site-packages (from jinja2->torch>=1.10.2->be_great) (2.1.5)\n",
      "\u001b[33mWARNING: Ignoring invalid distribution -vidia-nccl-cu12 (/users/pgrad/mamu/.local/lib/python3.10/site-packages)\u001b[0m\u001b[33m\n",
      "\u001b[0m\u001b[33mWARNING: Ignoring invalid distribution -andas (/users/pgrad/mamu/.local/lib/python3.10/site-packages)\u001b[0m\u001b[33m\n",
      "\u001b[0mInstalling collected packages: transformers\n",
      "  Attempting uninstall: transformers\n",
      "\u001b[33m    WARNING: Ignoring invalid distribution -vidia-nccl-cu12 (/users/pgrad/mamu/.local/lib/python3.10/site-packages)\u001b[0m\u001b[33m\n",
      "\u001b[0m\u001b[33m    WARNING: Ignoring invalid distribution -andas (/users/pgrad/mamu/.local/lib/python3.10/site-packages)\u001b[0m\u001b[33m\n",
      "\u001b[0m    Found existing installation: transformers 4.40.2\n",
      "    Uninstalling transformers-4.40.2:\n",
      "      Successfully uninstalled transformers-4.40.2\n",
      "\u001b[33mWARNING: Ignoring invalid distribution -vidia-nccl-cu12 (/users/pgrad/mamu/.local/lib/python3.10/site-packages)\u001b[0m\u001b[33m\n",
      "\u001b[0m\u001b[33mWARNING: Ignoring invalid distribution -andas (/users/pgrad/mamu/.local/lib/python3.10/site-packages)\u001b[0m\u001b[33m\n",
      "\u001b[0mSuccessfully installed transformers-4.41.1\n"
     ]
    }
   ],
   "source": [
    "!pip install --upgrade transformers be_great\n"
   ]
  },
  {
   "cell_type": "code",
   "execution_count": 56,
   "metadata": {},
   "outputs": [
    {
     "name": "stderr",
     "output_type": "stream",
     "text": [
      "/users/pgrad/mamu/.local/lib/python3.10/site-packages/huggingface_hub/file_download.py:1132: FutureWarning: `resume_download` is deprecated and will be removed in version 1.0.0. Downloads always resume when possible. If you want to force a new download, use `force_download=True`.\n",
      "  warnings.warn(\n"
     ]
    },
    {
     "ename": "TypeError",
     "evalue": "Accelerator.__init__() got an unexpected keyword argument 'use_seedable_sampler'",
     "output_type": "error",
     "traceback": [
      "\u001b[0;31m---------------------------------------------------------------------------\u001b[0m",
      "\u001b[0;31mTypeError\u001b[0m                                 Traceback (most recent call last)",
      "\u001b[0;32m/tmp/ipykernel_93372/2764406401.py\u001b[0m in \u001b[0;36m<module>\u001b[0;34m\u001b[0m\n\u001b[1;32m      5\u001b[0m \u001b[0;34m\u001b[0m\u001b[0m\n\u001b[1;32m      6\u001b[0m \u001b[0mmodel\u001b[0m \u001b[0;34m=\u001b[0m \u001b[0mGReaT\u001b[0m\u001b[0;34m(\u001b[0m\u001b[0mllm\u001b[0m\u001b[0;34m=\u001b[0m\u001b[0;34m'distilgpt2'\u001b[0m\u001b[0;34m,\u001b[0m \u001b[0mbatch_size\u001b[0m\u001b[0;34m=\u001b[0m\u001b[0;36m32\u001b[0m\u001b[0;34m,\u001b[0m  \u001b[0mepochs\u001b[0m\u001b[0;34m=\u001b[0m\u001b[0;36m5\u001b[0m\u001b[0;34m,\u001b[0m \u001b[0msave_steps\u001b[0m\u001b[0;34m=\u001b[0m\u001b[0;36m400000\u001b[0m\u001b[0;34m)\u001b[0m\u001b[0;34m\u001b[0m\u001b[0;34m\u001b[0m\u001b[0m\n\u001b[0;32m----> 7\u001b[0;31m \u001b[0mmodel\u001b[0m\u001b[0;34m.\u001b[0m\u001b[0mfit\u001b[0m\u001b[0;34m(\u001b[0m\u001b[0mdata\u001b[0m\u001b[0;34m)\u001b[0m\u001b[0;34m\u001b[0m\u001b[0;34m\u001b[0m\u001b[0m\n\u001b[0m\u001b[1;32m      8\u001b[0m \u001b[0msynthetic_data\u001b[0m \u001b[0;34m=\u001b[0m \u001b[0mmodel\u001b[0m\u001b[0;34m.\u001b[0m\u001b[0msample\u001b[0m\u001b[0;34m(\u001b[0m\u001b[0mn_samples\u001b[0m\u001b[0;34m=\u001b[0m\u001b[0;36m100\u001b[0m\u001b[0;34m)\u001b[0m\u001b[0;34m\u001b[0m\u001b[0;34m\u001b[0m\u001b[0m\n",
      "\u001b[0;32m~/.local/lib/python3.10/site-packages/be_great/great.py\u001b[0m in \u001b[0;36mfit\u001b[0;34m(self, data, column_names, conditional_col, resume_from_checkpoint)\u001b[0m\n\u001b[1;32m    163\u001b[0m             \u001b[0;34m**\u001b[0m\u001b[0mself\u001b[0m\u001b[0;34m.\u001b[0m\u001b[0mtrain_hyperparameters\u001b[0m\u001b[0;34m,\u001b[0m\u001b[0;34m\u001b[0m\u001b[0;34m\u001b[0m\u001b[0m\n\u001b[1;32m    164\u001b[0m         )\n\u001b[0;32m--> 165\u001b[0;31m         great_trainer = GReaTTrainer(\n\u001b[0m\u001b[1;32m    166\u001b[0m             \u001b[0mself\u001b[0m\u001b[0;34m.\u001b[0m\u001b[0mmodel\u001b[0m\u001b[0;34m,\u001b[0m\u001b[0;34m\u001b[0m\u001b[0;34m\u001b[0m\u001b[0m\n\u001b[1;32m    167\u001b[0m             \u001b[0mtraining_args\u001b[0m\u001b[0;34m,\u001b[0m\u001b[0;34m\u001b[0m\u001b[0;34m\u001b[0m\u001b[0m\n",
      "\u001b[0;32m~/.local/lib/python3.10/site-packages/transformers/trainer.py\u001b[0m in \u001b[0;36m__init__\u001b[0;34m(self, model, args, data_collator, train_dataset, eval_dataset, tokenizer, model_init, compute_metrics, callbacks, optimizers, preprocess_logits_for_metrics)\u001b[0m\n\u001b[1;32m    386\u001b[0m             \u001b[0mlogger\u001b[0m\u001b[0;34m.\u001b[0m\u001b[0minfo\u001b[0m\u001b[0;34m(\u001b[0m\u001b[0;34mf\"No `TrainingArguments` passed, using `output_dir={output_dir}`.\"\u001b[0m\u001b[0;34m)\u001b[0m\u001b[0;34m\u001b[0m\u001b[0;34m\u001b[0m\u001b[0m\n\u001b[1;32m    387\u001b[0m             \u001b[0margs\u001b[0m \u001b[0;34m=\u001b[0m \u001b[0mTrainingArguments\u001b[0m\u001b[0;34m(\u001b[0m\u001b[0moutput_dir\u001b[0m\u001b[0;34m=\u001b[0m\u001b[0moutput_dir\u001b[0m\u001b[0;34m)\u001b[0m\u001b[0;34m\u001b[0m\u001b[0;34m\u001b[0m\u001b[0m\n\u001b[0;32m--> 388\u001b[0;31m         \u001b[0;32mif\u001b[0m \u001b[0margs\u001b[0m\u001b[0;34m.\u001b[0m\u001b[0mbatch_eval_metrics\u001b[0m \u001b[0;32mand\u001b[0m \u001b[0mcompute_metrics\u001b[0m \u001b[0;32mis\u001b[0m \u001b[0;32mnot\u001b[0m \u001b[0;32mNone\u001b[0m\u001b[0;34m:\u001b[0m\u001b[0;34m\u001b[0m\u001b[0;34m\u001b[0m\u001b[0m\n\u001b[0m\u001b[1;32m    389\u001b[0m             \u001b[0;32mif\u001b[0m \u001b[0;34m\"compute_result\"\u001b[0m \u001b[0;32mnot\u001b[0m \u001b[0;32min\u001b[0m \u001b[0minspect\u001b[0m\u001b[0;34m.\u001b[0m\u001b[0msignature\u001b[0m\u001b[0;34m(\u001b[0m\u001b[0mcompute_metrics\u001b[0m\u001b[0;34m)\u001b[0m\u001b[0;34m.\u001b[0m\u001b[0mparameters\u001b[0m\u001b[0;34m.\u001b[0m\u001b[0mkeys\u001b[0m\u001b[0;34m(\u001b[0m\u001b[0;34m)\u001b[0m\u001b[0;34m:\u001b[0m\u001b[0;34m\u001b[0m\u001b[0;34m\u001b[0m\u001b[0m\n\u001b[1;32m    390\u001b[0m                 raise ValueError(\n",
      "\u001b[0;32m~/.local/lib/python3.10/site-packages/transformers/trainer.py\u001b[0m in \u001b[0;36mcreate_accelerator_and_postprocess\u001b[0;34m(self)\u001b[0m\n\u001b[1;32m   4362\u001b[0m                         metrics = self.compute_metrics(\n\u001b[1;32m   4363\u001b[0m                             \u001b[0mEvalPrediction\u001b[0m\u001b[0;34m(\u001b[0m\u001b[0mpredictions\u001b[0m\u001b[0;34m=\u001b[0m\u001b[0mpreds_host\u001b[0m\u001b[0;34m,\u001b[0m \u001b[0mlabel_ids\u001b[0m\u001b[0;34m=\u001b[0m\u001b[0mlabels_host\u001b[0m\u001b[0;34m)\u001b[0m\u001b[0;34m,\u001b[0m\u001b[0;34m\u001b[0m\u001b[0;34m\u001b[0m\u001b[0m\n\u001b[0;32m-> 4364\u001b[0;31m                             \u001b[0mcompute_result\u001b[0m\u001b[0;34m=\u001b[0m\u001b[0mis_last_step\u001b[0m\u001b[0;34m,\u001b[0m\u001b[0;34m\u001b[0m\u001b[0;34m\u001b[0m\u001b[0m\n\u001b[0m\u001b[1;32m   4365\u001b[0m                         )\n\u001b[1;32m   4366\u001b[0m \u001b[0;34m\u001b[0m\u001b[0m\n",
      "\u001b[0;31mTypeError\u001b[0m: Accelerator.__init__() got an unexpected keyword argument 'use_seedable_sampler'"
     ]
    }
   ],
   "source": [
    "from be_great import GReaT\n",
    "import pandas as pd\n",
    "\n",
    "data = pd.read_csv('../data.csv')\n",
    "\n",
    "model = GReaT(llm='distilgpt2', batch_size=32,  epochs=5, save_steps=400000)\n",
    "model.fit(data)\n",
    "synthetic_data = model.sample(n_samples=100)"
   ]
  }
 ],
 "metadata": {
  "kernelspec": {
   "display_name": "Python 3",
   "language": "python",
   "name": "python3"
  },
  "language_info": {
   "codemirror_mode": {
    "name": "ipython",
    "version": 3
   },
   "file_extension": ".py",
   "mimetype": "text/x-python",
   "name": "python",
   "nbconvert_exporter": "python",
   "pygments_lexer": "ipython3",
   "version": "3.10.12"
  }
 },
 "nbformat": 4,
 "nbformat_minor": 2
}
