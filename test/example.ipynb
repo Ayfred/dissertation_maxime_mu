{
 "cells": [
  {
   "cell_type": "code",
   "execution_count": 1,
   "metadata": {},
   "outputs": [],
   "source": [
    "from pathlib import Path\n",
    "\n",
    "import pandas as pd\n",
    "\n",
    "from DataSynthesizer.DataDescriber import DataDescriber\n",
    "from DataSynthesizer.DataGenerator import DataGenerator\n",
    "from DataSynthesizer.ModelInspector import ks_test, kl_test\n",
    "from DataSynthesizer.lib.utils import pairwise_attributes_mutual_information\n",
    "\n",
    "\n",
    "def test_datasynthesizer():\n",
    "    data_dir = Path(__file__).parent / 'data'\n",
    "    input_data = data_dir / 'adult_tiny.csv'\n",
    "    description_file = data_dir / 'description.json'\n",
    "    output_data = data_dir / 'output.csv'\n",
    "    uniform_data = data_dir / 'output_uniform.csv'\n",
    "\n",
    "    threshold_value = 20\n",
    "    categorical_attributes = {'education': True}\n",
    "    epsilon = 1\n",
    "    degree_of_bayesian_network = 2\n",
    "    num_tuples_to_generate = 10000\n",
    "\n",
    "    describer = DataDescriber(category_threshold=threshold_value)\n",
    "    describer.describe_dataset_in_correlated_attribute_mode(dataset_file=input_data,\n",
    "                                                            epsilon=epsilon,\n",
    "                                                            k=degree_of_bayesian_network,\n",
    "                                                            attribute_to_is_categorical=categorical_attributes)\n",
    "\n",
    "    describer.save_dataset_description_to_file(description_file)\n",
    "\n",
    "    generator = DataGenerator()\n",
    "    generator.generate_dataset_in_correlated_attribute_mode(num_tuples_to_generate, description_file)\n",
    "    generator.save_synthetic_data(output_data)\n",
    "    generator.generate_dataset_in_random_mode(num_tuples_to_generate, description_file)\n",
    "    generator.save_synthetic_data(uniform_data)\n",
    "\n",
    "    df_input = pd.read_csv(input_data, skipinitialspace=True)\n",
    "    df_output = pd.read_csv(output_data)\n",
    "    df_uniform = pd.read_csv(uniform_data)\n",
    "\n",
    "    for col in df_input:\n",
    "        if col == 'age':\n",
    "            assert ks_test(df_input, df_output, col) < 0.5\n",
    "        else:\n",
    "            assert kl_test(df_input, df_output, col) < 1\n",
    "\n",
    "    df_input_mi = pairwise_attributes_mutual_information(df_input)\n",
    "    df_output_mi = pairwise_attributes_mutual_information(df_output)\n",
    "    df_uniform_mi = pairwise_attributes_mutual_information(df_uniform)\n",
    "\n",
    "    output_diff = (df_output_mi - df_input_mi).abs().sum().sum()\n",
    "    uniform_diff = (df_uniform_mi - df_input_mi).abs().sum().sum()\n",
    "\n",
    "    assert output_diff < 5 * uniform_diff"
   ]
  }
 ],
 "metadata": {
  "kernelspec": {
   "display_name": "Python 3",
   "language": "python",
   "name": "python3"
  },
  "language_info": {
   "codemirror_mode": {
    "name": "ipython",
    "version": 3
   },
   "file_extension": ".py",
   "mimetype": "text/x-python",
   "name": "python",
   "nbconvert_exporter": "python",
   "pygments_lexer": "ipython3",
   "version": "3.11.0"
  }
 },
 "nbformat": 4,
 "nbformat_minor": 2
}
