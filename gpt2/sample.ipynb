{
 "cells": [
  {
   "cell_type": "markdown",
   "id": "befc23335aa07840",
   "metadata": {
    "collapsed": false
   },
   "source": [
    "# Read the data"
   ]
  },
  {
   "cell_type": "code",
   "execution_count": 1,
   "id": "initial_id",
   "metadata": {
    "ExecuteTime": {
     "end_time": "2024-01-08T18:43:41.765712200Z",
     "start_time": "2024-01-08T18:43:41.705531100Z"
    },
    "collapsed": true
   },
   "outputs": [],
   "source": [
    "# Importing the libraries\n",
    "import pandas as pd\n",
    "import numpy as np\n",
    "import matplotlib.pyplot as plt\n",
    "import seaborn as sns"
   ]
  },
  {
   "cell_type": "code",
   "execution_count": 2,
   "id": "954f106e8cefa044",
   "metadata": {
    "ExecuteTime": {
     "end_time": "2024-01-08T18:43:41.837197500Z",
     "start_time": "2024-01-08T18:43:41.772187700Z"
    },
    "collapsed": false
   },
   "outputs": [],
   "source": [
    "# Importing the dataset\n",
    "ds = pd.read_csv('Disease_symptom_and_patient_profile_dataset.csv')\n"
   ]
  },
  {
   "cell_type": "code",
   "execution_count": 3,
   "id": "3e5d7de7fb7c994c",
   "metadata": {
    "ExecuteTime": {
     "end_time": "2024-01-08T18:43:41.915829100Z",
     "start_time": "2024-01-08T18:43:41.843693100Z"
    },
    "collapsed": false
   },
   "outputs": [
    {
     "data": {
      "text/html": [
       "<div>\n",
       "<style scoped>\n",
       "    .dataframe tbody tr th:only-of-type {\n",
       "        vertical-align: middle;\n",
       "    }\n",
       "\n",
       "    .dataframe tbody tr th {\n",
       "        vertical-align: top;\n",
       "    }\n",
       "\n",
       "    .dataframe thead th {\n",
       "        text-align: right;\n",
       "    }\n",
       "</style>\n",
       "<table border=\"1\" class=\"dataframe\">\n",
       "  <thead>\n",
       "    <tr style=\"text-align: right;\">\n",
       "      <th></th>\n",
       "      <th>Disease</th>\n",
       "      <th>Fever</th>\n",
       "      <th>Cough</th>\n",
       "      <th>Fatigue</th>\n",
       "      <th>Difficulty Breathing</th>\n",
       "      <th>Age</th>\n",
       "      <th>Gender</th>\n",
       "      <th>Blood Pressure</th>\n",
       "      <th>Cholesterol Level</th>\n",
       "      <th>Outcome Variable</th>\n",
       "    </tr>\n",
       "  </thead>\n",
       "  <tbody>\n",
       "    <tr>\n",
       "      <th>0</th>\n",
       "      <td>Influenza</td>\n",
       "      <td>Yes</td>\n",
       "      <td>No</td>\n",
       "      <td>Yes</td>\n",
       "      <td>Yes</td>\n",
       "      <td>19</td>\n",
       "      <td>Female</td>\n",
       "      <td>Low</td>\n",
       "      <td>Normal</td>\n",
       "      <td>Positive</td>\n",
       "    </tr>\n",
       "    <tr>\n",
       "      <th>1</th>\n",
       "      <td>Common Cold</td>\n",
       "      <td>No</td>\n",
       "      <td>Yes</td>\n",
       "      <td>Yes</td>\n",
       "      <td>No</td>\n",
       "      <td>25</td>\n",
       "      <td>Female</td>\n",
       "      <td>Normal</td>\n",
       "      <td>Normal</td>\n",
       "      <td>Negative</td>\n",
       "    </tr>\n",
       "    <tr>\n",
       "      <th>2</th>\n",
       "      <td>Eczema</td>\n",
       "      <td>No</td>\n",
       "      <td>Yes</td>\n",
       "      <td>Yes</td>\n",
       "      <td>No</td>\n",
       "      <td>25</td>\n",
       "      <td>Female</td>\n",
       "      <td>Normal</td>\n",
       "      <td>Normal</td>\n",
       "      <td>Negative</td>\n",
       "    </tr>\n",
       "    <tr>\n",
       "      <th>3</th>\n",
       "      <td>Asthma</td>\n",
       "      <td>Yes</td>\n",
       "      <td>Yes</td>\n",
       "      <td>No</td>\n",
       "      <td>Yes</td>\n",
       "      <td>25</td>\n",
       "      <td>Male</td>\n",
       "      <td>Normal</td>\n",
       "      <td>Normal</td>\n",
       "      <td>Positive</td>\n",
       "    </tr>\n",
       "    <tr>\n",
       "      <th>4</th>\n",
       "      <td>Asthma</td>\n",
       "      <td>Yes</td>\n",
       "      <td>Yes</td>\n",
       "      <td>No</td>\n",
       "      <td>Yes</td>\n",
       "      <td>25</td>\n",
       "      <td>Male</td>\n",
       "      <td>Normal</td>\n",
       "      <td>Normal</td>\n",
       "      <td>Positive</td>\n",
       "    </tr>\n",
       "  </tbody>\n",
       "</table>\n",
       "</div>"
      ],
      "text/plain": [
       "       Disease Fever Cough Fatigue Difficulty Breathing  Age  Gender  \\\n",
       "0    Influenza   Yes    No     Yes                  Yes   19  Female   \n",
       "1  Common Cold    No   Yes     Yes                   No   25  Female   \n",
       "2       Eczema    No   Yes     Yes                   No   25  Female   \n",
       "3       Asthma   Yes   Yes      No                  Yes   25    Male   \n",
       "4       Asthma   Yes   Yes      No                  Yes   25    Male   \n",
       "\n",
       "  Blood Pressure Cholesterol Level Outcome Variable  \n",
       "0            Low            Normal         Positive  \n",
       "1         Normal            Normal         Negative  \n",
       "2         Normal            Normal         Negative  \n",
       "3         Normal            Normal         Positive  \n",
       "4         Normal            Normal         Positive  "
      ]
     },
     "execution_count": 3,
     "metadata": {},
     "output_type": "execute_result"
    }
   ],
   "source": [
    "# Exploring the dataset\n",
    "ds.head()"
   ]
  },
  {
   "cell_type": "code",
   "execution_count": 4,
   "id": "f501eae4424d7d84",
   "metadata": {
    "ExecuteTime": {
     "end_time": "2024-01-08T18:43:41.945034Z",
     "start_time": "2024-01-08T18:43:41.866831800Z"
    },
    "collapsed": false
   },
   "outputs": [
    {
     "data": {
      "text/plain": [
       "(349, 10)"
      ]
     },
     "execution_count": 4,
     "metadata": {},
     "output_type": "execute_result"
    }
   ],
   "source": [
    "# Checking the shape of the dataset\n",
    "ds.shape"
   ]
  },
  {
   "cell_type": "code",
   "execution_count": 5,
   "id": "b2ef5c210047e5dd",
   "metadata": {
    "ExecuteTime": {
     "end_time": "2024-01-08T18:43:41.947128900Z",
     "start_time": "2024-01-08T18:43:41.878626700Z"
    },
    "collapsed": false
   },
   "outputs": [
    {
     "data": {
      "text/plain": [
       "Index(['Disease', 'Fever', 'Cough', 'Fatigue', 'Difficulty Breathing', 'Age',\n",
       "       'Gender', 'Blood Pressure', 'Cholesterol Level', 'Outcome Variable'],\n",
       "      dtype='object')"
      ]
     },
     "execution_count": 5,
     "metadata": {},
     "output_type": "execute_result"
    }
   ],
   "source": [
    "# Checking the columns of the dataset\n",
    "ds.columns"
   ]
  },
  {
   "cell_type": "code",
   "execution_count": 6,
   "id": "d22604e9de14237f",
   "metadata": {
    "ExecuteTime": {
     "end_time": "2024-01-08T18:43:42.041730700Z",
     "start_time": "2024-01-08T18:43:41.891212600Z"
    },
    "collapsed": false
   },
   "outputs": [
    {
     "name": "stdout",
     "output_type": "stream",
     "text": [
      "<class 'pandas.core.frame.DataFrame'>\n",
      "RangeIndex: 349 entries, 0 to 348\n",
      "Data columns (total 10 columns):\n",
      " #   Column                Non-Null Count  Dtype \n",
      "---  ------                --------------  ----- \n",
      " 0   Disease               349 non-null    object\n",
      " 1   Fever                 349 non-null    object\n",
      " 2   Cough                 349 non-null    object\n",
      " 3   Fatigue               349 non-null    object\n",
      " 4   Difficulty Breathing  349 non-null    object\n",
      " 5   Age                   349 non-null    int64 \n",
      " 6   Gender                349 non-null    object\n",
      " 7   Blood Pressure        349 non-null    object\n",
      " 8   Cholesterol Level     349 non-null    object\n",
      " 9   Outcome Variable      349 non-null    object\n",
      "dtypes: int64(1), object(9)\n",
      "memory usage: 27.4+ KB\n"
     ]
    }
   ],
   "source": [
    "# Checking the info of the dataset\n",
    "ds.info()"
   ]
  },
  {
   "cell_type": "code",
   "execution_count": 7,
   "id": "79758966de1a53c8",
   "metadata": {
    "ExecuteTime": {
     "end_time": "2024-01-08T18:43:42.043889700Z",
     "start_time": "2024-01-08T18:43:41.923446600Z"
    },
    "collapsed": false
   },
   "outputs": [
    {
     "data": {
      "text/plain": [
       "Disease                 0\n",
       "Fever                   0\n",
       "Cough                   0\n",
       "Fatigue                 0\n",
       "Difficulty Breathing    0\n",
       "Age                     0\n",
       "Gender                  0\n",
       "Blood Pressure          0\n",
       "Cholesterol Level       0\n",
       "Outcome Variable        0\n",
       "dtype: int64"
      ]
     },
     "execution_count": 7,
     "metadata": {},
     "output_type": "execute_result"
    }
   ],
   "source": [
    "# Checking the missing values\n",
    "ds.isnull().sum()"
   ]
  },
  {
   "cell_type": "code",
   "execution_count": 8,
   "id": "e51c65adac6f26f7",
   "metadata": {
    "ExecuteTime": {
     "end_time": "2024-01-08T18:43:42.070877900Z",
     "start_time": "2024-01-08T18:43:41.938526Z"
    },
    "collapsed": false
   },
   "outputs": [
    {
     "data": {
      "text/plain": [
       "Disease                 116\n",
       "Fever                     2\n",
       "Cough                     2\n",
       "Fatigue                   2\n",
       "Difficulty Breathing      2\n",
       "Age                      26\n",
       "Gender                    2\n",
       "Blood Pressure            3\n",
       "Cholesterol Level         3\n",
       "Outcome Variable          2\n",
       "dtype: int64"
      ]
     },
     "execution_count": 8,
     "metadata": {},
     "output_type": "execute_result"
    }
   ],
   "source": [
    "# Checking the unique values\n",
    "ds.nunique()"
   ]
  },
  {
   "cell_type": "code",
   "execution_count": 9,
   "id": "4458c316",
   "metadata": {
    "ExecuteTime": {
     "end_time": "2024-01-08T18:43:42.126456700Z",
     "start_time": "2024-01-08T18:43:41.956762Z"
    }
   },
   "outputs": [],
   "source": [
    "# Defining the variables\n",
    "gender = \"\"\n",
    "age = \"\"\n",
    "disease = \"\"\n",
    "fever = \"\"\n",
    "cough = \"\"\n",
    "fatigue = \"\"\n",
    "difficulty_breathing = \"\"\n",
    "blood_pressure = \"\"\n",
    "cholesterol_level = \"\"\n",
    "outcome_variable = \"\"\n"
   ]
  },
  {
   "cell_type": "markdown",
   "id": "75c21a23b1c872e9",
   "metadata": {
    "collapsed": false
   },
   "source": [
    "#### Template"
   ]
  },
  {
   "cell_type": "code",
   "execution_count": 10,
   "id": "1d57b958949f6d8b",
   "metadata": {
    "ExecuteTime": {
     "end_time": "2024-01-08T18:43:42.127556500Z",
     "start_time": "2024-01-08T18:43:41.966745300Z"
    },
    "collapsed": false
   },
   "outputs": [],
   "source": [
    "template = f\"Patient {gender}, {age}-year-old, presented with symptoms of {disease}. The patient reported {fever}, {cough}, {fatigue}, {difficulty_breathing}. Blood pressure is {blood_pressure}, cholesterol level is {cholesterol_level}. Diagnosis: {outcome_variable}.\"\n",
    "\n",
    "# Transforming the tabular data to textual data with the template\n",
    "\n",
    "\n"
   ]
  },
  {
   "cell_type": "code",
   "execution_count": 11,
   "id": "efc48d74830c494b",
   "metadata": {
    "collapsed": false
   },
   "outputs": [
    {
     "name": "stdout",
     "output_type": "stream",
     "text": [
      "Patient Female, 19-year-old, presented with symptoms of Influenza. The patient reported fever is Yes, cough is No, fatigue is Yes, difficulty breathing is Yes. Blood pressure is Low, cholesterol level is Normal. Diagnosis: Positive.\n",
      "Patient Female, 25-year-old, presented with symptoms of Common Cold. The patient reported fever is No, cough is Yes, fatigue is Yes, difficulty breathing is No. Blood pressure is Normal, cholesterol level is Normal. Diagnosis: Negative.\n",
      "Patient Female, 25-year-old, presented with symptoms of Eczema. The patient reported fever is No, cough is Yes, fatigue is Yes, difficulty breathing is No. Blood pressure is Normal, cholesterol level is Normal. Diagnosis: Negative.\n",
      "Patient Male, 25-year-old, presented with symptoms of Asthma. The patient reported fever is Yes, cough is Yes, fatigue is No, difficulty breathing is Yes. Blood pressure is Normal, cholesterol level is Normal. Diagnosis: Positive.\n",
      "Patient Male, 25-year-old, presented with symptoms of Asthma. The patient reported fever is Yes, cough is Yes, fatigue is No, difficulty breathing is Yes. Blood pressure is Normal, cholesterol level is Normal. Diagnosis: Positive.\n",
      "Patient Female, 25-year-old, presented with symptoms of Eczema. The patient reported fever is Yes, cough is No, fatigue is No, difficulty breathing is No. Blood pressure is Normal, cholesterol level is Normal. Diagnosis: Positive.\n",
      "Patient Female, 25-year-old, presented with symptoms of Influenza. The patient reported fever is Yes, cough is Yes, fatigue is Yes, difficulty breathing is Yes. Blood pressure is Normal, cholesterol level is Normal. Diagnosis: Positive.\n",
      "Patient Female, 25-year-old, presented with symptoms of Influenza. The patient reported fever is Yes, cough is Yes, fatigue is Yes, difficulty breathing is Yes. Blood pressure is Normal, cholesterol level is Normal. Diagnosis: Positive.\n",
      "Patient Female, 28-year-old, presented with symptoms of Hyperthyroidism. The patient reported fever is No, cough is Yes, fatigue is No, difficulty breathing is No. Blood pressure is Normal, cholesterol level is Normal. Diagnosis: Negative.\n",
      "Patient Female, 28-year-old, presented with symptoms of Hyperthyroidism. The patient reported fever is No, cough is Yes, fatigue is No, difficulty breathing is No. Blood pressure is Normal, cholesterol level is Normal. Diagnosis: Negative.\n",
      "Patient Male, 28-year-old, presented with symptoms of Asthma. The patient reported fever is Yes, cough is No, fatigue is No, difficulty breathing is Yes. Blood pressure is High, cholesterol level is Normal. Diagnosis: Positive.\n",
      "Patient Female, 29-year-old, presented with symptoms of Allergic Rhinitis. The patient reported fever is No, cough is Yes, fatigue is Yes, difficulty breathing is No. Blood pressure is Normal, cholesterol level is Low. Diagnosis: Negative.\n",
      "Patient Female, 29-year-old, presented with symptoms of Anxiety Disorders. The patient reported fever is No, cough is Yes, fatigue is No, difficulty breathing is No. Blood pressure is Normal, cholesterol level is High. Diagnosis: Negative.\n",
      "Patient Female, 29-year-old, presented with symptoms of Common Cold. The patient reported fever is No, cough is No, fatigue is No, difficulty breathing is No. Blood pressure is Low, cholesterol level is Normal. Diagnosis: Negative.\n",
      "Patient Male, 29-year-old, presented with symptoms of Diabetes. The patient reported fever is No, cough is No, fatigue is No, difficulty breathing is No. Blood pressure is Low, cholesterol level is Normal. Diagnosis: Negative.\n",
      "Patient Female, 29-year-old, presented with symptoms of Gastroenteritis. The patient reported fever is No, cough is Yes, fatigue is No, difficulty breathing is No. Blood pressure is Normal, cholesterol level is Normal. Diagnosis: Negative.\n",
      "Patient Female, 29-year-old, presented with symptoms of Pancreatitis. The patient reported fever is Yes, cough is No, fatigue is No, difficulty breathing is No. Blood pressure is High, cholesterol level is Normal. Diagnosis: Negative.\n",
      "Patient Female, 29-year-old, presented with symptoms of Rheumatoid Arthritis. The patient reported fever is No, cough is Yes, fatigue is Yes, difficulty breathing is Yes. Blood pressure is High, cholesterol level is High. Diagnosis: Negative.\n",
      "Patient Male, 29-year-old, presented with symptoms of Depression. The patient reported fever is Yes, cough is Yes, fatigue is Yes, difficulty breathing is Yes. Blood pressure is High, cholesterol level is Normal. Diagnosis: Positive.\n",
      "Patient Female, 29-year-old, presented with symptoms of Liver Cancer. The patient reported fever is Yes, cough is Yes, fatigue is Yes, difficulty breathing is Yes. Blood pressure is Normal, cholesterol level is Normal. Diagnosis: Positive.\n",
      "Patient Female, 29-year-old, presented with symptoms of Stroke. The patient reported fever is Yes, cough is Yes, fatigue is Yes, difficulty breathing is Yes. Blood pressure is Normal, cholesterol level is Normal. Diagnosis: Positive.\n",
      "Patient Male, 29-year-old, presented with symptoms of Urinary Tract Infection. The patient reported fever is Yes, cough is Yes, fatigue is Yes, difficulty breathing is No. Blood pressure is High, cholesterol level is High. Diagnosis: Positive.\n",
      "Patient Female, 30-year-old, presented with symptoms of Dengue Fever. The patient reported fever is Yes, cough is No, fatigue is Yes, difficulty breathing is No. Blood pressure is Normal, cholesterol level is Normal. Diagnosis: Negative.\n",
      "Patient Female, 30-year-old, presented with symptoms of Dengue Fever. The patient reported fever is Yes, cough is No, fatigue is Yes, difficulty breathing is No. Blood pressure is Normal, cholesterol level is Normal. Diagnosis: Negative.\n",
      "Patient Male, 30-year-old, presented with symptoms of Eczema. The patient reported fever is No, cough is Yes, fatigue is Yes, difficulty breathing is No. Blood pressure is High, cholesterol level is High. Diagnosis: Negative.\n",
      "Patient Male, 30-year-old, presented with symptoms of Gastroenteritis. The patient reported fever is Yes, cough is Yes, fatigue is Yes, difficulty breathing is No. Blood pressure is High, cholesterol level is High. Diagnosis: Negative.\n",
      "Patient Male, 30-year-old, presented with symptoms of Hepatitis. The patient reported fever is Yes, cough is Yes, fatigue is Yes, difficulty breathing is Yes. Blood pressure is High, cholesterol level is Normal. Diagnosis: Negative.\n",
      "Patient Male, 30-year-old, presented with symptoms of Kidney Cancer. The patient reported fever is No, cough is No, fatigue is Yes, difficulty breathing is No. Blood pressure is Normal, cholesterol level is Normal. Diagnosis: Negative.\n",
      "Patient Female, 30-year-old, presented with symptoms of Migraine. The patient reported fever is Yes, cough is No, fatigue is No, difficulty breathing is No. Blood pressure is Normal, cholesterol level is Normal. Diagnosis: Negative.\n",
      "Patient Female, 30-year-old, presented with symptoms of Migraine. The patient reported fever is No, cough is Yes, fatigue is Yes, difficulty breathing is No. Blood pressure is Normal, cholesterol level is Normal. Diagnosis: Negative.\n",
      "Patient Male, 30-year-old, presented with symptoms of Muscular Dystrophy. The patient reported fever is No, cough is No, fatigue is Yes, difficulty breathing is No. Blood pressure is High, cholesterol level is High. Diagnosis: Negative.\n",
      "Patient Male, 30-year-old, presented with symptoms of Sinusitis. The patient reported fever is No, cough is Yes, fatigue is Yes, difficulty breathing is No. Blood pressure is Normal, cholesterol level is Normal. Diagnosis: Negative.\n",
      "Patient Female, 30-year-old, presented with symptoms of Ulcerative Colitis. The patient reported fever is Yes, cough is Yes, fatigue is No, difficulty breathing is No. Blood pressure is Normal, cholesterol level is Normal. Diagnosis: Negative.\n",
      "Patient Female, 30-year-old, presented with symptoms of Ulcerative Colitis. The patient reported fever is No, cough is Yes, fatigue is Yes, difficulty breathing is No. Blood pressure is Normal, cholesterol level is Normal. Diagnosis: Negative.\n",
      "Patient Female, 30-year-old, presented with symptoms of Asthma. The patient reported fever is Yes, cough is Yes, fatigue is No, difficulty breathing is Yes. Blood pressure is Normal, cholesterol level is Normal. Diagnosis: Positive.\n",
      "Patient Female, 30-year-old, presented with symptoms of Asthma. The patient reported fever is Yes, cough is Yes, fatigue is No, difficulty breathing is Yes. Blood pressure is Normal, cholesterol level is Normal. Diagnosis: Positive.\n",
      "Patient Female, 30-year-old, presented with symptoms of Asthma. The patient reported fever is Yes, cough is Yes, fatigue is Yes, difficulty breathing is Yes. Blood pressure is Normal, cholesterol level is Normal. Diagnosis: Positive.\n",
      "Patient Female, 30-year-old, presented with symptoms of Bipolar Disorder. The patient reported fever is No, cough is No, fatigue is Yes, difficulty breathing is No. Blood pressure is High, cholesterol level is High. Diagnosis: Positive.\n",
      "Patient Female, 30-year-old, presented with symptoms of Bronchitis. The patient reported fever is Yes, cough is Yes, fatigue is No, difficulty breathing is Yes. Blood pressure is Low, cholesterol level is Normal. Diagnosis: Positive.\n",
      "Patient Male, 30-year-old, presented with symptoms of Bronchitis. The patient reported fever is Yes, cough is Yes, fatigue is Yes, difficulty breathing is Yes. Blood pressure is High, cholesterol level is High. Diagnosis: Positive.\n",
      "Patient Male, 30-year-old, presented with symptoms of Bronchitis. The patient reported fever is Yes, cough is Yes, fatigue is Yes, difficulty breathing is Yes. Blood pressure is High, cholesterol level is High. Diagnosis: Positive.\n",
      "Patient Female, 30-year-old, presented with symptoms of Cerebral Palsy. The patient reported fever is No, cough is No, fatigue is Yes, difficulty breathing is Yes. Blood pressure is Normal, cholesterol level is Normal. Diagnosis: Positive.\n",
      "Patient Female, 30-year-old, presented with symptoms of Colorectal Cancer. The patient reported fever is No, cough is No, fatigue is Yes, difficulty breathing is No. Blood pressure is Normal, cholesterol level is High. Diagnosis: Positive.\n",
      "Patient Male, 30-year-old, presented with symptoms of Eczema. The patient reported fever is Yes, cough is No, fatigue is No, difficulty breathing is No. Blood pressure is High, cholesterol level is High. Diagnosis: Positive.\n",
      "Patient Female, 30-year-old, presented with symptoms of Hypertensive Heart Disease. The patient reported fever is No, cough is No, fatigue is Yes, difficulty breathing is No. Blood pressure is High, cholesterol level is High. Diagnosis: Positive.\n",
      "Patient Male, 30-year-old, presented with symptoms of Influenza. The patient reported fever is Yes, cough is Yes, fatigue is Yes, difficulty breathing is No. Blood pressure is High, cholesterol level is Normal. Diagnosis: Positive.\n",
      "Patient Female, 30-year-old, presented with symptoms of Influenza. The patient reported fever is Yes, cough is Yes, fatigue is Yes, difficulty breathing is Yes. Blood pressure is Normal, cholesterol level is Normal. Diagnosis: Positive.\n",
      "Patient Female, 30-year-old, presented with symptoms of Multiple Sclerosis. The patient reported fever is No, cough is No, fatigue is Yes, difficulty breathing is No. Blood pressure is High, cholesterol level is High. Diagnosis: Positive.\n",
      "Patient Female, 30-year-old, presented with symptoms of Myocardial Infarction (Heart.... The patient reported fever is Yes, cough is Yes, fatigue is Yes, difficulty breathing is Yes. Blood pressure is High, cholesterol level is High. Diagnosis: Positive.\n",
      "Patient Female, 30-year-old, presented with symptoms of Urinary Tract Infection (UTI). The patient reported fever is Yes, cough is No, fatigue is No, difficulty breathing is No. Blood pressure is Normal, cholesterol level is Normal. Diagnosis: Positive.\n",
      "Patient Male, 31-year-old, presented with symptoms of Asthma. The patient reported fever is No, cough is No, fatigue is No, difficulty breathing is Yes. Blood pressure is Normal, cholesterol level is Low. Diagnosis: Negative.\n",
      "Patient Male, 31-year-old, presented with symptoms of Osteoporosis. The patient reported fever is No, cough is No, fatigue is No, difficulty breathing is Yes. Blood pressure is Low, cholesterol level is Normal. Diagnosis: Negative.\n",
      "Patient Male, 31-year-old, presented with symptoms of Common Cold. The patient reported fever is Yes, cough is No, fatigue is Yes, difficulty breathing is Yes. Blood pressure is High, cholesterol level is High. Diagnosis: Positive.\n",
      "Patient Female, 31-year-old, presented with symptoms of Migraine. The patient reported fever is Yes, cough is No, fatigue is No, difficulty breathing is No. Blood pressure is Normal, cholesterol level is Normal. Diagnosis: Positive.\n",
      "Patient Female, 32-year-old, presented with symptoms of Pneumonia. The patient reported fever is Yes, cough is No, fatigue is Yes, difficulty breathing is Yes. Blood pressure is High, cholesterol level is Normal. Diagnosis: Positive.\n",
      "Patient Female, 35-year-old, presented with symptoms of Allergic Rhinitis. The patient reported fever is No, cough is No, fatigue is Yes, difficulty breathing is No. Blood pressure is Normal, cholesterol level is Low. Diagnosis: Negative.\n",
      "Patient Female, 35-year-old, presented with symptoms of Asthma. The patient reported fever is No, cough is Yes, fatigue is Yes, difficulty breathing is Yes. Blood pressure is Normal, cholesterol level is High. Diagnosis: Negative.\n",
      "Patient Female, 35-year-old, presented with symptoms of Asthma. The patient reported fever is Yes, cough is Yes, fatigue is Yes, difficulty breathing is Yes. Blood pressure is Normal, cholesterol level is Normal. Diagnosis: Negative.\n",
      "Patient Female, 35-year-old, presented with symptoms of Asthma. The patient reported fever is No, cough is Yes, fatigue is Yes, difficulty breathing is Yes. Blood pressure is High, cholesterol level is Normal. Diagnosis: Negative.\n",
      "Patient Female, 35-year-old, presented with symptoms of Asthma. The patient reported fever is No, cough is Yes, fatigue is Yes, difficulty breathing is Yes. Blood pressure is High, cholesterol level is Normal. Diagnosis: Negative.\n",
      "Patient Male, 35-year-old, presented with symptoms of Atherosclerosis. The patient reported fever is No, cough is No, fatigue is Yes, difficulty breathing is No. Blood pressure is Normal, cholesterol level is Normal. Diagnosis: Negative.\n",
      "Patient Male, 35-year-old, presented with symptoms of Chronic Obstructive Pulmonary.... The patient reported fever is Yes, cough is Yes, fatigue is Yes, difficulty breathing is Yes. Blood pressure is Normal, cholesterol level is Normal. Diagnosis: Negative.\n",
      "Patient Male, 35-year-old, presented with symptoms of Common Cold. The patient reported fever is Yes, cough is Yes, fatigue is Yes, difficulty breathing is No. Blood pressure is High, cholesterol level is Normal. Diagnosis: Negative.\n",
      "Patient Male, 35-year-old, presented with symptoms of Eczema. The patient reported fever is No, cough is Yes, fatigue is No, difficulty breathing is No. Blood pressure is High, cholesterol level is Normal. Diagnosis: Negative.\n",
      "Patient Male, 35-year-old, presented with symptoms of Epilepsy. The patient reported fever is No, cough is No, fatigue is Yes, difficulty breathing is No. Blood pressure is High, cholesterol level is High. Diagnosis: Negative.\n",
      "Patient Female, 35-year-old, presented with symptoms of Hypertension. The patient reported fever is Yes, cough is Yes, fatigue is Yes, difficulty breathing is No. Blood pressure is High, cholesterol level is Normal. Diagnosis: Negative.\n",
      "Patient Female, 35-year-old, presented with symptoms of Hyperthyroidism. The patient reported fever is Yes, cough is Yes, fatigue is Yes, difficulty breathing is No. Blood pressure is Normal, cholesterol level is Normal. Diagnosis: Negative.\n",
      "Patient Male, 35-year-old, presented with symptoms of Obsessive-Compulsive Disorde.... The patient reported fever is No, cough is No, fatigue is Yes, difficulty breathing is No. Blood pressure is Normal, cholesterol level is Normal. Diagnosis: Negative.\n",
      "Patient Female, 35-year-old, presented with symptoms of Pneumonia. The patient reported fever is Yes, cough is Yes, fatigue is Yes, difficulty breathing is Yes. Blood pressure is Normal, cholesterol level is Normal. Diagnosis: Negative.\n",
      "Patient Female, 35-year-old, presented with symptoms of Pneumonia. The patient reported fever is Yes, cough is Yes, fatigue is Yes, difficulty breathing is Yes. Blood pressure is Normal, cholesterol level is Normal. Diagnosis: Negative.\n",
      "Patient Female, 35-year-old, presented with symptoms of Psoriasis. The patient reported fever is Yes, cough is No, fatigue is No, difficulty breathing is No. Blood pressure is Normal, cholesterol level is Low. Diagnosis: Negative.\n",
      "Patient Female, 35-year-old, presented with symptoms of Psoriasis. The patient reported fever is No, cough is Yes, fatigue is Yes, difficulty breathing is No. Blood pressure is Normal, cholesterol level is Low. Diagnosis: Negative.\n",
      "Patient Female, 35-year-old, presented with symptoms of Rubella. The patient reported fever is Yes, cough is No, fatigue is Yes, difficulty breathing is No. Blood pressure is High, cholesterol level is Normal. Diagnosis: Negative.\n",
      "Patient Female, 35-year-old, presented with symptoms of Rubella. The patient reported fever is Yes, cough is No, fatigue is Yes, difficulty breathing is No. Blood pressure is High, cholesterol level is Normal. Diagnosis: Negative.\n",
      "Patient Male, 35-year-old, presented with symptoms of Urinary Tract Infection (UTI). The patient reported fever is No, cough is Yes, fatigue is Yes, difficulty breathing is No. Blood pressure is High, cholesterol level is High. Diagnosis: Negative.\n",
      "Patient Male, 35-year-old, presented with symptoms of Asthma. The patient reported fever is Yes, cough is Yes, fatigue is No, difficulty breathing is Yes. Blood pressure is Normal, cholesterol level is Normal. Diagnosis: Positive.\n",
      "Patient Male, 35-year-old, presented with symptoms of Asthma. The patient reported fever is Yes, cough is Yes, fatigue is No, difficulty breathing is Yes. Blood pressure is Normal, cholesterol level is Normal. Diagnosis: Positive.\n",
      "Patient Female, 35-year-old, presented with symptoms of Cirrhosis. The patient reported fever is No, cough is No, fatigue is Yes, difficulty breathing is No. Blood pressure is Normal, cholesterol level is High. Diagnosis: Positive.\n",
      "Patient Female, 35-year-old, presented with symptoms of Conjunctivitis (Pink Eye). The patient reported fever is No, cough is Yes, fatigue is No, difficulty breathing is No. Blood pressure is High, cholesterol level is High. Diagnosis: Positive.\n",
      "Patient Female, 35-year-old, presented with symptoms of Depression. The patient reported fever is No, cough is No, fatigue is Yes, difficulty breathing is No. Blood pressure is Normal, cholesterol level is High. Diagnosis: Positive.\n",
      "Patient Male, 35-year-old, presented with symptoms of Gastroenteritis. The patient reported fever is Yes, cough is No, fatigue is Yes, difficulty breathing is Yes. Blood pressure is Low, cholesterol level is High. Diagnosis: Positive.\n",
      "Patient Male, 35-year-old, presented with symptoms of Hyperthyroidism. The patient reported fever is Yes, cough is Yes, fatigue is Yes, difficulty breathing is No. Blood pressure is High, cholesterol level is High. Diagnosis: Positive.\n",
      "Patient Male, 35-year-old, presented with symptoms of Hyperthyroidism. The patient reported fever is Yes, cough is Yes, fatigue is Yes, difficulty breathing is No. Blood pressure is High, cholesterol level is High. Diagnosis: Positive.\n",
      "Patient Male, 35-year-old, presented with symptoms of Kidney Cancer. The patient reported fever is No, cough is No, fatigue is Yes, difficulty breathing is No. Blood pressure is High, cholesterol level is High. Diagnosis: Positive.\n",
      "Patient Female, 35-year-old, presented with symptoms of Liver Cancer. The patient reported fever is No, cough is No, fatigue is Yes, difficulty breathing is No. Blood pressure is High, cholesterol level is High. Diagnosis: Positive.\n",
      "Patient Male, 35-year-old, presented with symptoms of Liver Disease. The patient reported fever is No, cough is No, fatigue is Yes, difficulty breathing is No. Blood pressure is High, cholesterol level is High. Diagnosis: Positive.\n",
      "Patient Male, 35-year-old, presented with symptoms of Malaria. The patient reported fever is Yes, cough is No, fatigue is No, difficulty breathing is No. Blood pressure is High, cholesterol level is High. Diagnosis: Positive.\n",
      "Patient Male, 35-year-old, presented with symptoms of Malaria. The patient reported fever is Yes, cough is No, fatigue is No, difficulty breathing is No. Blood pressure is High, cholesterol level is High. Diagnosis: Positive.\n",
      "Patient Male, 35-year-old, presented with symptoms of Migraine. The patient reported fever is No, cough is Yes, fatigue is Yes, difficulty breathing is No. Blood pressure is High, cholesterol level is High. Diagnosis: Positive.\n",
      "Patient Male, 35-year-old, presented with symptoms of Migraine. The patient reported fever is Yes, cough is No, fatigue is No, difficulty breathing is No. Blood pressure is High, cholesterol level is High. Diagnosis: Positive.\n",
      "Patient Male, 35-year-old, presented with symptoms of Pancreatitis. The patient reported fever is No, cough is No, fatigue is Yes, difficulty breathing is No. Blood pressure is Normal, cholesterol level is High. Diagnosis: Positive.\n",
      "Patient Male, 35-year-old, presented with symptoms of Rheumatoid Arthritis. The patient reported fever is Yes, cough is Yes, fatigue is Yes, difficulty breathing is No. Blood pressure is Normal, cholesterol level is Low. Diagnosis: Positive.\n",
      "Patient Female, 35-year-old, presented with symptoms of Rheumatoid Arthritis. The patient reported fever is No, cough is No, fatigue is Yes, difficulty breathing is No. Blood pressure is Normal, cholesterol level is Low. Diagnosis: Positive.\n",
      "Patient Female, 35-year-old, presented with symptoms of Spina Bifida. The patient reported fever is No, cough is No, fatigue is Yes, difficulty breathing is No. Blood pressure is Normal, cholesterol level is Normal. Diagnosis: Positive.\n",
      "Patient Male, 35-year-old, presented with symptoms of Ulcerative Colitis. The patient reported fever is No, cough is No, fatigue is Yes, difficulty breathing is No. Blood pressure is High, cholesterol level is High. Diagnosis: Positive.\n",
      "Patient Male, 35-year-old, presented with symptoms of Ulcerative Colitis. The patient reported fever is Yes, cough is No, fatigue is No, difficulty breathing is No. Blood pressure is High, cholesterol level is High. Diagnosis: Positive.\n",
      "Patient Female, 35-year-old, presented with symptoms of Urinary Tract Infection. The patient reported fever is Yes, cough is No, fatigue is Yes, difficulty breathing is No. Blood pressure is Normal, cholesterol level is High. Diagnosis: Positive.\n",
      "Patient Female, 38-year-old, presented with symptoms of Allergic Rhinitis. The patient reported fever is No, cough is Yes, fatigue is No, difficulty breathing is No. Blood pressure is Low, cholesterol level is Normal. Diagnosis: Negative.\n",
      "Patient Female, 38-year-old, presented with symptoms of Depression. The patient reported fever is No, cough is No, fatigue is No, difficulty breathing is No. Blood pressure is Normal, cholesterol level is High. Diagnosis: Negative.\n",
      "Patient Male, 38-year-old, presented with symptoms of Gastroenteritis. The patient reported fever is No, cough is No, fatigue is No, difficulty breathing is No. Blood pressure is Normal, cholesterol level is Low. Diagnosis: Negative.\n",
      "Patient Male, 38-year-old, presented with symptoms of Influenza. The patient reported fever is No, cough is No, fatigue is No, difficulty breathing is No. Blood pressure is Normal, cholesterol level is Normal. Diagnosis: Negative.\n",
      "Patient Female, 38-year-old, presented with symptoms of Kidney Disease. The patient reported fever is No, cough is No, fatigue is Yes, difficulty breathing is No. Blood pressure is Low, cholesterol level is Normal. Diagnosis: Negative.\n",
      "Patient Female, 38-year-old, presented with symptoms of Liver Cancer. The patient reported fever is Yes, cough is Yes, fatigue is No, difficulty breathing is No. Blood pressure is High, cholesterol level is Normal. Diagnosis: Negative.\n",
      "Patient Male, 38-year-old, presented with symptoms of Liver Disease. The patient reported fever is No, cough is Yes, fatigue is No, difficulty breathing is Yes. Blood pressure is Low, cholesterol level is Normal. Diagnosis: Negative.\n",
      "Patient Female, 38-year-old, presented with symptoms of Osteoporosis. The patient reported fever is No, cough is Yes, fatigue is No, difficulty breathing is No. Blood pressure is Normal, cholesterol level is High. Diagnosis: Negative.\n",
      "Patient Female, 38-year-old, presented with symptoms of Stroke. The patient reported fever is Yes, cough is Yes, fatigue is No, difficulty breathing is No. Blood pressure is High, cholesterol level is Normal. Diagnosis: Negative.\n",
      "Patient Male, 38-year-old, presented with symptoms of Anxiety Disorders. The patient reported fever is Yes, cough is No, fatigue is Yes, difficulty breathing is Yes. Blood pressure is High, cholesterol level is High. Diagnosis: Positive.\n",
      "Patient Male, 38-year-old, presented with symptoms of Diabetes. The patient reported fever is Yes, cough is No, fatigue is Yes, difficulty breathing is Yes. Blood pressure is High, cholesterol level is Low. Diagnosis: Positive.\n",
      "Patient Male, 38-year-old, presented with symptoms of Migraine. The patient reported fever is Yes, cough is Yes, fatigue is No, difficulty breathing is No. Blood pressure is High, cholesterol level is High. Diagnosis: Positive.\n",
      "Patient Male, 38-year-old, presented with symptoms of Osteoarthritis. The patient reported fever is Yes, cough is Yes, fatigue is Yes, difficulty breathing is No. Blood pressure is High, cholesterol level is High. Diagnosis: Positive.\n",
      "Patient Male, 38-year-old, presented with symptoms of Pneumonia. The patient reported fever is Yes, cough is Yes, fatigue is Yes, difficulty breathing is Yes. Blood pressure is Normal, cholesterol level is Normal. Diagnosis: Positive.\n",
      "Patient Female, 39-year-old, presented with symptoms of Klinefelter Syndrome. The patient reported fever is No, cough is No, fatigue is Yes, difficulty breathing is No. Blood pressure is Normal, cholesterol level is Normal. Diagnosis: Positive.\n",
      "Patient Male, 40-year-old, presented with symptoms of Acne. The patient reported fever is No, cough is No, fatigue is Yes, difficulty breathing is No. Blood pressure is Normal, cholesterol level is Normal. Diagnosis: Negative.\n",
      "Patient Male, 40-year-old, presented with symptoms of Brain Tumor. The patient reported fever is No, cough is No, fatigue is Yes, difficulty breathing is No. Blood pressure is Normal, cholesterol level is Normal. Diagnosis: Negative.\n",
      "Patient Female, 40-year-old, presented with symptoms of Bronchitis. The patient reported fever is No, cough is Yes, fatigue is No, difficulty breathing is Yes. Blood pressure is Normal, cholesterol level is Normal. Diagnosis: Negative.\n",
      "Patient Male, 40-year-old, presented with symptoms of Cystic Fibrosis. The patient reported fever is No, cough is No, fatigue is Yes, difficulty breathing is Yes. Blood pressure is High, cholesterol level is High. Diagnosis: Negative.\n",
      "Patient Female, 40-year-old, presented with symptoms of Diabetes. The patient reported fever is Yes, cough is No, fatigue is No, difficulty breathing is No. Blood pressure is High, cholesterol level is High. Diagnosis: Negative.\n",
      "Patient Male, 40-year-old, presented with symptoms of Glaucoma. The patient reported fever is No, cough is No, fatigue is Yes, difficulty breathing is No. Blood pressure is High, cholesterol level is Normal. Diagnosis: Negative.\n",
      "Patient Male, 40-year-old, presented with symptoms of Osteoarthritis. The patient reported fever is No, cough is No, fatigue is Yes, difficulty breathing is No. Blood pressure is High, cholesterol level is Normal. Diagnosis: Negative.\n",
      "Patient Female, 40-year-old, presented with symptoms of Rabies. The patient reported fever is Yes, cough is Yes, fatigue is No, difficulty breathing is No. Blood pressure is High, cholesterol level is Normal. Diagnosis: Negative.\n",
      "Patient Female, 40-year-old, presented with symptoms of Rabies. The patient reported fever is Yes, cough is Yes, fatigue is No, difficulty breathing is No. Blood pressure is High, cholesterol level is Normal. Diagnosis: Negative.\n",
      "Patient Male, 40-year-old, presented with symptoms of Asthma. The patient reported fever is Yes, cough is No, fatigue is Yes, difficulty breathing is No. Blood pressure is Low, cholesterol level is Normal. Diagnosis: Positive.\n",
      "Patient Female, 40-year-old, presented with symptoms of Asthma. The patient reported fever is Yes, cough is Yes, fatigue is No, difficulty breathing is Yes. Blood pressure is Normal, cholesterol level is Normal. Diagnosis: Positive.\n",
      "Patient Female, 40-year-old, presented with symptoms of Asthma. The patient reported fever is Yes, cough is Yes, fatigue is No, difficulty breathing is Yes. Blood pressure is Normal, cholesterol level is Normal. Diagnosis: Positive.\n",
      "Patient Male, 40-year-old, presented with symptoms of Asthma. The patient reported fever is No, cough is No, fatigue is Yes, difficulty breathing is Yes. Blood pressure is High, cholesterol level is High. Diagnosis: Positive.\n",
      "Patient Male, 40-year-old, presented with symptoms of Asthma. The patient reported fever is Yes, cough is No, fatigue is Yes, difficulty breathing is Yes. Blood pressure is Normal, cholesterol level is High. Diagnosis: Positive.\n",
      "Patient Male, 40-year-old, presented with symptoms of Asthma. The patient reported fever is Yes, cough is No, fatigue is Yes, difficulty breathing is Yes. Blood pressure is Normal, cholesterol level is High. Diagnosis: Positive.\n",
      "Patient Male, 40-year-old, presented with symptoms of Chickenpox. The patient reported fever is No, cough is Yes, fatigue is No, difficulty breathing is No. Blood pressure is Normal, cholesterol level is High. Diagnosis: Positive.\n",
      "Patient Male, 40-year-old, presented with symptoms of Chickenpox. The patient reported fever is No, cough is Yes, fatigue is No, difficulty breathing is No. Blood pressure is Normal, cholesterol level is High. Diagnosis: Positive.\n",
      "Patient Female, 40-year-old, presented with symptoms of Coronary Artery Disease. The patient reported fever is No, cough is No, fatigue is Yes, difficulty breathing is No. Blood pressure is High, cholesterol level is High. Diagnosis: Positive.\n",
      "Patient Female, 40-year-old, presented with symptoms of Eating Disorders (Anorexia,.... The patient reported fever is No, cough is No, fatigue is Yes, difficulty breathing is No. Blood pressure is High, cholesterol level is High. Diagnosis: Positive.\n",
      "Patient Female, 40-year-old, presented with symptoms of Fibromyalgia. The patient reported fever is No, cough is No, fatigue is Yes, difficulty breathing is No. Blood pressure is High, cholesterol level is High. Diagnosis: Positive.\n",
      "Patient Male, 40-year-old, presented with symptoms of Gastroenteritis. The patient reported fever is Yes, cough is Yes, fatigue is Yes, difficulty breathing is No. Blood pressure is High, cholesterol level is High. Diagnosis: Positive.\n",
      "Patient Female, 40-year-old, presented with symptoms of Hemophilia. The patient reported fever is No, cough is No, fatigue is Yes, difficulty breathing is No. Blood pressure is Normal, cholesterol level is Normal. Diagnosis: Positive.\n",
      "Patient Male, 40-year-old, presented with symptoms of Hyperthyroidism. The patient reported fever is No, cough is No, fatigue is Yes, difficulty breathing is No. Blood pressure is High, cholesterol level is High. Diagnosis: Positive.\n",
      "Patient Female, 40-year-old, presented with symptoms of Hypoglycemia. The patient reported fever is No, cough is No, fatigue is Yes, difficulty breathing is No. Blood pressure is High, cholesterol level is High. Diagnosis: Positive.\n",
      "Patient Female, 40-year-old, presented with symptoms of Lymphoma. The patient reported fever is No, cough is Yes, fatigue is No, difficulty breathing is No. Blood pressure is Normal, cholesterol level is High. Diagnosis: Positive.\n",
      "Patient Female, 40-year-old, presented with symptoms of Pneumonia. The patient reported fever is Yes, cough is Yes, fatigue is Yes, difficulty breathing is Yes. Blood pressure is Normal, cholesterol level is High. Diagnosis: Positive.\n",
      "Patient Male, 40-year-old, presented with symptoms of Psoriasis. The patient reported fever is No, cough is Yes, fatigue is Yes, difficulty breathing is No. Blood pressure is High, cholesterol level is Normal. Diagnosis: Positive.\n",
      "Patient Male, 40-year-old, presented with symptoms of Psoriasis. The patient reported fever is Yes, cough is No, fatigue is No, difficulty breathing is No. Blood pressure is High, cholesterol level is Normal. Diagnosis: Positive.\n",
      "Patient Female, 40-year-old, presented with symptoms of Psoriasis. The patient reported fever is No, cough is Yes, fatigue is No, difficulty breathing is No. Blood pressure is Normal, cholesterol level is High. Diagnosis: Positive.\n",
      "Patient Male, 40-year-old, presented with symptoms of Tuberculosis. The patient reported fever is Yes, cough is Yes, fatigue is Yes, difficulty breathing is Yes. Blood pressure is High, cholesterol level is High. Diagnosis: Positive.\n",
      "Patient Male, 40-year-old, presented with symptoms of Tuberculosis. The patient reported fever is Yes, cough is Yes, fatigue is Yes, difficulty breathing is Yes. Blood pressure is High, cholesterol level is High. Diagnosis: Positive.\n",
      "Patient Male, 42-year-old, presented with symptoms of Anxiety Disorders. The patient reported fever is No, cough is No, fatigue is No, difficulty breathing is No. Blood pressure is Low, cholesterol level is Normal. Diagnosis: Negative.\n",
      "Patient Female, 42-year-old, presented with symptoms of Common Cold. The patient reported fever is Yes, cough is Yes, fatigue is No, difficulty breathing is No. Blood pressure is High, cholesterol level is High. Diagnosis: Negative.\n",
      "Patient Male, 42-year-old, presented with symptoms of Depression. The patient reported fever is Yes, cough is No, fatigue is No, difficulty breathing is Yes. Blood pressure is High, cholesterol level is Normal. Diagnosis: Negative.\n",
      "Patient Female, 42-year-old, presented with symptoms of Influenza. The patient reported fever is No, cough is Yes, fatigue is No, difficulty breathing is No. Blood pressure is Normal, cholesterol level is High. Diagnosis: Negative.\n",
      "Patient Female, 42-year-old, presented with symptoms of Kidney Cancer. The patient reported fever is Yes, cough is No, fatigue is No, difficulty breathing is No. Blood pressure is Normal, cholesterol level is Normal. Diagnosis: Negative.\n",
      "Patient Male, 42-year-old, presented with symptoms of Liver Cancer. The patient reported fever is Yes, cough is No, fatigue is Yes, difficulty breathing is Yes. Blood pressure is Normal, cholesterol level is Low. Diagnosis: Negative.\n",
      "Patient Female, 42-year-old, presented with symptoms of Liver Disease. The patient reported fever is Yes, cough is No, fatigue is No, difficulty breathing is Yes. Blood pressure is Normal, cholesterol level is Normal. Diagnosis: Negative.\n",
      "Patient Male, 42-year-old, presented with symptoms of Lung Cancer. The patient reported fever is Yes, cough is No, fatigue is Yes, difficulty breathing is Yes. Blood pressure is Normal, cholesterol level is Low. Diagnosis: Negative.\n",
      "Patient Male, 42-year-old, presented with symptoms of Migraine. The patient reported fever is Yes, cough is Yes, fatigue is Yes, difficulty breathing is No. Blood pressure is High, cholesterol level is High. Diagnosis: Negative.\n",
      "Patient Male, 42-year-old, presented with symptoms of Osteoarthritis. The patient reported fever is No, cough is No, fatigue is Yes, difficulty breathing is No. Blood pressure is Normal, cholesterol level is Low. Diagnosis: Negative.\n",
      "Patient Male, 42-year-old, presented with symptoms of Stroke. The patient reported fever is Yes, cough is No, fatigue is Yes, difficulty breathing is No. Blood pressure is Normal, cholesterol level is Low. Diagnosis: Negative.\n",
      "Patient Female, 42-year-old, presented with symptoms of Urinary Tract Infection. The patient reported fever is No, cough is Yes, fatigue is Yes, difficulty breathing is Yes. Blood pressure is Normal, cholesterol level is Low. Diagnosis: Negative.\n",
      "Patient Male, 42-year-old, presented with symptoms of Diabetes. The patient reported fever is Yes, cough is Yes, fatigue is Yes, difficulty breathing is No. Blood pressure is High, cholesterol level is Normal. Diagnosis: Positive.\n",
      "Patient Female, 42-year-old, presented with symptoms of Hypothyroidism. The patient reported fever is Yes, cough is Yes, fatigue is Yes, difficulty breathing is No. Blood pressure is High, cholesterol level is High. Diagnosis: Positive.\n",
      "Patient Female, 42-year-old, presented with symptoms of Hypothyroidism. The patient reported fever is Yes, cough is Yes, fatigue is Yes, difficulty breathing is No. Blood pressure is High, cholesterol level is High. Diagnosis: Positive.\n",
      "Patient Female, 42-year-old, presented with symptoms of Kidney Disease. The patient reported fever is Yes, cough is No, fatigue is Yes, difficulty breathing is No. Blood pressure is High, cholesterol level is Low. Diagnosis: Positive.\n",
      "Patient Female, 43-year-old, presented with symptoms of Pneumonia. The patient reported fever is No, cough is Yes, fatigue is Yes, difficulty breathing is Yes. Blood pressure is High, cholesterol level is Normal. Diagnosis: Positive.\n",
      "Patient Male, 45-year-old, presented with symptoms of Allergic Rhinitis. The patient reported fever is No, cough is Yes, fatigue is Yes, difficulty breathing is No. Blood pressure is High, cholesterol level is Normal. Diagnosis: Negative.\n",
      "Patient Male, 45-year-old, presented with symptoms of Autism Spectrum Disorder (ASD). The patient reported fever is No, cough is No, fatigue is Yes, difficulty breathing is No. Blood pressure is Normal, cholesterol level is Normal. Diagnosis: Negative.\n",
      "Patient Male, 45-year-old, presented with symptoms of Crohn's Disease. The patient reported fever is Yes, cough is No, fatigue is Yes, difficulty breathing is No. Blood pressure is High, cholesterol level is Normal. Diagnosis: Negative.\n",
      "Patient Female, 45-year-old, presented with symptoms of Hepatitis. The patient reported fever is Yes, cough is No, fatigue is Yes, difficulty breathing is No. Blood pressure is High, cholesterol level is High. Diagnosis: Negative.\n",
      "Patient Female, 45-year-old, presented with symptoms of Hepatitis. The patient reported fever is Yes, cough is No, fatigue is Yes, difficulty breathing is No. Blood pressure is High, cholesterol level is High. Diagnosis: Negative.\n",
      "Patient Male, 45-year-old, presented with symptoms of Hyperglycemia. The patient reported fever is No, cough is No, fatigue is Yes, difficulty breathing is No. Blood pressure is Normal, cholesterol level is Normal. Diagnosis: Negative.\n",
      "Patient Male, 45-year-old, presented with symptoms of Kidney Cancer. The patient reported fever is No, cough is Yes, fatigue is Yes, difficulty breathing is Yes. Blood pressure is Normal, cholesterol level is Low. Diagnosis: Negative.\n",
      "Patient Male, 45-year-old, presented with symptoms of Kidney Disease. The patient reported fever is Yes, cough is Yes, fatigue is No, difficulty breathing is No. Blood pressure is Normal, cholesterol level is High. Diagnosis: Negative.\n",
      "Patient Male, 45-year-old, presented with symptoms of Melanoma. The patient reported fever is Yes, cough is No, fatigue is Yes, difficulty breathing is No. Blood pressure is High, cholesterol level is Normal. Diagnosis: Negative.\n",
      "Patient Female, 45-year-old, presented with symptoms of Migraine. The patient reported fever is No, cough is No, fatigue is No, difficulty breathing is No. Blood pressure is Low, cholesterol level is Normal. Diagnosis: Negative.\n",
      "Patient Male, 45-year-old, presented with symptoms of Ovarian Cancer. The patient reported fever is No, cough is No, fatigue is Yes, difficulty breathing is No. Blood pressure is Normal, cholesterol level is Normal. Diagnosis: Negative.\n",
      "Patient Male, 45-year-old, presented with symptoms of Pancreatitis. The patient reported fever is No, cough is Yes, fatigue is Yes, difficulty breathing is Yes. Blood pressure is Normal, cholesterol level is Low. Diagnosis: Negative.\n",
      "Patient Male, 45-year-old, presented with symptoms of Rheumatoid Arthritis. The patient reported fever is Yes, cough is No, fatigue is No, difficulty breathing is No. Blood pressure is Normal, cholesterol level is Normal. Diagnosis: Negative.\n",
      "Patient Male, 45-year-old, presented with symptoms of Stroke. The patient reported fever is No, cough is No, fatigue is Yes, difficulty breathing is No. Blood pressure is Normal, cholesterol level is Normal. Diagnosis: Negative.\n",
      "Patient Male, 45-year-old, presented with symptoms of Turner Syndrome. The patient reported fever is No, cough is No, fatigue is Yes, difficulty breathing is No. Blood pressure is High, cholesterol level is High. Diagnosis: Negative.\n",
      "Patient Male, 45-year-old, presented with symptoms of Turner Syndrome. The patient reported fever is No, cough is No, fatigue is Yes, difficulty breathing is No. Blood pressure is High, cholesterol level is High. Diagnosis: Negative.\n",
      "Patient Female, 45-year-old, presented with symptoms of Urinary Tract Infection. The patient reported fever is No, cough is No, fatigue is No, difficulty breathing is No. Blood pressure is Low, cholesterol level is Normal. Diagnosis: Negative.\n",
      "Patient Female, 45-year-old, presented with symptoms of Zika Virus. The patient reported fever is No, cough is Yes, fatigue is Yes, difficulty breathing is No. Blood pressure is High, cholesterol level is High. Diagnosis: Negative.\n",
      "Patient Female, 45-year-old, presented with symptoms of Zika Virus. The patient reported fever is No, cough is Yes, fatigue is Yes, difficulty breathing is No. Blood pressure is High, cholesterol level is High. Diagnosis: Negative.\n",
      "Patient Male, 45-year-old, presented with symptoms of Allergic Rhinitis. The patient reported fever is Yes, cough is Yes, fatigue is Yes, difficulty breathing is No. Blood pressure is High, cholesterol level is Normal. Diagnosis: Positive.\n",
      "Patient Male, 45-year-old, presented with symptoms of Anxiety Disorders. The patient reported fever is Yes, cough is Yes, fatigue is Yes, difficulty breathing is No. Blood pressure is High, cholesterol level is Normal. Diagnosis: Positive.\n",
      "Patient Male, 45-year-old, presented with symptoms of Asthma. The patient reported fever is Yes, cough is Yes, fatigue is No, difficulty breathing is Yes. Blood pressure is Normal, cholesterol level is Normal. Diagnosis: Positive.\n",
      "Patient Male, 45-year-old, presented with symptoms of Asthma. The patient reported fever is Yes, cough is Yes, fatigue is No, difficulty breathing is Yes. Blood pressure is Normal, cholesterol level is Normal. Diagnosis: Positive.\n",
      "Patient Female, 45-year-old, presented with symptoms of Cataracts. The patient reported fever is No, cough is No, fatigue is Yes, difficulty breathing is No. Blood pressure is Normal, cholesterol level is High. Diagnosis: Positive.\n",
      "Patient Female, 45-year-old, presented with symptoms of Crohn's Disease. The patient reported fever is No, cough is No, fatigue is Yes, difficulty breathing is No. Blood pressure is High, cholesterol level is High. Diagnosis: Positive.\n",
      "Patient Female, 45-year-old, presented with symptoms of Crohn's Disease. The patient reported fever is Yes, cough is Yes, fatigue is Yes, difficulty breathing is No. Blood pressure is High, cholesterol level is High. Diagnosis: Positive.\n",
      "Patient Female, 45-year-old, presented with symptoms of Depression. The patient reported fever is No, cough is No, fatigue is Yes, difficulty breathing is No. Blood pressure is High, cholesterol level is High. Diagnosis: Positive.\n",
      "Patient Female, 45-year-old, presented with symptoms of Diabetes. The patient reported fever is Yes, cough is No, fatigue is Yes, difficulty breathing is No. Blood pressure is High, cholesterol level is High. Diagnosis: Positive.\n",
      "Patient Male, 45-year-old, presented with symptoms of Diabetes. The patient reported fever is No, cough is Yes, fatigue is Yes, difficulty breathing is No. Blood pressure is Normal, cholesterol level is High. Diagnosis: Positive.\n",
      "Patient Male, 45-year-old, presented with symptoms of Hypertension. The patient reported fever is Yes, cough is No, fatigue is Yes, difficulty breathing is No. Blood pressure is Normal, cholesterol level is High. Diagnosis: Positive.\n",
      "Patient Female, 45-year-old, presented with symptoms of Hypothyroidism. The patient reported fever is No, cough is No, fatigue is Yes, difficulty breathing is No. Blood pressure is High, cholesterol level is High. Diagnosis: Positive.\n",
      "Patient Female, 45-year-old, presented with symptoms of Liver Disease. The patient reported fever is Yes, cough is Yes, fatigue is Yes, difficulty breathing is No. Blood pressure is Normal, cholesterol level is High. Diagnosis: Positive.\n",
      "Patient Female, 45-year-old, presented with symptoms of Multiple Sclerosis. The patient reported fever is Yes, cough is No, fatigue is No, difficulty breathing is No. Blood pressure is High, cholesterol level is High. Diagnosis: Positive.\n",
      "Patient Female, 45-year-old, presented with symptoms of Multiple Sclerosis. The patient reported fever is Yes, cough is No, fatigue is No, difficulty breathing is No. Blood pressure is High, cholesterol level is High. Diagnosis: Positive.\n",
      "Patient Male, 45-year-old, presented with symptoms of Osteoarthritis. The patient reported fever is Yes, cough is No, fatigue is Yes, difficulty breathing is Yes. Blood pressure is High, cholesterol level is Normal. Diagnosis: Positive.\n",
      "Patient Female, 45-year-old, presented with symptoms of Osteoporosis. The patient reported fever is Yes, cough is Yes, fatigue is Yes, difficulty breathing is No. Blood pressure is Normal, cholesterol level is High. Diagnosis: Positive.\n",
      "Patient Female, 45-year-old, presented with symptoms of Pneumocystis Pneumonia (PCP). The patient reported fever is Yes, cough is Yes, fatigue is Yes, difficulty breathing is No. Blood pressure is High, cholesterol level is High. Diagnosis: Positive.\n",
      "Patient Male, 45-year-old, presented with symptoms of Pneumonia. The patient reported fever is Yes, cough is Yes, fatigue is Yes, difficulty breathing is Yes. Blood pressure is High, cholesterol level is High. Diagnosis: Positive.\n",
      "Patient Female, 45-year-old, presented with symptoms of Scoliosis. The patient reported fever is No, cough is No, fatigue is No, difficulty breathing is No. Blood pressure is High, cholesterol level is High. Diagnosis: Positive.\n",
      "Patient Female, 45-year-old, presented with symptoms of Sickle Cell Anemia. The patient reported fever is No, cough is No, fatigue is Yes, difficulty breathing is No. Blood pressure is Normal, cholesterol level is Normal. Diagnosis: Positive.\n",
      "Patient Male, 45-year-old, presented with symptoms of Tetanus. The patient reported fever is No, cough is No, fatigue is Yes, difficulty breathing is No. Blood pressure is Normal, cholesterol level is High. Diagnosis: Positive.\n",
      "Patient Male, 45-year-old, presented with symptoms of Tetanus. The patient reported fever is No, cough is No, fatigue is Yes, difficulty breathing is No. Blood pressure is Normal, cholesterol level is High. Diagnosis: Positive.\n",
      "Patient Female, 48-year-old, presented with symptoms of Hypertension. The patient reported fever is No, cough is No, fatigue is No, difficulty breathing is No. Blood pressure is Low, cholesterol level is High. Diagnosis: Negative.\n",
      "Patient Male, 48-year-old, presented with symptoms of Hypothyroidism. The patient reported fever is No, cough is No, fatigue is Yes, difficulty breathing is No. Blood pressure is Normal, cholesterol level is High. Diagnosis: Negative.\n",
      "Patient Male, 48-year-old, presented with symptoms of Hypothyroidism. The patient reported fever is No, cough is No, fatigue is Yes, difficulty breathing is No. Blood pressure is Normal, cholesterol level is High. Diagnosis: Negative.\n",
      "Patient Male, 50-year-old, presented with symptoms of Allergic Rhinitis. The patient reported fever is Yes, cough is No, fatigue is No, difficulty breathing is No. Blood pressure is High, cholesterol level is High. Diagnosis: Negative.\n",
      "Patient Male, 50-year-old, presented with symptoms of Anemia. The patient reported fever is No, cough is No, fatigue is Yes, difficulty breathing is No. Blood pressure is Normal, cholesterol level is Normal. Diagnosis: Negative.\n",
      "Patient Male, 50-year-old, presented with symptoms of Anxiety Disorders. The patient reported fever is No, cough is No, fatigue is Yes, difficulty breathing is No. Blood pressure is Normal, cholesterol level is Normal. Diagnosis: Negative.\n",
      "Patient Female, 50-year-old, presented with symptoms of Cholera. The patient reported fever is Yes, cough is No, fatigue is Yes, difficulty breathing is Yes. Blood pressure is High, cholesterol level is High. Diagnosis: Negative.\n",
      "Patient Female, 50-year-old, presented with symptoms of Cholera. The patient reported fever is Yes, cough is No, fatigue is Yes, difficulty breathing is Yes. Blood pressure is High, cholesterol level is High. Diagnosis: Negative.\n",
      "Patient Male, 50-year-old, presented with symptoms of Crohn's Disease. The patient reported fever is Yes, cough is Yes, fatigue is Yes, difficulty breathing is No. Blood pressure is Normal, cholesterol level is High. Diagnosis: Negative.\n",
      "Patient Male, 50-year-old, presented with symptoms of Crohn's Disease. The patient reported fever is No, cough is No, fatigue is Yes, difficulty breathing is No. Blood pressure is Normal, cholesterol level is High. Diagnosis: Negative.\n",
      "Patient Female, 50-year-old, presented with symptoms of Depression. The patient reported fever is No, cough is Yes, fatigue is Yes, difficulty breathing is No. Blood pressure is Low, cholesterol level is Low. Diagnosis: Negative.\n",
      "Patient Male, 50-year-old, presented with symptoms of Diabetes. The patient reported fever is No, cough is Yes, fatigue is No, difficulty breathing is No. Blood pressure is Normal, cholesterol level is High. Diagnosis: Negative.\n",
      "Patient Male, 50-year-old, presented with symptoms of Endometriosis. The patient reported fever is Yes, cough is No, fatigue is No, difficulty breathing is No. Blood pressure is High, cholesterol level is Normal. Diagnosis: Negative.\n",
      "Patient Female, 50-year-old, presented with symptoms of Hypertension. The patient reported fever is No, cough is Yes, fatigue is No, difficulty breathing is No. Blood pressure is Normal, cholesterol level is Low. Diagnosis: Negative.\n",
      "Patient Male, 50-year-old, presented with symptoms of Hypothyroidism. The patient reported fever is Yes, cough is Yes, fatigue is Yes, difficulty breathing is No. Blood pressure is Normal, cholesterol level is High. Diagnosis: Negative.\n",
      "Patient Male, 50-year-old, presented with symptoms of Kidney Cancer. The patient reported fever is No, cough is Yes, fatigue is No, difficulty breathing is No. Blood pressure is Low, cholesterol level is High. Diagnosis: Negative.\n",
      "Patient Male, 50-year-old, presented with symptoms of Kidney Disease. The patient reported fever is No, cough is Yes, fatigue is No, difficulty breathing is Yes. Blood pressure is Normal, cholesterol level is Normal. Diagnosis: Negative.\n",
      "Patient Male, 50-year-old, presented with symptoms of Pancreatitis. The patient reported fever is No, cough is Yes, fatigue is No, difficulty breathing is No. Blood pressure is Low, cholesterol level is High. Diagnosis: Negative.\n",
      "Patient Female, 50-year-old, presented with symptoms of Rheumatoid Arthritis. The patient reported fever is No, cough is Yes, fatigue is No, difficulty breathing is No. Blood pressure is Low, cholesterol level is Normal. Diagnosis: Negative.\n",
      "Patient Male, 50-year-old, presented with symptoms of Sepsis. The patient reported fever is Yes, cough is Yes, fatigue is Yes, difficulty breathing is No. Blood pressure is Normal, cholesterol level is Normal. Diagnosis: Negative.\n",
      "Patient Male, 50-year-old, presented with symptoms of Sleep Apnea. The patient reported fever is Yes, cough is No, fatigue is Yes, difficulty breathing is Yes. Blood pressure is High, cholesterol level is High. Diagnosis: Negative.\n",
      "Patient Male, 50-year-old, presented with symptoms of Urinary Tract Infection. The patient reported fever is Yes, cough is Yes, fatigue is No, difficulty breathing is Yes. Blood pressure is High, cholesterol level is Normal. Diagnosis: Negative.\n",
      "Patient Female, 50-year-old, presented with symptoms of Asthma. The patient reported fever is Yes, cough is Yes, fatigue is Yes, difficulty breathing is Yes. Blood pressure is Normal, cholesterol level is High. Diagnosis: Positive.\n",
      "Patient Male, 50-year-old, presented with symptoms of Bronchitis. The patient reported fever is Yes, cough is Yes, fatigue is Yes, difficulty breathing is Yes. Blood pressure is High, cholesterol level is High. Diagnosis: Positive.\n",
      "Patient Female, 50-year-old, presented with symptoms of Down Syndrome. The patient reported fever is No, cough is No, fatigue is Yes, difficulty breathing is No. Blood pressure is High, cholesterol level is High. Diagnosis: Positive.\n",
      "Patient Male, 50-year-old, presented with symptoms of Ebola Virus. The patient reported fever is Yes, cough is Yes, fatigue is Yes, difficulty breathing is Yes. Blood pressure is Normal, cholesterol level is Normal. Diagnosis: Positive.\n",
      "Patient Male, 50-year-old, presented with symptoms of Ebola Virus. The patient reported fever is Yes, cough is Yes, fatigue is Yes, difficulty breathing is Yes. Blood pressure is Normal, cholesterol level is Normal. Diagnosis: Positive.\n",
      "Patient Female, 50-year-old, presented with symptoms of Eczema. The patient reported fever is No, cough is Yes, fatigue is No, difficulty breathing is No. Blood pressure is High, cholesterol level is High. Diagnosis: Positive.\n",
      "Patient Female, 50-year-old, presented with symptoms of Gastroenteritis. The patient reported fever is Yes, cough is Yes, fatigue is Yes, difficulty breathing is Yes. Blood pressure is High, cholesterol level is Normal. Diagnosis: Positive.\n",
      "Patient Female, 50-year-old, presented with symptoms of Klinefelter Syndrome. The patient reported fever is No, cough is No, fatigue is Yes, difficulty breathing is No. Blood pressure is Normal, cholesterol level is Normal. Diagnosis: Positive.\n",
      "Patient Male, 50-year-old, presented with symptoms of Liver Cancer. The patient reported fever is No, cough is Yes, fatigue is Yes, difficulty breathing is Yes. Blood pressure is High, cholesterol level is High. Diagnosis: Positive.\n",
      "Patient Male, 50-year-old, presented with symptoms of Lyme Disease. The patient reported fever is Yes, cough is No, fatigue is No, difficulty breathing is No. Blood pressure is Normal, cholesterol level is High. Diagnosis: Positive.\n",
      "Patient Male, 50-year-old, presented with symptoms of Lyme Disease. The patient reported fever is Yes, cough is No, fatigue is No, difficulty breathing is No. Blood pressure is Normal, cholesterol level is High. Diagnosis: Positive.\n",
      "Patient Female, 50-year-old, presented with symptoms of Pancreatic Cancer. The patient reported fever is No, cough is No, fatigue is Yes, difficulty breathing is No. Blood pressure is High, cholesterol level is High. Diagnosis: Positive.\n",
      "Patient Female, 50-year-old, presented with symptoms of Pneumothorax. The patient reported fever is No, cough is No, fatigue is Yes, difficulty breathing is Yes. Blood pressure is High, cholesterol level is High. Diagnosis: Positive.\n",
      "Patient Male, 50-year-old, presented with symptoms of Stroke. The patient reported fever is No, cough is Yes, fatigue is Yes, difficulty breathing is Yes. Blood pressure is High, cholesterol level is High. Diagnosis: Positive.\n",
      "Patient Female, 50-year-old, presented with symptoms of Ulcerative Colitis. The patient reported fever is No, cough is Yes, fatigue is Yes, difficulty breathing is No. Blood pressure is Normal, cholesterol level is High. Diagnosis: Positive.\n",
      "Patient Male, 52-year-old, presented with symptoms of Hypertension. The patient reported fever is Yes, cough is Yes, fatigue is No, difficulty breathing is No. Blood pressure is Normal, cholesterol level is Low. Diagnosis: Negative.\n",
      "Patient Male, 52-year-old, presented with symptoms of Multiple Sclerosis. The patient reported fever is No, cough is Yes, fatigue is Yes, difficulty breathing is No. Blood pressure is Normal, cholesterol level is Normal. Diagnosis: Negative.\n",
      "Patient Male, 52-year-old, presented with symptoms of Multiple Sclerosis. The patient reported fever is No, cough is Yes, fatigue is Yes, difficulty breathing is No. Blood pressure is Normal, cholesterol level is Normal. Diagnosis: Negative.\n",
      "Patient Male, 55-year-old, presented with symptoms of Appendicitis. The patient reported fever is Yes, cough is No, fatigue is Yes, difficulty breathing is No. Blood pressure is Normal, cholesterol level is Normal. Diagnosis: Negative.\n",
      "Patient Male, 55-year-old, presented with symptoms of Bronchitis. The patient reported fever is No, cough is No, fatigue is Yes, difficulty breathing is Yes. Blood pressure is High, cholesterol level is High. Diagnosis: Negative.\n",
      "Patient Male, 55-year-old, presented with symptoms of Bronchitis. The patient reported fever is Yes, cough is Yes, fatigue is Yes, difficulty breathing is Yes. Blood pressure is High, cholesterol level is Normal. Diagnosis: Negative.\n",
      "Patient Male, 55-year-old, presented with symptoms of Common Cold. The patient reported fever is Yes, cough is No, fatigue is Yes, difficulty breathing is Yes. Blood pressure is Normal, cholesterol level is Low. Diagnosis: Negative.\n",
      "Patient Female, 55-year-old, presented with symptoms of Diabetes. The patient reported fever is No, cough is Yes, fatigue is No, difficulty breathing is No. Blood pressure is Normal, cholesterol level is High. Diagnosis: Negative.\n",
      "Patient Male, 55-year-old, presented with symptoms of Esophageal Cancer. The patient reported fever is No, cough is No, fatigue is Yes, difficulty breathing is No. Blood pressure is Normal, cholesterol level is Normal. Diagnosis: Negative.\n",
      "Patient Female, 55-year-old, presented with symptoms of HIV/AIDS. The patient reported fever is Yes, cough is No, fatigue is No, difficulty breathing is No. Blood pressure is High, cholesterol level is High. Diagnosis: Negative.\n",
      "Patient Female, 55-year-old, presented with symptoms of HIV/AIDS. The patient reported fever is Yes, cough is No, fatigue is No, difficulty breathing is No. Blood pressure is High, cholesterol level is High. Diagnosis: Negative.\n",
      "Patient Female, 55-year-old, presented with symptoms of Hypertension. The patient reported fever is No, cough is Yes, fatigue is No, difficulty breathing is No. Blood pressure is Normal, cholesterol level is Low. Diagnosis: Negative.\n",
      "Patient Male, 55-year-old, presented with symptoms of Liver Disease. The patient reported fever is No, cough is Yes, fatigue is Yes, difficulty breathing is No. Blood pressure is High, cholesterol level is Low. Diagnosis: Negative.\n",
      "Patient Male, 55-year-old, presented with symptoms of Marfan Syndrome. The patient reported fever is No, cough is No, fatigue is Yes, difficulty breathing is No. Blood pressure is High, cholesterol level is High. Diagnosis: Negative.\n",
      "Patient Female, 55-year-old, presented with symptoms of Migraine. The patient reported fever is No, cough is Yes, fatigue is Yes, difficulty breathing is Yes. Blood pressure is Normal, cholesterol level is Low. Diagnosis: Negative.\n",
      "Patient Male, 55-year-old, presented with symptoms of Osteoporosis. The patient reported fever is No, cough is No, fatigue is Yes, difficulty breathing is No. Blood pressure is High, cholesterol level is Normal. Diagnosis: Negative.\n",
      "Patient Female, 55-year-old, presented with symptoms of Parkinson's Disease. The patient reported fever is No, cough is No, fatigue is Yes, difficulty breathing is No. Blood pressure is Normal, cholesterol level is Low. Diagnosis: Negative.\n",
      "Patient Female, 55-year-old, presented with symptoms of Parkinson's Disease. The patient reported fever is No, cough is No, fatigue is Yes, difficulty breathing is No. Blood pressure is Normal, cholesterol level is Low. Diagnosis: Negative.\n",
      "Patient Female, 55-year-old, presented with symptoms of Anxiety Disorders. The patient reported fever is Yes, cough is Yes, fatigue is No, difficulty breathing is No. Blood pressure is Normal, cholesterol level is Low. Diagnosis: Positive.\n",
      "Patient Female, 55-year-old, presented with symptoms of Coronary Artery Disease. The patient reported fever is No, cough is No, fatigue is Yes, difficulty breathing is No. Blood pressure is Normal, cholesterol level is Normal. Diagnosis: Positive.\n",
      "Patient Female, 55-year-old, presented with symptoms of Coronary Artery Disease. The patient reported fever is No, cough is No, fatigue is Yes, difficulty breathing is No. Blood pressure is Normal, cholesterol level is Normal. Diagnosis: Positive.\n",
      "Patient Female, 55-year-old, presented with symptoms of Hemorrhoids. The patient reported fever is No, cough is No, fatigue is No, difficulty breathing is No. Blood pressure is High, cholesterol level is High. Diagnosis: Positive.\n",
      "Patient Male, 55-year-old, presented with symptoms of Hypertension. The patient reported fever is Yes, cough is No, fatigue is Yes, difficulty breathing is No. Blood pressure is High, cholesterol level is Normal. Diagnosis: Positive.\n",
      "Patient Female, 55-year-old, presented with symptoms of Hypothyroidism. The patient reported fever is No, cough is No, fatigue is Yes, difficulty breathing is No. Blood pressure is High, cholesterol level is High. Diagnosis: Positive.\n",
      "Patient Female, 55-year-old, presented with symptoms of Osteoarthritis. The patient reported fever is Yes, cough is Yes, fatigue is No, difficulty breathing is No. Blood pressure is High, cholesterol level is High. Diagnosis: Positive.\n",
      "Patient Male, 55-year-old, presented with symptoms of Osteoporosis. The patient reported fever is Yes, cough is No, fatigue is Yes, difficulty breathing is Yes. Blood pressure is High, cholesterol level is Low. Diagnosis: Positive.\n",
      "Patient Female, 55-year-old, presented with symptoms of Osteoporosis. The patient reported fever is No, cough is Yes, fatigue is Yes, difficulty breathing is No. Blood pressure is Normal, cholesterol level is Normal. Diagnosis: Positive.\n",
      "Patient Female, 55-year-old, presented with symptoms of Osteoporosis. The patient reported fever is Yes, cough is No, fatigue is Yes, difficulty breathing is No. Blood pressure is Normal, cholesterol level is Normal. Diagnosis: Positive.\n",
      "Patient Female, 55-year-old, presented with symptoms of Osteoporosis. The patient reported fever is Yes, cough is No, fatigue is Yes, difficulty breathing is No. Blood pressure is Normal, cholesterol level is Normal. Diagnosis: Positive.\n",
      "Patient Female, 55-year-old, presented with symptoms of Polycystic Ovary Syndrome (PCOS). The patient reported fever is Yes, cough is Yes, fatigue is No, difficulty breathing is No. Blood pressure is Normal, cholesterol level is Normal. Diagnosis: Positive.\n",
      "Patient Female, 55-year-old, presented with symptoms of Systemic Lupus Erythematosus.... The patient reported fever is No, cough is Yes, fatigue is Yes, difficulty breathing is No. Blood pressure is High, cholesterol level is High. Diagnosis: Positive.\n",
      "Patient Male, 55-year-old, presented with symptoms of Typhoid Fever. The patient reported fever is No, cough is Yes, fatigue is No, difficulty breathing is No. Blood pressure is Normal, cholesterol level is Low. Diagnosis: Positive.\n",
      "Patient Male, 55-year-old, presented with symptoms of Typhoid Fever. The patient reported fever is No, cough is Yes, fatigue is No, difficulty breathing is No. Blood pressure is Normal, cholesterol level is Low. Diagnosis: Positive.\n",
      "Patient Male, 56-year-old, presented with symptoms of Influenza. The patient reported fever is Yes, cough is Yes, fatigue is Yes, difficulty breathing is Yes. Blood pressure is High, cholesterol level is High. Diagnosis: Positive.\n",
      "Patient Male, 57-year-old, presented with symptoms of Pneumonia. The patient reported fever is Yes, cough is Yes, fatigue is No, difficulty breathing is Yes. Blood pressure is Normal, cholesterol level is High. Diagnosis: Negative.\n",
      "Patient Male, 60-year-old, presented with symptoms of Breast Cancer. The patient reported fever is No, cough is No, fatigue is Yes, difficulty breathing is No. Blood pressure is High, cholesterol level is High. Diagnosis: Negative.\n",
      "Patient Male, 60-year-old, presented with symptoms of Coronary Artery Disease. The patient reported fever is Yes, cough is Yes, fatigue is No, difficulty breathing is No. Blood pressure is High, cholesterol level is High. Diagnosis: Negative.\n",
      "Patient Male, 60-year-old, presented with symptoms of Coronary Artery Disease. The patient reported fever is Yes, cough is Yes, fatigue is No, difficulty breathing is No. Blood pressure is High, cholesterol level is High. Diagnosis: Negative.\n",
      "Patient Male, 60-year-old, presented with symptoms of Hyperthyroidism. The patient reported fever is No, cough is No, fatigue is Yes, difficulty breathing is No. Blood pressure is Normal, cholesterol level is Normal. Diagnosis: Negative.\n",
      "Patient Female, 60-year-old, presented with symptoms of Measles. The patient reported fever is Yes, cough is Yes, fatigue is No, difficulty breathing is No. Blood pressure is High, cholesterol level is Normal. Diagnosis: Negative.\n",
      "Patient Female, 60-year-old, presented with symptoms of Measles. The patient reported fever is Yes, cough is Yes, fatigue is No, difficulty breathing is No. Blood pressure is High, cholesterol level is Normal. Diagnosis: Negative.\n",
      "Patient Female, 60-year-old, presented with symptoms of Osteoarthritis. The patient reported fever is No, cough is Yes, fatigue is No, difficulty breathing is Yes. Blood pressure is Normal, cholesterol level is Normal. Diagnosis: Negative.\n",
      "Patient Male, 60-year-old, presented with symptoms of Osteomyelitis. The patient reported fever is No, cough is No, fatigue is Yes, difficulty breathing is No. Blood pressure is Normal, cholesterol level is Normal. Diagnosis: Negative.\n",
      "Patient Male, 60-year-old, presented with symptoms of Osteoporosis. The patient reported fever is Yes, cough is No, fatigue is No, difficulty breathing is No. Blood pressure is High, cholesterol level is High. Diagnosis: Negative.\n",
      "Patient Male, 60-year-old, presented with symptoms of Osteoporosis. The patient reported fever is No, cough is Yes, fatigue is No, difficulty breathing is No. Blood pressure is High, cholesterol level is High. Diagnosis: Negative.\n",
      "Patient Male, 60-year-old, presented with symptoms of Osteoporosis. The patient reported fever is No, cough is Yes, fatigue is No, difficulty breathing is No. Blood pressure is High, cholesterol level is High. Diagnosis: Negative.\n",
      "Patient Male, 60-year-old, presented with symptoms of Polio. The patient reported fever is Yes, cough is Yes, fatigue is Yes, difficulty breathing is No. Blood pressure is Normal, cholesterol level is Normal. Diagnosis: Negative.\n",
      "Patient Female, 60-year-old, presented with symptoms of Asthma. The patient reported fever is Yes, cough is Yes, fatigue is Yes, difficulty breathing is Yes. Blood pressure is High, cholesterol level is High. Diagnosis: Positive.\n",
      "Patient Female, 60-year-old, presented with symptoms of Chronic Kidney Disease. The patient reported fever is No, cough is No, fatigue is Yes, difficulty breathing is No. Blood pressure is Normal, cholesterol level is High. Diagnosis: Positive.\n",
      "Patient Female, 60-year-old, presented with symptoms of Hemophilia. The patient reported fever is No, cough is No, fatigue is Yes, difficulty breathing is No. Blood pressure is Normal, cholesterol level is Normal. Diagnosis: Positive.\n",
      "Patient Male, 60-year-old, presented with symptoms of Hepatitis B. The patient reported fever is No, cough is Yes, fatigue is Yes, difficulty breathing is No. Blood pressure is Normal, cholesterol level is Low. Diagnosis: Positive.\n",
      "Patient Male, 60-year-old, presented with symptoms of Hepatitis B. The patient reported fever is No, cough is Yes, fatigue is Yes, difficulty breathing is No. Blood pressure is Normal, cholesterol level is Low. Diagnosis: Positive.\n",
      "Patient Female, 60-year-old, presented with symptoms of Hypertension. The patient reported fever is No, cough is No, fatigue is Yes, difficulty breathing is No. Blood pressure is High, cholesterol level is Normal. Diagnosis: Positive.\n",
      "Patient Male, 60-year-old, presented with symptoms of Hypertension. The patient reported fever is Yes, cough is No, fatigue is Yes, difficulty breathing is No. Blood pressure is High, cholesterol level is Normal. Diagnosis: Positive.\n",
      "Patient Female, 60-year-old, presented with symptoms of Hypertension. The patient reported fever is No, cough is No, fatigue is No, difficulty breathing is No. Blood pressure is High, cholesterol level is High. Diagnosis: Positive.\n",
      "Patient Female, 60-year-old, presented with symptoms of Kidney Cancer. The patient reported fever is Yes, cough is Yes, fatigue is Yes, difficulty breathing is No. Blood pressure is High, cholesterol level is Normal. Diagnosis: Positive.\n",
      "Patient Female, 60-year-old, presented with symptoms of Kidney Disease. The patient reported fever is Yes, cough is Yes, fatigue is Yes, difficulty breathing is Yes. Blood pressure is High, cholesterol level is High. Diagnosis: Positive.\n",
      "Patient Male, 60-year-old, presented with symptoms of Osteoporosis. The patient reported fever is Yes, cough is No, fatigue is Yes, difficulty breathing is No. Blood pressure is High, cholesterol level is Normal. Diagnosis: Positive.\n",
      "Patient Female, 60-year-old, presented with symptoms of Pancreatitis. The patient reported fever is Yes, cough is Yes, fatigue is Yes, difficulty breathing is No. Blood pressure is High, cholesterol level is Normal. Diagnosis: Positive.\n",
      "Patient Male, 60-year-old, presented with symptoms of Parkinson's Disease. The patient reported fever is Yes, cough is Yes, fatigue is No, difficulty breathing is No. Blood pressure is High, cholesterol level is Normal. Diagnosis: Positive.\n",
      "Patient Male, 60-year-old, presented with symptoms of Parkinson's Disease. The patient reported fever is Yes, cough is Yes, fatigue is No, difficulty breathing is No. Blood pressure is High, cholesterol level is Normal. Diagnosis: Positive.\n",
      "Patient Female, 60-year-old, presented with symptoms of Prader-Willi Syndrome. The patient reported fever is No, cough is No, fatigue is Yes, difficulty breathing is No. Blood pressure is Normal, cholesterol level is Normal. Diagnosis: Positive.\n",
      "Patient Female, 60-year-old, presented with symptoms of Rheumatoid Arthritis. The patient reported fever is No, cough is No, fatigue is Yes, difficulty breathing is No. Blood pressure is High, cholesterol level is High. Diagnosis: Positive.\n",
      "Patient Female, 60-year-old, presented with symptoms of Thyroid Cancer. The patient reported fever is No, cough is No, fatigue is Yes, difficulty breathing is No. Blood pressure is High, cholesterol level is High. Diagnosis: Positive.\n",
      "Patient Female, 60-year-old, presented with symptoms of Tuberculosis. The patient reported fever is Yes, cough is Yes, fatigue is Yes, difficulty breathing is No. Blood pressure is High, cholesterol level is High. Diagnosis: Positive.\n",
      "Patient Male, 65-year-old, presented with symptoms of Bladder Cancer. The patient reported fever is No, cough is No, fatigue is Yes, difficulty breathing is No. Blood pressure is Normal, cholesterol level is Normal. Diagnosis: Negative.\n",
      "Patient Male, 65-year-old, presented with symptoms of Diabetes. The patient reported fever is No, cough is No, fatigue is Yes, difficulty breathing is No. Blood pressure is Normal, cholesterol level is High. Diagnosis: Negative.\n",
      "Patient Male, 65-year-old, presented with symptoms of Otitis Media (Ear Infection). The patient reported fever is Yes, cough is Yes, fatigue is Yes, difficulty breathing is No. Blood pressure is Normal, cholesterol level is Normal. Diagnosis: Negative.\n",
      "Patient Female, 65-year-old, presented with symptoms of Stroke. The patient reported fever is Yes, cough is No, fatigue is Yes, difficulty breathing is No. Blood pressure is High, cholesterol level is Low. Diagnosis: Negative.\n",
      "Patient Female, 65-year-old, presented with symptoms of Stroke. The patient reported fever is Yes, cough is No, fatigue is Yes, difficulty breathing is No. Blood pressure is High, cholesterol level is Low. Diagnosis: Negative.\n",
      "Patient Male, 65-year-old, presented with symptoms of Tourette Syndrome. The patient reported fever is No, cough is No, fatigue is Yes, difficulty breathing is No. Blood pressure is High, cholesterol level is High. Diagnosis: Negative.\n",
      "Patient Male, 65-year-old, presented with symptoms of Urinary Tract Infection (UTI). The patient reported fever is Yes, cough is No, fatigue is Yes, difficulty breathing is No. Blood pressure is High, cholesterol level is Normal. Diagnosis: Negative.\n",
      "Patient Male, 65-year-old, presented with symptoms of Alzheimer's Disease. The patient reported fever is No, cough is Yes, fatigue is No, difficulty breathing is No. Blood pressure is Normal, cholesterol level is High. Diagnosis: Positive.\n",
      "Patient Male, 65-year-old, presented with symptoms of Alzheimer's Disease. The patient reported fever is No, cough is Yes, fatigue is No, difficulty breathing is No. Blood pressure is Normal, cholesterol level is High. Diagnosis: Positive.\n",
      "Patient Female, 65-year-old, presented with symptoms of Alzheimer's Disease. The patient reported fever is No, cough is No, fatigue is Yes, difficulty breathing is No. Blood pressure is High, cholesterol level is High. Diagnosis: Positive.\n",
      "Patient Male, 65-year-old, presented with symptoms of Bronchitis. The patient reported fever is Yes, cough is No, fatigue is Yes, difficulty breathing is Yes. Blood pressure is High, cholesterol level is High. Diagnosis: Positive.\n",
      "Patient Female, 65-year-old, presented with symptoms of Chronic Obstructive Pulmonary Disease (COPD). The patient reported fever is Yes, cough is No, fatigue is Yes, difficulty breathing is Yes. Blood pressure is High, cholesterol level is High. Diagnosis: Positive.\n",
      "Patient Female, 65-year-old, presented with symptoms of Chronic Obstructive Pulmonary Disease (COPD). The patient reported fever is Yes, cough is No, fatigue is Yes, difficulty breathing is Yes. Blood pressure is High, cholesterol level is High. Diagnosis: Positive.\n",
      "Patient Female, 65-year-old, presented with symptoms of Dementia. The patient reported fever is No, cough is No, fatigue is Yes, difficulty breathing is No. Blood pressure is High, cholesterol level is High. Diagnosis: Positive.\n",
      "Patient Female, 65-year-old, presented with symptoms of Diabetes. The patient reported fever is Yes, cough is Yes, fatigue is Yes, difficulty breathing is No. Blood pressure is Normal, cholesterol level is High. Diagnosis: Positive.\n",
      "Patient Female, 65-year-old, presented with symptoms of Diverticulitis. The patient reported fever is No, cough is No, fatigue is Yes, difficulty breathing is No. Blood pressure is High, cholesterol level is High. Diagnosis: Positive.\n",
      "Patient Female, 65-year-old, presented with symptoms of Liver Cancer. The patient reported fever is Yes, cough is Yes, fatigue is Yes, difficulty breathing is No. Blood pressure is High, cholesterol level is High. Diagnosis: Positive.\n",
      "Patient Female, 65-year-old, presented with symptoms of Lung Cancer. The patient reported fever is Yes, cough is Yes, fatigue is Yes, difficulty breathing is No. Blood pressure is High, cholesterol level is High. Diagnosis: Positive.\n",
      "Patient Female, 65-year-old, presented with symptoms of Lung Cancer. The patient reported fever is Yes, cough is No, fatigue is Yes, difficulty breathing is No. Blood pressure is Normal, cholesterol level is High. Diagnosis: Positive.\n",
      "Patient Male, 65-year-old, presented with symptoms of Mumps. The patient reported fever is No, cough is No, fatigue is Yes, difficulty breathing is No. Blood pressure is Normal, cholesterol level is High. Diagnosis: Positive.\n",
      "Patient Male, 65-year-old, presented with symptoms of Mumps. The patient reported fever is No, cough is No, fatigue is Yes, difficulty breathing is No. Blood pressure is Normal, cholesterol level is High. Diagnosis: Positive.\n",
      "Patient Female, 65-year-old, presented with symptoms of Osteoporosis. The patient reported fever is No, cough is Yes, fatigue is Yes, difficulty breathing is No. Blood pressure is High, cholesterol level is High. Diagnosis: Positive.\n",
      "Patient Female, 65-year-old, presented with symptoms of Stroke. The patient reported fever is Yes, cough is Yes, fatigue is Yes, difficulty breathing is No. Blood pressure is High, cholesterol level is High. Diagnosis: Positive.\n",
      "Patient Female, 70-year-old, presented with symptoms of Alzheimer's Disease. The patient reported fever is Yes, cough is No, fatigue is Yes, difficulty breathing is No. Blood pressure is High, cholesterol level is Normal. Diagnosis: Negative.\n",
      "Patient Female, 70-year-old, presented with symptoms of Alzheimer's Disease. The patient reported fever is Yes, cough is No, fatigue is Yes, difficulty breathing is No. Blood pressure is High, cholesterol level is Normal. Diagnosis: Negative.\n",
      "Patient Male, 70-year-old, presented with symptoms of Cholecystitis. The patient reported fever is No, cough is No, fatigue is Yes, difficulty breathing is No. Blood pressure is Normal, cholesterol level is Normal. Diagnosis: Negative.\n",
      "Patient Male, 70-year-old, presented with symptoms of Chronic Obstructive Pulmonary Disease (COPD). The patient reported fever is No, cough is Yes, fatigue is Yes, difficulty breathing is Yes. Blood pressure is Normal, cholesterol level is High. Diagnosis: Negative.\n",
      "Patient Male, 70-year-old, presented with symptoms of Chronic Obstructive Pulmonary Disease (COPD). The patient reported fever is No, cough is Yes, fatigue is Yes, difficulty breathing is Yes. Blood pressure is Normal, cholesterol level is High. Diagnosis: Negative.\n",
      "Patient Male, 70-year-old, presented with symptoms of Osteoporosis. The patient reported fever is Yes, cough is No, fatigue is No, difficulty breathing is No. Blood pressure is Normal, cholesterol level is Normal. Diagnosis: Negative.\n",
      "Patient Male, 70-year-old, presented with symptoms of Parkinson's Disease. The patient reported fever is No, cough is No, fatigue is Yes, difficulty breathing is No. Blood pressure is Normal, cholesterol level is Normal. Diagnosis: Negative.\n",
      "Patient Male, 70-year-old, presented with symptoms of Prostate Cancer. The patient reported fever is Yes, cough is Yes, fatigue is No, difficulty breathing is No. Blood pressure is High, cholesterol level is Normal. Diagnosis: Negative.\n",
      "Patient Male, 70-year-old, presented with symptoms of Schizophrenia. The patient reported fever is No, cough is Yes, fatigue is Yes, difficulty breathing is No. Blood pressure is Normal, cholesterol level is Normal. Diagnosis: Negative.\n",
      "Patient Female, 70-year-old, presented with symptoms of Gout. The patient reported fever is Yes, cough is No, fatigue is Yes, difficulty breathing is No. Blood pressure is Normal, cholesterol level is High. Diagnosis: Positive.\n",
      "Patient Female, 70-year-old, presented with symptoms of Migraine. The patient reported fever is No, cough is No, fatigue is Yes, difficulty breathing is No. Blood pressure is Normal, cholesterol level is Normal. Diagnosis: Positive.\n",
      "Patient Male, 70-year-old, presented with symptoms of Stroke. The patient reported fever is No, cough is Yes, fatigue is No, difficulty breathing is No. Blood pressure is Normal, cholesterol level is High. Diagnosis: Positive.\n",
      "Patient Male, 70-year-old, presented with symptoms of Stroke. The patient reported fever is No, cough is Yes, fatigue is No, difficulty breathing is No. Blood pressure is Normal, cholesterol level is High. Diagnosis: Positive.\n",
      "Patient Female, 70-year-old, presented with symptoms of Testicular Cancer. The patient reported fever is No, cough is No, fatigue is Yes, difficulty breathing is No. Blood pressure is High, cholesterol level is High. Diagnosis: Positive.\n",
      "Patient Female, 70-year-old, presented with symptoms of Tonsillitis. The patient reported fever is Yes, cough is Yes, fatigue is Yes, difficulty breathing is No. Blood pressure is High, cholesterol level is High. Diagnosis: Positive.\n",
      "Patient Female, 70-year-old, presented with symptoms of Williams Syndrome. The patient reported fever is No, cough is No, fatigue is Yes, difficulty breathing is No. Blood pressure is Normal, cholesterol level is Normal. Diagnosis: Positive.\n",
      "Patient Female, 80-year-old, presented with symptoms of Stroke. The patient reported fever is Yes, cough is No, fatigue is Yes, difficulty breathing is No. Blood pressure is High, cholesterol level is High. Diagnosis: Positive.\n",
      "Patient Female, 80-year-old, presented with symptoms of Stroke. The patient reported fever is Yes, cough is No, fatigue is Yes, difficulty breathing is No. Blood pressure is High, cholesterol level is High. Diagnosis: Positive.\n",
      "Patient Male, 85-year-old, presented with symptoms of Stroke. The patient reported fever is Yes, cough is No, fatigue is Yes, difficulty breathing is No. Blood pressure is High, cholesterol level is High. Diagnosis: Positive.\n",
      "Patient Male, 85-year-old, presented with symptoms of Stroke. The patient reported fever is Yes, cough is No, fatigue is Yes, difficulty breathing is No. Blood pressure is High, cholesterol level is High. Diagnosis: Positive.\n",
      "Patient Female, 90-year-old, presented with symptoms of Stroke. The patient reported fever is Yes, cough is No, fatigue is Yes, difficulty breathing is No. Blood pressure is High, cholesterol level is High. Diagnosis: Positive.\n",
      "Patient Female, 90-year-old, presented with symptoms of Stroke. The patient reported fever is Yes, cough is No, fatigue is Yes, difficulty breathing is No. Blood pressure is High, cholesterol level is High. Diagnosis: Positive.\n"
     ]
    }
   ],
   "source": [
    "# Template for generating textual descriptions\n",
    "template = \"Patient {}, {}-year-old, presented with symptoms of {}. The patient reported fever is {}, cough is {}, fatigue is {}, difficulty breathing is {}. Blood pressure is {}, cholesterol level is {}. Diagnosis: {}.\"\n",
    "\n",
    "\n",
    "\n",
    "# Generate textual descriptions for each row in the dataset\n",
    "for data_point in ds.to_dict('records'):\n",
    "    text_description = template.format(\n",
    "        data_point['Gender'],\n",
    "        data_point['Age'],\n",
    "        data_point['Disease'],\n",
    "        data_point['Fever'],\n",
    "        data_point['Cough'],\n",
    "        data_point['Fatigue'],\n",
    "        data_point['Difficulty Breathing'],\n",
    "        data_point['Blood Pressure'],\n",
    "        data_point['Cholesterol Level'],\n",
    "        data_point['Outcome Variable']\n",
    "    )\n",
    "    print(text_description)"
   ]
  },
  {
   "cell_type": "code",
   "execution_count": 12,
   "id": "6b8daf8be1b6fee4",
   "metadata": {
    "collapsed": false
   },
   "outputs": [
    {
     "name": "stderr",
     "output_type": "stream",
     "text": [
      "c:\\Users\\maxim\\Lib\\site-packages\\transformers\\generation\\configuration_utils.py:394: UserWarning: `do_sample` is set to `False`. However, `top_p` is set to `0.95` -- this flag is only used in sample-based generation modes. You should set `do_sample=True` or unset `top_p`.\n",
      "  warnings.warn(\n",
      "Setting `pad_token_id` to `eos_token_id`:50256 for open-end generation.\n",
      "c:\\Users\\maxim\\Lib\\site-packages\\transformers\\generation\\configuration_utils.py:394: UserWarning: `do_sample` is set to `False`. However, `top_p` is set to `0.95` -- this flag is only used in sample-based generation modes. You should set `do_sample=True` or unset `top_p`.\n",
      "  warnings.warn(\n",
      "Setting `pad_token_id` to `eos_token_id`:50256 for open-end generation.\n"
     ]
    },
    {
     "name": "stdout",
     "output_type": "stream",
     "text": [
      "Original Text: Patient Female, 19-year-old, presented with symptoms of Influenza. The patient reported fever is Yes, cough is No, fatigue is Yes, difficulty breathing is Yes. Blood pressure is Low, cholesterol level is Normal. Diagnosis: Positive.\n",
      "Generated Text: Patient Female, 19-year-old, presented with symptoms of Influenza. The patient reported fever is Yes, cough is No, fatigue is Yes, difficulty breathing is Yes. Blood pressure is Low, cholesterol level is Normal. Diagnosis: Positive.\n",
      "\n",
      "Neurological Assessment: No.\n",
      "==================================================\n"
     ]
    },
    {
     "name": "stderr",
     "output_type": "stream",
     "text": [
      "Setting `pad_token_id` to `eos_token_id`:50256 for open-end generation.\n"
     ]
    },
    {
     "name": "stdout",
     "output_type": "stream",
     "text": [
      "Original Text: Patient Female, 25-year-old, presented with symptoms of Common Cold. The patient reported fever is No, cough is Yes, fatigue is Yes, difficulty breathing is No. Blood pressure is Normal, cholesterol level is Normal. Diagnosis: Negative.\n",
      "Generated Text: Patient Female, 25-year-old, presented with symptoms of Common Cold. The patient reported fever is No, cough is Yes, fatigue is Yes, difficulty breathing is No. Blood pressure is Normal, cholesterol level is Normal. Diagnosis: Negative.\n",
      "\n",
      "Neurological Assessment: Positive.\n",
      "==================================================\n"
     ]
    },
    {
     "name": "stderr",
     "output_type": "stream",
     "text": [
      "Setting `pad_token_id` to `eos_token_id`:50256 for open-end generation.\n"
     ]
    },
    {
     "name": "stdout",
     "output_type": "stream",
     "text": [
      "Original Text: Patient Female, 25-year-old, presented with symptoms of Eczema. The patient reported fever is No, cough is Yes, fatigue is Yes, difficulty breathing is No. Blood pressure is Normal, cholesterol level is Normal. Diagnosis: Negative.\n",
      "Generated Text: Patient Female, 25-year-old, presented with symptoms of Eczema. The patient reported fever is No, cough is Yes, fatigue is Yes, difficulty breathing is No. Blood pressure is Normal, cholesterol level is Normal. Diagnosis: Negative.\n",
      "\n",
      "Eczema is a common and serious medical condition that affects the body's immune system. It is caused by a virus that causes a small amount of bacteria to enter the bloodstream. Symptoms include:\n",
      ". A fever, headache\n",
      "==================================================\n"
     ]
    },
    {
     "name": "stderr",
     "output_type": "stream",
     "text": [
      "Setting `pad_token_id` to `eos_token_id`:50256 for open-end generation.\n"
     ]
    },
    {
     "name": "stdout",
     "output_type": "stream",
     "text": [
      "Original Text: Patient Male, 25-year-old, presented with symptoms of Asthma. The patient reported fever is Yes, cough is Yes, fatigue is No, difficulty breathing is Yes. Blood pressure is Normal, cholesterol level is Normal. Diagnosis: Positive.\n",
      "Generated Text: Patient Male, 25-year-old, presented with symptoms of Asthma. The patient reported fever is Yes, cough is Yes, fatigue is No, difficulty breathing is Yes. Blood pressure is Normal, cholesterol level is Normal. Diagnosis: Positive.\n",
      "\n",
      "Neurological Assessment: Yes\n",
      ".\n",
      "==================================================\n"
     ]
    },
    {
     "name": "stderr",
     "output_type": "stream",
     "text": [
      "Setting `pad_token_id` to `eos_token_id`:50256 for open-end generation.\n"
     ]
    },
    {
     "name": "stdout",
     "output_type": "stream",
     "text": [
      "Original Text: Patient Male, 25-year-old, presented with symptoms of Asthma. The patient reported fever is Yes, cough is Yes, fatigue is No, difficulty breathing is Yes. Blood pressure is Normal, cholesterol level is Normal. Diagnosis: Positive.\n",
      "Generated Text: Patient Male, 25-year-old, presented with symptoms of Asthma. The patient reported fever is Yes, cough is Yes, fatigue is No, difficulty breathing is Yes. Blood pressure is Normal, cholesterol level is Normal. Diagnosis: Positive.\n",
      "\n",
      "Neurological Assessment: Yes\n",
      ".\n",
      "==================================================\n"
     ]
    },
    {
     "name": "stderr",
     "output_type": "stream",
     "text": [
      "Setting `pad_token_id` to `eos_token_id`:50256 for open-end generation.\n"
     ]
    },
    {
     "name": "stdout",
     "output_type": "stream",
     "text": [
      "Original Text: Patient Female, 25-year-old, presented with symptoms of Eczema. The patient reported fever is Yes, cough is No, fatigue is No, difficulty breathing is No. Blood pressure is Normal, cholesterol level is Normal. Diagnosis: Positive.\n",
      "Generated Text: Patient Female, 25-year-old, presented with symptoms of Eczema. The patient reported fever is Yes, cough is No, fatigue is No, difficulty breathing is No. Blood pressure is Normal, cholesterol level is Normal. Diagnosis: Positive.\n",
      "\n",
      "Eczema is a common and serious medical condition that affects the body's immune system. It is caused by a virus that causes a small amount of bacteria to enter the bloodstream. Symptoms include:\n",
      ". A fever that is\n",
      "==================================================\n"
     ]
    },
    {
     "name": "stderr",
     "output_type": "stream",
     "text": [
      "Setting `pad_token_id` to `eos_token_id`:50256 for open-end generation.\n"
     ]
    },
    {
     "name": "stdout",
     "output_type": "stream",
     "text": [
      "Original Text: Patient Female, 25-year-old, presented with symptoms of Influenza. The patient reported fever is Yes, cough is Yes, fatigue is Yes, difficulty breathing is Yes. Blood pressure is Normal, cholesterol level is Normal. Diagnosis: Positive.\n",
      "Generated Text: Patient Female, 25-year-old, presented with symptoms of Influenza. The patient reported fever is Yes, cough is Yes, fatigue is Yes, difficulty breathing is Yes. Blood pressure is Normal, cholesterol level is Normal. Diagnosis: Positive.\n",
      "\n",
      "Neurological: No.\n",
      "==================================================\n"
     ]
    },
    {
     "name": "stderr",
     "output_type": "stream",
     "text": [
      "Setting `pad_token_id` to `eos_token_id`:50256 for open-end generation.\n"
     ]
    },
    {
     "name": "stdout",
     "output_type": "stream",
     "text": [
      "Original Text: Patient Female, 25-year-old, presented with symptoms of Influenza. The patient reported fever is Yes, cough is Yes, fatigue is Yes, difficulty breathing is Yes. Blood pressure is Normal, cholesterol level is Normal. Diagnosis: Positive.\n",
      "Generated Text: Patient Female, 25-year-old, presented with symptoms of Influenza. The patient reported fever is Yes, cough is Yes, fatigue is Yes, difficulty breathing is Yes. Blood pressure is Normal, cholesterol level is Normal. Diagnosis: Positive.\n",
      "\n",
      "Neurological: No.\n",
      "==================================================\n"
     ]
    },
    {
     "name": "stderr",
     "output_type": "stream",
     "text": [
      "Setting `pad_token_id` to `eos_token_id`:50256 for open-end generation.\n"
     ]
    },
    {
     "name": "stdout",
     "output_type": "stream",
     "text": [
      "Original Text: Patient Female, 28-year-old, presented with symptoms of Hyperthyroidism. The patient reported fever is No, cough is Yes, fatigue is No, difficulty breathing is No. Blood pressure is Normal, cholesterol level is Normal. Diagnosis: Negative.\n",
      "Generated Text: Patient Female, 28-year-old, presented with symptoms of Hyperthyroidism. The patient reported fever is No, cough is Yes, fatigue is No, difficulty breathing is No. Blood pressure is Normal, cholesterol level is Normal. Diagnosis: Negative.\n",
      "\n",
      "The patient was diagnosed with Hypertriglyceridemia (HDL). The diagnosis was made by a physician who was familiar with the patient's history of diabetes. He was also familiar to the patients with hypertrigon\n",
      "==================================================\n"
     ]
    },
    {
     "name": "stderr",
     "output_type": "stream",
     "text": [
      "Setting `pad_token_id` to `eos_token_id`:50256 for open-end generation.\n"
     ]
    },
    {
     "name": "stdout",
     "output_type": "stream",
     "text": [
      "Original Text: Patient Female, 28-year-old, presented with symptoms of Hyperthyroidism. The patient reported fever is No, cough is Yes, fatigue is No, difficulty breathing is No. Blood pressure is Normal, cholesterol level is Normal. Diagnosis: Negative.\n",
      "Generated Text: Patient Female, 28-year-old, presented with symptoms of Hyperthyroidism. The patient reported fever is No, cough is Yes, fatigue is No, difficulty breathing is No. Blood pressure is Normal, cholesterol level is Normal. Diagnosis: Negative.\n",
      "\n",
      "The patient was diagnosed with Hypertriglyceridemia (HDL). The diagnosis was made by a physician who was familiar with the patient's history of diabetes. He was also familiar to the patients with hypertrigon\n",
      "==================================================\n"
     ]
    },
    {
     "name": "stderr",
     "output_type": "stream",
     "text": [
      "Setting `pad_token_id` to `eos_token_id`:50256 for open-end generation.\n"
     ]
    },
    {
     "name": "stdout",
     "output_type": "stream",
     "text": [
      "Original Text: Patient Male, 28-year-old, presented with symptoms of Asthma. The patient reported fever is Yes, cough is No, fatigue is No, difficulty breathing is Yes. Blood pressure is High, cholesterol level is Normal. Diagnosis: Positive.\n",
      "Generated Text: Patient Male, 28-year-old, presented with symptoms of Asthma. The patient reported fever is Yes, cough is No, fatigue is No, difficulty breathing is Yes. Blood pressure is High, cholesterol level is Normal. Diagnosis: Positive.\n",
      "\n",
      "Neurological Assessment: Yes\n",
      ".\n",
      "==================================================\n"
     ]
    },
    {
     "name": "stderr",
     "output_type": "stream",
     "text": [
      "Setting `pad_token_id` to `eos_token_id`:50256 for open-end generation.\n"
     ]
    },
    {
     "name": "stdout",
     "output_type": "stream",
     "text": [
      "Original Text: Patient Female, 29-year-old, presented with symptoms of Allergic Rhinitis. The patient reported fever is No, cough is Yes, fatigue is Yes, difficulty breathing is No. Blood pressure is Normal, cholesterol level is Low. Diagnosis: Negative.\n",
      "Generated Text: Patient Female, 29-year-old, presented with symptoms of Allergic Rhinitis. The patient reported fever is No, cough is Yes, fatigue is Yes, difficulty breathing is No. Blood pressure is Normal, cholesterol level is Low. Diagnosis: Negative.\n",
      "\n",
      "The patient was admitted to the hospital on the morning of the first day of treatment. He was discharged on a short-term basis. After the initial examination, the patient's blood pressure was normal. A blood test\n",
      "==================================================\n"
     ]
    },
    {
     "name": "stderr",
     "output_type": "stream",
     "text": [
      "Setting `pad_token_id` to `eos_token_id`:50256 for open-end generation.\n"
     ]
    },
    {
     "name": "stdout",
     "output_type": "stream",
     "text": [
      "Original Text: Patient Female, 29-year-old, presented with symptoms of Anxiety Disorders. The patient reported fever is No, cough is Yes, fatigue is No, difficulty breathing is No. Blood pressure is Normal, cholesterol level is High. Diagnosis: Negative.\n",
      "Generated Text: Patient Female, 29-year-old, presented with symptoms of Anxiety Disorders. The patient reported fever is No, cough is Yes, fatigue is No, difficulty breathing is No. Blood pressure is Normal, cholesterol level is High. Diagnosis: Negative.\n",
      "\n",
      "Neurological Assessment: Positive.\n",
      "==================================================\n"
     ]
    },
    {
     "name": "stderr",
     "output_type": "stream",
     "text": [
      "Setting `pad_token_id` to `eos_token_id`:50256 for open-end generation.\n"
     ]
    },
    {
     "name": "stdout",
     "output_type": "stream",
     "text": [
      "Original Text: Patient Female, 29-year-old, presented with symptoms of Common Cold. The patient reported fever is No, cough is No, fatigue is No, difficulty breathing is No. Blood pressure is Low, cholesterol level is Normal. Diagnosis: Negative.\n",
      "Generated Text: Patient Female, 29-year-old, presented with symptoms of Common Cold. The patient reported fever is No, cough is No, fatigue is No, difficulty breathing is No. Blood pressure is Low, cholesterol level is Normal. Diagnosis: Negative.\n",
      "\n",
      "Neurological Assessment: Positive.\n",
      "==================================================\n"
     ]
    },
    {
     "name": "stderr",
     "output_type": "stream",
     "text": [
      "Setting `pad_token_id` to `eos_token_id`:50256 for open-end generation.\n"
     ]
    },
    {
     "name": "stdout",
     "output_type": "stream",
     "text": [
      "Original Text: Patient Male, 29-year-old, presented with symptoms of Diabetes. The patient reported fever is No, cough is No, fatigue is No, difficulty breathing is No. Blood pressure is Low, cholesterol level is Normal. Diagnosis: Negative.\n",
      "Generated Text: Patient Male, 29-year-old, presented with symptoms of Diabetes. The patient reported fever is No, cough is No, fatigue is No, difficulty breathing is No. Blood pressure is Low, cholesterol level is Normal. Diagnosis: Negative.\n",
      "\n",
      "Diabetes:\n",
      ". A patient with a history of diabetes was diagnosed with Type 2 diabetes. This patient was treated with insulin and was given a daily dose of insulin for 2 weeks. After 2 months, the patient's blood pressure was\n",
      "==================================================\n"
     ]
    },
    {
     "name": "stderr",
     "output_type": "stream",
     "text": [
      "Setting `pad_token_id` to `eos_token_id`:50256 for open-end generation.\n"
     ]
    },
    {
     "name": "stdout",
     "output_type": "stream",
     "text": [
      "Original Text: Patient Female, 29-year-old, presented with symptoms of Gastroenteritis. The patient reported fever is No, cough is Yes, fatigue is No, difficulty breathing is No. Blood pressure is Normal, cholesterol level is Normal. Diagnosis: Negative.\n",
      "Generated Text: Patient Female, 29-year-old, presented with symptoms of Gastroenteritis. The patient reported fever is No, cough is Yes, fatigue is No, difficulty breathing is No. Blood pressure is Normal, cholesterol level is Normal. Diagnosis: Negative.\n",
      "\n",
      "The patient was admitted to the hospital on the morning of the first day of treatment. He was discharged on a short-term basis. After the initial examination, the patient's blood pressure was normal. A blood test was\n",
      "==================================================\n"
     ]
    },
    {
     "name": "stderr",
     "output_type": "stream",
     "text": [
      "Setting `pad_token_id` to `eos_token_id`:50256 for open-end generation.\n"
     ]
    },
    {
     "name": "stdout",
     "output_type": "stream",
     "text": [
      "Original Text: Patient Female, 29-year-old, presented with symptoms of Pancreatitis. The patient reported fever is Yes, cough is No, fatigue is No, difficulty breathing is No. Blood pressure is High, cholesterol level is Normal. Diagnosis: Negative.\n",
      "Generated Text: Patient Female, 29-year-old, presented with symptoms of Pancreatitis. The patient reported fever is Yes, cough is No, fatigue is No, difficulty breathing is No. Blood pressure is High, cholesterol level is Normal. Diagnosis: Negative.\n",
      "\n",
      "Neurological Assessment: Positive.\n",
      "==================================================\n"
     ]
    },
    {
     "name": "stderr",
     "output_type": "stream",
     "text": [
      "Setting `pad_token_id` to `eos_token_id`:50256 for open-end generation.\n"
     ]
    },
    {
     "name": "stdout",
     "output_type": "stream",
     "text": [
      "Original Text: Patient Female, 29-year-old, presented with symptoms of Rheumatoid Arthritis. The patient reported fever is No, cough is Yes, fatigue is Yes, difficulty breathing is Yes. Blood pressure is High, cholesterol level is High. Diagnosis: Negative.\n",
      "Generated Text: Patient Female, 29-year-old, presented with symptoms of Rheumatoid Arthritis. The patient reported fever is No, cough is Yes, fatigue is Yes, difficulty breathing is Yes. Blood pressure is High, cholesterol level is High. Diagnosis: Negative.\n",
      "\n",
      "The patient was diagnosed with Rhesus macular degeneration (RMD), a degenerative disease of the skin. RMD is a disease that affects the central nervous system. It is caused by a mutation\n",
      "==================================================\n"
     ]
    },
    {
     "name": "stderr",
     "output_type": "stream",
     "text": [
      "Setting `pad_token_id` to `eos_token_id`:50256 for open-end generation.\n"
     ]
    },
    {
     "name": "stdout",
     "output_type": "stream",
     "text": [
      "Original Text: Patient Male, 29-year-old, presented with symptoms of Depression. The patient reported fever is Yes, cough is Yes, fatigue is Yes, difficulty breathing is Yes. Blood pressure is High, cholesterol level is Normal. Diagnosis: Positive.\n",
      "Generated Text: Patient Male, 29-year-old, presented with symptoms of Depression. The patient reported fever is Yes, cough is Yes, fatigue is Yes, difficulty breathing is Yes. Blood pressure is High, cholesterol level is Normal. Diagnosis: Positive.\n",
      "\n",
      "Neurological Assessment: Diagnostic and Statistical Manual of Mental Disorders, Fourth Edition (DSM-IV), Fourth edition (Fourth Edition), Revised Edition, Revised edition, and the American Psychiatric Association's Diagnostics Manual for Mental Ill\n",
      "==================================================\n"
     ]
    },
    {
     "name": "stderr",
     "output_type": "stream",
     "text": [
      "Setting `pad_token_id` to `eos_token_id`:50256 for open-end generation.\n"
     ]
    },
    {
     "name": "stdout",
     "output_type": "stream",
     "text": [
      "Original Text: Patient Female, 29-year-old, presented with symptoms of Liver Cancer. The patient reported fever is Yes, cough is Yes, fatigue is Yes, difficulty breathing is Yes. Blood pressure is Normal, cholesterol level is Normal. Diagnosis: Positive.\n",
      "Generated Text: Patient Female, 29-year-old, presented with symptoms of Liver Cancer. The patient reported fever is Yes, cough is Yes, fatigue is Yes, difficulty breathing is Yes. Blood pressure is Normal, cholesterol level is Normal. Diagnosis: Positive.\n",
      "\n",
      "Neuropathy: Yes\n",
      ".\n",
      "==================================================\n"
     ]
    },
    {
     "name": "stderr",
     "output_type": "stream",
     "text": [
      "Setting `pad_token_id` to `eos_token_id`:50256 for open-end generation.\n"
     ]
    },
    {
     "name": "stdout",
     "output_type": "stream",
     "text": [
      "Original Text: Patient Female, 29-year-old, presented with symptoms of Stroke. The patient reported fever is Yes, cough is Yes, fatigue is Yes, difficulty breathing is Yes. Blood pressure is Normal, cholesterol level is Normal. Diagnosis: Positive.\n",
      "Generated Text: Patient Female, 29-year-old, presented with symptoms of Stroke. The patient reported fever is Yes, cough is Yes, fatigue is Yes, difficulty breathing is Yes. Blood pressure is Normal, cholesterol level is Normal. Diagnosis: Positive.\n",
      "\n",
      "Neurological Assessment: Yes\n",
      ". Cardiac Arrest: No\n",
      ", Cardiorespiratory Arrest, No, Chest Pain, Yes (No, no, yes, or no)\n",
      ": Cardiovascular Arrest\n",
      " (\n",
      "==================================================\n"
     ]
    },
    {
     "name": "stderr",
     "output_type": "stream",
     "text": [
      "Setting `pad_token_id` to `eos_token_id`:50256 for open-end generation.\n"
     ]
    },
    {
     "name": "stdout",
     "output_type": "stream",
     "text": [
      "Original Text: Patient Male, 29-year-old, presented with symptoms of Urinary Tract Infection. The patient reported fever is Yes, cough is Yes, fatigue is Yes, difficulty breathing is No. Blood pressure is High, cholesterol level is High. Diagnosis: Positive.\n",
      "Generated Text: Patient Male, 29-year-old, presented with symptoms of Urinary Tract Infection. The patient reported fever is Yes, cough is Yes, fatigue is Yes, difficulty breathing is No. Blood pressure is High, cholesterol level is High. Diagnosis: Positive.\n",
      "\n",
      "Patients:\n",
      ". Patient was admitted to the hospital on the day of the incident. He was diagnosed with Urinal Tectitis. Urination was confirmed by a CT scan. A CT Scan revealed a\n",
      "==================================================\n"
     ]
    },
    {
     "name": "stderr",
     "output_type": "stream",
     "text": [
      "Setting `pad_token_id` to `eos_token_id`:50256 for open-end generation.\n"
     ]
    },
    {
     "name": "stdout",
     "output_type": "stream",
     "text": [
      "Original Text: Patient Female, 30-year-old, presented with symptoms of Dengue Fever. The patient reported fever is Yes, cough is No, fatigue is Yes, difficulty breathing is No. Blood pressure is Normal, cholesterol level is Normal. Diagnosis: Negative.\n",
      "Generated Text: Patient Female, 30-year-old, presented with symptoms of Dengue Fever. The patient reported fever is Yes, cough is No, fatigue is Yes, difficulty breathing is No. Blood pressure is Normal, cholesterol level is Normal. Diagnosis: Negative.\n",
      "\n",
      "Dengue fever (DHF) is a common, highly contagious, and highly infectious disease. Dengues are a highly pathogenic, pathogen-resistant, viral, bacterial, fungal, parasitic, or parasitic infection\n",
      "==================================================\n"
     ]
    },
    {
     "name": "stderr",
     "output_type": "stream",
     "text": [
      "Setting `pad_token_id` to `eos_token_id`:50256 for open-end generation.\n"
     ]
    },
    {
     "name": "stdout",
     "output_type": "stream",
     "text": [
      "Original Text: Patient Female, 30-year-old, presented with symptoms of Dengue Fever. The patient reported fever is Yes, cough is No, fatigue is Yes, difficulty breathing is No. Blood pressure is Normal, cholesterol level is Normal. Diagnosis: Negative.\n",
      "Generated Text: Patient Female, 30-year-old, presented with symptoms of Dengue Fever. The patient reported fever is Yes, cough is No, fatigue is Yes, difficulty breathing is No. Blood pressure is Normal, cholesterol level is Normal. Diagnosis: Negative.\n",
      "\n",
      "Dengue fever (DHF) is a common, highly contagious, and highly infectious disease. Dengues are a highly pathogenic, pathogen-resistant, viral, bacterial, fungal, parasitic, or parasitic infection\n",
      "==================================================\n"
     ]
    },
    {
     "name": "stderr",
     "output_type": "stream",
     "text": [
      "Setting `pad_token_id` to `eos_token_id`:50256 for open-end generation.\n"
     ]
    },
    {
     "name": "stdout",
     "output_type": "stream",
     "text": [
      "Original Text: Patient Male, 30-year-old, presented with symptoms of Eczema. The patient reported fever is No, cough is Yes, fatigue is Yes, difficulty breathing is No. Blood pressure is High, cholesterol level is High. Diagnosis: Negative.\n",
      "Generated Text: Patient Male, 30-year-old, presented with symptoms of Eczema. The patient reported fever is No, cough is Yes, fatigue is Yes, difficulty breathing is No. Blood pressure is High, cholesterol level is High. Diagnosis: Negative.\n",
      "\n",
      "Neurological Assessment: Positive.\n",
      "==================================================\n"
     ]
    },
    {
     "name": "stderr",
     "output_type": "stream",
     "text": [
      "Setting `pad_token_id` to `eos_token_id`:50256 for open-end generation.\n"
     ]
    },
    {
     "name": "stdout",
     "output_type": "stream",
     "text": [
      "Original Text: Patient Male, 30-year-old, presented with symptoms of Gastroenteritis. The patient reported fever is Yes, cough is Yes, fatigue is Yes, difficulty breathing is No. Blood pressure is High, cholesterol level is High. Diagnosis: Negative.\n",
      "Generated Text: Patient Male, 30-year-old, presented with symptoms of Gastroenteritis. The patient reported fever is Yes, cough is Yes, fatigue is Yes, difficulty breathing is No. Blood pressure is High, cholesterol level is High. Diagnosis: Negative.\n",
      "\n",
      "Neurological Assessment: Positive.\n",
      "==================================================\n"
     ]
    },
    {
     "name": "stderr",
     "output_type": "stream",
     "text": [
      "Setting `pad_token_id` to `eos_token_id`:50256 for open-end generation.\n"
     ]
    },
    {
     "name": "stdout",
     "output_type": "stream",
     "text": [
      "Original Text: Patient Male, 30-year-old, presented with symptoms of Hepatitis. The patient reported fever is Yes, cough is Yes, fatigue is Yes, difficulty breathing is Yes. Blood pressure is High, cholesterol level is Normal. Diagnosis: Negative.\n",
      "Generated Text: Patient Male, 30-year-old, presented with symptoms of Hepatitis. The patient reported fever is Yes, cough is Yes, fatigue is Yes, difficulty breathing is Yes. Blood pressure is High, cholesterol level is Normal. Diagnosis: Negative.\n",
      "\n",
      "Hepatology: Hepatic, hepatic and hepatocellular carcinoma. Hepatocells are present in the liver. They are usually present on the skin, but may also be present at the site of the\n",
      "==================================================\n"
     ]
    },
    {
     "name": "stderr",
     "output_type": "stream",
     "text": [
      "Setting `pad_token_id` to `eos_token_id`:50256 for open-end generation.\n"
     ]
    },
    {
     "name": "stdout",
     "output_type": "stream",
     "text": [
      "Original Text: Patient Male, 30-year-old, presented with symptoms of Kidney Cancer. The patient reported fever is No, cough is No, fatigue is Yes, difficulty breathing is No. Blood pressure is Normal, cholesterol level is Normal. Diagnosis: Negative.\n",
      "Generated Text: Patient Male, 30-year-old, presented with symptoms of Kidney Cancer. The patient reported fever is No, cough is No, fatigue is Yes, difficulty breathing is No. Blood pressure is Normal, cholesterol level is Normal. Diagnosis: Negative.\n",
      "\n",
      "Neurological Assessment: Positive.\n",
      "==================================================\n"
     ]
    },
    {
     "name": "stderr",
     "output_type": "stream",
     "text": [
      "Setting `pad_token_id` to `eos_token_id`:50256 for open-end generation.\n"
     ]
    },
    {
     "name": "stdout",
     "output_type": "stream",
     "text": [
      "Original Text: Patient Female, 30-year-old, presented with symptoms of Migraine. The patient reported fever is Yes, cough is No, fatigue is No, difficulty breathing is No. Blood pressure is Normal, cholesterol level is Normal. Diagnosis: Negative.\n",
      "Generated Text: Patient Female, 30-year-old, presented with symptoms of Migraine. The patient reported fever is Yes, cough is No, fatigue is No, difficulty breathing is No. Blood pressure is Normal, cholesterol level is Normal. Diagnosis: Negative.\n",
      "\n",
      "The patient was diagnosed with Migraines. She was treated with a combination of medications and a medication that was not approved by the FDA. Her symptoms were not treated. After the treatment, the patient went to the emergency room.\n",
      "==================================================\n"
     ]
    },
    {
     "name": "stderr",
     "output_type": "stream",
     "text": [
      "Setting `pad_token_id` to `eos_token_id`:50256 for open-end generation.\n"
     ]
    },
    {
     "name": "stdout",
     "output_type": "stream",
     "text": [
      "Original Text: Patient Female, 30-year-old, presented with symptoms of Migraine. The patient reported fever is No, cough is Yes, fatigue is Yes, difficulty breathing is No. Blood pressure is Normal, cholesterol level is Normal. Diagnosis: Negative.\n",
      "Generated Text: Patient Female, 30-year-old, presented with symptoms of Migraine. The patient reported fever is No, cough is Yes, fatigue is Yes, difficulty breathing is No. Blood pressure is Normal, cholesterol level is Normal. Diagnosis: Negative.\n",
      "\n",
      "The patient was diagnosed with Migraines. She was treated with a combination of medications and a medication that was not approved by the FDA. Her symptoms were not treated. After the treatment, the patient went to the emergency room and\n",
      "==================================================\n"
     ]
    },
    {
     "name": "stderr",
     "output_type": "stream",
     "text": [
      "Setting `pad_token_id` to `eos_token_id`:50256 for open-end generation.\n"
     ]
    },
    {
     "name": "stdout",
     "output_type": "stream",
     "text": [
      "Original Text: Patient Male, 30-year-old, presented with symptoms of Muscular Dystrophy. The patient reported fever is No, cough is No, fatigue is Yes, difficulty breathing is No. Blood pressure is High, cholesterol level is High. Diagnosis: Negative.\n",
      "Generated Text: Patient Male, 30-year-old, presented with symptoms of Muscular Dystrophy. The patient reported fever is No, cough is No, fatigue is Yes, difficulty breathing is No. Blood pressure is High, cholesterol level is High. Diagnosis: Negative.\n",
      "\n",
      "Neurological Assessment: Positive.\n",
      "==================================================\n"
     ]
    },
    {
     "name": "stderr",
     "output_type": "stream",
     "text": [
      "Setting `pad_token_id` to `eos_token_id`:50256 for open-end generation.\n"
     ]
    },
    {
     "name": "stdout",
     "output_type": "stream",
     "text": [
      "Original Text: Patient Male, 30-year-old, presented with symptoms of Sinusitis. The patient reported fever is No, cough is Yes, fatigue is Yes, difficulty breathing is No. Blood pressure is Normal, cholesterol level is Normal. Diagnosis: Negative.\n",
      "Generated Text: Patient Male, 30-year-old, presented with symptoms of Sinusitis. The patient reported fever is No, cough is Yes, fatigue is Yes, difficulty breathing is No. Blood pressure is Normal, cholesterol level is Normal. Diagnosis: Negative.\n",
      "\n",
      "Neurological Assessment: Positive.\n",
      "==================================================\n"
     ]
    },
    {
     "name": "stderr",
     "output_type": "stream",
     "text": [
      "Setting `pad_token_id` to `eos_token_id`:50256 for open-end generation.\n"
     ]
    },
    {
     "name": "stdout",
     "output_type": "stream",
     "text": [
      "Original Text: Patient Female, 30-year-old, presented with symptoms of Ulcerative Colitis. The patient reported fever is Yes, cough is Yes, fatigue is No, difficulty breathing is No. Blood pressure is Normal, cholesterol level is Normal. Diagnosis: Negative.\n",
      "Generated Text: Patient Female, 30-year-old, presented with symptoms of Ulcerative Colitis. The patient reported fever is Yes, cough is Yes, fatigue is No, difficulty breathing is No. Blood pressure is Normal, cholesterol level is Normal. Diagnosis: Negative.\n",
      "\n",
      "Ulceration: No\n",
      ". No Gastric ulcer: Yes\n",
      ", No Hematoma:\n",
      " (No)\n",
      "Treatment: (Yes)\n",
      "==================================================\n"
     ]
    },
    {
     "name": "stderr",
     "output_type": "stream",
     "text": [
      "Setting `pad_token_id` to `eos_token_id`:50256 for open-end generation.\n"
     ]
    },
    {
     "name": "stdout",
     "output_type": "stream",
     "text": [
      "Original Text: Patient Female, 30-year-old, presented with symptoms of Ulcerative Colitis. The patient reported fever is No, cough is Yes, fatigue is Yes, difficulty breathing is No. Blood pressure is Normal, cholesterol level is Normal. Diagnosis: Negative.\n",
      "Generated Text: Patient Female, 30-year-old, presented with symptoms of Ulcerative Colitis. The patient reported fever is No, cough is Yes, fatigue is Yes, difficulty breathing is No. Blood pressure is Normal, cholesterol level is Normal. Diagnosis: Negative.\n",
      "\n",
      "Ulceration: No\n",
      ". No Gastric ulcer: Yes\n",
      ", No Glaucoma: Normal\n",
      ":\n",
      "No, no,\n",
      " (No)\n",
      "Treatment: None\n",
      "\n",
      "==================================================\n"
     ]
    },
    {
     "name": "stderr",
     "output_type": "stream",
     "text": [
      "Setting `pad_token_id` to `eos_token_id`:50256 for open-end generation.\n"
     ]
    },
    {
     "name": "stdout",
     "output_type": "stream",
     "text": [
      "Original Text: Patient Female, 30-year-old, presented with symptoms of Asthma. The patient reported fever is Yes, cough is Yes, fatigue is No, difficulty breathing is Yes. Blood pressure is Normal, cholesterol level is Normal. Diagnosis: Positive.\n",
      "Generated Text: Patient Female, 30-year-old, presented with symptoms of Asthma. The patient reported fever is Yes, cough is Yes, fatigue is No, difficulty breathing is Yes. Blood pressure is Normal, cholesterol level is Normal. Diagnosis: Positive.\n",
      "\n",
      "Neurological: Yes\n",
      ".\n",
      "==================================================\n"
     ]
    },
    {
     "name": "stderr",
     "output_type": "stream",
     "text": [
      "Setting `pad_token_id` to `eos_token_id`:50256 for open-end generation.\n"
     ]
    },
    {
     "name": "stdout",
     "output_type": "stream",
     "text": [
      "Original Text: Patient Female, 30-year-old, presented with symptoms of Asthma. The patient reported fever is Yes, cough is Yes, fatigue is No, difficulty breathing is Yes. Blood pressure is Normal, cholesterol level is Normal. Diagnosis: Positive.\n",
      "Generated Text: Patient Female, 30-year-old, presented with symptoms of Asthma. The patient reported fever is Yes, cough is Yes, fatigue is No, difficulty breathing is Yes. Blood pressure is Normal, cholesterol level is Normal. Diagnosis: Positive.\n",
      "\n",
      "Neurological: Yes\n",
      ".\n",
      "==================================================\n"
     ]
    },
    {
     "name": "stderr",
     "output_type": "stream",
     "text": [
      "Setting `pad_token_id` to `eos_token_id`:50256 for open-end generation.\n"
     ]
    },
    {
     "name": "stdout",
     "output_type": "stream",
     "text": [
      "Original Text: Patient Female, 30-year-old, presented with symptoms of Asthma. The patient reported fever is Yes, cough is Yes, fatigue is Yes, difficulty breathing is Yes. Blood pressure is Normal, cholesterol level is Normal. Diagnosis: Positive.\n",
      "Generated Text: Patient Female, 30-year-old, presented with symptoms of Asthma. The patient reported fever is Yes, cough is Yes, fatigue is Yes, difficulty breathing is Yes. Blood pressure is Normal, cholesterol level is Normal. Diagnosis: Positive.\n",
      "\n",
      "Neurological: Yes\n",
      ".\n",
      "==================================================\n"
     ]
    },
    {
     "name": "stderr",
     "output_type": "stream",
     "text": [
      "Setting `pad_token_id` to `eos_token_id`:50256 for open-end generation.\n"
     ]
    },
    {
     "name": "stdout",
     "output_type": "stream",
     "text": [
      "Original Text: Patient Female, 30-year-old, presented with symptoms of Bipolar Disorder. The patient reported fever is No, cough is No, fatigue is Yes, difficulty breathing is No. Blood pressure is High, cholesterol level is High. Diagnosis: Positive.\n",
      "Generated Text: Patient Female, 30-year-old, presented with symptoms of Bipolar Disorder. The patient reported fever is No, cough is No, fatigue is Yes, difficulty breathing is No. Blood pressure is High, cholesterol level is High. Diagnosis: Positive.\n",
      "\n",
      "Neurological Assessment: Diagnostic and Statistical Manual of Mental Disorders, Fourth Edition (DSM-IV), Fourth edition (Fourth Edition), Revised Edition, Revised edition, and the American Psychiatric Association's Diagnostics Manual for\n",
      "==================================================\n"
     ]
    },
    {
     "name": "stderr",
     "output_type": "stream",
     "text": [
      "Setting `pad_token_id` to `eos_token_id`:50256 for open-end generation.\n"
     ]
    },
    {
     "name": "stdout",
     "output_type": "stream",
     "text": [
      "Original Text: Patient Female, 30-year-old, presented with symptoms of Bronchitis. The patient reported fever is Yes, cough is Yes, fatigue is No, difficulty breathing is Yes. Blood pressure is Low, cholesterol level is Normal. Diagnosis: Positive.\n",
      "Generated Text: Patient Female, 30-year-old, presented with symptoms of Bronchitis. The patient reported fever is Yes, cough is Yes, fatigue is No, difficulty breathing is Yes. Blood pressure is Low, cholesterol level is Normal. Diagnosis: Positive.\n",
      "\n",
      "Patients:\n",
      ". Patients: Bronchoitis is a common and serious disease. It is caused by a virus that causes a small amount of the virus to enter the body. Bronchiitis can be treated with antibiotics.\n",
      "==================================================\n"
     ]
    },
    {
     "name": "stderr",
     "output_type": "stream",
     "text": [
      "Setting `pad_token_id` to `eos_token_id`:50256 for open-end generation.\n"
     ]
    },
    {
     "name": "stdout",
     "output_type": "stream",
     "text": [
      "Original Text: Patient Male, 30-year-old, presented with symptoms of Bronchitis. The patient reported fever is Yes, cough is Yes, fatigue is Yes, difficulty breathing is Yes. Blood pressure is High, cholesterol level is High. Diagnosis: Positive.\n",
      "Generated Text: Patient Male, 30-year-old, presented with symptoms of Bronchitis. The patient reported fever is Yes, cough is Yes, fatigue is Yes, difficulty breathing is Yes. Blood pressure is High, cholesterol level is High. Diagnosis: Positive.\n",
      "\n",
      "Neurological Assessment: Yes\n",
      ".\n",
      "==================================================\n"
     ]
    },
    {
     "name": "stderr",
     "output_type": "stream",
     "text": [
      "Setting `pad_token_id` to `eos_token_id`:50256 for open-end generation.\n"
     ]
    },
    {
     "name": "stdout",
     "output_type": "stream",
     "text": [
      "Original Text: Patient Male, 30-year-old, presented with symptoms of Bronchitis. The patient reported fever is Yes, cough is Yes, fatigue is Yes, difficulty breathing is Yes. Blood pressure is High, cholesterol level is High. Diagnosis: Positive.\n",
      "Generated Text: Patient Male, 30-year-old, presented with symptoms of Bronchitis. The patient reported fever is Yes, cough is Yes, fatigue is Yes, difficulty breathing is Yes. Blood pressure is High, cholesterol level is High. Diagnosis: Positive.\n",
      "\n",
      "Neurological Assessment: Yes\n",
      ".\n",
      "==================================================\n"
     ]
    },
    {
     "name": "stderr",
     "output_type": "stream",
     "text": [
      "Setting `pad_token_id` to `eos_token_id`:50256 for open-end generation.\n"
     ]
    },
    {
     "name": "stdout",
     "output_type": "stream",
     "text": [
      "Original Text: Patient Female, 30-year-old, presented with symptoms of Cerebral Palsy. The patient reported fever is No, cough is No, fatigue is Yes, difficulty breathing is Yes. Blood pressure is Normal, cholesterol level is Normal. Diagnosis: Positive.\n",
      "Generated Text: Patient Female, 30-year-old, presented with symptoms of Cerebral Palsy. The patient reported fever is No, cough is No, fatigue is Yes, difficulty breathing is Yes. Blood pressure is Normal, cholesterol level is Normal. Diagnosis: Positive.\n",
      "\n",
      "Neurological Assessment: No.\n",
      "==================================================\n"
     ]
    },
    {
     "name": "stderr",
     "output_type": "stream",
     "text": [
      "Setting `pad_token_id` to `eos_token_id`:50256 for open-end generation.\n"
     ]
    },
    {
     "name": "stdout",
     "output_type": "stream",
     "text": [
      "Original Text: Patient Female, 30-year-old, presented with symptoms of Colorectal Cancer. The patient reported fever is No, cough is No, fatigue is Yes, difficulty breathing is No. Blood pressure is Normal, cholesterol level is High. Diagnosis: Positive.\n",
      "Generated Text: Patient Female, 30-year-old, presented with symptoms of Colorectal Cancer. The patient reported fever is No, cough is No, fatigue is Yes, difficulty breathing is No. Blood pressure is Normal, cholesterol level is High. Diagnosis: Positive.\n",
      "\n",
      "Patients:\n",
      ". Patient was diagnosed with Colitis. He was admitted to the hospital with a fever of No fever. After a few days, he was discharged. His symptoms were similar to those of the patient\n",
      "==================================================\n"
     ]
    },
    {
     "name": "stderr",
     "output_type": "stream",
     "text": [
      "Setting `pad_token_id` to `eos_token_id`:50256 for open-end generation.\n"
     ]
    },
    {
     "name": "stdout",
     "output_type": "stream",
     "text": [
      "Original Text: Patient Male, 30-year-old, presented with symptoms of Eczema. The patient reported fever is Yes, cough is No, fatigue is No, difficulty breathing is No. Blood pressure is High, cholesterol level is High. Diagnosis: Positive.\n",
      "Generated Text: Patient Male, 30-year-old, presented with symptoms of Eczema. The patient reported fever is Yes, cough is No, fatigue is No, difficulty breathing is No. Blood pressure is High, cholesterol level is High. Diagnosis: Positive.\n",
      "\n",
      "Neurological Assessment: Yes.\n",
      "==================================================\n"
     ]
    },
    {
     "name": "stderr",
     "output_type": "stream",
     "text": [
      "Setting `pad_token_id` to `eos_token_id`:50256 for open-end generation.\n"
     ]
    },
    {
     "name": "stdout",
     "output_type": "stream",
     "text": [
      "Original Text: Patient Female, 30-year-old, presented with symptoms of Hypertensive Heart Disease. The patient reported fever is No, cough is No, fatigue is Yes, difficulty breathing is No. Blood pressure is High, cholesterol level is High. Diagnosis: Positive.\n",
      "Generated Text: Patient Female, 30-year-old, presented with symptoms of Hypertensive Heart Disease. The patient reported fever is No, cough is No, fatigue is Yes, difficulty breathing is No. Blood pressure is High, cholesterol level is High. Diagnosis: Positive.\n",
      "\n",
      "Neurological Assessment: No\n",
      ". Cardiovascular Disease: Yes\n",
      ", Cardiac Arrest: Not Present\n",
      ": Cardio-Vascular Disease\n",
      " (CVD)\n",
      "(C) Cardiologists:\n",
      "==================================================\n"
     ]
    },
    {
     "name": "stderr",
     "output_type": "stream",
     "text": [
      "Setting `pad_token_id` to `eos_token_id`:50256 for open-end generation.\n"
     ]
    },
    {
     "name": "stdout",
     "output_type": "stream",
     "text": [
      "Original Text: Patient Male, 30-year-old, presented with symptoms of Influenza. The patient reported fever is Yes, cough is Yes, fatigue is Yes, difficulty breathing is No. Blood pressure is High, cholesterol level is Normal. Diagnosis: Positive.\n",
      "Generated Text: Patient Male, 30-year-old, presented with symptoms of Influenza. The patient reported fever is Yes, cough is Yes, fatigue is Yes, difficulty breathing is No. Blood pressure is High, cholesterol level is Normal. Diagnosis: Positive.\n",
      "\n",
      "Neurological Assessment: Yes.\n",
      "==================================================\n"
     ]
    },
    {
     "name": "stderr",
     "output_type": "stream",
     "text": [
      "Setting `pad_token_id` to `eos_token_id`:50256 for open-end generation.\n"
     ]
    },
    {
     "name": "stdout",
     "output_type": "stream",
     "text": [
      "Original Text: Patient Female, 30-year-old, presented with symptoms of Influenza. The patient reported fever is Yes, cough is Yes, fatigue is Yes, difficulty breathing is Yes. Blood pressure is Normal, cholesterol level is Normal. Diagnosis: Positive.\n",
      "Generated Text: Patient Female, 30-year-old, presented with symptoms of Influenza. The patient reported fever is Yes, cough is Yes, fatigue is Yes, difficulty breathing is Yes. Blood pressure is Normal, cholesterol level is Normal. Diagnosis: Positive.\n",
      "\n",
      "Neurological: No.\n",
      "==================================================\n"
     ]
    },
    {
     "name": "stderr",
     "output_type": "stream",
     "text": [
      "Setting `pad_token_id` to `eos_token_id`:50256 for open-end generation.\n"
     ]
    },
    {
     "name": "stdout",
     "output_type": "stream",
     "text": [
      "Original Text: Patient Female, 30-year-old, presented with symptoms of Multiple Sclerosis. The patient reported fever is No, cough is No, fatigue is Yes, difficulty breathing is No. Blood pressure is High, cholesterol level is High. Diagnosis: Positive.\n",
      "Generated Text: Patient Female, 30-year-old, presented with symptoms of Multiple Sclerosis. The patient reported fever is No, cough is No, fatigue is Yes, difficulty breathing is No. Blood pressure is High, cholesterol level is High. Diagnosis: Positive.\n",
      "\n",
      "Neurological Assessment: No\n",
      ". Cardiac Arrest: Yes\n",
      ", Cardiomyopathy:\n",
      " (No)\n",
      "Treatment: Cardiopulmonary resuscitation (CPR) or Cardio-Proced\n",
      "==================================================\n"
     ]
    },
    {
     "name": "stderr",
     "output_type": "stream",
     "text": [
      "Setting `pad_token_id` to `eos_token_id`:50256 for open-end generation.\n"
     ]
    },
    {
     "name": "stdout",
     "output_type": "stream",
     "text": [
      "Original Text: Patient Female, 30-year-old, presented with symptoms of Myocardial Infarction (Heart.... The patient reported fever is Yes, cough is Yes, fatigue is Yes, difficulty breathing is Yes. Blood pressure is High, cholesterol level is High. Diagnosis: Positive.\n",
      "Generated Text: Patient Female, 30-year-old, presented with symptoms of Myocardial Infarction (Heart.... The patient reported fever is Yes, cough is Yes, fatigue is Yes, difficulty breathing is Yes. Blood pressure is High, cholesterol level is High. Diagnosis: Positive.\n",
      "\n",
      "Patients:\n",
      ". The Patient was admitted to the hospital on the morning of the first day of treatment. He was discharged on his own accord. After the patient was taken to a hospital, he\n",
      "==================================================\n"
     ]
    },
    {
     "name": "stderr",
     "output_type": "stream",
     "text": [
      "Setting `pad_token_id` to `eos_token_id`:50256 for open-end generation.\n"
     ]
    },
    {
     "name": "stdout",
     "output_type": "stream",
     "text": [
      "Original Text: Patient Female, 30-year-old, presented with symptoms of Urinary Tract Infection (UTI). The patient reported fever is Yes, cough is No, fatigue is No, difficulty breathing is No. Blood pressure is Normal, cholesterol level is Normal. Diagnosis: Positive.\n",
      "Generated Text: Patient Female, 30-year-old, presented with symptoms of Urinary Tract Infection (UTI). The patient reported fever is Yes, cough is No, fatigue is No, difficulty breathing is No. Blood pressure is Normal, cholesterol level is Normal. Diagnosis: Positive.\n",
      "\n",
      "Urinary tract infection (UTA) is a common cause of urinary tract infections (URIs). UTIs are a type of infection that is caused by a bacterial infection. UTI is usually\n",
      "==================================================\n"
     ]
    },
    {
     "name": "stderr",
     "output_type": "stream",
     "text": [
      "Setting `pad_token_id` to `eos_token_id`:50256 for open-end generation.\n"
     ]
    },
    {
     "name": "stdout",
     "output_type": "stream",
     "text": [
      "Original Text: Patient Male, 31-year-old, presented with symptoms of Asthma. The patient reported fever is No, cough is No, fatigue is No, difficulty breathing is Yes. Blood pressure is Normal, cholesterol level is Low. Diagnosis: Negative.\n",
      "Generated Text: Patient Male, 31-year-old, presented with symptoms of Asthma. The patient reported fever is No, cough is No, fatigue is No, difficulty breathing is Yes. Blood pressure is Normal, cholesterol level is Low. Diagnosis: Negative.\n",
      "\n",
      "The patient was admitted to the hospital with a history of asthma. He was diagnosed with asthma and was treated with antihistamines. After the diagnosis, the patient went to a doctor and received a CT scan. A CT was performed\n",
      "==================================================\n"
     ]
    },
    {
     "name": "stderr",
     "output_type": "stream",
     "text": [
      "Setting `pad_token_id` to `eos_token_id`:50256 for open-end generation.\n"
     ]
    },
    {
     "name": "stdout",
     "output_type": "stream",
     "text": [
      "Original Text: Patient Male, 31-year-old, presented with symptoms of Osteoporosis. The patient reported fever is No, cough is No, fatigue is No, difficulty breathing is Yes. Blood pressure is Low, cholesterol level is Normal. Diagnosis: Negative.\n",
      "Generated Text: Patient Male, 31-year-old, presented with symptoms of Osteoporosis. The patient reported fever is No, cough is No, fatigue is No, difficulty breathing is Yes. Blood pressure is Low, cholesterol level is Normal. Diagnosis: Negative.\n",
      "\n",
      "Osteoarthritis:\n",
      ". Othromboembolism (OAE) is a common cause of othroarthrosis. It is caused by a protein called the thromboplast\n",
      "==================================================\n"
     ]
    },
    {
     "name": "stderr",
     "output_type": "stream",
     "text": [
      "Setting `pad_token_id` to `eos_token_id`:50256 for open-end generation.\n"
     ]
    },
    {
     "name": "stdout",
     "output_type": "stream",
     "text": [
      "Original Text: Patient Male, 31-year-old, presented with symptoms of Common Cold. The patient reported fever is Yes, cough is No, fatigue is Yes, difficulty breathing is Yes. Blood pressure is High, cholesterol level is High. Diagnosis: Positive.\n",
      "Generated Text: Patient Male, 31-year-old, presented with symptoms of Common Cold. The patient reported fever is Yes, cough is No, fatigue is Yes, difficulty breathing is Yes. Blood pressure is High, cholesterol level is High. Diagnosis: Positive.\n",
      "\n",
      "Neurological Assessment: Yes\n",
      ". Cardiac Arrest: No\n",
      ", Cardiorespiratory Arrest (CART)\n",
      ": Cardiovascular Arrest\n",
      " (Cardiomyopathy) (No) Cardiopulmonary Arrest\n",
      "==================================================\n"
     ]
    },
    {
     "name": "stderr",
     "output_type": "stream",
     "text": [
      "Setting `pad_token_id` to `eos_token_id`:50256 for open-end generation.\n"
     ]
    },
    {
     "name": "stdout",
     "output_type": "stream",
     "text": [
      "Original Text: Patient Female, 31-year-old, presented with symptoms of Migraine. The patient reported fever is Yes, cough is No, fatigue is No, difficulty breathing is No. Blood pressure is Normal, cholesterol level is Normal. Diagnosis: Positive.\n",
      "Generated Text: Patient Female, 31-year-old, presented with symptoms of Migraine. The patient reported fever is Yes, cough is No, fatigue is No, difficulty breathing is No. Blood pressure is Normal, cholesterol level is Normal. Diagnosis: Positive.\n",
      "\n",
      "Neurological Assessment: Yes.\n",
      "==================================================\n"
     ]
    },
    {
     "name": "stderr",
     "output_type": "stream",
     "text": [
      "Setting `pad_token_id` to `eos_token_id`:50256 for open-end generation.\n"
     ]
    },
    {
     "name": "stdout",
     "output_type": "stream",
     "text": [
      "Original Text: Patient Female, 32-year-old, presented with symptoms of Pneumonia. The patient reported fever is Yes, cough is No, fatigue is Yes, difficulty breathing is Yes. Blood pressure is High, cholesterol level is Normal. Diagnosis: Positive.\n",
      "Generated Text: Patient Female, 32-year-old, presented with symptoms of Pneumonia. The patient reported fever is Yes, cough is No, fatigue is Yes, difficulty breathing is Yes. Blood pressure is High, cholesterol level is Normal. Diagnosis: Positive.\n",
      "\n",
      "Neurological: Yes\n",
      ". Patient: Patient was diagnosed with P. pneumonia. He was admitted to the hospital with a fever of No. 2. After a short period of time, he was discharged. No further\n",
      "==================================================\n"
     ]
    },
    {
     "name": "stderr",
     "output_type": "stream",
     "text": [
      "Setting `pad_token_id` to `eos_token_id`:50256 for open-end generation.\n"
     ]
    },
    {
     "name": "stdout",
     "output_type": "stream",
     "text": [
      "Original Text: Patient Female, 35-year-old, presented with symptoms of Allergic Rhinitis. The patient reported fever is No, cough is No, fatigue is Yes, difficulty breathing is No. Blood pressure is Normal, cholesterol level is Low. Diagnosis: Negative.\n",
      "Generated Text: Patient Female, 35-year-old, presented with symptoms of Allergic Rhinitis. The patient reported fever is No, cough is No, fatigue is Yes, difficulty breathing is No. Blood pressure is Normal, cholesterol level is Low. Diagnosis: Negative.\n",
      "\n",
      "The patient was admitted to the hospital on the morning of the first day of treatment. He was discharged on a short-term basis. After the initial examination, the patient's blood pressure was normal. A blood test\n",
      "==================================================\n"
     ]
    },
    {
     "name": "stderr",
     "output_type": "stream",
     "text": [
      "Setting `pad_token_id` to `eos_token_id`:50256 for open-end generation.\n"
     ]
    },
    {
     "name": "stdout",
     "output_type": "stream",
     "text": [
      "Original Text: Patient Female, 35-year-old, presented with symptoms of Asthma. The patient reported fever is No, cough is Yes, fatigue is Yes, difficulty breathing is Yes. Blood pressure is Normal, cholesterol level is High. Diagnosis: Negative.\n",
      "Generated Text: Patient Female, 35-year-old, presented with symptoms of Asthma. The patient reported fever is No, cough is Yes, fatigue is Yes, difficulty breathing is Yes. Blood pressure is Normal, cholesterol level is High. Diagnosis: Negative.\n",
      "\n",
      "The patient was admitted to the hospital with a history of asthma. He was diagnosed with asthma and was treated with antihistamines. After the diagnosis, the patient went to a doctor and received a CT scan. A CT was performed\n",
      "==================================================\n"
     ]
    },
    {
     "name": "stderr",
     "output_type": "stream",
     "text": [
      "Setting `pad_token_id` to `eos_token_id`:50256 for open-end generation.\n"
     ]
    },
    {
     "name": "stdout",
     "output_type": "stream",
     "text": [
      "Original Text: Patient Female, 35-year-old, presented with symptoms of Asthma. The patient reported fever is Yes, cough is Yes, fatigue is Yes, difficulty breathing is Yes. Blood pressure is Normal, cholesterol level is Normal. Diagnosis: Negative.\n",
      "Generated Text: Patient Female, 35-year-old, presented with symptoms of Asthma. The patient reported fever is Yes, cough is Yes, fatigue is Yes, difficulty breathing is Yes. Blood pressure is Normal, cholesterol level is Normal. Diagnosis: Negative.\n",
      "\n",
      "The patient was admitted to the hospital with a history of asthma. He was diagnosed with asthma and was treated with antihistamines. After the diagnosis, the patient went to a doctor and received a CT scan. A CT was performed\n",
      "==================================================\n"
     ]
    },
    {
     "name": "stderr",
     "output_type": "stream",
     "text": [
      "Setting `pad_token_id` to `eos_token_id`:50256 for open-end generation.\n"
     ]
    },
    {
     "name": "stdout",
     "output_type": "stream",
     "text": [
      "Original Text: Patient Female, 35-year-old, presented with symptoms of Asthma. The patient reported fever is No, cough is Yes, fatigue is Yes, difficulty breathing is Yes. Blood pressure is High, cholesterol level is Normal. Diagnosis: Negative.\n",
      "Generated Text: Patient Female, 35-year-old, presented with symptoms of Asthma. The patient reported fever is No, cough is Yes, fatigue is Yes, difficulty breathing is Yes. Blood pressure is High, cholesterol level is Normal. Diagnosis: Negative.\n",
      "\n",
      "The patient was admitted to the hospital with a history of asthma. He was diagnosed with asthma and was treated with antihistamines. After the diagnosis, the patient went to a doctor and received a CT scan. A CT was performed\n",
      "==================================================\n"
     ]
    },
    {
     "name": "stderr",
     "output_type": "stream",
     "text": [
      "Setting `pad_token_id` to `eos_token_id`:50256 for open-end generation.\n"
     ]
    },
    {
     "name": "stdout",
     "output_type": "stream",
     "text": [
      "Original Text: Patient Female, 35-year-old, presented with symptoms of Asthma. The patient reported fever is No, cough is Yes, fatigue is Yes, difficulty breathing is Yes. Blood pressure is High, cholesterol level is Normal. Diagnosis: Negative.\n",
      "Generated Text: Patient Female, 35-year-old, presented with symptoms of Asthma. The patient reported fever is No, cough is Yes, fatigue is Yes, difficulty breathing is Yes. Blood pressure is High, cholesterol level is Normal. Diagnosis: Negative.\n",
      "\n",
      "The patient was admitted to the hospital with a history of asthma. He was diagnosed with asthma and was treated with antihistamines. After the diagnosis, the patient went to a doctor and received a CT scan. A CT was performed\n",
      "==================================================\n"
     ]
    },
    {
     "name": "stderr",
     "output_type": "stream",
     "text": [
      "Setting `pad_token_id` to `eos_token_id`:50256 for open-end generation.\n"
     ]
    },
    {
     "name": "stdout",
     "output_type": "stream",
     "text": [
      "Original Text: Patient Male, 35-year-old, presented with symptoms of Atherosclerosis. The patient reported fever is No, cough is No, fatigue is Yes, difficulty breathing is No. Blood pressure is Normal, cholesterol level is Normal. Diagnosis: Negative.\n",
      "Generated Text: Patient Male, 35-year-old, presented with symptoms of Atherosclerosis. The patient reported fever is No, cough is No, fatigue is Yes, difficulty breathing is No. Blood pressure is Normal, cholesterol level is Normal. Diagnosis: Negative.\n",
      "\n",
      "Neurological Assessment: Positive.\n",
      "==================================================\n"
     ]
    },
    {
     "name": "stderr",
     "output_type": "stream",
     "text": [
      "Setting `pad_token_id` to `eos_token_id`:50256 for open-end generation.\n"
     ]
    },
    {
     "name": "stdout",
     "output_type": "stream",
     "text": [
      "Original Text: Patient Male, 35-year-old, presented with symptoms of Chronic Obstructive Pulmonary.... The patient reported fever is Yes, cough is Yes, fatigue is Yes, difficulty breathing is Yes. Blood pressure is Normal, cholesterol level is Normal. Diagnosis: Negative.\n",
      "Generated Text: Patient Male, 35-year-old, presented with symptoms of Chronic Obstructive Pulmonary.... The patient reported fever is Yes, cough is Yes, fatigue is Yes, difficulty breathing is Yes. Blood pressure is Normal, cholesterol level is Normal. Diagnosis: Negative.\n",
      "\n",
      "The patient was admitted to the hospital on the morning of the first day of treatment. The first dose of a drug was given. After the second dose, the patient began to feel better. He was taken to\n",
      "==================================================\n"
     ]
    },
    {
     "name": "stderr",
     "output_type": "stream",
     "text": [
      "Setting `pad_token_id` to `eos_token_id`:50256 for open-end generation.\n"
     ]
    },
    {
     "name": "stdout",
     "output_type": "stream",
     "text": [
      "Original Text: Patient Male, 35-year-old, presented with symptoms of Common Cold. The patient reported fever is Yes, cough is Yes, fatigue is Yes, difficulty breathing is No. Blood pressure is High, cholesterol level is Normal. Diagnosis: Negative.\n",
      "Generated Text: Patient Male, 35-year-old, presented with symptoms of Common Cold. The patient reported fever is Yes, cough is Yes, fatigue is Yes, difficulty breathing is No. Blood pressure is High, cholesterol level is Normal. Diagnosis: Negative.\n",
      "\n",
      "Neurological Assessment: Positive.\n",
      "==================================================\n"
     ]
    },
    {
     "name": "stderr",
     "output_type": "stream",
     "text": [
      "Setting `pad_token_id` to `eos_token_id`:50256 for open-end generation.\n"
     ]
    },
    {
     "name": "stdout",
     "output_type": "stream",
     "text": [
      "Original Text: Patient Male, 35-year-old, presented with symptoms of Eczema. The patient reported fever is No, cough is Yes, fatigue is No, difficulty breathing is No. Blood pressure is High, cholesterol level is Normal. Diagnosis: Negative.\n",
      "Generated Text: Patient Male, 35-year-old, presented with symptoms of Eczema. The patient reported fever is No, cough is Yes, fatigue is No, difficulty breathing is No. Blood pressure is High, cholesterol level is Normal. Diagnosis: Negative.\n",
      "\n",
      "Eczema is a common and serious medical condition that affects the body's immune system. It is caused by a virus that causes a small amount of bacteria to enter the bloodstream. Symptoms include:\n",
      ". A fever, headache\n",
      "==================================================\n"
     ]
    },
    {
     "name": "stderr",
     "output_type": "stream",
     "text": [
      "Setting `pad_token_id` to `eos_token_id`:50256 for open-end generation.\n"
     ]
    },
    {
     "name": "stdout",
     "output_type": "stream",
     "text": [
      "Original Text: Patient Male, 35-year-old, presented with symptoms of Epilepsy. The patient reported fever is No, cough is No, fatigue is Yes, difficulty breathing is No. Blood pressure is High, cholesterol level is High. Diagnosis: Negative.\n",
      "Generated Text: Patient Male, 35-year-old, presented with symptoms of Epilepsy. The patient reported fever is No, cough is No, fatigue is Yes, difficulty breathing is No. Blood pressure is High, cholesterol level is High. Diagnosis: Negative.\n",
      "\n",
      "Neurological Assessment: Positive.\n",
      "==================================================\n"
     ]
    },
    {
     "name": "stderr",
     "output_type": "stream",
     "text": [
      "Setting `pad_token_id` to `eos_token_id`:50256 for open-end generation.\n"
     ]
    },
    {
     "name": "stdout",
     "output_type": "stream",
     "text": [
      "Original Text: Patient Female, 35-year-old, presented with symptoms of Hypertension. The patient reported fever is Yes, cough is Yes, fatigue is Yes, difficulty breathing is No. Blood pressure is High, cholesterol level is Normal. Diagnosis: Negative.\n",
      "Generated Text: Patient Female, 35-year-old, presented with symptoms of Hypertension. The patient reported fever is Yes, cough is Yes, fatigue is Yes, difficulty breathing is No. Blood pressure is High, cholesterol level is Normal. Diagnosis: Negative.\n",
      "\n",
      "Neurological Assessment: Positive.\n",
      "==================================================\n"
     ]
    },
    {
     "name": "stderr",
     "output_type": "stream",
     "text": [
      "Setting `pad_token_id` to `eos_token_id`:50256 for open-end generation.\n"
     ]
    },
    {
     "name": "stdout",
     "output_type": "stream",
     "text": [
      "Original Text: Patient Female, 35-year-old, presented with symptoms of Hyperthyroidism. The patient reported fever is Yes, cough is Yes, fatigue is Yes, difficulty breathing is No. Blood pressure is Normal, cholesterol level is Normal. Diagnosis: Negative.\n",
      "Generated Text: Patient Female, 35-year-old, presented with symptoms of Hyperthyroidism. The patient reported fever is Yes, cough is Yes, fatigue is Yes, difficulty breathing is No. Blood pressure is Normal, cholesterol level is Normal. Diagnosis: Negative.\n",
      "\n",
      "Neurological Assessment: Positive.\n",
      "==================================================\n"
     ]
    },
    {
     "name": "stderr",
     "output_type": "stream",
     "text": [
      "Setting `pad_token_id` to `eos_token_id`:50256 for open-end generation.\n"
     ]
    },
    {
     "name": "stdout",
     "output_type": "stream",
     "text": [
      "Original Text: Patient Male, 35-year-old, presented with symptoms of Obsessive-Compulsive Disorde.... The patient reported fever is No, cough is No, fatigue is Yes, difficulty breathing is No. Blood pressure is Normal, cholesterol level is Normal. Diagnosis: Negative.\n",
      "Generated Text: Patient Male, 35-year-old, presented with symptoms of Obsessive-Compulsive Disorde.... The patient reported fever is No, cough is No, fatigue is Yes, difficulty breathing is No. Blood pressure is Normal, cholesterol level is Normal. Diagnosis: Negative.\n",
      "\n",
      "The patient was diagnosed with Obsissive Compulsive Disorder (OCD). The diagnosis was made by a physician who was familiar with the patient's history of OCD. The physician was able to identify the\n",
      "==================================================\n"
     ]
    },
    {
     "name": "stderr",
     "output_type": "stream",
     "text": [
      "Setting `pad_token_id` to `eos_token_id`:50256 for open-end generation.\n"
     ]
    },
    {
     "name": "stdout",
     "output_type": "stream",
     "text": [
      "Original Text: Patient Female, 35-year-old, presented with symptoms of Pneumonia. The patient reported fever is Yes, cough is Yes, fatigue is Yes, difficulty breathing is Yes. Blood pressure is Normal, cholesterol level is Normal. Diagnosis: Negative.\n",
      "Generated Text: Patient Female, 35-year-old, presented with symptoms of Pneumonia. The patient reported fever is Yes, cough is Yes, fatigue is Yes, difficulty breathing is Yes. Blood pressure is Normal, cholesterol level is Normal. Diagnosis: Negative.\n",
      "\n",
      "Neurological Assessment: Positive.\n",
      "==================================================\n"
     ]
    },
    {
     "name": "stderr",
     "output_type": "stream",
     "text": [
      "Setting `pad_token_id` to `eos_token_id`:50256 for open-end generation.\n"
     ]
    },
    {
     "name": "stdout",
     "output_type": "stream",
     "text": [
      "Original Text: Patient Female, 35-year-old, presented with symptoms of Pneumonia. The patient reported fever is Yes, cough is Yes, fatigue is Yes, difficulty breathing is Yes. Blood pressure is Normal, cholesterol level is Normal. Diagnosis: Negative.\n",
      "Generated Text: Patient Female, 35-year-old, presented with symptoms of Pneumonia. The patient reported fever is Yes, cough is Yes, fatigue is Yes, difficulty breathing is Yes. Blood pressure is Normal, cholesterol level is Normal. Diagnosis: Negative.\n",
      "\n",
      "Neurological Assessment: Positive.\n",
      "==================================================\n"
     ]
    },
    {
     "name": "stderr",
     "output_type": "stream",
     "text": [
      "Setting `pad_token_id` to `eos_token_id`:50256 for open-end generation.\n"
     ]
    },
    {
     "name": "stdout",
     "output_type": "stream",
     "text": [
      "Original Text: Patient Female, 35-year-old, presented with symptoms of Psoriasis. The patient reported fever is Yes, cough is No, fatigue is No, difficulty breathing is No. Blood pressure is Normal, cholesterol level is Low. Diagnosis: Negative.\n",
      "Generated Text: Patient Female, 35-year-old, presented with symptoms of Psoriasis. The patient reported fever is Yes, cough is No, fatigue is No, difficulty breathing is No. Blood pressure is Normal, cholesterol level is Low. Diagnosis: Negative.\n",
      "\n",
      "Patients:\n",
      ". Patient was diagnosed with Psoriatica. She was admitted to the hospital with a fever of No fever. Her symptoms were mild to moderate. After admission, she was treated with antibiotics. No further\n",
      "==================================================\n"
     ]
    },
    {
     "name": "stderr",
     "output_type": "stream",
     "text": [
      "Setting `pad_token_id` to `eos_token_id`:50256 for open-end generation.\n"
     ]
    },
    {
     "name": "stdout",
     "output_type": "stream",
     "text": [
      "Original Text: Patient Female, 35-year-old, presented with symptoms of Psoriasis. The patient reported fever is No, cough is Yes, fatigue is Yes, difficulty breathing is No. Blood pressure is Normal, cholesterol level is Low. Diagnosis: Negative.\n",
      "Generated Text: Patient Female, 35-year-old, presented with symptoms of Psoriasis. The patient reported fever is No, cough is Yes, fatigue is Yes, difficulty breathing is No. Blood pressure is Normal, cholesterol level is Low. Diagnosis: Negative.\n",
      "\n",
      "Patients:\n",
      ". Patient was diagnosed with Psoriatica. She was admitted to the hospital with a fever of No fever. Her symptoms were mild to moderate. No symptoms occurred. A blood test was negative. After\n",
      "==================================================\n"
     ]
    },
    {
     "name": "stderr",
     "output_type": "stream",
     "text": [
      "Setting `pad_token_id` to `eos_token_id`:50256 for open-end generation.\n"
     ]
    },
    {
     "name": "stdout",
     "output_type": "stream",
     "text": [
      "Original Text: Patient Female, 35-year-old, presented with symptoms of Rubella. The patient reported fever is Yes, cough is No, fatigue is Yes, difficulty breathing is No. Blood pressure is High, cholesterol level is Normal. Diagnosis: Negative.\n",
      "Generated Text: Patient Female, 35-year-old, presented with symptoms of Rubella. The patient reported fever is Yes, cough is No, fatigue is Yes, difficulty breathing is No. Blood pressure is High, cholesterol level is Normal. Diagnosis: Negative.\n",
      "\n",
      "The patient was admitted to the hospital on the morning of the first day of treatment. He was treated with antibiotics and was discharged on day 2. After the initial examination, the patient's blood pressure was normal. A blood test was\n",
      "==================================================\n"
     ]
    },
    {
     "name": "stderr",
     "output_type": "stream",
     "text": [
      "Setting `pad_token_id` to `eos_token_id`:50256 for open-end generation.\n"
     ]
    },
    {
     "name": "stdout",
     "output_type": "stream",
     "text": [
      "Original Text: Patient Female, 35-year-old, presented with symptoms of Rubella. The patient reported fever is Yes, cough is No, fatigue is Yes, difficulty breathing is No. Blood pressure is High, cholesterol level is Normal. Diagnosis: Negative.\n",
      "Generated Text: Patient Female, 35-year-old, presented with symptoms of Rubella. The patient reported fever is Yes, cough is No, fatigue is Yes, difficulty breathing is No. Blood pressure is High, cholesterol level is Normal. Diagnosis: Negative.\n",
      "\n",
      "The patient was admitted to the hospital on the morning of the first day of treatment. He was treated with antibiotics and was discharged on day 2. After the initial examination, the patient's blood pressure was normal. A blood test was\n",
      "==================================================\n"
     ]
    },
    {
     "name": "stderr",
     "output_type": "stream",
     "text": [
      "Setting `pad_token_id` to `eos_token_id`:50256 for open-end generation.\n"
     ]
    },
    {
     "name": "stdout",
     "output_type": "stream",
     "text": [
      "Original Text: Patient Male, 35-year-old, presented with symptoms of Urinary Tract Infection (UTI). The patient reported fever is No, cough is Yes, fatigue is Yes, difficulty breathing is No. Blood pressure is High, cholesterol level is High. Diagnosis: Negative.\n",
      "Generated Text: Patient Male, 35-year-old, presented with symptoms of Urinary Tract Infection (UTI). The patient reported fever is No, cough is Yes, fatigue is Yes, difficulty breathing is No. Blood pressure is High, cholesterol level is High. Diagnosis: Negative.\n",
      "\n",
      "Urinary tract infection (UTA) is a common and serious medical condition. It is caused by a bacterial infection of the urethra, which is the part of your penis that is attached\n",
      "==================================================\n"
     ]
    },
    {
     "name": "stderr",
     "output_type": "stream",
     "text": [
      "Setting `pad_token_id` to `eos_token_id`:50256 for open-end generation.\n"
     ]
    },
    {
     "name": "stdout",
     "output_type": "stream",
     "text": [
      "Original Text: Patient Male, 35-year-old, presented with symptoms of Asthma. The patient reported fever is Yes, cough is Yes, fatigue is No, difficulty breathing is Yes. Blood pressure is Normal, cholesterol level is Normal. Diagnosis: Positive.\n",
      "Generated Text: Patient Male, 35-year-old, presented with symptoms of Asthma. The patient reported fever is Yes, cough is Yes, fatigue is No, difficulty breathing is Yes. Blood pressure is Normal, cholesterol level is Normal. Diagnosis: Positive.\n",
      "\n",
      "Neurological Assessment: Yes\n",
      ".\n",
      "==================================================\n"
     ]
    },
    {
     "name": "stderr",
     "output_type": "stream",
     "text": [
      "Setting `pad_token_id` to `eos_token_id`:50256 for open-end generation.\n"
     ]
    },
    {
     "name": "stdout",
     "output_type": "stream",
     "text": [
      "Original Text: Patient Male, 35-year-old, presented with symptoms of Asthma. The patient reported fever is Yes, cough is Yes, fatigue is No, difficulty breathing is Yes. Blood pressure is Normal, cholesterol level is Normal. Diagnosis: Positive.\n",
      "Generated Text: Patient Male, 35-year-old, presented with symptoms of Asthma. The patient reported fever is Yes, cough is Yes, fatigue is No, difficulty breathing is Yes. Blood pressure is Normal, cholesterol level is Normal. Diagnosis: Positive.\n",
      "\n",
      "Neurological Assessment: Yes\n",
      ".\n",
      "==================================================\n"
     ]
    },
    {
     "name": "stderr",
     "output_type": "stream",
     "text": [
      "Setting `pad_token_id` to `eos_token_id`:50256 for open-end generation.\n"
     ]
    },
    {
     "name": "stdout",
     "output_type": "stream",
     "text": [
      "Original Text: Patient Female, 35-year-old, presented with symptoms of Cirrhosis. The patient reported fever is No, cough is No, fatigue is Yes, difficulty breathing is No. Blood pressure is Normal, cholesterol level is High. Diagnosis: Positive.\n",
      "Generated Text: Patient Female, 35-year-old, presented with symptoms of Cirrhosis. The patient reported fever is No, cough is No, fatigue is Yes, difficulty breathing is No. Blood pressure is Normal, cholesterol level is High. Diagnosis: Positive.\n",
      "\n",
      "Cirrhotic Fever:\n",
      ". A patient with a fever of 1.5 to 2.0 mm Hg or more was admitted to the hospital. He or she was treated with antibiotics and was discharged. No further\n",
      "==================================================\n"
     ]
    },
    {
     "name": "stderr",
     "output_type": "stream",
     "text": [
      "Setting `pad_token_id` to `eos_token_id`:50256 for open-end generation.\n"
     ]
    },
    {
     "name": "stdout",
     "output_type": "stream",
     "text": [
      "Original Text: Patient Female, 35-year-old, presented with symptoms of Conjunctivitis (Pink Eye). The patient reported fever is No, cough is Yes, fatigue is No, difficulty breathing is No. Blood pressure is High, cholesterol level is High. Diagnosis: Positive.\n",
      "Generated Text: Patient Female, 35-year-old, presented with symptoms of Conjunctivitis (Pink Eye). The patient reported fever is No, cough is Yes, fatigue is No, difficulty breathing is No. Blood pressure is High, cholesterol level is High. Diagnosis: Positive.\n",
      "\n",
      "The patient was admitted to the hospital on the morning of the first day of treatment. The first dose of antibiotics was given to her. She was taken to a hospital for further treatment and was discharged on Monday\n",
      "==================================================\n"
     ]
    },
    {
     "name": "stderr",
     "output_type": "stream",
     "text": [
      "Setting `pad_token_id` to `eos_token_id`:50256 for open-end generation.\n"
     ]
    },
    {
     "name": "stdout",
     "output_type": "stream",
     "text": [
      "Original Text: Patient Female, 35-year-old, presented with symptoms of Depression. The patient reported fever is No, cough is No, fatigue is Yes, difficulty breathing is No. Blood pressure is Normal, cholesterol level is High. Diagnosis: Positive.\n",
      "Generated Text: Patient Female, 35-year-old, presented with symptoms of Depression. The patient reported fever is No, cough is No, fatigue is Yes, difficulty breathing is No. Blood pressure is Normal, cholesterol level is High. Diagnosis: Positive.\n",
      "\n",
      "Neurological Assessment: Diagnostic and Statistical Manual of Mental Disorders, Fourth Edition (DSM-IV), Fourth edition (Fourth Edition), Revised Edition, Revised edition, and the American Psychiatric Association's Diagnostics Manual for Mental Ill\n",
      "==================================================\n"
     ]
    },
    {
     "name": "stderr",
     "output_type": "stream",
     "text": [
      "Setting `pad_token_id` to `eos_token_id`:50256 for open-end generation.\n"
     ]
    },
    {
     "name": "stdout",
     "output_type": "stream",
     "text": [
      "Original Text: Patient Male, 35-year-old, presented with symptoms of Gastroenteritis. The patient reported fever is Yes, cough is No, fatigue is Yes, difficulty breathing is Yes. Blood pressure is Low, cholesterol level is High. Diagnosis: Positive.\n",
      "Generated Text: Patient Male, 35-year-old, presented with symptoms of Gastroenteritis. The patient reported fever is Yes, cough is No, fatigue is Yes, difficulty breathing is Yes. Blood pressure is Low, cholesterol level is High. Diagnosis: Positive.\n",
      "\n",
      "Neurological Assessment: Yes\n",
      ".\n",
      "==================================================\n"
     ]
    },
    {
     "name": "stderr",
     "output_type": "stream",
     "text": [
      "Setting `pad_token_id` to `eos_token_id`:50256 for open-end generation.\n"
     ]
    },
    {
     "name": "stdout",
     "output_type": "stream",
     "text": [
      "Original Text: Patient Male, 35-year-old, presented with symptoms of Hyperthyroidism. The patient reported fever is Yes, cough is Yes, fatigue is Yes, difficulty breathing is No. Blood pressure is High, cholesterol level is High. Diagnosis: Positive.\n",
      "Generated Text: Patient Male, 35-year-old, presented with symptoms of Hyperthyroidism. The patient reported fever is Yes, cough is Yes, fatigue is Yes, difficulty breathing is No. Blood pressure is High, cholesterol level is High. Diagnosis: Positive.\n",
      "\n",
      "Neurological Assessment: Yes.\n",
      "==================================================\n"
     ]
    },
    {
     "name": "stderr",
     "output_type": "stream",
     "text": [
      "Setting `pad_token_id` to `eos_token_id`:50256 for open-end generation.\n"
     ]
    },
    {
     "name": "stdout",
     "output_type": "stream",
     "text": [
      "Original Text: Patient Male, 35-year-old, presented with symptoms of Hyperthyroidism. The patient reported fever is Yes, cough is Yes, fatigue is Yes, difficulty breathing is No. Blood pressure is High, cholesterol level is High. Diagnosis: Positive.\n",
      "Generated Text: Patient Male, 35-year-old, presented with symptoms of Hyperthyroidism. The patient reported fever is Yes, cough is Yes, fatigue is Yes, difficulty breathing is No. Blood pressure is High, cholesterol level is High. Diagnosis: Positive.\n",
      "\n",
      "Neurological Assessment: Yes.\n",
      "==================================================\n"
     ]
    },
    {
     "name": "stderr",
     "output_type": "stream",
     "text": [
      "Setting `pad_token_id` to `eos_token_id`:50256 for open-end generation.\n"
     ]
    },
    {
     "name": "stdout",
     "output_type": "stream",
     "text": [
      "Original Text: Patient Male, 35-year-old, presented with symptoms of Kidney Cancer. The patient reported fever is No, cough is No, fatigue is Yes, difficulty breathing is No. Blood pressure is High, cholesterol level is High. Diagnosis: Positive.\n",
      "Generated Text: Patient Male, 35-year-old, presented with symptoms of Kidney Cancer. The patient reported fever is No, cough is No, fatigue is Yes, difficulty breathing is No. Blood pressure is High, cholesterol level is High. Diagnosis: Positive.\n",
      "\n",
      "Procedure:\n",
      ". Open the patient's chest and palpate the chest with a needle. If the needle is not working, the doctor will ask the Patient to open the abdomen. This is a good time to check\n",
      "==================================================\n"
     ]
    },
    {
     "name": "stderr",
     "output_type": "stream",
     "text": [
      "Setting `pad_token_id` to `eos_token_id`:50256 for open-end generation.\n"
     ]
    },
    {
     "name": "stdout",
     "output_type": "stream",
     "text": [
      "Original Text: Patient Female, 35-year-old, presented with symptoms of Liver Cancer. The patient reported fever is No, cough is No, fatigue is Yes, difficulty breathing is No. Blood pressure is High, cholesterol level is High. Diagnosis: Positive.\n",
      "Generated Text: Patient Female, 35-year-old, presented with symptoms of Liver Cancer. The patient reported fever is No, cough is No, fatigue is Yes, difficulty breathing is No. Blood pressure is High, cholesterol level is High. Diagnosis: Positive.\n",
      "\n",
      "Patients:\n",
      ". Patient was diagnosed with Liver cancer. He was admitted to the hospital with a history of liver cancer and was treated with anti-inflammatory drugs. After the treatment, he was discharged from the ICU. His\n",
      "==================================================\n"
     ]
    },
    {
     "name": "stderr",
     "output_type": "stream",
     "text": [
      "Setting `pad_token_id` to `eos_token_id`:50256 for open-end generation.\n"
     ]
    },
    {
     "name": "stdout",
     "output_type": "stream",
     "text": [
      "Original Text: Patient Male, 35-year-old, presented with symptoms of Liver Disease. The patient reported fever is No, cough is No, fatigue is Yes, difficulty breathing is No. Blood pressure is High, cholesterol level is High. Diagnosis: Positive.\n",
      "Generated Text: Patient Male, 35-year-old, presented with symptoms of Liver Disease. The patient reported fever is No, cough is No, fatigue is Yes, difficulty breathing is No. Blood pressure is High, cholesterol level is High. Diagnosis: Positive.\n",
      "\n",
      "Neurological Assessment: No\n",
      ". Cardiac Arrest: Yes\n",
      ", Cardiomyopathy:\n",
      " (No)\n",
      "Treatment: Cardiopulmonary resuscitation (CPR) or Cardio-Procedural\n",
      "==================================================\n"
     ]
    },
    {
     "name": "stderr",
     "output_type": "stream",
     "text": [
      "Setting `pad_token_id` to `eos_token_id`:50256 for open-end generation.\n"
     ]
    },
    {
     "name": "stdout",
     "output_type": "stream",
     "text": [
      "Original Text: Patient Male, 35-year-old, presented with symptoms of Malaria. The patient reported fever is Yes, cough is No, fatigue is No, difficulty breathing is No. Blood pressure is High, cholesterol level is High. Diagnosis: Positive.\n",
      "Generated Text: Patient Male, 35-year-old, presented with symptoms of Malaria. The patient reported fever is Yes, cough is No, fatigue is No, difficulty breathing is No. Blood pressure is High, cholesterol level is High. Diagnosis: Positive.\n",
      "\n",
      "Neurological Assessment: No\n",
      ". Primary Care Provider: Dr. Robert J. H. G. Smith, MD, M.D., MSc, Department of Neurology, University of California, San Francisco, School\n",
      "==================================================\n"
     ]
    },
    {
     "name": "stderr",
     "output_type": "stream",
     "text": [
      "Setting `pad_token_id` to `eos_token_id`:50256 for open-end generation.\n"
     ]
    },
    {
     "name": "stdout",
     "output_type": "stream",
     "text": [
      "Original Text: Patient Male, 35-year-old, presented with symptoms of Malaria. The patient reported fever is Yes, cough is No, fatigue is No, difficulty breathing is No. Blood pressure is High, cholesterol level is High. Diagnosis: Positive.\n",
      "Generated Text: Patient Male, 35-year-old, presented with symptoms of Malaria. The patient reported fever is Yes, cough is No, fatigue is No, difficulty breathing is No. Blood pressure is High, cholesterol level is High. Diagnosis: Positive.\n",
      "\n",
      "Neurological Assessment: No\n",
      ". Primary Care Provider: Dr. Robert J. H. G. Smith, MD, M.D., MSc, Department of Neurology, University of California, San Francisco, School\n",
      "==================================================\n"
     ]
    },
    {
     "name": "stderr",
     "output_type": "stream",
     "text": [
      "Setting `pad_token_id` to `eos_token_id`:50256 for open-end generation.\n"
     ]
    },
    {
     "name": "stdout",
     "output_type": "stream",
     "text": [
      "Original Text: Patient Male, 35-year-old, presented with symptoms of Migraine. The patient reported fever is No, cough is Yes, fatigue is Yes, difficulty breathing is No. Blood pressure is High, cholesterol level is High. Diagnosis: Positive.\n",
      "Generated Text: Patient Male, 35-year-old, presented with symptoms of Migraine. The patient reported fever is No, cough is Yes, fatigue is Yes, difficulty breathing is No. Blood pressure is High, cholesterol level is High. Diagnosis: Positive.\n",
      "\n",
      "Patients:\n",
      ". Patient was diagnosed with Migraines. He was admitted to the hospital with a history of migraine. After a few days, he was discharged. His symptoms were not as severe as he had expected\n",
      "==================================================\n"
     ]
    },
    {
     "name": "stderr",
     "output_type": "stream",
     "text": [
      "Setting `pad_token_id` to `eos_token_id`:50256 for open-end generation.\n"
     ]
    },
    {
     "name": "stdout",
     "output_type": "stream",
     "text": [
      "Original Text: Patient Male, 35-year-old, presented with symptoms of Migraine. The patient reported fever is Yes, cough is No, fatigue is No, difficulty breathing is No. Blood pressure is High, cholesterol level is High. Diagnosis: Positive.\n",
      "Generated Text: Patient Male, 35-year-old, presented with symptoms of Migraine. The patient reported fever is Yes, cough is No, fatigue is No, difficulty breathing is No. Blood pressure is High, cholesterol level is High. Diagnosis: Positive.\n",
      "\n",
      "Patients:\n",
      ". Patient was diagnosed with Migraines. He was admitted to the hospital with a history of migraine. After a few days, he was discharged. His symptoms were not as severe as he had expected\n",
      "==================================================\n"
     ]
    },
    {
     "name": "stderr",
     "output_type": "stream",
     "text": [
      "Setting `pad_token_id` to `eos_token_id`:50256 for open-end generation.\n"
     ]
    },
    {
     "name": "stdout",
     "output_type": "stream",
     "text": [
      "Original Text: Patient Male, 35-year-old, presented with symptoms of Pancreatitis. The patient reported fever is No, cough is No, fatigue is Yes, difficulty breathing is No. Blood pressure is Normal, cholesterol level is High. Diagnosis: Positive.\n",
      "Generated Text: Patient Male, 35-year-old, presented with symptoms of Pancreatitis. The patient reported fever is No, cough is No, fatigue is Yes, difficulty breathing is No. Blood pressure is Normal, cholesterol level is High. Diagnosis: Positive.\n",
      "\n",
      "Neurological Assessment: No\n",
      ". Cardiac Arrest: Yes\n",
      ", Cardiomyopathy:\n",
      " (No)\n",
      "Treatment: None\n",
      ": (Yes)\n",
      "==================================================\n"
     ]
    },
    {
     "name": "stderr",
     "output_type": "stream",
     "text": [
      "Setting `pad_token_id` to `eos_token_id`:50256 for open-end generation.\n"
     ]
    },
    {
     "name": "stdout",
     "output_type": "stream",
     "text": [
      "Original Text: Patient Male, 35-year-old, presented with symptoms of Rheumatoid Arthritis. The patient reported fever is Yes, cough is Yes, fatigue is Yes, difficulty breathing is No. Blood pressure is Normal, cholesterol level is Low. Diagnosis: Positive.\n",
      "Generated Text: Patient Male, 35-year-old, presented with symptoms of Rheumatoid Arthritis. The patient reported fever is Yes, cough is Yes, fatigue is Yes, difficulty breathing is No. Blood pressure is Normal, cholesterol level is Low. Diagnosis: Positive.\n",
      "\n",
      "Rheumatic Disease: No symptoms. No history of other diseases. Patient was admitted to the hospital on a non-steroidal anti-inflammatory drug (NSAID) medication. He was discharged on the same\n",
      "==================================================\n"
     ]
    },
    {
     "name": "stderr",
     "output_type": "stream",
     "text": [
      "Setting `pad_token_id` to `eos_token_id`:50256 for open-end generation.\n"
     ]
    },
    {
     "name": "stdout",
     "output_type": "stream",
     "text": [
      "Original Text: Patient Female, 35-year-old, presented with symptoms of Rheumatoid Arthritis. The patient reported fever is No, cough is No, fatigue is Yes, difficulty breathing is No. Blood pressure is Normal, cholesterol level is Low. Diagnosis: Positive.\n",
      "Generated Text: Patient Female, 35-year-old, presented with symptoms of Rheumatoid Arthritis. The patient reported fever is No, cough is No, fatigue is Yes, difficulty breathing is No. Blood pressure is Normal, cholesterol level is Low. Diagnosis: Positive.\n",
      "\n",
      "Rheumatic Disease: No symptoms. No history of other diseases. Patient was admitted to the hospital on a non-steroidal anti-inflammatory drug (NSAID) medication. He was discharged on the same\n",
      "==================================================\n"
     ]
    },
    {
     "name": "stderr",
     "output_type": "stream",
     "text": [
      "Setting `pad_token_id` to `eos_token_id`:50256 for open-end generation.\n"
     ]
    },
    {
     "name": "stdout",
     "output_type": "stream",
     "text": [
      "Original Text: Patient Female, 35-year-old, presented with symptoms of Spina Bifida. The patient reported fever is No, cough is No, fatigue is Yes, difficulty breathing is No. Blood pressure is Normal, cholesterol level is Normal. Diagnosis: Positive.\n",
      "Generated Text: Patient Female, 35-year-old, presented with symptoms of Spina Bifida. The patient reported fever is No, cough is No, fatigue is Yes, difficulty breathing is No. Blood pressure is Normal, cholesterol level is Normal. Diagnosis: Positive.\n",
      "\n",
      "Neurological: No\n",
      ".\n",
      "==================================================\n"
     ]
    },
    {
     "name": "stderr",
     "output_type": "stream",
     "text": [
      "Setting `pad_token_id` to `eos_token_id`:50256 for open-end generation.\n"
     ]
    },
    {
     "name": "stdout",
     "output_type": "stream",
     "text": [
      "Original Text: Patient Male, 35-year-old, presented with symptoms of Ulcerative Colitis. The patient reported fever is No, cough is No, fatigue is Yes, difficulty breathing is No. Blood pressure is High, cholesterol level is High. Diagnosis: Positive.\n",
      "Generated Text: Patient Male, 35-year-old, presented with symptoms of Ulcerative Colitis. The patient reported fever is No, cough is No, fatigue is Yes, difficulty breathing is No. Blood pressure is High, cholesterol level is High. Diagnosis: Positive.\n",
      "\n",
      "Neurological Assessment: No\n",
      ". Cardiac Arrest: Yes\n",
      ", Cardiomyopathy:\n",
      " (No)\n",
      "Treatment: Cardiopulmonary resuscitation (CPR) or Cardio-\n",
      "==================================================\n"
     ]
    },
    {
     "name": "stderr",
     "output_type": "stream",
     "text": [
      "Setting `pad_token_id` to `eos_token_id`:50256 for open-end generation.\n"
     ]
    },
    {
     "name": "stdout",
     "output_type": "stream",
     "text": [
      "Original Text: Patient Male, 35-year-old, presented with symptoms of Ulcerative Colitis. The patient reported fever is Yes, cough is No, fatigue is No, difficulty breathing is No. Blood pressure is High, cholesterol level is High. Diagnosis: Positive.\n",
      "Generated Text: Patient Male, 35-year-old, presented with symptoms of Ulcerative Colitis. The patient reported fever is Yes, cough is No, fatigue is No, difficulty breathing is No. Blood pressure is High, cholesterol level is High. Diagnosis: Positive.\n",
      "\n",
      "Neurological Assessment: Yes.\n",
      "==================================================\n"
     ]
    },
    {
     "name": "stderr",
     "output_type": "stream",
     "text": [
      "Setting `pad_token_id` to `eos_token_id`:50256 for open-end generation.\n"
     ]
    },
    {
     "name": "stdout",
     "output_type": "stream",
     "text": [
      "Original Text: Patient Female, 35-year-old, presented with symptoms of Urinary Tract Infection. The patient reported fever is Yes, cough is No, fatigue is Yes, difficulty breathing is No. Blood pressure is Normal, cholesterol level is High. Diagnosis: Positive.\n",
      "Generated Text: Patient Female, 35-year-old, presented with symptoms of Urinary Tract Infection. The patient reported fever is Yes, cough is No, fatigue is Yes, difficulty breathing is No. Blood pressure is Normal, cholesterol level is High. Diagnosis: Positive.\n",
      "\n",
      "Patients:\n",
      ". Patient was admitted to the hospital on the day of the incident. He was treated with antibiotics and was discharged on a short-term basis. After the patient was transferred to a hospital,\n",
      "==================================================\n"
     ]
    },
    {
     "name": "stderr",
     "output_type": "stream",
     "text": [
      "Setting `pad_token_id` to `eos_token_id`:50256 for open-end generation.\n"
     ]
    },
    {
     "name": "stdout",
     "output_type": "stream",
     "text": [
      "Original Text: Patient Female, 38-year-old, presented with symptoms of Allergic Rhinitis. The patient reported fever is No, cough is Yes, fatigue is No, difficulty breathing is No. Blood pressure is Low, cholesterol level is Normal. Diagnosis: Negative.\n",
      "Generated Text: Patient Female, 38-year-old, presented with symptoms of Allergic Rhinitis. The patient reported fever is No, cough is Yes, fatigue is No, difficulty breathing is No. Blood pressure is Low, cholesterol level is Normal. Diagnosis: Negative.\n",
      "\n",
      "The patient was admitted to the hospital on the morning of the first day of treatment. He was discharged on a short-term basis. After the initial examination, the patient's blood pressure was normal. A blood test\n",
      "==================================================\n"
     ]
    },
    {
     "name": "stderr",
     "output_type": "stream",
     "text": [
      "Setting `pad_token_id` to `eos_token_id`:50256 for open-end generation.\n"
     ]
    },
    {
     "name": "stdout",
     "output_type": "stream",
     "text": [
      "Original Text: Patient Female, 38-year-old, presented with symptoms of Depression. The patient reported fever is No, cough is No, fatigue is No, difficulty breathing is No. Blood pressure is Normal, cholesterol level is High. Diagnosis: Negative.\n",
      "Generated Text: Patient Female, 38-year-old, presented with symptoms of Depression. The patient reported fever is No, cough is No, fatigue is No, difficulty breathing is No. Blood pressure is Normal, cholesterol level is High. Diagnosis: Negative.\n",
      "\n",
      "The patient was diagnosed with a history of depression. She was admitted to the hospital with no history. Her symptoms were:\n",
      ". No symptoms. Depression was not present. Patient was discharged from the ICU. After the discharge, the\n",
      "==================================================\n"
     ]
    },
    {
     "name": "stderr",
     "output_type": "stream",
     "text": [
      "Setting `pad_token_id` to `eos_token_id`:50256 for open-end generation.\n"
     ]
    },
    {
     "name": "stdout",
     "output_type": "stream",
     "text": [
      "Original Text: Patient Male, 38-year-old, presented with symptoms of Gastroenteritis. The patient reported fever is No, cough is No, fatigue is No, difficulty breathing is No. Blood pressure is Normal, cholesterol level is Low. Diagnosis: Negative.\n",
      "Generated Text: Patient Male, 38-year-old, presented with symptoms of Gastroenteritis. The patient reported fever is No, cough is No, fatigue is No, difficulty breathing is No. Blood pressure is Normal, cholesterol level is Low. Diagnosis: Negative.\n",
      "\n",
      "Neurological Assessment: Positive.\n",
      "==================================================\n"
     ]
    },
    {
     "name": "stderr",
     "output_type": "stream",
     "text": [
      "Setting `pad_token_id` to `eos_token_id`:50256 for open-end generation.\n"
     ]
    },
    {
     "name": "stdout",
     "output_type": "stream",
     "text": [
      "Original Text: Patient Male, 38-year-old, presented with symptoms of Influenza. The patient reported fever is No, cough is No, fatigue is No, difficulty breathing is No. Blood pressure is Normal, cholesterol level is Normal. Diagnosis: Negative.\n",
      "Generated Text: Patient Male, 38-year-old, presented with symptoms of Influenza. The patient reported fever is No, cough is No, fatigue is No, difficulty breathing is No. Blood pressure is Normal, cholesterol level is Normal. Diagnosis: Negative.\n",
      "\n",
      "Neurological Assessment: Positive.\n",
      "==================================================\n"
     ]
    },
    {
     "name": "stderr",
     "output_type": "stream",
     "text": [
      "Setting `pad_token_id` to `eos_token_id`:50256 for open-end generation.\n"
     ]
    },
    {
     "name": "stdout",
     "output_type": "stream",
     "text": [
      "Original Text: Patient Female, 38-year-old, presented with symptoms of Kidney Disease. The patient reported fever is No, cough is No, fatigue is Yes, difficulty breathing is No. Blood pressure is Low, cholesterol level is Normal. Diagnosis: Negative.\n",
      "Generated Text: Patient Female, 38-year-old, presented with symptoms of Kidney Disease. The patient reported fever is No, cough is No, fatigue is Yes, difficulty breathing is No. Blood pressure is Low, cholesterol level is Normal. Diagnosis: Negative.\n",
      "\n",
      "The patient was admitted to the hospital on the morning of the first day of treatment. He was discharged on a short notice. After the initial examination, the patient's blood pressure was normal. A blood test was performed on him\n",
      "==================================================\n"
     ]
    },
    {
     "name": "stderr",
     "output_type": "stream",
     "text": [
      "Setting `pad_token_id` to `eos_token_id`:50256 for open-end generation.\n"
     ]
    },
    {
     "name": "stdout",
     "output_type": "stream",
     "text": [
      "Original Text: Patient Female, 38-year-old, presented with symptoms of Liver Cancer. The patient reported fever is Yes, cough is Yes, fatigue is No, difficulty breathing is No. Blood pressure is High, cholesterol level is Normal. Diagnosis: Negative.\n",
      "Generated Text: Patient Female, 38-year-old, presented with symptoms of Liver Cancer. The patient reported fever is Yes, cough is Yes, fatigue is No, difficulty breathing is No. Blood pressure is High, cholesterol level is Normal. Diagnosis: Negative.\n",
      "\n",
      "The patient was diagnosed with Liver cancer. Liver disease is a common cause of death in the United States. It is caused by a tumor that is located in a liver. A tumor is an abnormal, abnormal growth of a cancerous\n",
      "==================================================\n"
     ]
    },
    {
     "name": "stderr",
     "output_type": "stream",
     "text": [
      "Setting `pad_token_id` to `eos_token_id`:50256 for open-end generation.\n"
     ]
    },
    {
     "name": "stdout",
     "output_type": "stream",
     "text": [
      "Original Text: Patient Male, 38-year-old, presented with symptoms of Liver Disease. The patient reported fever is No, cough is Yes, fatigue is No, difficulty breathing is Yes. Blood pressure is Low, cholesterol level is Normal. Diagnosis: Negative.\n",
      "Generated Text: Patient Male, 38-year-old, presented with symptoms of Liver Disease. The patient reported fever is No, cough is Yes, fatigue is No, difficulty breathing is Yes. Blood pressure is Low, cholesterol level is Normal. Diagnosis: Negative.\n",
      "\n",
      "The patient was admitted to the hospital on the morning of the first day of treatment. He was discharged on a short notice. After the initial examination, the patient's blood pressure was normal. A blood test was performed on him.\n",
      "==================================================\n"
     ]
    },
    {
     "name": "stderr",
     "output_type": "stream",
     "text": [
      "Setting `pad_token_id` to `eos_token_id`:50256 for open-end generation.\n"
     ]
    },
    {
     "name": "stdout",
     "output_type": "stream",
     "text": [
      "Original Text: Patient Female, 38-year-old, presented with symptoms of Osteoporosis. The patient reported fever is No, cough is Yes, fatigue is No, difficulty breathing is No. Blood pressure is Normal, cholesterol level is High. Diagnosis: Negative.\n",
      "Generated Text: Patient Female, 38-year-old, presented with symptoms of Osteoporosis. The patient reported fever is No, cough is Yes, fatigue is No, difficulty breathing is No. Blood pressure is Normal, cholesterol level is High. Diagnosis: Negative.\n",
      "\n",
      "The patient was admitted to the hospital on the morning of the first day of treatment. He was treated with a combination of antibiotics and a blood transfusion. After the transfusions, the patient underwent a CT scan.\n",
      "==================================================\n"
     ]
    },
    {
     "name": "stderr",
     "output_type": "stream",
     "text": [
      "Setting `pad_token_id` to `eos_token_id`:50256 for open-end generation.\n"
     ]
    },
    {
     "name": "stdout",
     "output_type": "stream",
     "text": [
      "Original Text: Patient Female, 38-year-old, presented with symptoms of Stroke. The patient reported fever is Yes, cough is Yes, fatigue is No, difficulty breathing is No. Blood pressure is High, cholesterol level is Normal. Diagnosis: Negative.\n",
      "Generated Text: Patient Female, 38-year-old, presented with symptoms of Stroke. The patient reported fever is Yes, cough is Yes, fatigue is No, difficulty breathing is No. Blood pressure is High, cholesterol level is Normal. Diagnosis: Negative.\n",
      "\n",
      "The patient was admitted to the hospital on the morning of the accident. He was taken to a local hospital for evaluation. After the evaluation, the patient underwent a CT scan. A CT scanner revealed that the blood vessels in the left\n",
      "==================================================\n"
     ]
    },
    {
     "name": "stderr",
     "output_type": "stream",
     "text": [
      "Setting `pad_token_id` to `eos_token_id`:50256 for open-end generation.\n"
     ]
    },
    {
     "name": "stdout",
     "output_type": "stream",
     "text": [
      "Original Text: Patient Male, 38-year-old, presented with symptoms of Anxiety Disorders. The patient reported fever is Yes, cough is No, fatigue is Yes, difficulty breathing is Yes. Blood pressure is High, cholesterol level is High. Diagnosis: Positive.\n",
      "Generated Text: Patient Male, 38-year-old, presented with symptoms of Anxiety Disorders. The patient reported fever is Yes, cough is No, fatigue is Yes, difficulty breathing is Yes. Blood pressure is High, cholesterol level is High. Diagnosis: Positive.\n",
      "\n",
      "Neurological Assessment: Yes\n",
      ". Patient:\n",
      ",\n",
      ": Patient's name:, Patient has been diagnosed with Anxiety Disorder. He has a history of Depression, Anxiety, and Depression. Neuropsychological Assessment (Ne\n",
      "==================================================\n"
     ]
    },
    {
     "name": "stderr",
     "output_type": "stream",
     "text": [
      "Setting `pad_token_id` to `eos_token_id`:50256 for open-end generation.\n"
     ]
    },
    {
     "name": "stdout",
     "output_type": "stream",
     "text": [
      "Original Text: Patient Male, 38-year-old, presented with symptoms of Diabetes. The patient reported fever is Yes, cough is No, fatigue is Yes, difficulty breathing is Yes. Blood pressure is High, cholesterol level is Low. Diagnosis: Positive.\n",
      "Generated Text: Patient Male, 38-year-old, presented with symptoms of Diabetes. The patient reported fever is Yes, cough is No, fatigue is Yes, difficulty breathing is Yes. Blood pressure is High, cholesterol level is Low. Diagnosis: Positive.\n",
      "\n",
      "Diabetes:\n",
      ". Diabetes is a condition that affects the body's ability to regulate blood sugar levels. It is caused by a deficiency of insulin, which is produced by the pancreas. This deficiency causes the blood to become too\n",
      "==================================================\n"
     ]
    },
    {
     "name": "stderr",
     "output_type": "stream",
     "text": [
      "Setting `pad_token_id` to `eos_token_id`:50256 for open-end generation.\n"
     ]
    },
    {
     "name": "stdout",
     "output_type": "stream",
     "text": [
      "Original Text: Patient Male, 38-year-old, presented with symptoms of Migraine. The patient reported fever is Yes, cough is Yes, fatigue is No, difficulty breathing is No. Blood pressure is High, cholesterol level is High. Diagnosis: Positive.\n",
      "Generated Text: Patient Male, 38-year-old, presented with symptoms of Migraine. The patient reported fever is Yes, cough is Yes, fatigue is No, difficulty breathing is No. Blood pressure is High, cholesterol level is High. Diagnosis: Positive.\n",
      "\n",
      "Patients:\n",
      ". Patient was diagnosed with Migraines. He was admitted to the hospital with a history of migraine. After a few days, he was discharged. His symptoms were not as severe as he had expected\n",
      "==================================================\n"
     ]
    },
    {
     "name": "stderr",
     "output_type": "stream",
     "text": [
      "Setting `pad_token_id` to `eos_token_id`:50256 for open-end generation.\n"
     ]
    },
    {
     "name": "stdout",
     "output_type": "stream",
     "text": [
      "Original Text: Patient Male, 38-year-old, presented with symptoms of Osteoarthritis. The patient reported fever is Yes, cough is Yes, fatigue is Yes, difficulty breathing is No. Blood pressure is High, cholesterol level is High. Diagnosis: Positive.\n",
      "Generated Text: Patient Male, 38-year-old, presented with symptoms of Osteoarthritis. The patient reported fever is Yes, cough is Yes, fatigue is Yes, difficulty breathing is No. Blood pressure is High, cholesterol level is High. Diagnosis: Positive.\n",
      "\n",
      "Neurological Assessment: Yes.\n",
      "==================================================\n"
     ]
    },
    {
     "name": "stderr",
     "output_type": "stream",
     "text": [
      "Setting `pad_token_id` to `eos_token_id`:50256 for open-end generation.\n"
     ]
    },
    {
     "name": "stdout",
     "output_type": "stream",
     "text": [
      "Original Text: Patient Male, 38-year-old, presented with symptoms of Pneumonia. The patient reported fever is Yes, cough is Yes, fatigue is Yes, difficulty breathing is Yes. Blood pressure is Normal, cholesterol level is Normal. Diagnosis: Positive.\n",
      "Generated Text: Patient Male, 38-year-old, presented with symptoms of Pneumonia. The patient reported fever is Yes, cough is Yes, fatigue is Yes, difficulty breathing is Yes. Blood pressure is Normal, cholesterol level is Normal. Diagnosis: Positive.\n",
      "\n",
      "Neurological Assessment: Yes\n",
      ".\n",
      "==================================================\n"
     ]
    },
    {
     "name": "stderr",
     "output_type": "stream",
     "text": [
      "Setting `pad_token_id` to `eos_token_id`:50256 for open-end generation.\n"
     ]
    },
    {
     "name": "stdout",
     "output_type": "stream",
     "text": [
      "Original Text: Patient Female, 39-year-old, presented with symptoms of Klinefelter Syndrome. The patient reported fever is No, cough is No, fatigue is Yes, difficulty breathing is No. Blood pressure is Normal, cholesterol level is Normal. Diagnosis: Positive.\n",
      "Generated Text: Patient Female, 39-year-old, presented with symptoms of Klinefelter Syndrome. The patient reported fever is No, cough is No, fatigue is Yes, difficulty breathing is No. Blood pressure is Normal, cholesterol level is Normal. Diagnosis: Positive.\n",
      "\n",
      "Neurological Assessment: Diagnostic and Statistical Manual of Mental Disorders, Fourth Edition (DSM-IV), Fourth edition (Fourth Edition), Revised Edition, Revised edition, and the American Psychiatric Association's Diagn\n",
      "==================================================\n"
     ]
    },
    {
     "name": "stderr",
     "output_type": "stream",
     "text": [
      "Setting `pad_token_id` to `eos_token_id`:50256 for open-end generation.\n"
     ]
    },
    {
     "name": "stdout",
     "output_type": "stream",
     "text": [
      "Original Text: Patient Male, 40-year-old, presented with symptoms of Acne. The patient reported fever is No, cough is No, fatigue is Yes, difficulty breathing is No. Blood pressure is Normal, cholesterol level is Normal. Diagnosis: Negative.\n",
      "Generated Text: Patient Male, 40-year-old, presented with symptoms of Acne. The patient reported fever is No, cough is No, fatigue is Yes, difficulty breathing is No. Blood pressure is Normal, cholesterol level is Normal. Diagnosis: Negative.\n",
      "\n",
      "Neurological Assessment: Positive.\n",
      "==================================================\n"
     ]
    },
    {
     "name": "stderr",
     "output_type": "stream",
     "text": [
      "Setting `pad_token_id` to `eos_token_id`:50256 for open-end generation.\n"
     ]
    },
    {
     "name": "stdout",
     "output_type": "stream",
     "text": [
      "Original Text: Patient Male, 40-year-old, presented with symptoms of Brain Tumor. The patient reported fever is No, cough is No, fatigue is Yes, difficulty breathing is No. Blood pressure is Normal, cholesterol level is Normal. Diagnosis: Negative.\n",
      "Generated Text: Patient Male, 40-year-old, presented with symptoms of Brain Tumor. The patient reported fever is No, cough is No, fatigue is Yes, difficulty breathing is No. Blood pressure is Normal, cholesterol level is Normal. Diagnosis: Negative.\n",
      "\n",
      "Neurological Assessment: Positive.\n",
      "==================================================\n"
     ]
    },
    {
     "name": "stderr",
     "output_type": "stream",
     "text": [
      "Setting `pad_token_id` to `eos_token_id`:50256 for open-end generation.\n"
     ]
    },
    {
     "name": "stdout",
     "output_type": "stream",
     "text": [
      "Original Text: Patient Female, 40-year-old, presented with symptoms of Bronchitis. The patient reported fever is No, cough is Yes, fatigue is No, difficulty breathing is Yes. Blood pressure is Normal, cholesterol level is Normal. Diagnosis: Negative.\n",
      "Generated Text: Patient Female, 40-year-old, presented with symptoms of Bronchitis. The patient reported fever is No, cough is Yes, fatigue is No, difficulty breathing is Yes. Blood pressure is Normal, cholesterol level is Normal. Diagnosis: Negative.\n",
      "\n",
      "The patient was diagnosed with Bronchiitis, a rare, non-specific, and noncancerous disease. Bronchoitis is a common, chronic, or chronic disease that is characterized by a high incidence of recurrent, recurrent\n",
      "==================================================\n"
     ]
    },
    {
     "name": "stderr",
     "output_type": "stream",
     "text": [
      "Setting `pad_token_id` to `eos_token_id`:50256 for open-end generation.\n"
     ]
    },
    {
     "name": "stdout",
     "output_type": "stream",
     "text": [
      "Original Text: Patient Male, 40-year-old, presented with symptoms of Cystic Fibrosis. The patient reported fever is No, cough is No, fatigue is Yes, difficulty breathing is Yes. Blood pressure is High, cholesterol level is High. Diagnosis: Negative.\n",
      "Generated Text: Patient Male, 40-year-old, presented with symptoms of Cystic Fibrosis. The patient reported fever is No, cough is No, fatigue is Yes, difficulty breathing is Yes. Blood pressure is High, cholesterol level is High. Diagnosis: Negative.\n",
      "\n",
      "Neurological Assessment: Positive.\n",
      "==================================================\n"
     ]
    },
    {
     "name": "stderr",
     "output_type": "stream",
     "text": [
      "Setting `pad_token_id` to `eos_token_id`:50256 for open-end generation.\n"
     ]
    },
    {
     "name": "stdout",
     "output_type": "stream",
     "text": [
      "Original Text: Patient Female, 40-year-old, presented with symptoms of Diabetes. The patient reported fever is Yes, cough is No, fatigue is No, difficulty breathing is No. Blood pressure is High, cholesterol level is High. Diagnosis: Negative.\n",
      "Generated Text: Patient Female, 40-year-old, presented with symptoms of Diabetes. The patient reported fever is Yes, cough is No, fatigue is No, difficulty breathing is No. Blood pressure is High, cholesterol level is High. Diagnosis: Negative.\n",
      "\n",
      "Diabetes:\n",
      ". Diabetes is a condition that affects the body's ability to regulate blood sugar levels. It is caused by a deficiency of insulin, which is the hormone that regulates blood glucose levels in the blood. This is why the\n",
      "==================================================\n"
     ]
    },
    {
     "name": "stderr",
     "output_type": "stream",
     "text": [
      "Setting `pad_token_id` to `eos_token_id`:50256 for open-end generation.\n"
     ]
    },
    {
     "name": "stdout",
     "output_type": "stream",
     "text": [
      "Original Text: Patient Male, 40-year-old, presented with symptoms of Glaucoma. The patient reported fever is No, cough is No, fatigue is Yes, difficulty breathing is No. Blood pressure is High, cholesterol level is Normal. Diagnosis: Negative.\n",
      "Generated Text: Patient Male, 40-year-old, presented with symptoms of Glaucoma. The patient reported fever is No, cough is No, fatigue is Yes, difficulty breathing is No. Blood pressure is High, cholesterol level is Normal. Diagnosis: Negative.\n",
      "\n",
      "Neurological Assessment: Positive.\n",
      "==================================================\n"
     ]
    },
    {
     "name": "stderr",
     "output_type": "stream",
     "text": [
      "Setting `pad_token_id` to `eos_token_id`:50256 for open-end generation.\n"
     ]
    },
    {
     "name": "stdout",
     "output_type": "stream",
     "text": [
      "Original Text: Patient Male, 40-year-old, presented with symptoms of Osteoarthritis. The patient reported fever is No, cough is No, fatigue is Yes, difficulty breathing is No. Blood pressure is High, cholesterol level is Normal. Diagnosis: Negative.\n",
      "Generated Text: Patient Male, 40-year-old, presented with symptoms of Osteoarthritis. The patient reported fever is No, cough is No, fatigue is Yes, difficulty breathing is No. Blood pressure is High, cholesterol level is Normal. Diagnosis: Negative.\n",
      "\n",
      "The patient was admitted to the hospital on the morning of the first day of treatment. He was treated with a combination of antibiotics and a topical steroid. After the initial treatment, the patient developed a severe headache and was\n",
      "==================================================\n"
     ]
    },
    {
     "name": "stderr",
     "output_type": "stream",
     "text": [
      "Setting `pad_token_id` to `eos_token_id`:50256 for open-end generation.\n"
     ]
    },
    {
     "name": "stdout",
     "output_type": "stream",
     "text": [
      "Original Text: Patient Female, 40-year-old, presented with symptoms of Rabies. The patient reported fever is Yes, cough is Yes, fatigue is No, difficulty breathing is No. Blood pressure is High, cholesterol level is Normal. Diagnosis: Negative.\n",
      "Generated Text: Patient Female, 40-year-old, presented with symptoms of Rabies. The patient reported fever is Yes, cough is Yes, fatigue is No, difficulty breathing is No. Blood pressure is High, cholesterol level is Normal. Diagnosis: Negative.\n",
      "\n",
      "Rabies is a rare, highly contagious disease that is transmitted through the bite of a tick. Rabie is an infectious disease of the tick, and is spread through bites of tick bites. It is the most common tick disease\n",
      "==================================================\n"
     ]
    },
    {
     "name": "stderr",
     "output_type": "stream",
     "text": [
      "Setting `pad_token_id` to `eos_token_id`:50256 for open-end generation.\n"
     ]
    },
    {
     "name": "stdout",
     "output_type": "stream",
     "text": [
      "Original Text: Patient Female, 40-year-old, presented with symptoms of Rabies. The patient reported fever is Yes, cough is Yes, fatigue is No, difficulty breathing is No. Blood pressure is High, cholesterol level is Normal. Diagnosis: Negative.\n",
      "Generated Text: Patient Female, 40-year-old, presented with symptoms of Rabies. The patient reported fever is Yes, cough is Yes, fatigue is No, difficulty breathing is No. Blood pressure is High, cholesterol level is Normal. Diagnosis: Negative.\n",
      "\n",
      "Rabies is a rare, highly contagious disease that is transmitted through the bite of a tick. Rabie is an infectious disease of the tick, and is spread through bites of tick bites. It is the most common tick disease\n",
      "==================================================\n"
     ]
    },
    {
     "name": "stderr",
     "output_type": "stream",
     "text": [
      "Setting `pad_token_id` to `eos_token_id`:50256 for open-end generation.\n"
     ]
    },
    {
     "name": "stdout",
     "output_type": "stream",
     "text": [
      "Original Text: Patient Male, 40-year-old, presented with symptoms of Asthma. The patient reported fever is Yes, cough is No, fatigue is Yes, difficulty breathing is No. Blood pressure is Low, cholesterol level is Normal. Diagnosis: Positive.\n",
      "Generated Text: Patient Male, 40-year-old, presented with symptoms of Asthma. The patient reported fever is Yes, cough is No, fatigue is Yes, difficulty breathing is No. Blood pressure is Low, cholesterol level is Normal. Diagnosis: Positive.\n",
      "\n",
      "Neurological Assessment: Yes.\n",
      "==================================================\n"
     ]
    },
    {
     "name": "stderr",
     "output_type": "stream",
     "text": [
      "Setting `pad_token_id` to `eos_token_id`:50256 for open-end generation.\n"
     ]
    },
    {
     "name": "stdout",
     "output_type": "stream",
     "text": [
      "Original Text: Patient Female, 40-year-old, presented with symptoms of Asthma. The patient reported fever is Yes, cough is Yes, fatigue is No, difficulty breathing is Yes. Blood pressure is Normal, cholesterol level is Normal. Diagnosis: Positive.\n",
      "Generated Text: Patient Female, 40-year-old, presented with symptoms of Asthma. The patient reported fever is Yes, cough is Yes, fatigue is No, difficulty breathing is Yes. Blood pressure is Normal, cholesterol level is Normal. Diagnosis: Positive.\n",
      "\n",
      "Asteroid: No.\n",
      "==================================================\n"
     ]
    },
    {
     "name": "stderr",
     "output_type": "stream",
     "text": [
      "Setting `pad_token_id` to `eos_token_id`:50256 for open-end generation.\n"
     ]
    },
    {
     "name": "stdout",
     "output_type": "stream",
     "text": [
      "Original Text: Patient Female, 40-year-old, presented with symptoms of Asthma. The patient reported fever is Yes, cough is Yes, fatigue is No, difficulty breathing is Yes. Blood pressure is Normal, cholesterol level is Normal. Diagnosis: Positive.\n",
      "Generated Text: Patient Female, 40-year-old, presented with symptoms of Asthma. The patient reported fever is Yes, cough is Yes, fatigue is No, difficulty breathing is Yes. Blood pressure is Normal, cholesterol level is Normal. Diagnosis: Positive.\n",
      "\n",
      "Asteroid: No.\n",
      "==================================================\n"
     ]
    },
    {
     "name": "stderr",
     "output_type": "stream",
     "text": [
      "Setting `pad_token_id` to `eos_token_id`:50256 for open-end generation.\n"
     ]
    },
    {
     "name": "stdout",
     "output_type": "stream",
     "text": [
      "Original Text: Patient Male, 40-year-old, presented with symptoms of Asthma. The patient reported fever is No, cough is No, fatigue is Yes, difficulty breathing is Yes. Blood pressure is High, cholesterol level is High. Diagnosis: Positive.\n",
      "Generated Text: Patient Male, 40-year-old, presented with symptoms of Asthma. The patient reported fever is No, cough is No, fatigue is Yes, difficulty breathing is Yes. Blood pressure is High, cholesterol level is High. Diagnosis: Positive.\n",
      "\n",
      "Neurological Assessment: No.\n",
      "==================================================\n"
     ]
    },
    {
     "name": "stderr",
     "output_type": "stream",
     "text": [
      "Setting `pad_token_id` to `eos_token_id`:50256 for open-end generation.\n"
     ]
    },
    {
     "name": "stdout",
     "output_type": "stream",
     "text": [
      "Original Text: Patient Male, 40-year-old, presented with symptoms of Asthma. The patient reported fever is Yes, cough is No, fatigue is Yes, difficulty breathing is Yes. Blood pressure is Normal, cholesterol level is High. Diagnosis: Positive.\n",
      "Generated Text: Patient Male, 40-year-old, presented with symptoms of Asthma. The patient reported fever is Yes, cough is No, fatigue is Yes, difficulty breathing is Yes. Blood pressure is Normal, cholesterol level is High. Diagnosis: Positive.\n",
      "\n",
      "Neurological Assessment: Yes\n",
      ".\n",
      "==================================================\n"
     ]
    },
    {
     "name": "stderr",
     "output_type": "stream",
     "text": [
      "Setting `pad_token_id` to `eos_token_id`:50256 for open-end generation.\n"
     ]
    },
    {
     "name": "stdout",
     "output_type": "stream",
     "text": [
      "Original Text: Patient Male, 40-year-old, presented with symptoms of Asthma. The patient reported fever is Yes, cough is No, fatigue is Yes, difficulty breathing is Yes. Blood pressure is Normal, cholesterol level is High. Diagnosis: Positive.\n",
      "Generated Text: Patient Male, 40-year-old, presented with symptoms of Asthma. The patient reported fever is Yes, cough is No, fatigue is Yes, difficulty breathing is Yes. Blood pressure is Normal, cholesterol level is High. Diagnosis: Positive.\n",
      "\n",
      "Neurological Assessment: Yes\n",
      ".\n",
      "==================================================\n"
     ]
    },
    {
     "name": "stderr",
     "output_type": "stream",
     "text": [
      "Setting `pad_token_id` to `eos_token_id`:50256 for open-end generation.\n"
     ]
    },
    {
     "name": "stdout",
     "output_type": "stream",
     "text": [
      "Original Text: Patient Male, 40-year-old, presented with symptoms of Chickenpox. The patient reported fever is No, cough is Yes, fatigue is No, difficulty breathing is No. Blood pressure is Normal, cholesterol level is High. Diagnosis: Positive.\n",
      "Generated Text: Patient Male, 40-year-old, presented with symptoms of Chickenpox. The patient reported fever is No, cough is Yes, fatigue is No, difficulty breathing is No. Blood pressure is Normal, cholesterol level is High. Diagnosis: Positive.\n",
      "\n",
      "Clinical Response: The disease is not life threatening. It is treated with antibiotics. No further treatment is required.\n",
      "==================================================\n"
     ]
    },
    {
     "name": "stderr",
     "output_type": "stream",
     "text": [
      "Setting `pad_token_id` to `eos_token_id`:50256 for open-end generation.\n"
     ]
    },
    {
     "name": "stdout",
     "output_type": "stream",
     "text": [
      "Original Text: Patient Male, 40-year-old, presented with symptoms of Chickenpox. The patient reported fever is No, cough is Yes, fatigue is No, difficulty breathing is No. Blood pressure is Normal, cholesterol level is High. Diagnosis: Positive.\n",
      "Generated Text: Patient Male, 40-year-old, presented with symptoms of Chickenpox. The patient reported fever is No, cough is Yes, fatigue is No, difficulty breathing is No. Blood pressure is Normal, cholesterol level is High. Diagnosis: Positive.\n",
      "\n",
      "Clinical Response: The disease is not life threatening. It is treated with antibiotics. No further treatment is required.\n",
      "==================================================\n"
     ]
    },
    {
     "name": "stderr",
     "output_type": "stream",
     "text": [
      "Setting `pad_token_id` to `eos_token_id`:50256 for open-end generation.\n"
     ]
    },
    {
     "name": "stdout",
     "output_type": "stream",
     "text": [
      "Original Text: Patient Female, 40-year-old, presented with symptoms of Coronary Artery Disease. The patient reported fever is No, cough is No, fatigue is Yes, difficulty breathing is No. Blood pressure is High, cholesterol level is High. Diagnosis: Positive.\n",
      "Generated Text: Patient Female, 40-year-old, presented with symptoms of Coronary Artery Disease. The patient reported fever is No, cough is No, fatigue is Yes, difficulty breathing is No. Blood pressure is High, cholesterol level is High. Diagnosis: Positive.\n",
      "\n",
      "Patients:\n",
      ". Patient was admitted to the hospital on the day of the incident. He was diagnosed with Coronal Arthritis. After the diagnosis, the patient was transferred to a local hospital. Upon arrival\n",
      "==================================================\n"
     ]
    },
    {
     "name": "stderr",
     "output_type": "stream",
     "text": [
      "Setting `pad_token_id` to `eos_token_id`:50256 for open-end generation.\n"
     ]
    },
    {
     "name": "stdout",
     "output_type": "stream",
     "text": [
      "Original Text: Patient Female, 40-year-old, presented with symptoms of Eating Disorders (Anorexia,.... The patient reported fever is No, cough is No, fatigue is Yes, difficulty breathing is No. Blood pressure is High, cholesterol level is High. Diagnosis: Positive.\n",
      "Generated Text: Patient Female, 40-year-old, presented with symptoms of Eating Disorders (Anorexia,.... The patient reported fever is No, cough is No, fatigue is Yes, difficulty breathing is No. Blood pressure is High, cholesterol level is High. Diagnosis: Positive.\n",
      "\n",
      "The patient presented to the emergency department with a fever of No fever. The physician noted that the patient had a history of eating disorders. He also noted a high level of blood pressure. A blood test was\n",
      "==================================================\n"
     ]
    },
    {
     "name": "stderr",
     "output_type": "stream",
     "text": [
      "Setting `pad_token_id` to `eos_token_id`:50256 for open-end generation.\n"
     ]
    },
    {
     "name": "stdout",
     "output_type": "stream",
     "text": [
      "Original Text: Patient Female, 40-year-old, presented with symptoms of Fibromyalgia. The patient reported fever is No, cough is No, fatigue is Yes, difficulty breathing is No. Blood pressure is High, cholesterol level is High. Diagnosis: Positive.\n",
      "Generated Text: Patient Female, 40-year-old, presented with symptoms of Fibromyalgia. The patient reported fever is No, cough is No, fatigue is Yes, difficulty breathing is No. Blood pressure is High, cholesterol level is High. Diagnosis: Positive.\n",
      "\n",
      "Neurological Assessment: No\n",
      ". Cardiac Arrest: Yes\n",
      ", Cardiomyopathy:\n",
      " (No)\n",
      "Treatment: (Yes)\n",
      "==================================================\n"
     ]
    },
    {
     "name": "stderr",
     "output_type": "stream",
     "text": [
      "Setting `pad_token_id` to `eos_token_id`:50256 for open-end generation.\n"
     ]
    },
    {
     "name": "stdout",
     "output_type": "stream",
     "text": [
      "Original Text: Patient Male, 40-year-old, presented with symptoms of Gastroenteritis. The patient reported fever is Yes, cough is Yes, fatigue is Yes, difficulty breathing is No. Blood pressure is High, cholesterol level is High. Diagnosis: Positive.\n",
      "Generated Text: Patient Male, 40-year-old, presented with symptoms of Gastroenteritis. The patient reported fever is Yes, cough is Yes, fatigue is Yes, difficulty breathing is No. Blood pressure is High, cholesterol level is High. Diagnosis: Positive.\n",
      "\n",
      "Neurological Assessment: Yes.\n",
      "==================================================\n"
     ]
    },
    {
     "name": "stderr",
     "output_type": "stream",
     "text": [
      "Setting `pad_token_id` to `eos_token_id`:50256 for open-end generation.\n"
     ]
    },
    {
     "name": "stdout",
     "output_type": "stream",
     "text": [
      "Original Text: Patient Female, 40-year-old, presented with symptoms of Hemophilia. The patient reported fever is No, cough is No, fatigue is Yes, difficulty breathing is No. Blood pressure is Normal, cholesterol level is Normal. Diagnosis: Positive.\n",
      "Generated Text: Patient Female, 40-year-old, presented with symptoms of Hemophilia. The patient reported fever is No, cough is No, fatigue is Yes, difficulty breathing is No. Blood pressure is Normal, cholesterol level is Normal. Diagnosis: Positive.\n",
      "\n",
      "Neurological: No\n",
      ". Cardiovascular: Yes\n",
      ", Cardiac: Normal\n",
      ": Cardio: Not present\n",
      " (No symptoms)\n",
      "(No signs) No symptoms\n",
      "\"I am a very happy person\n",
      "==================================================\n"
     ]
    },
    {
     "name": "stderr",
     "output_type": "stream",
     "text": [
      "Setting `pad_token_id` to `eos_token_id`:50256 for open-end generation.\n"
     ]
    },
    {
     "name": "stdout",
     "output_type": "stream",
     "text": [
      "Original Text: Patient Male, 40-year-old, presented with symptoms of Hyperthyroidism. The patient reported fever is No, cough is No, fatigue is Yes, difficulty breathing is No. Blood pressure is High, cholesterol level is High. Diagnosis: Positive.\n",
      "Generated Text: Patient Male, 40-year-old, presented with symptoms of Hyperthyroidism. The patient reported fever is No, cough is No, fatigue is Yes, difficulty breathing is No. Blood pressure is High, cholesterol level is High. Diagnosis: Positive.\n",
      "\n",
      "Neurological Assessment: No\n",
      ". Cardiac Arrest: Yes\n",
      ", Cardiomyopathy:\n",
      " (No)\n",
      "Treatment: Cardiopulmonary resuscitation (CPR) or Cardio-Pro\n",
      "==================================================\n"
     ]
    },
    {
     "name": "stderr",
     "output_type": "stream",
     "text": [
      "Setting `pad_token_id` to `eos_token_id`:50256 for open-end generation.\n"
     ]
    },
    {
     "name": "stdout",
     "output_type": "stream",
     "text": [
      "Original Text: Patient Female, 40-year-old, presented with symptoms of Hypoglycemia. The patient reported fever is No, cough is No, fatigue is Yes, difficulty breathing is No. Blood pressure is High, cholesterol level is High. Diagnosis: Positive.\n",
      "Generated Text: Patient Female, 40-year-old, presented with symptoms of Hypoglycemia. The patient reported fever is No, cough is No, fatigue is Yes, difficulty breathing is No. Blood pressure is High, cholesterol level is High. Diagnosis: Positive.\n",
      "\n",
      "Hypoglycemic Response: No\n",
      ". No Response to Treatment: Yes\n",
      ", No Treatment Duration: 2 weeks\n",
      ": 1 week\n",
      " (1 week for patients with hypoglycaemia)\n",
      "-1 day for those\n",
      "==================================================\n"
     ]
    },
    {
     "name": "stderr",
     "output_type": "stream",
     "text": [
      "Setting `pad_token_id` to `eos_token_id`:50256 for open-end generation.\n"
     ]
    },
    {
     "name": "stdout",
     "output_type": "stream",
     "text": [
      "Original Text: Patient Female, 40-year-old, presented with symptoms of Lymphoma. The patient reported fever is No, cough is Yes, fatigue is No, difficulty breathing is No. Blood pressure is Normal, cholesterol level is High. Diagnosis: Positive.\n",
      "Generated Text: Patient Female, 40-year-old, presented with symptoms of Lymphoma. The patient reported fever is No, cough is Yes, fatigue is No, difficulty breathing is No. Blood pressure is Normal, cholesterol level is High. Diagnosis: Positive.\n",
      "\n",
      "Patients:\n",
      ". Patient was admitted to the hospital on the day of the incident. He was treated with antibiotics and was discharged on a ventilator. After the patient was taken to a hospital, he was transferred to\n",
      "==================================================\n"
     ]
    },
    {
     "name": "stderr",
     "output_type": "stream",
     "text": [
      "Setting `pad_token_id` to `eos_token_id`:50256 for open-end generation.\n"
     ]
    },
    {
     "name": "stdout",
     "output_type": "stream",
     "text": [
      "Original Text: Patient Female, 40-year-old, presented with symptoms of Pneumonia. The patient reported fever is Yes, cough is Yes, fatigue is Yes, difficulty breathing is Yes. Blood pressure is Normal, cholesterol level is High. Diagnosis: Positive.\n",
      "Generated Text: Patient Female, 40-year-old, presented with symptoms of Pneumonia. The patient reported fever is Yes, cough is Yes, fatigue is Yes, difficulty breathing is Yes. Blood pressure is Normal, cholesterol level is High. Diagnosis: Positive.\n",
      "\n",
      "Neurological Assessment: Diagnostic and Statistical Manual of Mental Disorders, Fourth Edition (DSM-IV), Fourth edition (Fourth Edition), Revised Edition, Revised edition, and the American Psychiatric Association's Diagnostics Manual for\n",
      "==================================================\n"
     ]
    },
    {
     "name": "stderr",
     "output_type": "stream",
     "text": [
      "Setting `pad_token_id` to `eos_token_id`:50256 for open-end generation.\n"
     ]
    },
    {
     "name": "stdout",
     "output_type": "stream",
     "text": [
      "Original Text: Patient Male, 40-year-old, presented with symptoms of Psoriasis. The patient reported fever is No, cough is Yes, fatigue is Yes, difficulty breathing is No. Blood pressure is High, cholesterol level is Normal. Diagnosis: Positive.\n",
      "Generated Text: Patient Male, 40-year-old, presented with symptoms of Psoriasis. The patient reported fever is No, cough is Yes, fatigue is Yes, difficulty breathing is No. Blood pressure is High, cholesterol level is Normal. Diagnosis: Positive.\n",
      "\n",
      "Patients:\n",
      ". Patient was diagnosed with Psoriatica. He was admitted to the hospital with a fever of No fever. After a few days, he was discharged. His symptoms were similar to those of the patient\n",
      "==================================================\n"
     ]
    },
    {
     "name": "stderr",
     "output_type": "stream",
     "text": [
      "Setting `pad_token_id` to `eos_token_id`:50256 for open-end generation.\n"
     ]
    },
    {
     "name": "stdout",
     "output_type": "stream",
     "text": [
      "Original Text: Patient Male, 40-year-old, presented with symptoms of Psoriasis. The patient reported fever is Yes, cough is No, fatigue is No, difficulty breathing is No. Blood pressure is High, cholesterol level is Normal. Diagnosis: Positive.\n",
      "Generated Text: Patient Male, 40-year-old, presented with symptoms of Psoriasis. The patient reported fever is Yes, cough is No, fatigue is No, difficulty breathing is No. Blood pressure is High, cholesterol level is Normal. Diagnosis: Positive.\n",
      "\n",
      "Patients:\n",
      ". Patient was diagnosed with Psoriatica. He was admitted to the hospital with a fever of No fever. After a few days, he was discharged. His symptoms were similar to those of the patient\n",
      "==================================================\n"
     ]
    },
    {
     "name": "stderr",
     "output_type": "stream",
     "text": [
      "Setting `pad_token_id` to `eos_token_id`:50256 for open-end generation.\n"
     ]
    },
    {
     "name": "stdout",
     "output_type": "stream",
     "text": [
      "Original Text: Patient Female, 40-year-old, presented with symptoms of Psoriasis. The patient reported fever is No, cough is Yes, fatigue is No, difficulty breathing is No. Blood pressure is Normal, cholesterol level is High. Diagnosis: Positive.\n",
      "Generated Text: Patient Female, 40-year-old, presented with symptoms of Psoriasis. The patient reported fever is No, cough is Yes, fatigue is No, difficulty breathing is No. Blood pressure is Normal, cholesterol level is High. Diagnosis: Positive.\n",
      "\n",
      "Patients:\n",
      ". Patient was admitted to the hospital on the day of the incident. He was treated with antibiotics and was discharged on a short-term basis. After the patient was transferred to a hospital, he was placed\n",
      "==================================================\n"
     ]
    },
    {
     "name": "stderr",
     "output_type": "stream",
     "text": [
      "Setting `pad_token_id` to `eos_token_id`:50256 for open-end generation.\n"
     ]
    },
    {
     "name": "stdout",
     "output_type": "stream",
     "text": [
      "Original Text: Patient Male, 40-year-old, presented with symptoms of Tuberculosis. The patient reported fever is Yes, cough is Yes, fatigue is Yes, difficulty breathing is Yes. Blood pressure is High, cholesterol level is High. Diagnosis: Positive.\n",
      "Generated Text: Patient Male, 40-year-old, presented with symptoms of Tuberculosis. The patient reported fever is Yes, cough is Yes, fatigue is Yes, difficulty breathing is Yes. Blood pressure is High, cholesterol level is High. Diagnosis: Positive.\n",
      "\n",
      "Patients:\n",
      ". Patient: A patient with Tubertitis B. He was diagnosed with a TuBS. A blood test was negative. An X-ray was performed. After the X, the patient was admitted to\n",
      "==================================================\n"
     ]
    },
    {
     "name": "stderr",
     "output_type": "stream",
     "text": [
      "Setting `pad_token_id` to `eos_token_id`:50256 for open-end generation.\n"
     ]
    },
    {
     "name": "stdout",
     "output_type": "stream",
     "text": [
      "Original Text: Patient Male, 40-year-old, presented with symptoms of Tuberculosis. The patient reported fever is Yes, cough is Yes, fatigue is Yes, difficulty breathing is Yes. Blood pressure is High, cholesterol level is High. Diagnosis: Positive.\n",
      "Generated Text: Patient Male, 40-year-old, presented with symptoms of Tuberculosis. The patient reported fever is Yes, cough is Yes, fatigue is Yes, difficulty breathing is Yes. Blood pressure is High, cholesterol level is High. Diagnosis: Positive.\n",
      "\n",
      "Patients:\n",
      ". Patient: A patient with Tubertitis B. He was diagnosed with a TuBS. A blood test was negative. An X-ray was performed. After the X, the patient was admitted to\n",
      "==================================================\n"
     ]
    },
    {
     "name": "stderr",
     "output_type": "stream",
     "text": [
      "Setting `pad_token_id` to `eos_token_id`:50256 for open-end generation.\n"
     ]
    },
    {
     "name": "stdout",
     "output_type": "stream",
     "text": [
      "Original Text: Patient Male, 42-year-old, presented with symptoms of Anxiety Disorders. The patient reported fever is No, cough is No, fatigue is No, difficulty breathing is No. Blood pressure is Low, cholesterol level is Normal. Diagnosis: Negative.\n",
      "Generated Text: Patient Male, 42-year-old, presented with symptoms of Anxiety Disorders. The patient reported fever is No, cough is No, fatigue is No, difficulty breathing is No. Blood pressure is Low, cholesterol level is Normal. Diagnosis: Negative.\n",
      "\n",
      "Neurological Assessment: Positive.\n",
      "==================================================\n"
     ]
    },
    {
     "name": "stderr",
     "output_type": "stream",
     "text": [
      "Setting `pad_token_id` to `eos_token_id`:50256 for open-end generation.\n"
     ]
    },
    {
     "name": "stdout",
     "output_type": "stream",
     "text": [
      "Original Text: Patient Female, 42-year-old, presented with symptoms of Common Cold. The patient reported fever is Yes, cough is Yes, fatigue is No, difficulty breathing is No. Blood pressure is High, cholesterol level is High. Diagnosis: Negative.\n",
      "Generated Text: Patient Female, 42-year-old, presented with symptoms of Common Cold. The patient reported fever is Yes, cough is Yes, fatigue is No, difficulty breathing is No. Blood pressure is High, cholesterol level is High. Diagnosis: Negative.\n",
      "\n",
      "Neurological Assessment: Positive.\n",
      "==================================================\n"
     ]
    },
    {
     "name": "stderr",
     "output_type": "stream",
     "text": [
      "Setting `pad_token_id` to `eos_token_id`:50256 for open-end generation.\n"
     ]
    },
    {
     "name": "stdout",
     "output_type": "stream",
     "text": [
      "Original Text: Patient Male, 42-year-old, presented with symptoms of Depression. The patient reported fever is Yes, cough is No, fatigue is No, difficulty breathing is Yes. Blood pressure is High, cholesterol level is Normal. Diagnosis: Negative.\n",
      "Generated Text: Patient Male, 42-year-old, presented with symptoms of Depression. The patient reported fever is Yes, cough is No, fatigue is No, difficulty breathing is Yes. Blood pressure is High, cholesterol level is Normal. Diagnosis: Negative.\n",
      "\n",
      "Neurological Assessment: Positive.\n",
      "==================================================\n"
     ]
    },
    {
     "name": "stderr",
     "output_type": "stream",
     "text": [
      "Setting `pad_token_id` to `eos_token_id`:50256 for open-end generation.\n"
     ]
    },
    {
     "name": "stdout",
     "output_type": "stream",
     "text": [
      "Original Text: Patient Female, 42-year-old, presented with symptoms of Influenza. The patient reported fever is No, cough is Yes, fatigue is No, difficulty breathing is No. Blood pressure is Normal, cholesterol level is High. Diagnosis: Negative.\n",
      "Generated Text: Patient Female, 42-year-old, presented with symptoms of Influenza. The patient reported fever is No, cough is Yes, fatigue is No, difficulty breathing is No. Blood pressure is Normal, cholesterol level is High. Diagnosis: Negative.\n",
      "\n",
      "The patient was admitted to the hospital on the morning of the first day of treatment. He was treated with antibiotics and was discharged on day 2. After the initial treatment, the patient began to show signs of influenza. On the second\n",
      "==================================================\n"
     ]
    },
    {
     "name": "stderr",
     "output_type": "stream",
     "text": [
      "Setting `pad_token_id` to `eos_token_id`:50256 for open-end generation.\n"
     ]
    },
    {
     "name": "stdout",
     "output_type": "stream",
     "text": [
      "Original Text: Patient Female, 42-year-old, presented with symptoms of Kidney Cancer. The patient reported fever is Yes, cough is No, fatigue is No, difficulty breathing is No. Blood pressure is Normal, cholesterol level is Normal. Diagnosis: Negative.\n",
      "Generated Text: Patient Female, 42-year-old, presented with symptoms of Kidney Cancer. The patient reported fever is Yes, cough is No, fatigue is No, difficulty breathing is No. Blood pressure is Normal, cholesterol level is Normal. Diagnosis: Negative.\n",
      "\n",
      "The patient was diagnosed with Kidneyscholastic Kid Disease (KMD). The KMD is a type of kidney disease that is caused by a protein called K-cell. K cells are the main source of blood for\n",
      "==================================================\n"
     ]
    },
    {
     "name": "stderr",
     "output_type": "stream",
     "text": [
      "Setting `pad_token_id` to `eos_token_id`:50256 for open-end generation.\n"
     ]
    },
    {
     "name": "stdout",
     "output_type": "stream",
     "text": [
      "Original Text: Patient Male, 42-year-old, presented with symptoms of Liver Cancer. The patient reported fever is Yes, cough is No, fatigue is Yes, difficulty breathing is Yes. Blood pressure is Normal, cholesterol level is Low. Diagnosis: Negative.\n",
      "Generated Text: Patient Male, 42-year-old, presented with symptoms of Liver Cancer. The patient reported fever is Yes, cough is No, fatigue is Yes, difficulty breathing is Yes. Blood pressure is Normal, cholesterol level is Low. Diagnosis: Negative.\n",
      "\n",
      "The patient was diagnosed with Liver cancer. Liver disease is a common cause of death in the United States. It is caused by a tumor that is located in a liver. This tumor is usually located on the liver, but can also\n",
      "==================================================\n"
     ]
    },
    {
     "name": "stderr",
     "output_type": "stream",
     "text": [
      "Setting `pad_token_id` to `eos_token_id`:50256 for open-end generation.\n"
     ]
    },
    {
     "name": "stdout",
     "output_type": "stream",
     "text": [
      "Original Text: Patient Female, 42-year-old, presented with symptoms of Liver Disease. The patient reported fever is Yes, cough is No, fatigue is No, difficulty breathing is Yes. Blood pressure is Normal, cholesterol level is Normal. Diagnosis: Negative.\n",
      "Generated Text: Patient Female, 42-year-old, presented with symptoms of Liver Disease. The patient reported fever is Yes, cough is No, fatigue is No, difficulty breathing is Yes. Blood pressure is Normal, cholesterol level is Normal. Diagnosis: Negative.\n",
      "\n",
      "The patient was admitted to the hospital on the morning of the first day of treatment. He was discharged on a short-term basis. After the initial examination, the patient's blood pressure was normal. A blood test was performed on\n",
      "==================================================\n"
     ]
    },
    {
     "name": "stderr",
     "output_type": "stream",
     "text": [
      "Setting `pad_token_id` to `eos_token_id`:50256 for open-end generation.\n"
     ]
    },
    {
     "name": "stdout",
     "output_type": "stream",
     "text": [
      "Original Text: Patient Male, 42-year-old, presented with symptoms of Lung Cancer. The patient reported fever is Yes, cough is No, fatigue is Yes, difficulty breathing is Yes. Blood pressure is Normal, cholesterol level is Low. Diagnosis: Negative.\n",
      "Generated Text: Patient Male, 42-year-old, presented with symptoms of Lung Cancer. The patient reported fever is Yes, cough is No, fatigue is Yes, difficulty breathing is Yes. Blood pressure is Normal, cholesterol level is Low. Diagnosis: Negative.\n",
      "\n",
      "The patient was diagnosed with Lung cancer. Patient: Patient was admitted to the hospital with a history of lung cancer and was treated with anti-inflammatory medications. He was given a biopsy and a CT scan. After the biops\n",
      "==================================================\n"
     ]
    },
    {
     "name": "stderr",
     "output_type": "stream",
     "text": [
      "Setting `pad_token_id` to `eos_token_id`:50256 for open-end generation.\n"
     ]
    },
    {
     "name": "stdout",
     "output_type": "stream",
     "text": [
      "Original Text: Patient Male, 42-year-old, presented with symptoms of Migraine. The patient reported fever is Yes, cough is Yes, fatigue is Yes, difficulty breathing is No. Blood pressure is High, cholesterol level is High. Diagnosis: Negative.\n",
      "Generated Text: Patient Male, 42-year-old, presented with symptoms of Migraine. The patient reported fever is Yes, cough is Yes, fatigue is Yes, difficulty breathing is No. Blood pressure is High, cholesterol level is High. Diagnosis: Negative.\n",
      "\n",
      "The patient was diagnosed with Migraines. He was admitted to the hospital and was treated with antibiotics. After the antibiotics, he was discharged from the ICU. His symptoms were not treated. However, the patient's symptoms did\n",
      "==================================================\n"
     ]
    },
    {
     "name": "stderr",
     "output_type": "stream",
     "text": [
      "Setting `pad_token_id` to `eos_token_id`:50256 for open-end generation.\n"
     ]
    },
    {
     "name": "stdout",
     "output_type": "stream",
     "text": [
      "Original Text: Patient Male, 42-year-old, presented with symptoms of Osteoarthritis. The patient reported fever is No, cough is No, fatigue is Yes, difficulty breathing is No. Blood pressure is Normal, cholesterol level is Low. Diagnosis: Negative.\n",
      "Generated Text: Patient Male, 42-year-old, presented with symptoms of Osteoarthritis. The patient reported fever is No, cough is No, fatigue is Yes, difficulty breathing is No. Blood pressure is Normal, cholesterol level is Low. Diagnosis: Negative.\n",
      "\n",
      "Osteoporosis\n",
      ". Overexposure to Ozone-Contaminated Water (O2) is a common cause of osteosarcoma. It is caused by the accumulation of the\n",
      "==================================================\n"
     ]
    },
    {
     "name": "stderr",
     "output_type": "stream",
     "text": [
      "Setting `pad_token_id` to `eos_token_id`:50256 for open-end generation.\n"
     ]
    },
    {
     "name": "stdout",
     "output_type": "stream",
     "text": [
      "Original Text: Patient Male, 42-year-old, presented with symptoms of Stroke. The patient reported fever is Yes, cough is No, fatigue is Yes, difficulty breathing is No. Blood pressure is Normal, cholesterol level is Low. Diagnosis: Negative.\n",
      "Generated Text: Patient Male, 42-year-old, presented with symptoms of Stroke. The patient reported fever is Yes, cough is No, fatigue is Yes, difficulty breathing is No. Blood pressure is Normal, cholesterol level is Low. Diagnosis: Negative.\n",
      "\n",
      "Neurological Assessment: Positive.\n",
      "==================================================\n"
     ]
    },
    {
     "name": "stderr",
     "output_type": "stream",
     "text": [
      "Setting `pad_token_id` to `eos_token_id`:50256 for open-end generation.\n"
     ]
    },
    {
     "name": "stdout",
     "output_type": "stream",
     "text": [
      "Original Text: Patient Female, 42-year-old, presented with symptoms of Urinary Tract Infection. The patient reported fever is No, cough is Yes, fatigue is Yes, difficulty breathing is Yes. Blood pressure is Normal, cholesterol level is Low. Diagnosis: Negative.\n",
      "Generated Text: Patient Female, 42-year-old, presented with symptoms of Urinary Tract Infection. The patient reported fever is No, cough is Yes, fatigue is Yes, difficulty breathing is Yes. Blood pressure is Normal, cholesterol level is Low. Diagnosis: Negative.\n",
      "\n",
      "The patient was admitted to the hospital on the morning of the first day of treatment. He was discharged on day 2. After the initial examination, the patient's blood pressure was normal. A blood test was performed\n",
      "==================================================\n"
     ]
    },
    {
     "name": "stderr",
     "output_type": "stream",
     "text": [
      "Setting `pad_token_id` to `eos_token_id`:50256 for open-end generation.\n"
     ]
    },
    {
     "name": "stdout",
     "output_type": "stream",
     "text": [
      "Original Text: Patient Male, 42-year-old, presented with symptoms of Diabetes. The patient reported fever is Yes, cough is Yes, fatigue is Yes, difficulty breathing is No. Blood pressure is High, cholesterol level is Normal. Diagnosis: Positive.\n",
      "Generated Text: Patient Male, 42-year-old, presented with symptoms of Diabetes. The patient reported fever is Yes, cough is Yes, fatigue is Yes, difficulty breathing is No. Blood pressure is High, cholesterol level is Normal. Diagnosis: Positive.\n",
      "\n",
      "Diabetes:\n",
      ". Cardiac arrest. No signs of diabetes. A blood pressure of 120/90 mm Hg or higher. Heart rate is normal. Diabetic: No symptoms.\n",
      "==================================================\n"
     ]
    },
    {
     "name": "stderr",
     "output_type": "stream",
     "text": [
      "Setting `pad_token_id` to `eos_token_id`:50256 for open-end generation.\n"
     ]
    },
    {
     "name": "stdout",
     "output_type": "stream",
     "text": [
      "Original Text: Patient Female, 42-year-old, presented with symptoms of Hypothyroidism. The patient reported fever is Yes, cough is Yes, fatigue is Yes, difficulty breathing is No. Blood pressure is High, cholesterol level is High. Diagnosis: Positive.\n",
      "Generated Text: Patient Female, 42-year-old, presented with symptoms of Hypothyroidism. The patient reported fever is Yes, cough is Yes, fatigue is Yes, difficulty breathing is No. Blood pressure is High, cholesterol level is High. Diagnosis: Positive.\n",
      "\n",
      "Hypothyroxinemia: Yes. Hypotension is Not present. No symptoms.\n",
      "==================================================\n"
     ]
    },
    {
     "name": "stderr",
     "output_type": "stream",
     "text": [
      "Setting `pad_token_id` to `eos_token_id`:50256 for open-end generation.\n"
     ]
    },
    {
     "name": "stdout",
     "output_type": "stream",
     "text": [
      "Original Text: Patient Female, 42-year-old, presented with symptoms of Hypothyroidism. The patient reported fever is Yes, cough is Yes, fatigue is Yes, difficulty breathing is No. Blood pressure is High, cholesterol level is High. Diagnosis: Positive.\n",
      "Generated Text: Patient Female, 42-year-old, presented with symptoms of Hypothyroidism. The patient reported fever is Yes, cough is Yes, fatigue is Yes, difficulty breathing is No. Blood pressure is High, cholesterol level is High. Diagnosis: Positive.\n",
      "\n",
      "Hypothyroxinemia: Yes. Hypotension is Not present. No symptoms.\n",
      "==================================================\n"
     ]
    },
    {
     "name": "stderr",
     "output_type": "stream",
     "text": [
      "Setting `pad_token_id` to `eos_token_id`:50256 for open-end generation.\n"
     ]
    },
    {
     "name": "stdout",
     "output_type": "stream",
     "text": [
      "Original Text: Patient Female, 42-year-old, presented with symptoms of Kidney Disease. The patient reported fever is Yes, cough is No, fatigue is Yes, difficulty breathing is No. Blood pressure is High, cholesterol level is Low. Diagnosis: Positive.\n",
      "Generated Text: Patient Female, 42-year-old, presented with symptoms of Kidney Disease. The patient reported fever is Yes, cough is No, fatigue is Yes, difficulty breathing is No. Blood pressure is High, cholesterol level is Low. Diagnosis: Positive.\n",
      "\n",
      "Neurological Assessment: Yes.\n",
      "==================================================\n"
     ]
    },
    {
     "name": "stderr",
     "output_type": "stream",
     "text": [
      "Setting `pad_token_id` to `eos_token_id`:50256 for open-end generation.\n"
     ]
    },
    {
     "name": "stdout",
     "output_type": "stream",
     "text": [
      "Original Text: Patient Female, 43-year-old, presented with symptoms of Pneumonia. The patient reported fever is No, cough is Yes, fatigue is Yes, difficulty breathing is Yes. Blood pressure is High, cholesterol level is Normal. Diagnosis: Positive.\n",
      "Generated Text: Patient Female, 43-year-old, presented with symptoms of Pneumonia. The patient reported fever is No, cough is Yes, fatigue is Yes, difficulty breathing is Yes. Blood pressure is High, cholesterol level is Normal. Diagnosis: Positive.\n",
      "\n",
      "Patients:\n",
      ". Patient was admitted to the hospital on the day of the incident. He was treated with antibiotics and was discharged on a ventilator. After the patient was taken to a hospital, he was transferred to\n",
      "==================================================\n"
     ]
    },
    {
     "name": "stderr",
     "output_type": "stream",
     "text": [
      "Setting `pad_token_id` to `eos_token_id`:50256 for open-end generation.\n"
     ]
    },
    {
     "name": "stdout",
     "output_type": "stream",
     "text": [
      "Original Text: Patient Male, 45-year-old, presented with symptoms of Allergic Rhinitis. The patient reported fever is No, cough is Yes, fatigue is Yes, difficulty breathing is No. Blood pressure is High, cholesterol level is Normal. Diagnosis: Negative.\n",
      "Generated Text: Patient Male, 45-year-old, presented with symptoms of Allergic Rhinitis. The patient reported fever is No, cough is Yes, fatigue is Yes, difficulty breathing is No. Blood pressure is High, cholesterol level is Normal. Diagnosis: Negative.\n",
      "\n",
      "Neurological Assessment: Positive.\n",
      "==================================================\n"
     ]
    },
    {
     "name": "stderr",
     "output_type": "stream",
     "text": [
      "Setting `pad_token_id` to `eos_token_id`:50256 for open-end generation.\n"
     ]
    },
    {
     "name": "stdout",
     "output_type": "stream",
     "text": [
      "Original Text: Patient Male, 45-year-old, presented with symptoms of Autism Spectrum Disorder (ASD). The patient reported fever is No, cough is No, fatigue is Yes, difficulty breathing is No. Blood pressure is Normal, cholesterol level is Normal. Diagnosis: Negative.\n",
      "Generated Text: Patient Male, 45-year-old, presented with symptoms of Autism Spectrum Disorder (ASD). The patient reported fever is No, cough is No, fatigue is Yes, difficulty breathing is No. Blood pressure is Normal, cholesterol level is Normal. Diagnosis: Negative.\n",
      "\n",
      "Neurological Assessment: Positive.\n",
      "==================================================\n"
     ]
    },
    {
     "name": "stderr",
     "output_type": "stream",
     "text": [
      "Setting `pad_token_id` to `eos_token_id`:50256 for open-end generation.\n"
     ]
    },
    {
     "name": "stdout",
     "output_type": "stream",
     "text": [
      "Original Text: Patient Male, 45-year-old, presented with symptoms of Crohn's Disease. The patient reported fever is Yes, cough is No, fatigue is Yes, difficulty breathing is No. Blood pressure is High, cholesterol level is Normal. Diagnosis: Negative.\n",
      "Generated Text: Patient Male, 45-year-old, presented with symptoms of Crohn's Disease. The patient reported fever is Yes, cough is No, fatigue is Yes, difficulty breathing is No. Blood pressure is High, cholesterol level is Normal. Diagnosis: Negative.\n",
      "\n",
      "Neurological Assessment: Positive.\n",
      "==================================================\n"
     ]
    },
    {
     "name": "stderr",
     "output_type": "stream",
     "text": [
      "Setting `pad_token_id` to `eos_token_id`:50256 for open-end generation.\n"
     ]
    },
    {
     "name": "stdout",
     "output_type": "stream",
     "text": [
      "Original Text: Patient Female, 45-year-old, presented with symptoms of Hepatitis. The patient reported fever is Yes, cough is No, fatigue is Yes, difficulty breathing is No. Blood pressure is High, cholesterol level is High. Diagnosis: Negative.\n",
      "Generated Text: Patient Female, 45-year-old, presented with symptoms of Hepatitis. The patient reported fever is Yes, cough is No, fatigue is Yes, difficulty breathing is No. Blood pressure is High, cholesterol level is High. Diagnosis: Negative.\n",
      "\n",
      "Hepatology: Hepatic, hepatic and hepatocellular carcinoma. Hepatocells are present in the liver. They are usually present on the skin, but may also be present at the site of the\n",
      "==================================================\n"
     ]
    },
    {
     "name": "stderr",
     "output_type": "stream",
     "text": [
      "Setting `pad_token_id` to `eos_token_id`:50256 for open-end generation.\n"
     ]
    },
    {
     "name": "stdout",
     "output_type": "stream",
     "text": [
      "Original Text: Patient Female, 45-year-old, presented with symptoms of Hepatitis. The patient reported fever is Yes, cough is No, fatigue is Yes, difficulty breathing is No. Blood pressure is High, cholesterol level is High. Diagnosis: Negative.\n",
      "Generated Text: Patient Female, 45-year-old, presented with symptoms of Hepatitis. The patient reported fever is Yes, cough is No, fatigue is Yes, difficulty breathing is No. Blood pressure is High, cholesterol level is High. Diagnosis: Negative.\n",
      "\n",
      "Hepatology: Hepatic, hepatic and hepatocellular carcinoma. Hepatocells are present in the liver. They are usually present on the skin, but may also be present at the site of the\n",
      "==================================================\n"
     ]
    },
    {
     "name": "stderr",
     "output_type": "stream",
     "text": [
      "Setting `pad_token_id` to `eos_token_id`:50256 for open-end generation.\n"
     ]
    },
    {
     "name": "stdout",
     "output_type": "stream",
     "text": [
      "Original Text: Patient Male, 45-year-old, presented with symptoms of Hyperglycemia. The patient reported fever is No, cough is No, fatigue is Yes, difficulty breathing is No. Blood pressure is Normal, cholesterol level is Normal. Diagnosis: Negative.\n",
      "Generated Text: Patient Male, 45-year-old, presented with symptoms of Hyperglycemia. The patient reported fever is No, cough is No, fatigue is Yes, difficulty breathing is No. Blood pressure is Normal, cholesterol level is Normal. Diagnosis: Negative.\n",
      "\n",
      "Neurological Assessment: Positive.\n",
      "==================================================\n"
     ]
    },
    {
     "name": "stderr",
     "output_type": "stream",
     "text": [
      "Setting `pad_token_id` to `eos_token_id`:50256 for open-end generation.\n"
     ]
    },
    {
     "name": "stdout",
     "output_type": "stream",
     "text": [
      "Original Text: Patient Male, 45-year-old, presented with symptoms of Kidney Cancer. The patient reported fever is No, cough is Yes, fatigue is Yes, difficulty breathing is Yes. Blood pressure is Normal, cholesterol level is Low. Diagnosis: Negative.\n",
      "Generated Text: Patient Male, 45-year-old, presented with symptoms of Kidney Cancer. The patient reported fever is No, cough is Yes, fatigue is Yes, difficulty breathing is Yes. Blood pressure is Normal, cholesterol level is Low. Diagnosis: Negative.\n",
      "\n",
      "The patient was diagnosed with Kidneyscholastic Kid Disease (KMD). The KMD is a type of kidney disease that is caused by a protein called K-cell. K cells are the main source of blood for\n",
      "==================================================\n"
     ]
    },
    {
     "name": "stderr",
     "output_type": "stream",
     "text": [
      "Setting `pad_token_id` to `eos_token_id`:50256 for open-end generation.\n"
     ]
    },
    {
     "name": "stdout",
     "output_type": "stream",
     "text": [
      "Original Text: Patient Male, 45-year-old, presented with symptoms of Kidney Disease. The patient reported fever is Yes, cough is Yes, fatigue is No, difficulty breathing is No. Blood pressure is Normal, cholesterol level is High. Diagnosis: Negative.\n",
      "Generated Text: Patient Male, 45-year-old, presented with symptoms of Kidney Disease. The patient reported fever is Yes, cough is Yes, fatigue is No, difficulty breathing is No. Blood pressure is Normal, cholesterol level is High. Diagnosis: Negative.\n",
      "\n",
      "Neurological Assessment: Positive.\n",
      "==================================================\n"
     ]
    },
    {
     "name": "stderr",
     "output_type": "stream",
     "text": [
      "Setting `pad_token_id` to `eos_token_id`:50256 for open-end generation.\n"
     ]
    },
    {
     "name": "stdout",
     "output_type": "stream",
     "text": [
      "Original Text: Patient Male, 45-year-old, presented with symptoms of Melanoma. The patient reported fever is Yes, cough is No, fatigue is Yes, difficulty breathing is No. Blood pressure is High, cholesterol level is Normal. Diagnosis: Negative.\n",
      "Generated Text: Patient Male, 45-year-old, presented with symptoms of Melanoma. The patient reported fever is Yes, cough is No, fatigue is Yes, difficulty breathing is No. Blood pressure is High, cholesterol level is Normal. Diagnosis: Negative.\n",
      "\n",
      "Neurological Assessment: Positive.\n",
      "==================================================\n"
     ]
    },
    {
     "name": "stderr",
     "output_type": "stream",
     "text": [
      "Setting `pad_token_id` to `eos_token_id`:50256 for open-end generation.\n"
     ]
    },
    {
     "name": "stdout",
     "output_type": "stream",
     "text": [
      "Original Text: Patient Female, 45-year-old, presented with symptoms of Migraine. The patient reported fever is No, cough is No, fatigue is No, difficulty breathing is No. Blood pressure is Low, cholesterol level is Normal. Diagnosis: Negative.\n",
      "Generated Text: Patient Female, 45-year-old, presented with symptoms of Migraine. The patient reported fever is No, cough is No, fatigue is No, difficulty breathing is No. Blood pressure is Low, cholesterol level is Normal. Diagnosis: Negative.\n",
      "\n",
      "The patient was diagnosed with Migraines. She was treated with a combination of medications and a medication that was not approved by the FDA. Her symptoms were not treated. After treatment, the patient went to the emergency room and was\n",
      "==================================================\n"
     ]
    },
    {
     "name": "stderr",
     "output_type": "stream",
     "text": [
      "Setting `pad_token_id` to `eos_token_id`:50256 for open-end generation.\n"
     ]
    },
    {
     "name": "stdout",
     "output_type": "stream",
     "text": [
      "Original Text: Patient Male, 45-year-old, presented with symptoms of Ovarian Cancer. The patient reported fever is No, cough is No, fatigue is Yes, difficulty breathing is No. Blood pressure is Normal, cholesterol level is Normal. Diagnosis: Negative.\n",
      "Generated Text: Patient Male, 45-year-old, presented with symptoms of Ovarian Cancer. The patient reported fever is No, cough is No, fatigue is Yes, difficulty breathing is No. Blood pressure is Normal, cholesterol level is Normal. Diagnosis: Negative.\n",
      "\n",
      "The patient was diagnosed with Ovary Cancer and was treated with a combination of chemotherapy and radiation. He was given a dose of radiation that was not effective. After the radiation was administered, the patient experienced a fever and a headache\n",
      "==================================================\n"
     ]
    },
    {
     "name": "stderr",
     "output_type": "stream",
     "text": [
      "Setting `pad_token_id` to `eos_token_id`:50256 for open-end generation.\n"
     ]
    },
    {
     "name": "stdout",
     "output_type": "stream",
     "text": [
      "Original Text: Patient Male, 45-year-old, presented with symptoms of Pancreatitis. The patient reported fever is No, cough is Yes, fatigue is Yes, difficulty breathing is Yes. Blood pressure is Normal, cholesterol level is Low. Diagnosis: Negative.\n",
      "Generated Text: Patient Male, 45-year-old, presented with symptoms of Pancreatitis. The patient reported fever is No, cough is Yes, fatigue is Yes, difficulty breathing is Yes. Blood pressure is Normal, cholesterol level is Low. Diagnosis: Negative.\n",
      "\n",
      "Neurological Assessment: Positive.\n",
      "==================================================\n"
     ]
    },
    {
     "name": "stderr",
     "output_type": "stream",
     "text": [
      "Setting `pad_token_id` to `eos_token_id`:50256 for open-end generation.\n"
     ]
    },
    {
     "name": "stdout",
     "output_type": "stream",
     "text": [
      "Original Text: Patient Male, 45-year-old, presented with symptoms of Rheumatoid Arthritis. The patient reported fever is Yes, cough is No, fatigue is No, difficulty breathing is No. Blood pressure is Normal, cholesterol level is Normal. Diagnosis: Negative.\n",
      "Generated Text: Patient Male, 45-year-old, presented with symptoms of Rheumatoid Arthritis. The patient reported fever is Yes, cough is No, fatigue is No, difficulty breathing is No. Blood pressure is Normal, cholesterol level is Normal. Diagnosis: Negative.\n",
      "\n",
      "Rheumatic Disease: No\n",
      ". No Reactions: None.\n",
      "==================================================\n"
     ]
    },
    {
     "name": "stderr",
     "output_type": "stream",
     "text": [
      "Setting `pad_token_id` to `eos_token_id`:50256 for open-end generation.\n"
     ]
    },
    {
     "name": "stdout",
     "output_type": "stream",
     "text": [
      "Original Text: Patient Male, 45-year-old, presented with symptoms of Stroke. The patient reported fever is No, cough is No, fatigue is Yes, difficulty breathing is No. Blood pressure is Normal, cholesterol level is Normal. Diagnosis: Negative.\n",
      "Generated Text: Patient Male, 45-year-old, presented with symptoms of Stroke. The patient reported fever is No, cough is No, fatigue is Yes, difficulty breathing is No. Blood pressure is Normal, cholesterol level is Normal. Diagnosis: Negative.\n",
      "\n",
      "Neurological Assessment: Positive.\n",
      "==================================================\n"
     ]
    },
    {
     "name": "stderr",
     "output_type": "stream",
     "text": [
      "Setting `pad_token_id` to `eos_token_id`:50256 for open-end generation.\n"
     ]
    },
    {
     "name": "stdout",
     "output_type": "stream",
     "text": [
      "Original Text: Patient Male, 45-year-old, presented with symptoms of Turner Syndrome. The patient reported fever is No, cough is No, fatigue is Yes, difficulty breathing is No. Blood pressure is High, cholesterol level is High. Diagnosis: Negative.\n",
      "Generated Text: Patient Male, 45-year-old, presented with symptoms of Turner Syndrome. The patient reported fever is No, cough is No, fatigue is Yes, difficulty breathing is No. Blood pressure is High, cholesterol level is High. Diagnosis: Negative.\n",
      "\n",
      "The patient was diagnosed with Turner syndrome. Treatment:\n",
      ". A blood test was performed. After the test, the patient underwent a blood transfusion. He was given a CT scan. His blood was collected and analyzed. All tests\n",
      "==================================================\n"
     ]
    },
    {
     "name": "stderr",
     "output_type": "stream",
     "text": [
      "Setting `pad_token_id` to `eos_token_id`:50256 for open-end generation.\n"
     ]
    },
    {
     "name": "stdout",
     "output_type": "stream",
     "text": [
      "Original Text: Patient Male, 45-year-old, presented with symptoms of Turner Syndrome. The patient reported fever is No, cough is No, fatigue is Yes, difficulty breathing is No. Blood pressure is High, cholesterol level is High. Diagnosis: Negative.\n",
      "Generated Text: Patient Male, 45-year-old, presented with symptoms of Turner Syndrome. The patient reported fever is No, cough is No, fatigue is Yes, difficulty breathing is No. Blood pressure is High, cholesterol level is High. Diagnosis: Negative.\n",
      "\n",
      "The patient was diagnosed with Turner syndrome. Treatment:\n",
      ". A blood test was performed. After the test, the patient underwent a blood transfusion. He was given a CT scan. His blood was collected and analyzed. All tests\n",
      "==================================================\n"
     ]
    },
    {
     "name": "stderr",
     "output_type": "stream",
     "text": [
      "Setting `pad_token_id` to `eos_token_id`:50256 for open-end generation.\n"
     ]
    },
    {
     "name": "stdout",
     "output_type": "stream",
     "text": [
      "Original Text: Patient Female, 45-year-old, presented with symptoms of Urinary Tract Infection. The patient reported fever is No, cough is No, fatigue is No, difficulty breathing is No. Blood pressure is Low, cholesterol level is Normal. Diagnosis: Negative.\n",
      "Generated Text: Patient Female, 45-year-old, presented with symptoms of Urinary Tract Infection. The patient reported fever is No, cough is No, fatigue is No, difficulty breathing is No. Blood pressure is Low, cholesterol level is Normal. Diagnosis: Negative.\n",
      "\n",
      "The patient was admitted to the hospital on the morning of the first day of treatment. After the initial examination, the patient's blood pressure was normal. He was discharged from the intensive care unit on a ventil\n",
      "==================================================\n"
     ]
    },
    {
     "name": "stderr",
     "output_type": "stream",
     "text": [
      "Setting `pad_token_id` to `eos_token_id`:50256 for open-end generation.\n"
     ]
    },
    {
     "name": "stdout",
     "output_type": "stream",
     "text": [
      "Original Text: Patient Female, 45-year-old, presented with symptoms of Zika Virus. The patient reported fever is No, cough is Yes, fatigue is Yes, difficulty breathing is No. Blood pressure is High, cholesterol level is High. Diagnosis: Negative.\n",
      "Generated Text: Patient Female, 45-year-old, presented with symptoms of Zika Virus. The patient reported fever is No, cough is Yes, fatigue is Yes, difficulty breathing is No. Blood pressure is High, cholesterol level is High. Diagnosis: Negative.\n",
      "\n",
      "The patient was diagnosed with Zika virus infection. He was treated with anti-viral medications. After the patient's symptoms were resolved, the doctor removed the virus from the body. This was done to prevent the infection from spreading to\n",
      "==================================================\n"
     ]
    },
    {
     "name": "stderr",
     "output_type": "stream",
     "text": [
      "Setting `pad_token_id` to `eos_token_id`:50256 for open-end generation.\n"
     ]
    },
    {
     "name": "stdout",
     "output_type": "stream",
     "text": [
      "Original Text: Patient Female, 45-year-old, presented with symptoms of Zika Virus. The patient reported fever is No, cough is Yes, fatigue is Yes, difficulty breathing is No. Blood pressure is High, cholesterol level is High. Diagnosis: Negative.\n",
      "Generated Text: Patient Female, 45-year-old, presented with symptoms of Zika Virus. The patient reported fever is No, cough is Yes, fatigue is Yes, difficulty breathing is No. Blood pressure is High, cholesterol level is High. Diagnosis: Negative.\n",
      "\n",
      "The patient was diagnosed with Zika virus infection. He was treated with anti-viral medications. After the patient's symptoms were resolved, the doctor removed the virus from the body. This was done to prevent the infection from spreading to\n",
      "==================================================\n"
     ]
    },
    {
     "name": "stderr",
     "output_type": "stream",
     "text": [
      "Setting `pad_token_id` to `eos_token_id`:50256 for open-end generation.\n"
     ]
    },
    {
     "name": "stdout",
     "output_type": "stream",
     "text": [
      "Original Text: Patient Male, 45-year-old, presented with symptoms of Allergic Rhinitis. The patient reported fever is Yes, cough is Yes, fatigue is Yes, difficulty breathing is No. Blood pressure is High, cholesterol level is Normal. Diagnosis: Positive.\n",
      "Generated Text: Patient Male, 45-year-old, presented with symptoms of Allergic Rhinitis. The patient reported fever is Yes, cough is Yes, fatigue is Yes, difficulty breathing is No. Blood pressure is High, cholesterol level is Normal. Diagnosis: Positive.\n",
      "\n",
      "Neurological Assessment: Yes.\n",
      "==================================================\n"
     ]
    },
    {
     "name": "stderr",
     "output_type": "stream",
     "text": [
      "Setting `pad_token_id` to `eos_token_id`:50256 for open-end generation.\n"
     ]
    },
    {
     "name": "stdout",
     "output_type": "stream",
     "text": [
      "Original Text: Patient Male, 45-year-old, presented with symptoms of Anxiety Disorders. The patient reported fever is Yes, cough is Yes, fatigue is Yes, difficulty breathing is No. Blood pressure is High, cholesterol level is Normal. Diagnosis: Positive.\n",
      "Generated Text: Patient Male, 45-year-old, presented with symptoms of Anxiety Disorders. The patient reported fever is Yes, cough is Yes, fatigue is Yes, difficulty breathing is No. Blood pressure is High, cholesterol level is Normal. Diagnosis: Positive.\n",
      "\n",
      "Neurological Assessment: Yes.\n",
      "==================================================\n"
     ]
    },
    {
     "name": "stderr",
     "output_type": "stream",
     "text": [
      "Setting `pad_token_id` to `eos_token_id`:50256 for open-end generation.\n"
     ]
    },
    {
     "name": "stdout",
     "output_type": "stream",
     "text": [
      "Original Text: Patient Male, 45-year-old, presented with symptoms of Asthma. The patient reported fever is Yes, cough is Yes, fatigue is No, difficulty breathing is Yes. Blood pressure is Normal, cholesterol level is Normal. Diagnosis: Positive.\n",
      "Generated Text: Patient Male, 45-year-old, presented with symptoms of Asthma. The patient reported fever is Yes, cough is Yes, fatigue is No, difficulty breathing is Yes. Blood pressure is Normal, cholesterol level is Normal. Diagnosis: Positive.\n",
      "\n",
      "Neurological Assessment: Yes\n",
      ".\n",
      "==================================================\n"
     ]
    },
    {
     "name": "stderr",
     "output_type": "stream",
     "text": [
      "Setting `pad_token_id` to `eos_token_id`:50256 for open-end generation.\n"
     ]
    },
    {
     "name": "stdout",
     "output_type": "stream",
     "text": [
      "Original Text: Patient Male, 45-year-old, presented with symptoms of Asthma. The patient reported fever is Yes, cough is Yes, fatigue is No, difficulty breathing is Yes. Blood pressure is Normal, cholesterol level is Normal. Diagnosis: Positive.\n",
      "Generated Text: Patient Male, 45-year-old, presented with symptoms of Asthma. The patient reported fever is Yes, cough is Yes, fatigue is No, difficulty breathing is Yes. Blood pressure is Normal, cholesterol level is Normal. Diagnosis: Positive.\n",
      "\n",
      "Neurological Assessment: Yes\n",
      ".\n",
      "==================================================\n"
     ]
    },
    {
     "name": "stderr",
     "output_type": "stream",
     "text": [
      "Setting `pad_token_id` to `eos_token_id`:50256 for open-end generation.\n"
     ]
    },
    {
     "name": "stdout",
     "output_type": "stream",
     "text": [
      "Original Text: Patient Female, 45-year-old, presented with symptoms of Cataracts. The patient reported fever is No, cough is No, fatigue is Yes, difficulty breathing is No. Blood pressure is Normal, cholesterol level is High. Diagnosis: Positive.\n",
      "Generated Text: Patient Female, 45-year-old, presented with symptoms of Cataracts. The patient reported fever is No, cough is No, fatigue is Yes, difficulty breathing is No. Blood pressure is Normal, cholesterol level is High. Diagnosis: Positive.\n",
      "\n",
      "Patients:\n",
      ". Patient was admitted to the hospital on the day of the incident. He was treated with antibiotics and was discharged on a ventilator. After the patient was taken to a hospital, he was transferred to\n",
      "==================================================\n"
     ]
    },
    {
     "name": "stderr",
     "output_type": "stream",
     "text": [
      "Setting `pad_token_id` to `eos_token_id`:50256 for open-end generation.\n"
     ]
    },
    {
     "name": "stdout",
     "output_type": "stream",
     "text": [
      "Original Text: Patient Female, 45-year-old, presented with symptoms of Crohn's Disease. The patient reported fever is No, cough is No, fatigue is Yes, difficulty breathing is No. Blood pressure is High, cholesterol level is High. Diagnosis: Positive.\n",
      "Generated Text: Patient Female, 45-year-old, presented with symptoms of Crohn's Disease. The patient reported fever is No, cough is No, fatigue is Yes, difficulty breathing is No. Blood pressure is High, cholesterol level is High. Diagnosis: Positive.\n",
      "\n",
      "Neurological Assessment: No\n",
      ". Clinical Features:\n",
      "- No symptoms, no signs, and no symptoms. No signs or symptoms are present. Patient was admitted to the hospital with a history of diabetes. He\n",
      "==================================================\n"
     ]
    },
    {
     "name": "stderr",
     "output_type": "stream",
     "text": [
      "Setting `pad_token_id` to `eos_token_id`:50256 for open-end generation.\n"
     ]
    },
    {
     "name": "stdout",
     "output_type": "stream",
     "text": [
      "Original Text: Patient Female, 45-year-old, presented with symptoms of Crohn's Disease. The patient reported fever is Yes, cough is Yes, fatigue is Yes, difficulty breathing is No. Blood pressure is High, cholesterol level is High. Diagnosis: Positive.\n",
      "Generated Text: Patient Female, 45-year-old, presented with symptoms of Crohn's Disease. The patient reported fever is Yes, cough is Yes, fatigue is Yes, difficulty breathing is No. Blood pressure is High, cholesterol level is High. Diagnosis: Positive.\n",
      "\n",
      "Neurological Assessment: Yes.\n",
      "==================================================\n"
     ]
    },
    {
     "name": "stderr",
     "output_type": "stream",
     "text": [
      "Setting `pad_token_id` to `eos_token_id`:50256 for open-end generation.\n"
     ]
    },
    {
     "name": "stdout",
     "output_type": "stream",
     "text": [
      "Original Text: Patient Female, 45-year-old, presented with symptoms of Depression. The patient reported fever is No, cough is No, fatigue is Yes, difficulty breathing is No. Blood pressure is High, cholesterol level is High. Diagnosis: Positive.\n",
      "Generated Text: Patient Female, 45-year-old, presented with symptoms of Depression. The patient reported fever is No, cough is No, fatigue is Yes, difficulty breathing is No. Blood pressure is High, cholesterol level is High. Diagnosis: Positive.\n",
      "\n",
      "Neurological Assessment: Diagnostic and Statistical Manual of Mental Disorders, Fourth Edition (DSM-IV), Fourth edition (Fourth Edition), Revised Edition, Revised edition, and the American Psychiatric Association's Diagnostics Manual for Mental Ill\n",
      "==================================================\n"
     ]
    },
    {
     "name": "stderr",
     "output_type": "stream",
     "text": [
      "Setting `pad_token_id` to `eos_token_id`:50256 for open-end generation.\n"
     ]
    },
    {
     "name": "stdout",
     "output_type": "stream",
     "text": [
      "Original Text: Patient Female, 45-year-old, presented with symptoms of Diabetes. The patient reported fever is Yes, cough is No, fatigue is Yes, difficulty breathing is No. Blood pressure is High, cholesterol level is High. Diagnosis: Positive.\n",
      "Generated Text: Patient Female, 45-year-old, presented with symptoms of Diabetes. The patient reported fever is Yes, cough is No, fatigue is Yes, difficulty breathing is No. Blood pressure is High, cholesterol level is High. Diagnosis: Positive.\n",
      "\n",
      "Diabetes:\n",
      ". Diabetes is a condition that affects the body's ability to regulate blood sugar levels. It is caused by a deficiency of insulin, which is the hormone that regulates blood glucose levels in the blood. This deficiency causes the\n",
      "==================================================\n"
     ]
    },
    {
     "name": "stderr",
     "output_type": "stream",
     "text": [
      "Setting `pad_token_id` to `eos_token_id`:50256 for open-end generation.\n"
     ]
    },
    {
     "name": "stdout",
     "output_type": "stream",
     "text": [
      "Original Text: Patient Male, 45-year-old, presented with symptoms of Diabetes. The patient reported fever is No, cough is Yes, fatigue is Yes, difficulty breathing is No. Blood pressure is Normal, cholesterol level is High. Diagnosis: Positive.\n",
      "Generated Text: Patient Male, 45-year-old, presented with symptoms of Diabetes. The patient reported fever is No, cough is Yes, fatigue is Yes, difficulty breathing is No. Blood pressure is Normal, cholesterol level is High. Diagnosis: Positive.\n",
      "\n",
      "Diabetes:\n",
      ". Cardiac arrest. No signs of diabetes. A blood pressure of 140/90 mm Hg or higher. Heart rate is normal. Diabetic: No symptoms.\n",
      "==================================================\n"
     ]
    },
    {
     "name": "stderr",
     "output_type": "stream",
     "text": [
      "Setting `pad_token_id` to `eos_token_id`:50256 for open-end generation.\n"
     ]
    },
    {
     "name": "stdout",
     "output_type": "stream",
     "text": [
      "Original Text: Patient Male, 45-year-old, presented with symptoms of Hypertension. The patient reported fever is Yes, cough is No, fatigue is Yes, difficulty breathing is No. Blood pressure is Normal, cholesterol level is High. Diagnosis: Positive.\n",
      "Generated Text: Patient Male, 45-year-old, presented with symptoms of Hypertension. The patient reported fever is Yes, cough is No, fatigue is Yes, difficulty breathing is No. Blood pressure is Normal, cholesterol level is High. Diagnosis: Positive.\n",
      "\n",
      "Neurological Assessment: Yes.\n",
      "==================================================\n"
     ]
    },
    {
     "name": "stderr",
     "output_type": "stream",
     "text": [
      "Setting `pad_token_id` to `eos_token_id`:50256 for open-end generation.\n"
     ]
    },
    {
     "name": "stdout",
     "output_type": "stream",
     "text": [
      "Original Text: Patient Female, 45-year-old, presented with symptoms of Hypothyroidism. The patient reported fever is No, cough is No, fatigue is Yes, difficulty breathing is No. Blood pressure is High, cholesterol level is High. Diagnosis: Positive.\n",
      "Generated Text: Patient Female, 45-year-old, presented with symptoms of Hypothyroidism. The patient reported fever is No, cough is No, fatigue is Yes, difficulty breathing is No. Blood pressure is High, cholesterol level is High. Diagnosis: Positive.\n",
      "\n",
      "Hypothyroxinemia: No symptoms. No signs of hypothyronism, such as a high blood pressure, are present. Hypotension is present, and the patient is unable to move. A blood test\n",
      "==================================================\n"
     ]
    },
    {
     "name": "stderr",
     "output_type": "stream",
     "text": [
      "Setting `pad_token_id` to `eos_token_id`:50256 for open-end generation.\n"
     ]
    },
    {
     "name": "stdout",
     "output_type": "stream",
     "text": [
      "Original Text: Patient Female, 45-year-old, presented with symptoms of Liver Disease. The patient reported fever is Yes, cough is Yes, fatigue is Yes, difficulty breathing is No. Blood pressure is Normal, cholesterol level is High. Diagnosis: Positive.\n",
      "Generated Text: Patient Female, 45-year-old, presented with symptoms of Liver Disease. The patient reported fever is Yes, cough is Yes, fatigue is Yes, difficulty breathing is No. Blood pressure is Normal, cholesterol level is High. Diagnosis: Positive.\n",
      "\n",
      "Patients:\n",
      ". Patient was admitted to the hospital on the day of the accident. He was treated with a combination of antibiotics and a blood transfusion. After the transfusions, he was placed in a ventilator.\n",
      "==================================================\n"
     ]
    },
    {
     "name": "stderr",
     "output_type": "stream",
     "text": [
      "Setting `pad_token_id` to `eos_token_id`:50256 for open-end generation.\n"
     ]
    },
    {
     "name": "stdout",
     "output_type": "stream",
     "text": [
      "Original Text: Patient Female, 45-year-old, presented with symptoms of Multiple Sclerosis. The patient reported fever is Yes, cough is No, fatigue is No, difficulty breathing is No. Blood pressure is High, cholesterol level is High. Diagnosis: Positive.\n",
      "Generated Text: Patient Female, 45-year-old, presented with symptoms of Multiple Sclerosis. The patient reported fever is Yes, cough is No, fatigue is No, difficulty breathing is No. Blood pressure is High, cholesterol level is High. Diagnosis: Positive.\n",
      "\n",
      "Neurological Assessment: Yes.\n",
      "==================================================\n"
     ]
    },
    {
     "name": "stderr",
     "output_type": "stream",
     "text": [
      "Setting `pad_token_id` to `eos_token_id`:50256 for open-end generation.\n"
     ]
    },
    {
     "name": "stdout",
     "output_type": "stream",
     "text": [
      "Original Text: Patient Female, 45-year-old, presented with symptoms of Multiple Sclerosis. The patient reported fever is Yes, cough is No, fatigue is No, difficulty breathing is No. Blood pressure is High, cholesterol level is High. Diagnosis: Positive.\n",
      "Generated Text: Patient Female, 45-year-old, presented with symptoms of Multiple Sclerosis. The patient reported fever is Yes, cough is No, fatigue is No, difficulty breathing is No. Blood pressure is High, cholesterol level is High. Diagnosis: Positive.\n",
      "\n",
      "Neurological Assessment: Yes.\n",
      "==================================================\n"
     ]
    },
    {
     "name": "stderr",
     "output_type": "stream",
     "text": [
      "Setting `pad_token_id` to `eos_token_id`:50256 for open-end generation.\n"
     ]
    },
    {
     "name": "stdout",
     "output_type": "stream",
     "text": [
      "Original Text: Patient Male, 45-year-old, presented with symptoms of Osteoarthritis. The patient reported fever is Yes, cough is No, fatigue is Yes, difficulty breathing is Yes. Blood pressure is High, cholesterol level is Normal. Diagnosis: Positive.\n",
      "Generated Text: Patient Male, 45-year-old, presented with symptoms of Osteoarthritis. The patient reported fever is Yes, cough is No, fatigue is Yes, difficulty breathing is Yes. Blood pressure is High, cholesterol level is Normal. Diagnosis: Positive.\n",
      "\n",
      "Neurological Assessment: Yes\n",
      ".\n",
      "==================================================\n"
     ]
    },
    {
     "name": "stderr",
     "output_type": "stream",
     "text": [
      "Setting `pad_token_id` to `eos_token_id`:50256 for open-end generation.\n"
     ]
    },
    {
     "name": "stdout",
     "output_type": "stream",
     "text": [
      "Original Text: Patient Female, 45-year-old, presented with symptoms of Osteoporosis. The patient reported fever is Yes, cough is Yes, fatigue is Yes, difficulty breathing is No. Blood pressure is Normal, cholesterol level is High. Diagnosis: Positive.\n",
      "Generated Text: Patient Female, 45-year-old, presented with symptoms of Osteoporosis. The patient reported fever is Yes, cough is Yes, fatigue is Yes, difficulty breathing is No. Blood pressure is Normal, cholesterol level is High. Diagnosis: Positive.\n",
      "\n",
      "Patients:\n",
      ". Patient was admitted to the hospital on the day of the incident. He was diagnosed with Oseoporosias. Overely, he was found to have a history of oseoph\n",
      "==================================================\n"
     ]
    },
    {
     "name": "stderr",
     "output_type": "stream",
     "text": [
      "Setting `pad_token_id` to `eos_token_id`:50256 for open-end generation.\n"
     ]
    },
    {
     "name": "stdout",
     "output_type": "stream",
     "text": [
      "Original Text: Patient Female, 45-year-old, presented with symptoms of Pneumocystis Pneumonia (PCP). The patient reported fever is Yes, cough is Yes, fatigue is Yes, difficulty breathing is No. Blood pressure is High, cholesterol level is High. Diagnosis: Positive.\n",
      "Generated Text: Patient Female, 45-year-old, presented with symptoms of Pneumocystis Pneumonia (PCP). The patient reported fever is Yes, cough is Yes, fatigue is Yes, difficulty breathing is No. Blood pressure is High, cholesterol level is High. Diagnosis: Positive.\n",
      "\n",
      "Neurological Assessment: Yes.\n",
      "==================================================\n"
     ]
    },
    {
     "name": "stderr",
     "output_type": "stream",
     "text": [
      "Setting `pad_token_id` to `eos_token_id`:50256 for open-end generation.\n"
     ]
    },
    {
     "name": "stdout",
     "output_type": "stream",
     "text": [
      "Original Text: Patient Male, 45-year-old, presented with symptoms of Pneumonia. The patient reported fever is Yes, cough is Yes, fatigue is Yes, difficulty breathing is Yes. Blood pressure is High, cholesterol level is High. Diagnosis: Positive.\n",
      "Generated Text: Patient Male, 45-year-old, presented with symptoms of Pneumonia. The patient reported fever is Yes, cough is Yes, fatigue is Yes, difficulty breathing is Yes. Blood pressure is High, cholesterol level is High. Diagnosis: Positive.\n",
      "\n",
      "Neurological Assessment: Yes\n",
      ". Patient: Patient was admitted to the hospital with a history of severe pain. He was diagnosed with P. pneumonia. Pupil was placed in a ventilator and placed on\n",
      "==================================================\n"
     ]
    },
    {
     "name": "stderr",
     "output_type": "stream",
     "text": [
      "Setting `pad_token_id` to `eos_token_id`:50256 for open-end generation.\n"
     ]
    },
    {
     "name": "stdout",
     "output_type": "stream",
     "text": [
      "Original Text: Patient Female, 45-year-old, presented with symptoms of Scoliosis. The patient reported fever is No, cough is No, fatigue is No, difficulty breathing is No. Blood pressure is High, cholesterol level is High. Diagnosis: Positive.\n",
      "Generated Text: Patient Female, 45-year-old, presented with symptoms of Scoliosis. The patient reported fever is No, cough is No, fatigue is No, difficulty breathing is No. Blood pressure is High, cholesterol level is High. Diagnosis: Positive.\n",
      "\n",
      "Clinical Response: The Patient was admitted to the hospital with a fever of No fever. He was discharged with no symptoms. After a short period of time, the patient was diagnosed with Scalp. A short time later\n",
      "==================================================\n"
     ]
    },
    {
     "name": "stderr",
     "output_type": "stream",
     "text": [
      "Setting `pad_token_id` to `eos_token_id`:50256 for open-end generation.\n"
     ]
    },
    {
     "name": "stdout",
     "output_type": "stream",
     "text": [
      "Original Text: Patient Female, 45-year-old, presented with symptoms of Sickle Cell Anemia. The patient reported fever is No, cough is No, fatigue is Yes, difficulty breathing is No. Blood pressure is Normal, cholesterol level is Normal. Diagnosis: Positive.\n",
      "Generated Text: Patient Female, 45-year-old, presented with symptoms of Sickle Cell Anemia. The patient reported fever is No, cough is No, fatigue is Yes, difficulty breathing is No. Blood pressure is Normal, cholesterol level is Normal. Diagnosis: Positive.\n",
      "\n",
      "Neurological: No\n",
      ". Cardiovascular: Yes\n",
      ", Cardiac: Normal\n",
      ": Cardio: Not present\n",
      " (No symptoms)\n",
      "(No signs) No symptoms\n",
      "\"I am a very\n",
      "==================================================\n"
     ]
    },
    {
     "name": "stderr",
     "output_type": "stream",
     "text": [
      "Setting `pad_token_id` to `eos_token_id`:50256 for open-end generation.\n"
     ]
    },
    {
     "name": "stdout",
     "output_type": "stream",
     "text": [
      "Original Text: Patient Male, 45-year-old, presented with symptoms of Tetanus. The patient reported fever is No, cough is No, fatigue is Yes, difficulty breathing is No. Blood pressure is Normal, cholesterol level is High. Diagnosis: Positive.\n",
      "Generated Text: Patient Male, 45-year-old, presented with symptoms of Tetanus. The patient reported fever is No, cough is No, fatigue is Yes, difficulty breathing is No. Blood pressure is Normal, cholesterol level is High. Diagnosis: Positive.\n",
      "\n",
      "Neurological Assessment: No\n",
      ". Cardiac Arrest: Yes\n",
      ", Cardiomyopathy:\n",
      " (No)\n",
      "Tetanus is a highly contagious disease that is transmitted through the blood stream to the brain. It\n",
      "==================================================\n"
     ]
    },
    {
     "name": "stderr",
     "output_type": "stream",
     "text": [
      "Setting `pad_token_id` to `eos_token_id`:50256 for open-end generation.\n"
     ]
    },
    {
     "name": "stdout",
     "output_type": "stream",
     "text": [
      "Original Text: Patient Male, 45-year-old, presented with symptoms of Tetanus. The patient reported fever is No, cough is No, fatigue is Yes, difficulty breathing is No. Blood pressure is Normal, cholesterol level is High. Diagnosis: Positive.\n",
      "Generated Text: Patient Male, 45-year-old, presented with symptoms of Tetanus. The patient reported fever is No, cough is No, fatigue is Yes, difficulty breathing is No. Blood pressure is Normal, cholesterol level is High. Diagnosis: Positive.\n",
      "\n",
      "Neurological Assessment: No\n",
      ". Cardiac Arrest: Yes\n",
      ", Cardiomyopathy:\n",
      " (No)\n",
      "Tetanus is a highly contagious disease that is transmitted through the blood stream to the brain. It\n",
      "==================================================\n"
     ]
    },
    {
     "name": "stderr",
     "output_type": "stream",
     "text": [
      "Setting `pad_token_id` to `eos_token_id`:50256 for open-end generation.\n"
     ]
    },
    {
     "name": "stdout",
     "output_type": "stream",
     "text": [
      "Original Text: Patient Female, 48-year-old, presented with symptoms of Hypertension. The patient reported fever is No, cough is No, fatigue is No, difficulty breathing is No. Blood pressure is Low, cholesterol level is High. Diagnosis: Negative.\n",
      "Generated Text: Patient Female, 48-year-old, presented with symptoms of Hypertension. The patient reported fever is No, cough is No, fatigue is No, difficulty breathing is No. Blood pressure is Low, cholesterol level is High. Diagnosis: Negative.\n",
      "\n",
      "Neurological Assessment: Positive.\n",
      "==================================================\n"
     ]
    },
    {
     "name": "stderr",
     "output_type": "stream",
     "text": [
      "Setting `pad_token_id` to `eos_token_id`:50256 for open-end generation.\n"
     ]
    },
    {
     "name": "stdout",
     "output_type": "stream",
     "text": [
      "Original Text: Patient Male, 48-year-old, presented with symptoms of Hypothyroidism. The patient reported fever is No, cough is No, fatigue is Yes, difficulty breathing is No. Blood pressure is Normal, cholesterol level is High. Diagnosis: Negative.\n",
      "Generated Text: Patient Male, 48-year-old, presented with symptoms of Hypothyroidism. The patient reported fever is No, cough is No, fatigue is Yes, difficulty breathing is No. Blood pressure is Normal, cholesterol level is High. Diagnosis: Negative.\n",
      "\n",
      "Hypothyroxinemia: Hypotension. Hypoglycemia. Hyperglycemicemia. Hypertension (hypoglycaemia). Hypoxia. Insomnia. Inability to sleep. Intense\n",
      "==================================================\n"
     ]
    },
    {
     "name": "stderr",
     "output_type": "stream",
     "text": [
      "Setting `pad_token_id` to `eos_token_id`:50256 for open-end generation.\n"
     ]
    },
    {
     "name": "stdout",
     "output_type": "stream",
     "text": [
      "Original Text: Patient Male, 48-year-old, presented with symptoms of Hypothyroidism. The patient reported fever is No, cough is No, fatigue is Yes, difficulty breathing is No. Blood pressure is Normal, cholesterol level is High. Diagnosis: Negative.\n",
      "Generated Text: Patient Male, 48-year-old, presented with symptoms of Hypothyroidism. The patient reported fever is No, cough is No, fatigue is Yes, difficulty breathing is No. Blood pressure is Normal, cholesterol level is High. Diagnosis: Negative.\n",
      "\n",
      "Hypothyroxinemia: Hypotension. Hypoglycemia. Hyperglycemicemia. Hypertension (hypoglycaemia). Hypoxia. Insomnia. Inability to sleep. Intense\n",
      "==================================================\n"
     ]
    },
    {
     "name": "stderr",
     "output_type": "stream",
     "text": [
      "Setting `pad_token_id` to `eos_token_id`:50256 for open-end generation.\n"
     ]
    },
    {
     "name": "stdout",
     "output_type": "stream",
     "text": [
      "Original Text: Patient Male, 50-year-old, presented with symptoms of Allergic Rhinitis. The patient reported fever is Yes, cough is No, fatigue is No, difficulty breathing is No. Blood pressure is High, cholesterol level is High. Diagnosis: Negative.\n",
      "Generated Text: Patient Male, 50-year-old, presented with symptoms of Allergic Rhinitis. The patient reported fever is Yes, cough is No, fatigue is No, difficulty breathing is No. Blood pressure is High, cholesterol level is High. Diagnosis: Negative.\n",
      "\n",
      "Neurological Assessment: Positive.\n",
      "==================================================\n"
     ]
    },
    {
     "name": "stderr",
     "output_type": "stream",
     "text": [
      "Setting `pad_token_id` to `eos_token_id`:50256 for open-end generation.\n"
     ]
    },
    {
     "name": "stdout",
     "output_type": "stream",
     "text": [
      "Original Text: Patient Male, 50-year-old, presented with symptoms of Anemia. The patient reported fever is No, cough is No, fatigue is Yes, difficulty breathing is No. Blood pressure is Normal, cholesterol level is Normal. Diagnosis: Negative.\n",
      "Generated Text: Patient Male, 50-year-old, presented with symptoms of Anemia. The patient reported fever is No, cough is No, fatigue is Yes, difficulty breathing is No. Blood pressure is Normal, cholesterol level is Normal. Diagnosis: Negative.\n",
      "\n",
      "The patient was admitted to the hospital on the morning of the first day of treatment. He was discharged on day 2. After the initial examination, the patient's blood pressure was normal. A blood test was performed on his right hand\n",
      "==================================================\n"
     ]
    },
    {
     "name": "stderr",
     "output_type": "stream",
     "text": [
      "Setting `pad_token_id` to `eos_token_id`:50256 for open-end generation.\n"
     ]
    },
    {
     "name": "stdout",
     "output_type": "stream",
     "text": [
      "Original Text: Patient Male, 50-year-old, presented with symptoms of Anxiety Disorders. The patient reported fever is No, cough is No, fatigue is Yes, difficulty breathing is No. Blood pressure is Normal, cholesterol level is Normal. Diagnosis: Negative.\n",
      "Generated Text: Patient Male, 50-year-old, presented with symptoms of Anxiety Disorders. The patient reported fever is No, cough is No, fatigue is Yes, difficulty breathing is No. Blood pressure is Normal, cholesterol level is Normal. Diagnosis: Negative.\n",
      "\n",
      "Neurological Assessment: Positive.\n",
      "==================================================\n"
     ]
    },
    {
     "name": "stderr",
     "output_type": "stream",
     "text": [
      "Setting `pad_token_id` to `eos_token_id`:50256 for open-end generation.\n"
     ]
    },
    {
     "name": "stdout",
     "output_type": "stream",
     "text": [
      "Original Text: Patient Female, 50-year-old, presented with symptoms of Cholera. The patient reported fever is Yes, cough is No, fatigue is Yes, difficulty breathing is Yes. Blood pressure is High, cholesterol level is High. Diagnosis: Negative.\n",
      "Generated Text: Patient Female, 50-year-old, presented with symptoms of Cholera. The patient reported fever is Yes, cough is No, fatigue is Yes, difficulty breathing is Yes. Blood pressure is High, cholesterol level is High. Diagnosis: Negative.\n",
      "\n",
      "The patient was admitted to the hospital on the morning of the first day of treatment. He was treated with antibiotics and was discharged on day 2. After the initial treatment, the patient had a fever of No. 2, and\n",
      "==================================================\n"
     ]
    },
    {
     "name": "stderr",
     "output_type": "stream",
     "text": [
      "Setting `pad_token_id` to `eos_token_id`:50256 for open-end generation.\n"
     ]
    },
    {
     "name": "stdout",
     "output_type": "stream",
     "text": [
      "Original Text: Patient Female, 50-year-old, presented with symptoms of Cholera. The patient reported fever is Yes, cough is No, fatigue is Yes, difficulty breathing is Yes. Blood pressure is High, cholesterol level is High. Diagnosis: Negative.\n",
      "Generated Text: Patient Female, 50-year-old, presented with symptoms of Cholera. The patient reported fever is Yes, cough is No, fatigue is Yes, difficulty breathing is Yes. Blood pressure is High, cholesterol level is High. Diagnosis: Negative.\n",
      "\n",
      "The patient was admitted to the hospital on the morning of the first day of treatment. He was treated with antibiotics and was discharged on day 2. After the initial treatment, the patient had a fever of No. 2, and\n",
      "==================================================\n"
     ]
    },
    {
     "name": "stderr",
     "output_type": "stream",
     "text": [
      "Setting `pad_token_id` to `eos_token_id`:50256 for open-end generation.\n"
     ]
    },
    {
     "name": "stdout",
     "output_type": "stream",
     "text": [
      "Original Text: Patient Male, 50-year-old, presented with symptoms of Crohn's Disease. The patient reported fever is Yes, cough is Yes, fatigue is Yes, difficulty breathing is No. Blood pressure is Normal, cholesterol level is High. Diagnosis: Negative.\n",
      "Generated Text: Patient Male, 50-year-old, presented with symptoms of Crohn's Disease. The patient reported fever is Yes, cough is Yes, fatigue is Yes, difficulty breathing is No. Blood pressure is Normal, cholesterol level is High. Diagnosis: Negative.\n",
      "\n",
      "Neurological Assessment: Positive.\n",
      "==================================================\n"
     ]
    },
    {
     "name": "stderr",
     "output_type": "stream",
     "text": [
      "Setting `pad_token_id` to `eos_token_id`:50256 for open-end generation.\n"
     ]
    },
    {
     "name": "stdout",
     "output_type": "stream",
     "text": [
      "Original Text: Patient Male, 50-year-old, presented with symptoms of Crohn's Disease. The patient reported fever is No, cough is No, fatigue is Yes, difficulty breathing is No. Blood pressure is Normal, cholesterol level is High. Diagnosis: Negative.\n",
      "Generated Text: Patient Male, 50-year-old, presented with symptoms of Crohn's Disease. The patient reported fever is No, cough is No, fatigue is Yes, difficulty breathing is No. Blood pressure is Normal, cholesterol level is High. Diagnosis: Negative.\n",
      "\n",
      "Neurological Assessment: Positive.\n",
      "==================================================\n"
     ]
    },
    {
     "name": "stderr",
     "output_type": "stream",
     "text": [
      "Setting `pad_token_id` to `eos_token_id`:50256 for open-end generation.\n"
     ]
    },
    {
     "name": "stdout",
     "output_type": "stream",
     "text": [
      "Original Text: Patient Female, 50-year-old, presented with symptoms of Depression. The patient reported fever is No, cough is Yes, fatigue is Yes, difficulty breathing is No. Blood pressure is Low, cholesterol level is Low. Diagnosis: Negative.\n",
      "Generated Text: Patient Female, 50-year-old, presented with symptoms of Depression. The patient reported fever is No, cough is Yes, fatigue is Yes, difficulty breathing is No. Blood pressure is Low, cholesterol level is Low. Diagnosis: Negative.\n",
      "\n",
      "The patient was diagnosed with a history of depression. She was admitted to the hospital with no history. Her symptoms were:\n",
      ". No symptoms. Depression was not present. Patient was discharged from the ICU. A blood test was negative\n",
      "==================================================\n"
     ]
    },
    {
     "name": "stderr",
     "output_type": "stream",
     "text": [
      "Setting `pad_token_id` to `eos_token_id`:50256 for open-end generation.\n"
     ]
    },
    {
     "name": "stdout",
     "output_type": "stream",
     "text": [
      "Original Text: Patient Male, 50-year-old, presented with symptoms of Diabetes. The patient reported fever is No, cough is Yes, fatigue is No, difficulty breathing is No. Blood pressure is Normal, cholesterol level is High. Diagnosis: Negative.\n",
      "Generated Text: Patient Male, 50-year-old, presented with symptoms of Diabetes. The patient reported fever is No, cough is Yes, fatigue is No, difficulty breathing is No. Blood pressure is Normal, cholesterol level is High. Diagnosis: Negative.\n",
      "\n",
      "Diabetes:\n",
      ". A patient with diabetes was diagnosed with a Type 2 diabetes. He was admitted to the hospital with no complications. After a short stay, he was discharged and was treated for a number of days. During this time\n",
      "==================================================\n"
     ]
    },
    {
     "name": "stderr",
     "output_type": "stream",
     "text": [
      "Setting `pad_token_id` to `eos_token_id`:50256 for open-end generation.\n"
     ]
    },
    {
     "name": "stdout",
     "output_type": "stream",
     "text": [
      "Original Text: Patient Male, 50-year-old, presented with symptoms of Endometriosis. The patient reported fever is Yes, cough is No, fatigue is No, difficulty breathing is No. Blood pressure is High, cholesterol level is Normal. Diagnosis: Negative.\n",
      "Generated Text: Patient Male, 50-year-old, presented with symptoms of Endometriosis. The patient reported fever is Yes, cough is No, fatigue is No, difficulty breathing is No. Blood pressure is High, cholesterol level is Normal. Diagnosis: Negative.\n",
      "\n",
      "The patient was diagnosed with Endochondritis. He was admitted to the hospital and was treated with antibiotics. After the antibiotics, he was discharged from the ER. His symptoms were not treated. A few days later, the\n",
      "==================================================\n"
     ]
    },
    {
     "name": "stderr",
     "output_type": "stream",
     "text": [
      "Setting `pad_token_id` to `eos_token_id`:50256 for open-end generation.\n"
     ]
    },
    {
     "name": "stdout",
     "output_type": "stream",
     "text": [
      "Original Text: Patient Female, 50-year-old, presented with symptoms of Hypertension. The patient reported fever is No, cough is Yes, fatigue is No, difficulty breathing is No. Blood pressure is Normal, cholesterol level is Low. Diagnosis: Negative.\n",
      "Generated Text: Patient Female, 50-year-old, presented with symptoms of Hypertension. The patient reported fever is No, cough is Yes, fatigue is No, difficulty breathing is No. Blood pressure is Normal, cholesterol level is Low. Diagnosis: Negative.\n",
      "\n",
      "Neurological Assessment: Positive.\n",
      "==================================================\n"
     ]
    },
    {
     "name": "stderr",
     "output_type": "stream",
     "text": [
      "Setting `pad_token_id` to `eos_token_id`:50256 for open-end generation.\n"
     ]
    },
    {
     "name": "stdout",
     "output_type": "stream",
     "text": [
      "Original Text: Patient Male, 50-year-old, presented with symptoms of Hypothyroidism. The patient reported fever is Yes, cough is Yes, fatigue is Yes, difficulty breathing is No. Blood pressure is Normal, cholesterol level is High. Diagnosis: Negative.\n",
      "Generated Text: Patient Male, 50-year-old, presented with symptoms of Hypothyroidism. The patient reported fever is Yes, cough is Yes, fatigue is Yes, difficulty breathing is No. Blood pressure is Normal, cholesterol level is High. Diagnosis: Negative.\n",
      "\n",
      "Hypothyroxinemia is a condition in which the body produces a high level of a hormone called hypothyronine, which is produced by the thyroid gland. Hypotension is the result of the production of hyp\n",
      "==================================================\n"
     ]
    },
    {
     "name": "stderr",
     "output_type": "stream",
     "text": [
      "Setting `pad_token_id` to `eos_token_id`:50256 for open-end generation.\n"
     ]
    },
    {
     "name": "stdout",
     "output_type": "stream",
     "text": [
      "Original Text: Patient Male, 50-year-old, presented with symptoms of Kidney Cancer. The patient reported fever is No, cough is Yes, fatigue is No, difficulty breathing is No. Blood pressure is Low, cholesterol level is High. Diagnosis: Negative.\n",
      "Generated Text: Patient Male, 50-year-old, presented with symptoms of Kidney Cancer. The patient reported fever is No, cough is Yes, fatigue is No, difficulty breathing is No. Blood pressure is Low, cholesterol level is High. Diagnosis: Negative.\n",
      "\n",
      "The patient was diagnosed with Kidneyscholastic Kid Disease (KMD). The KMD is a type of kidney disease that is caused by a protein called K-cell. K cells are the main source of blood for\n",
      "==================================================\n"
     ]
    },
    {
     "name": "stderr",
     "output_type": "stream",
     "text": [
      "Setting `pad_token_id` to `eos_token_id`:50256 for open-end generation.\n"
     ]
    },
    {
     "name": "stdout",
     "output_type": "stream",
     "text": [
      "Original Text: Patient Male, 50-year-old, presented with symptoms of Kidney Disease. The patient reported fever is No, cough is Yes, fatigue is No, difficulty breathing is Yes. Blood pressure is Normal, cholesterol level is Normal. Diagnosis: Negative.\n",
      "Generated Text: Patient Male, 50-year-old, presented with symptoms of Kidney Disease. The patient reported fever is No, cough is Yes, fatigue is No, difficulty breathing is Yes. Blood pressure is Normal, cholesterol level is Normal. Diagnosis: Negative.\n",
      "\n",
      "The patient was admitted to the hospital on the morning of the first day of treatment. He was discharged on a ventilator. After the ventilation, he was placed in a small room with a bed and a warm blanket\n",
      "==================================================\n"
     ]
    },
    {
     "name": "stderr",
     "output_type": "stream",
     "text": [
      "Setting `pad_token_id` to `eos_token_id`:50256 for open-end generation.\n"
     ]
    },
    {
     "name": "stdout",
     "output_type": "stream",
     "text": [
      "Original Text: Patient Male, 50-year-old, presented with symptoms of Pancreatitis. The patient reported fever is No, cough is Yes, fatigue is No, difficulty breathing is No. Blood pressure is Low, cholesterol level is High. Diagnosis: Negative.\n",
      "Generated Text: Patient Male, 50-year-old, presented with symptoms of Pancreatitis. The patient reported fever is No, cough is Yes, fatigue is No, difficulty breathing is No. Blood pressure is Low, cholesterol level is High. Diagnosis: Negative.\n",
      "\n",
      "Neurological Assessment: Positive.\n",
      "==================================================\n"
     ]
    },
    {
     "name": "stderr",
     "output_type": "stream",
     "text": [
      "Setting `pad_token_id` to `eos_token_id`:50256 for open-end generation.\n"
     ]
    },
    {
     "name": "stdout",
     "output_type": "stream",
     "text": [
      "Original Text: Patient Female, 50-year-old, presented with symptoms of Rheumatoid Arthritis. The patient reported fever is No, cough is Yes, fatigue is No, difficulty breathing is No. Blood pressure is Low, cholesterol level is Normal. Diagnosis: Negative.\n",
      "Generated Text: Patient Female, 50-year-old, presented with symptoms of Rheumatoid Arthritis. The patient reported fever is No, cough is Yes, fatigue is No, difficulty breathing is No. Blood pressure is Low, cholesterol level is Normal. Diagnosis: Negative.\n",
      "\n",
      "Rheumatic Disease:\n",
      ". Rhea is a common and common symptom of rheumatism. It is caused by a bacterial infection of the skin. This infection is usually caused when the patient is exposed\n",
      "==================================================\n"
     ]
    },
    {
     "name": "stderr",
     "output_type": "stream",
     "text": [
      "Setting `pad_token_id` to `eos_token_id`:50256 for open-end generation.\n"
     ]
    },
    {
     "name": "stdout",
     "output_type": "stream",
     "text": [
      "Original Text: Patient Male, 50-year-old, presented with symptoms of Sepsis. The patient reported fever is Yes, cough is Yes, fatigue is Yes, difficulty breathing is No. Blood pressure is Normal, cholesterol level is Normal. Diagnosis: Negative.\n",
      "Generated Text: Patient Male, 50-year-old, presented with symptoms of Sepsis. The patient reported fever is Yes, cough is Yes, fatigue is Yes, difficulty breathing is No. Blood pressure is Normal, cholesterol level is Normal. Diagnosis: Negative.\n",
      "\n",
      "Neurological Assessment: Positive.\n",
      "==================================================\n"
     ]
    },
    {
     "name": "stderr",
     "output_type": "stream",
     "text": [
      "Setting `pad_token_id` to `eos_token_id`:50256 for open-end generation.\n"
     ]
    },
    {
     "name": "stdout",
     "output_type": "stream",
     "text": [
      "Original Text: Patient Male, 50-year-old, presented with symptoms of Sleep Apnea. The patient reported fever is Yes, cough is No, fatigue is Yes, difficulty breathing is Yes. Blood pressure is High, cholesterol level is High. Diagnosis: Negative.\n",
      "Generated Text: Patient Male, 50-year-old, presented with symptoms of Sleep Apnea. The patient reported fever is Yes, cough is No, fatigue is Yes, difficulty breathing is Yes. Blood pressure is High, cholesterol level is High. Diagnosis: Negative.\n",
      "\n",
      "Neurological Assessment: Positive.\n",
      "==================================================\n"
     ]
    },
    {
     "name": "stderr",
     "output_type": "stream",
     "text": [
      "Setting `pad_token_id` to `eos_token_id`:50256 for open-end generation.\n"
     ]
    },
    {
     "name": "stdout",
     "output_type": "stream",
     "text": [
      "Original Text: Patient Male, 50-year-old, presented with symptoms of Urinary Tract Infection. The patient reported fever is Yes, cough is Yes, fatigue is No, difficulty breathing is Yes. Blood pressure is High, cholesterol level is Normal. Diagnosis: Negative.\n",
      "Generated Text: Patient Male, 50-year-old, presented with symptoms of Urinary Tract Infection. The patient reported fever is Yes, cough is Yes, fatigue is No, difficulty breathing is Yes. Blood pressure is High, cholesterol level is Normal. Diagnosis: Negative.\n",
      "\n",
      "The patient was admitted to the hospital on the morning of the first day of treatment. He was discharged on day 2. After the initial examination, the patient's blood pressure was normal. A blood test was performed\n",
      "==================================================\n"
     ]
    },
    {
     "name": "stderr",
     "output_type": "stream",
     "text": [
      "Setting `pad_token_id` to `eos_token_id`:50256 for open-end generation.\n"
     ]
    },
    {
     "name": "stdout",
     "output_type": "stream",
     "text": [
      "Original Text: Patient Female, 50-year-old, presented with symptoms of Asthma. The patient reported fever is Yes, cough is Yes, fatigue is Yes, difficulty breathing is Yes. Blood pressure is Normal, cholesterol level is High. Diagnosis: Positive.\n",
      "Generated Text: Patient Female, 50-year-old, presented with symptoms of Asthma. The patient reported fever is Yes, cough is Yes, fatigue is Yes, difficulty breathing is Yes. Blood pressure is Normal, cholesterol level is High. Diagnosis: Positive.\n",
      "\n",
      "Asteroid Exposure: No. No, no, No\n",
      ". Yes\n",
      ", Yes No No Yes Yes (No) No (Yes)\n",
      " (Not Applicable) Yes/No\n",
      ": Yes / No / Yes Not\n",
      "==================================================\n"
     ]
    },
    {
     "name": "stderr",
     "output_type": "stream",
     "text": [
      "Setting `pad_token_id` to `eos_token_id`:50256 for open-end generation.\n"
     ]
    },
    {
     "name": "stdout",
     "output_type": "stream",
     "text": [
      "Original Text: Patient Male, 50-year-old, presented with symptoms of Bronchitis. The patient reported fever is Yes, cough is Yes, fatigue is Yes, difficulty breathing is Yes. Blood pressure is High, cholesterol level is High. Diagnosis: Positive.\n",
      "Generated Text: Patient Male, 50-year-old, presented with symptoms of Bronchitis. The patient reported fever is Yes, cough is Yes, fatigue is Yes, difficulty breathing is Yes. Blood pressure is High, cholesterol level is High. Diagnosis: Positive.\n",
      "\n",
      "Neurological Assessment: Yes\n",
      ".\n",
      "==================================================\n"
     ]
    },
    {
     "name": "stderr",
     "output_type": "stream",
     "text": [
      "Setting `pad_token_id` to `eos_token_id`:50256 for open-end generation.\n"
     ]
    },
    {
     "name": "stdout",
     "output_type": "stream",
     "text": [
      "Original Text: Patient Female, 50-year-old, presented with symptoms of Down Syndrome. The patient reported fever is No, cough is No, fatigue is Yes, difficulty breathing is No. Blood pressure is High, cholesterol level is High. Diagnosis: Positive.\n",
      "Generated Text: Patient Female, 50-year-old, presented with symptoms of Down Syndrome. The patient reported fever is No, cough is No, fatigue is Yes, difficulty breathing is No. Blood pressure is High, cholesterol level is High. Diagnosis: Positive.\n",
      "\n",
      "Neurological Assessment: Diagnostic and Statistical Manual of Mental Disorders, Fourth Edition (DSM-IV), Fourth edition (Fourth Edition), Revised Edition, Revised edition, and the American Psychiatric Association's Diagnostics Manual for Mental\n",
      "==================================================\n"
     ]
    },
    {
     "name": "stderr",
     "output_type": "stream",
     "text": [
      "Setting `pad_token_id` to `eos_token_id`:50256 for open-end generation.\n"
     ]
    },
    {
     "name": "stdout",
     "output_type": "stream",
     "text": [
      "Original Text: Patient Male, 50-year-old, presented with symptoms of Ebola Virus. The patient reported fever is Yes, cough is Yes, fatigue is Yes, difficulty breathing is Yes. Blood pressure is Normal, cholesterol level is Normal. Diagnosis: Positive.\n",
      "Generated Text: Patient Male, 50-year-old, presented with symptoms of Ebola Virus. The patient reported fever is Yes, cough is Yes, fatigue is Yes, difficulty breathing is Yes. Blood pressure is Normal, cholesterol level is Normal. Diagnosis: Positive.\n",
      "\n",
      "Ebola Virus:\n",
      ". Ebola virus is a virus that is transmitted by the bite of a mosquito. It is spread by direct contact with bodily fluids. Symptoms: Fever, headache, muscle pain, weakness, and weakness.\n",
      "==================================================\n"
     ]
    },
    {
     "name": "stderr",
     "output_type": "stream",
     "text": [
      "Setting `pad_token_id` to `eos_token_id`:50256 for open-end generation.\n"
     ]
    },
    {
     "name": "stdout",
     "output_type": "stream",
     "text": [
      "Original Text: Patient Male, 50-year-old, presented with symptoms of Ebola Virus. The patient reported fever is Yes, cough is Yes, fatigue is Yes, difficulty breathing is Yes. Blood pressure is Normal, cholesterol level is Normal. Diagnosis: Positive.\n",
      "Generated Text: Patient Male, 50-year-old, presented with symptoms of Ebola Virus. The patient reported fever is Yes, cough is Yes, fatigue is Yes, difficulty breathing is Yes. Blood pressure is Normal, cholesterol level is Normal. Diagnosis: Positive.\n",
      "\n",
      "Ebola Virus:\n",
      ". Ebola virus is a virus that is transmitted by the bite of a mosquito. It is spread by direct contact with bodily fluids. Symptoms: Fever, headache, muscle pain, weakness, and weakness.\n",
      "==================================================\n"
     ]
    },
    {
     "name": "stderr",
     "output_type": "stream",
     "text": [
      "Setting `pad_token_id` to `eos_token_id`:50256 for open-end generation.\n"
     ]
    },
    {
     "name": "stdout",
     "output_type": "stream",
     "text": [
      "Original Text: Patient Female, 50-year-old, presented with symptoms of Eczema. The patient reported fever is No, cough is Yes, fatigue is No, difficulty breathing is No. Blood pressure is High, cholesterol level is High. Diagnosis: Positive.\n",
      "Generated Text: Patient Female, 50-year-old, presented with symptoms of Eczema. The patient reported fever is No, cough is Yes, fatigue is No, difficulty breathing is No. Blood pressure is High, cholesterol level is High. Diagnosis: Positive.\n",
      "\n",
      "Eczema is a common and serious medical condition that affects the body's immune system. It is caused by a virus that causes a small amount of bacteria to enter the bloodstream. Symptoms include:\n",
      ". A fever, headache\n",
      "==================================================\n"
     ]
    },
    {
     "name": "stderr",
     "output_type": "stream",
     "text": [
      "Setting `pad_token_id` to `eos_token_id`:50256 for open-end generation.\n"
     ]
    },
    {
     "name": "stdout",
     "output_type": "stream",
     "text": [
      "Original Text: Patient Female, 50-year-old, presented with symptoms of Gastroenteritis. The patient reported fever is Yes, cough is Yes, fatigue is Yes, difficulty breathing is Yes. Blood pressure is High, cholesterol level is Normal. Diagnosis: Positive.\n",
      "Generated Text: Patient Female, 50-year-old, presented with symptoms of Gastroenteritis. The patient reported fever is Yes, cough is Yes, fatigue is Yes, difficulty breathing is Yes. Blood pressure is High, cholesterol level is Normal. Diagnosis: Positive.\n",
      "\n",
      "Patients:\n",
      ". Patient was admitted to the hospital on the day of the incident. He was treated with antibiotics and was discharged on a ventilator. After the patient was taken to a hospital, he was transferred\n",
      "==================================================\n"
     ]
    },
    {
     "name": "stderr",
     "output_type": "stream",
     "text": [
      "Setting `pad_token_id` to `eos_token_id`:50256 for open-end generation.\n"
     ]
    },
    {
     "name": "stdout",
     "output_type": "stream",
     "text": [
      "Original Text: Patient Female, 50-year-old, presented with symptoms of Klinefelter Syndrome. The patient reported fever is No, cough is No, fatigue is Yes, difficulty breathing is No. Blood pressure is Normal, cholesterol level is Normal. Diagnosis: Positive.\n",
      "Generated Text: Patient Female, 50-year-old, presented with symptoms of Klinefelter Syndrome. The patient reported fever is No, cough is No, fatigue is Yes, difficulty breathing is No. Blood pressure is Normal, cholesterol level is Normal. Diagnosis: Positive.\n",
      "\n",
      "Neurological: No\n",
      ".\n",
      "==================================================\n"
     ]
    },
    {
     "name": "stderr",
     "output_type": "stream",
     "text": [
      "Setting `pad_token_id` to `eos_token_id`:50256 for open-end generation.\n"
     ]
    },
    {
     "name": "stdout",
     "output_type": "stream",
     "text": [
      "Original Text: Patient Male, 50-year-old, presented with symptoms of Liver Cancer. The patient reported fever is No, cough is Yes, fatigue is Yes, difficulty breathing is Yes. Blood pressure is High, cholesterol level is High. Diagnosis: Positive.\n",
      "Generated Text: Patient Male, 50-year-old, presented with symptoms of Liver Cancer. The patient reported fever is No, cough is Yes, fatigue is Yes, difficulty breathing is Yes. Blood pressure is High, cholesterol level is High. Diagnosis: Positive.\n",
      "\n",
      "Patients:\n",
      ". Patient was diagnosed with Liver cancer. He was admitted to the hospital with a history of liver cancer and was treated with anti-inflammatory drugs. After the treatment, he was discharged from the ICU. His\n",
      "==================================================\n"
     ]
    },
    {
     "name": "stderr",
     "output_type": "stream",
     "text": [
      "Setting `pad_token_id` to `eos_token_id`:50256 for open-end generation.\n"
     ]
    },
    {
     "name": "stdout",
     "output_type": "stream",
     "text": [
      "Original Text: Patient Male, 50-year-old, presented with symptoms of Lyme Disease. The patient reported fever is Yes, cough is No, fatigue is No, difficulty breathing is No. Blood pressure is Normal, cholesterol level is High. Diagnosis: Positive.\n",
      "Generated Text: Patient Male, 50-year-old, presented with symptoms of Lyme Disease. The patient reported fever is Yes, cough is No, fatigue is No, difficulty breathing is No. Blood pressure is Normal, cholesterol level is High. Diagnosis: Positive.\n",
      "\n",
      "Neurological Assessment: No\n",
      ". Clinical Features:\n",
      "- No signs of infection. No symptoms. Patient was admitted to the hospital with a history of symptoms and no signs or symptoms suggestive of a Lyme disease. He was\n",
      "==================================================\n"
     ]
    },
    {
     "name": "stderr",
     "output_type": "stream",
     "text": [
      "Setting `pad_token_id` to `eos_token_id`:50256 for open-end generation.\n"
     ]
    },
    {
     "name": "stdout",
     "output_type": "stream",
     "text": [
      "Original Text: Patient Male, 50-year-old, presented with symptoms of Lyme Disease. The patient reported fever is Yes, cough is No, fatigue is No, difficulty breathing is No. Blood pressure is Normal, cholesterol level is High. Diagnosis: Positive.\n",
      "Generated Text: Patient Male, 50-year-old, presented with symptoms of Lyme Disease. The patient reported fever is Yes, cough is No, fatigue is No, difficulty breathing is No. Blood pressure is Normal, cholesterol level is High. Diagnosis: Positive.\n",
      "\n",
      "Neurological Assessment: No\n",
      ". Clinical Features:\n",
      "- No signs of infection. No symptoms. Patient was admitted to the hospital with a history of symptoms and no signs or symptoms suggestive of a Lyme disease. He was\n",
      "==================================================\n"
     ]
    },
    {
     "name": "stderr",
     "output_type": "stream",
     "text": [
      "Setting `pad_token_id` to `eos_token_id`:50256 for open-end generation.\n"
     ]
    },
    {
     "name": "stdout",
     "output_type": "stream",
     "text": [
      "Original Text: Patient Female, 50-year-old, presented with symptoms of Pancreatic Cancer. The patient reported fever is No, cough is No, fatigue is Yes, difficulty breathing is No. Blood pressure is High, cholesterol level is High. Diagnosis: Positive.\n",
      "Generated Text: Patient Female, 50-year-old, presented with symptoms of Pancreatic Cancer. The patient reported fever is No, cough is No, fatigue is Yes, difficulty breathing is No. Blood pressure is High, cholesterol level is High. Diagnosis: Positive.\n",
      "\n",
      "Neuropathy: No\n",
      ". No Encephalopathy: Yes\n",
      ", No Neuropathy is a condition that can cause a person to experience a feeling of pain or discomfort. It is caused by a brain injury or\n",
      "==================================================\n"
     ]
    },
    {
     "name": "stderr",
     "output_type": "stream",
     "text": [
      "Setting `pad_token_id` to `eos_token_id`:50256 for open-end generation.\n"
     ]
    },
    {
     "name": "stdout",
     "output_type": "stream",
     "text": [
      "Original Text: Patient Female, 50-year-old, presented with symptoms of Pneumothorax. The patient reported fever is No, cough is No, fatigue is Yes, difficulty breathing is Yes. Blood pressure is High, cholesterol level is High. Diagnosis: Positive.\n",
      "Generated Text: Patient Female, 50-year-old, presented with symptoms of Pneumothorax. The patient reported fever is No, cough is No, fatigue is Yes, difficulty breathing is Yes. Blood pressure is High, cholesterol level is High. Diagnosis: Positive.\n",
      "\n",
      "Patients:\n",
      ". Patient was admitted to the hospital on the day of the incident. He was treated with antibiotics and was discharged on a ventilator. After the patient was taken to a hospital, he was\n",
      "==================================================\n"
     ]
    },
    {
     "name": "stderr",
     "output_type": "stream",
     "text": [
      "Setting `pad_token_id` to `eos_token_id`:50256 for open-end generation.\n"
     ]
    },
    {
     "name": "stdout",
     "output_type": "stream",
     "text": [
      "Original Text: Patient Male, 50-year-old, presented with symptoms of Stroke. The patient reported fever is No, cough is Yes, fatigue is Yes, difficulty breathing is Yes. Blood pressure is High, cholesterol level is High. Diagnosis: Positive.\n",
      "Generated Text: Patient Male, 50-year-old, presented with symptoms of Stroke. The patient reported fever is No, cough is Yes, fatigue is Yes, difficulty breathing is Yes. Blood pressure is High, cholesterol level is High. Diagnosis: Positive.\n",
      "\n",
      "Neurological Assessment: Yes\n",
      ". Cardiac Arrest: No\n",
      ", Cardiorespiratory Arrest, No. of Cardio-Vascular Arrests: 1\n",
      ": Cardiovascular Arrest\n",
      " (Cardiovascular Card:\n",
      "==================================================\n"
     ]
    },
    {
     "name": "stderr",
     "output_type": "stream",
     "text": [
      "Setting `pad_token_id` to `eos_token_id`:50256 for open-end generation.\n"
     ]
    },
    {
     "name": "stdout",
     "output_type": "stream",
     "text": [
      "Original Text: Patient Female, 50-year-old, presented with symptoms of Ulcerative Colitis. The patient reported fever is No, cough is Yes, fatigue is Yes, difficulty breathing is No. Blood pressure is Normal, cholesterol level is High. Diagnosis: Positive.\n",
      "Generated Text: Patient Female, 50-year-old, presented with symptoms of Ulcerative Colitis. The patient reported fever is No, cough is Yes, fatigue is Yes, difficulty breathing is No. Blood pressure is Normal, cholesterol level is High. Diagnosis: Positive.\n",
      "\n",
      "Ulceration: No\n",
      ". No Encephalopathy: Yes\n",
      ", No No Other:\n",
      " (No)\n",
      "The patient was admitted to the hospital on the morning of the first day of treatment. He\n",
      "==================================================\n"
     ]
    },
    {
     "name": "stderr",
     "output_type": "stream",
     "text": [
      "Setting `pad_token_id` to `eos_token_id`:50256 for open-end generation.\n"
     ]
    },
    {
     "name": "stdout",
     "output_type": "stream",
     "text": [
      "Original Text: Patient Male, 52-year-old, presented with symptoms of Hypertension. The patient reported fever is Yes, cough is Yes, fatigue is No, difficulty breathing is No. Blood pressure is Normal, cholesterol level is Low. Diagnosis: Negative.\n",
      "Generated Text: Patient Male, 52-year-old, presented with symptoms of Hypertension. The patient reported fever is Yes, cough is Yes, fatigue is No, difficulty breathing is No. Blood pressure is Normal, cholesterol level is Low. Diagnosis: Negative.\n",
      "\n",
      "Neurological Assessment: Positive.\n",
      "==================================================\n"
     ]
    },
    {
     "name": "stderr",
     "output_type": "stream",
     "text": [
      "Setting `pad_token_id` to `eos_token_id`:50256 for open-end generation.\n"
     ]
    },
    {
     "name": "stdout",
     "output_type": "stream",
     "text": [
      "Original Text: Patient Male, 52-year-old, presented with symptoms of Multiple Sclerosis. The patient reported fever is No, cough is Yes, fatigue is Yes, difficulty breathing is No. Blood pressure is Normal, cholesterol level is Normal. Diagnosis: Negative.\n",
      "Generated Text: Patient Male, 52-year-old, presented with symptoms of Multiple Sclerosis. The patient reported fever is No, cough is Yes, fatigue is Yes, difficulty breathing is No. Blood pressure is Normal, cholesterol level is Normal. Diagnosis: Negative.\n",
      "\n",
      "Neurological Assessment: Positive.\n",
      "==================================================\n"
     ]
    },
    {
     "name": "stderr",
     "output_type": "stream",
     "text": [
      "Setting `pad_token_id` to `eos_token_id`:50256 for open-end generation.\n"
     ]
    },
    {
     "name": "stdout",
     "output_type": "stream",
     "text": [
      "Original Text: Patient Male, 52-year-old, presented with symptoms of Multiple Sclerosis. The patient reported fever is No, cough is Yes, fatigue is Yes, difficulty breathing is No. Blood pressure is Normal, cholesterol level is Normal. Diagnosis: Negative.\n",
      "Generated Text: Patient Male, 52-year-old, presented with symptoms of Multiple Sclerosis. The patient reported fever is No, cough is Yes, fatigue is Yes, difficulty breathing is No. Blood pressure is Normal, cholesterol level is Normal. Diagnosis: Negative.\n",
      "\n",
      "Neurological Assessment: Positive.\n",
      "==================================================\n"
     ]
    },
    {
     "name": "stderr",
     "output_type": "stream",
     "text": [
      "Setting `pad_token_id` to `eos_token_id`:50256 for open-end generation.\n"
     ]
    },
    {
     "name": "stdout",
     "output_type": "stream",
     "text": [
      "Original Text: Patient Male, 55-year-old, presented with symptoms of Appendicitis. The patient reported fever is Yes, cough is No, fatigue is Yes, difficulty breathing is No. Blood pressure is Normal, cholesterol level is Normal. Diagnosis: Negative.\n",
      "Generated Text: Patient Male, 55-year-old, presented with symptoms of Appendicitis. The patient reported fever is Yes, cough is No, fatigue is Yes, difficulty breathing is No. Blood pressure is Normal, cholesterol level is Normal. Diagnosis: Negative.\n",
      "\n",
      "Neurological Assessment: Positive.\n",
      "==================================================\n"
     ]
    },
    {
     "name": "stderr",
     "output_type": "stream",
     "text": [
      "Setting `pad_token_id` to `eos_token_id`:50256 for open-end generation.\n"
     ]
    },
    {
     "name": "stdout",
     "output_type": "stream",
     "text": [
      "Original Text: Patient Male, 55-year-old, presented with symptoms of Bronchitis. The patient reported fever is No, cough is No, fatigue is Yes, difficulty breathing is Yes. Blood pressure is High, cholesterol level is High. Diagnosis: Negative.\n",
      "Generated Text: Patient Male, 55-year-old, presented with symptoms of Bronchitis. The patient reported fever is No, cough is No, fatigue is Yes, difficulty breathing is Yes. Blood pressure is High, cholesterol level is High. Diagnosis: Negative.\n",
      "\n",
      "Neurological Assessment: Positive.\n",
      "==================================================\n"
     ]
    },
    {
     "name": "stderr",
     "output_type": "stream",
     "text": [
      "Setting `pad_token_id` to `eos_token_id`:50256 for open-end generation.\n"
     ]
    },
    {
     "name": "stdout",
     "output_type": "stream",
     "text": [
      "Original Text: Patient Male, 55-year-old, presented with symptoms of Bronchitis. The patient reported fever is Yes, cough is Yes, fatigue is Yes, difficulty breathing is Yes. Blood pressure is High, cholesterol level is Normal. Diagnosis: Negative.\n",
      "Generated Text: Patient Male, 55-year-old, presented with symptoms of Bronchitis. The patient reported fever is Yes, cough is Yes, fatigue is Yes, difficulty breathing is Yes. Blood pressure is High, cholesterol level is Normal. Diagnosis: Negative.\n",
      "\n",
      "Neurological Assessment: Positive.\n",
      "==================================================\n"
     ]
    },
    {
     "name": "stderr",
     "output_type": "stream",
     "text": [
      "Setting `pad_token_id` to `eos_token_id`:50256 for open-end generation.\n"
     ]
    },
    {
     "name": "stdout",
     "output_type": "stream",
     "text": [
      "Original Text: Patient Male, 55-year-old, presented with symptoms of Common Cold. The patient reported fever is Yes, cough is No, fatigue is Yes, difficulty breathing is Yes. Blood pressure is Normal, cholesterol level is Low. Diagnosis: Negative.\n",
      "Generated Text: Patient Male, 55-year-old, presented with symptoms of Common Cold. The patient reported fever is Yes, cough is No, fatigue is Yes, difficulty breathing is Yes. Blood pressure is Normal, cholesterol level is Low. Diagnosis: Negative.\n",
      "\n",
      "Neurological Assessment: Positive.\n",
      "==================================================\n"
     ]
    },
    {
     "name": "stderr",
     "output_type": "stream",
     "text": [
      "Setting `pad_token_id` to `eos_token_id`:50256 for open-end generation.\n"
     ]
    },
    {
     "name": "stdout",
     "output_type": "stream",
     "text": [
      "Original Text: Patient Female, 55-year-old, presented with symptoms of Diabetes. The patient reported fever is No, cough is Yes, fatigue is No, difficulty breathing is No. Blood pressure is Normal, cholesterol level is High. Diagnosis: Negative.\n",
      "Generated Text: Patient Female, 55-year-old, presented with symptoms of Diabetes. The patient reported fever is No, cough is Yes, fatigue is No, difficulty breathing is No. Blood pressure is Normal, cholesterol level is High. Diagnosis: Negative.\n",
      "\n",
      "Diabetes:\n",
      ". A patient with diabetes was diagnosed with a Type 2 diabetes. He was admitted to the hospital with no complications. After a short stay, he was discharged with the diagnosis of Type 1 diabetes and was treated with insulin\n",
      "==================================================\n"
     ]
    },
    {
     "name": "stderr",
     "output_type": "stream",
     "text": [
      "Setting `pad_token_id` to `eos_token_id`:50256 for open-end generation.\n"
     ]
    },
    {
     "name": "stdout",
     "output_type": "stream",
     "text": [
      "Original Text: Patient Male, 55-year-old, presented with symptoms of Esophageal Cancer. The patient reported fever is No, cough is No, fatigue is Yes, difficulty breathing is No. Blood pressure is Normal, cholesterol level is Normal. Diagnosis: Negative.\n",
      "Generated Text: Patient Male, 55-year-old, presented with symptoms of Esophageal Cancer. The patient reported fever is No, cough is No, fatigue is Yes, difficulty breathing is No. Blood pressure is Normal, cholesterol level is Normal. Diagnosis: Negative.\n",
      "\n",
      "Ebola Outbreak:\n",
      ". A patient with a fever of 1.5 to 2.0 mm Hg was admitted to the hospital. He was treated with antibiotics and was discharged. After the patient was transferred\n",
      "==================================================\n"
     ]
    },
    {
     "name": "stderr",
     "output_type": "stream",
     "text": [
      "Setting `pad_token_id` to `eos_token_id`:50256 for open-end generation.\n"
     ]
    },
    {
     "name": "stdout",
     "output_type": "stream",
     "text": [
      "Original Text: Patient Female, 55-year-old, presented with symptoms of HIV/AIDS. The patient reported fever is Yes, cough is No, fatigue is No, difficulty breathing is No. Blood pressure is High, cholesterol level is High. Diagnosis: Negative.\n",
      "Generated Text: Patient Female, 55-year-old, presented with symptoms of HIV/AIDS. The patient reported fever is Yes, cough is No, fatigue is No, difficulty breathing is No. Blood pressure is High, cholesterol level is High. Diagnosis: Negative.\n",
      "\n",
      "The patient was diagnosed with HIV. Treatment:\n",
      ". HIV-positive patient received a blood transfusion. Patient was given a plasma transfusions. After the transfuse, the patient underwent a biopsy. A blood test was\n",
      "==================================================\n"
     ]
    },
    {
     "name": "stderr",
     "output_type": "stream",
     "text": [
      "Setting `pad_token_id` to `eos_token_id`:50256 for open-end generation.\n"
     ]
    },
    {
     "name": "stdout",
     "output_type": "stream",
     "text": [
      "Original Text: Patient Female, 55-year-old, presented with symptoms of HIV/AIDS. The patient reported fever is Yes, cough is No, fatigue is No, difficulty breathing is No. Blood pressure is High, cholesterol level is High. Diagnosis: Negative.\n",
      "Generated Text: Patient Female, 55-year-old, presented with symptoms of HIV/AIDS. The patient reported fever is Yes, cough is No, fatigue is No, difficulty breathing is No. Blood pressure is High, cholesterol level is High. Diagnosis: Negative.\n",
      "\n",
      "The patient was diagnosed with HIV. Treatment:\n",
      ". HIV-positive patient received a blood transfusion. Patient was given a plasma transfusions. After the transfuse, the patient underwent a biopsy. A blood test was\n",
      "==================================================\n"
     ]
    },
    {
     "name": "stderr",
     "output_type": "stream",
     "text": [
      "Setting `pad_token_id` to `eos_token_id`:50256 for open-end generation.\n"
     ]
    },
    {
     "name": "stdout",
     "output_type": "stream",
     "text": [
      "Original Text: Patient Female, 55-year-old, presented with symptoms of Hypertension. The patient reported fever is No, cough is Yes, fatigue is No, difficulty breathing is No. Blood pressure is Normal, cholesterol level is Low. Diagnosis: Negative.\n",
      "Generated Text: Patient Female, 55-year-old, presented with symptoms of Hypertension. The patient reported fever is No, cough is Yes, fatigue is No, difficulty breathing is No. Blood pressure is Normal, cholesterol level is Low. Diagnosis: Negative.\n",
      "\n",
      "Neurological Assessment: Positive.\n",
      "==================================================\n"
     ]
    },
    {
     "name": "stderr",
     "output_type": "stream",
     "text": [
      "Setting `pad_token_id` to `eos_token_id`:50256 for open-end generation.\n"
     ]
    },
    {
     "name": "stdout",
     "output_type": "stream",
     "text": [
      "Original Text: Patient Male, 55-year-old, presented with symptoms of Liver Disease. The patient reported fever is No, cough is Yes, fatigue is Yes, difficulty breathing is No. Blood pressure is High, cholesterol level is Low. Diagnosis: Negative.\n",
      "Generated Text: Patient Male, 55-year-old, presented with symptoms of Liver Disease. The patient reported fever is No, cough is Yes, fatigue is Yes, difficulty breathing is No. Blood pressure is High, cholesterol level is Low. Diagnosis: Negative.\n",
      "\n",
      "The patient was admitted to the hospital on the morning of the first day of treatment. He was discharged on a short notice. After the initial examination, the patient's blood pressure was normal. A blood test was performed on him.\n",
      "==================================================\n"
     ]
    },
    {
     "name": "stderr",
     "output_type": "stream",
     "text": [
      "Setting `pad_token_id` to `eos_token_id`:50256 for open-end generation.\n"
     ]
    },
    {
     "name": "stdout",
     "output_type": "stream",
     "text": [
      "Original Text: Patient Male, 55-year-old, presented with symptoms of Marfan Syndrome. The patient reported fever is No, cough is No, fatigue is Yes, difficulty breathing is No. Blood pressure is High, cholesterol level is High. Diagnosis: Negative.\n",
      "Generated Text: Patient Male, 55-year-old, presented with symptoms of Marfan Syndrome. The patient reported fever is No, cough is No, fatigue is Yes, difficulty breathing is No. Blood pressure is High, cholesterol level is High. Diagnosis: Negative.\n",
      "\n",
      "The patient was diagnosed with Marfroid Syndrome, a rare genetic disorder that causes a person to have a high blood pressure. This condition is caused by a mutation in the gene for the enzyme that makes the blood sugar rise.\n",
      "==================================================\n"
     ]
    },
    {
     "ename": "KeyboardInterrupt",
     "evalue": "",
     "output_type": "error",
     "traceback": [
      "\u001B[1;31m---------------------------------------------------------------------------\u001B[0m",
      "\u001B[1;31mKeyboardInterrupt\u001B[0m                         Traceback (most recent call last)",
      "Cell \u001B[1;32mIn[12], line 30\u001B[0m\n\u001B[0;32m     28\u001B[0m input_ids \u001B[38;5;241m=\u001B[39m tokenizer\u001B[38;5;241m.\u001B[39mencode(text_description, return_tensors\u001B[38;5;241m=\u001B[39m\u001B[38;5;124m\"\u001B[39m\u001B[38;5;124mpt\u001B[39m\u001B[38;5;124m\"\u001B[39m)\n\u001B[0;32m     29\u001B[0m attention_mask \u001B[38;5;241m=\u001B[39m torch\u001B[38;5;241m.\u001B[39mones(input_ids\u001B[38;5;241m.\u001B[39mshape, dtype\u001B[38;5;241m=\u001B[39mtorch\u001B[38;5;241m.\u001B[39mlong)  \u001B[38;5;66;03m# Create attention mask\u001B[39;00m\n\u001B[1;32m---> 30\u001B[0m output \u001B[38;5;241m=\u001B[39m \u001B[43mmodel\u001B[49m\u001B[38;5;241;43m.\u001B[39;49m\u001B[43mgenerate\u001B[49m\u001B[43m(\u001B[49m\u001B[43minput_ids\u001B[49m\u001B[43m,\u001B[49m\u001B[43m \u001B[49m\u001B[43mattention_mask\u001B[49m\u001B[38;5;241;43m=\u001B[39;49m\u001B[43mattention_mask\u001B[49m\u001B[43m,\u001B[49m\u001B[43m \u001B[49m\u001B[43mmax_length\u001B[49m\u001B[38;5;241;43m=\u001B[39;49m\u001B[38;5;241;43m100\u001B[39;49m\u001B[43m,\u001B[49m\u001B[43m \u001B[49m\u001B[43mnum_return_sequences\u001B[49m\u001B[38;5;241;43m=\u001B[39;49m\u001B[38;5;241;43m1\u001B[39;49m\u001B[43m,\u001B[49m\u001B[43m \u001B[49m\u001B[43mno_repeat_ngram_size\u001B[49m\u001B[38;5;241;43m=\u001B[39;49m\u001B[38;5;241;43m2\u001B[39;49m\u001B[43m,\u001B[49m\u001B[43m \u001B[49m\u001B[43mtop_k\u001B[49m\u001B[38;5;241;43m=\u001B[39;49m\u001B[38;5;241;43m50\u001B[39;49m\u001B[43m,\u001B[49m\u001B[43m \u001B[49m\u001B[43mtop_p\u001B[49m\u001B[38;5;241;43m=\u001B[39;49m\u001B[38;5;241;43m0.95\u001B[39;49m\u001B[43m)\u001B[49m\n\u001B[0;32m     31\u001B[0m generated_text \u001B[38;5;241m=\u001B[39m tokenizer\u001B[38;5;241m.\u001B[39mdecode(output[\u001B[38;5;241m0\u001B[39m], skip_special_tokens\u001B[38;5;241m=\u001B[39m\u001B[38;5;28;01mTrue\u001B[39;00m)\n\u001B[0;32m     33\u001B[0m \u001B[38;5;28mprint\u001B[39m(\u001B[38;5;124m\"\u001B[39m\u001B[38;5;124mOriginal Text:\u001B[39m\u001B[38;5;124m\"\u001B[39m, text_description)\n",
      "File \u001B[1;32mc:\\Users\\maxim\\Lib\\site-packages\\torch\\utils\\_contextlib.py:115\u001B[0m, in \u001B[0;36mcontext_decorator.<locals>.decorate_context\u001B[1;34m(*args, **kwargs)\u001B[0m\n\u001B[0;32m    112\u001B[0m \u001B[38;5;129m@functools\u001B[39m\u001B[38;5;241m.\u001B[39mwraps(func)\n\u001B[0;32m    113\u001B[0m \u001B[38;5;28;01mdef\u001B[39;00m \u001B[38;5;21mdecorate_context\u001B[39m(\u001B[38;5;241m*\u001B[39margs, \u001B[38;5;241m*\u001B[39m\u001B[38;5;241m*\u001B[39mkwargs):\n\u001B[0;32m    114\u001B[0m     \u001B[38;5;28;01mwith\u001B[39;00m ctx_factory():\n\u001B[1;32m--> 115\u001B[0m         \u001B[38;5;28;01mreturn\u001B[39;00m \u001B[43mfunc\u001B[49m\u001B[43m(\u001B[49m\u001B[38;5;241;43m*\u001B[39;49m\u001B[43margs\u001B[49m\u001B[43m,\u001B[49m\u001B[43m \u001B[49m\u001B[38;5;241;43m*\u001B[39;49m\u001B[38;5;241;43m*\u001B[39;49m\u001B[43mkwargs\u001B[49m\u001B[43m)\u001B[49m\n",
      "File \u001B[1;32mc:\\Users\\maxim\\Lib\\site-packages\\transformers\\generation\\utils.py:1718\u001B[0m, in \u001B[0;36mGenerationMixin.generate\u001B[1;34m(self, inputs, generation_config, logits_processor, stopping_criteria, prefix_allowed_tokens_fn, synced_gpus, assistant_model, streamer, negative_prompt_ids, negative_prompt_attention_mask, **kwargs)\u001B[0m\n\u001B[0;32m   1701\u001B[0m     \u001B[38;5;28;01mreturn\u001B[39;00m \u001B[38;5;28mself\u001B[39m\u001B[38;5;241m.\u001B[39massisted_decoding(\n\u001B[0;32m   1702\u001B[0m         input_ids,\n\u001B[0;32m   1703\u001B[0m         assistant_model\u001B[38;5;241m=\u001B[39massistant_model,\n\u001B[1;32m   (...)\u001B[0m\n\u001B[0;32m   1714\u001B[0m         \u001B[38;5;241m*\u001B[39m\u001B[38;5;241m*\u001B[39mmodel_kwargs,\n\u001B[0;32m   1715\u001B[0m     )\n\u001B[0;32m   1716\u001B[0m \u001B[38;5;28;01mif\u001B[39;00m generation_mode \u001B[38;5;241m==\u001B[39m GenerationMode\u001B[38;5;241m.\u001B[39mGREEDY_SEARCH:\n\u001B[0;32m   1717\u001B[0m     \u001B[38;5;66;03m# 11. run greedy search\u001B[39;00m\n\u001B[1;32m-> 1718\u001B[0m     \u001B[38;5;28;01mreturn\u001B[39;00m \u001B[38;5;28;43mself\u001B[39;49m\u001B[38;5;241;43m.\u001B[39;49m\u001B[43mgreedy_search\u001B[49m\u001B[43m(\u001B[49m\n\u001B[0;32m   1719\u001B[0m \u001B[43m        \u001B[49m\u001B[43minput_ids\u001B[49m\u001B[43m,\u001B[49m\n\u001B[0;32m   1720\u001B[0m \u001B[43m        \u001B[49m\u001B[43mlogits_processor\u001B[49m\u001B[38;5;241;43m=\u001B[39;49m\u001B[43mlogits_processor\u001B[49m\u001B[43m,\u001B[49m\n\u001B[0;32m   1721\u001B[0m \u001B[43m        \u001B[49m\u001B[43mstopping_criteria\u001B[49m\u001B[38;5;241;43m=\u001B[39;49m\u001B[43mstopping_criteria\u001B[49m\u001B[43m,\u001B[49m\n\u001B[0;32m   1722\u001B[0m \u001B[43m        \u001B[49m\u001B[43mpad_token_id\u001B[49m\u001B[38;5;241;43m=\u001B[39;49m\u001B[43mgeneration_config\u001B[49m\u001B[38;5;241;43m.\u001B[39;49m\u001B[43mpad_token_id\u001B[49m\u001B[43m,\u001B[49m\n\u001B[0;32m   1723\u001B[0m \u001B[43m        \u001B[49m\u001B[43meos_token_id\u001B[49m\u001B[38;5;241;43m=\u001B[39;49m\u001B[43mgeneration_config\u001B[49m\u001B[38;5;241;43m.\u001B[39;49m\u001B[43meos_token_id\u001B[49m\u001B[43m,\u001B[49m\n\u001B[0;32m   1724\u001B[0m \u001B[43m        \u001B[49m\u001B[43moutput_scores\u001B[49m\u001B[38;5;241;43m=\u001B[39;49m\u001B[43mgeneration_config\u001B[49m\u001B[38;5;241;43m.\u001B[39;49m\u001B[43moutput_scores\u001B[49m\u001B[43m,\u001B[49m\n\u001B[0;32m   1725\u001B[0m \u001B[43m        \u001B[49m\u001B[43mreturn_dict_in_generate\u001B[49m\u001B[38;5;241;43m=\u001B[39;49m\u001B[43mgeneration_config\u001B[49m\u001B[38;5;241;43m.\u001B[39;49m\u001B[43mreturn_dict_in_generate\u001B[49m\u001B[43m,\u001B[49m\n\u001B[0;32m   1726\u001B[0m \u001B[43m        \u001B[49m\u001B[43msynced_gpus\u001B[49m\u001B[38;5;241;43m=\u001B[39;49m\u001B[43msynced_gpus\u001B[49m\u001B[43m,\u001B[49m\n\u001B[0;32m   1727\u001B[0m \u001B[43m        \u001B[49m\u001B[43mstreamer\u001B[49m\u001B[38;5;241;43m=\u001B[39;49m\u001B[43mstreamer\u001B[49m\u001B[43m,\u001B[49m\n\u001B[0;32m   1728\u001B[0m \u001B[43m        \u001B[49m\u001B[38;5;241;43m*\u001B[39;49m\u001B[38;5;241;43m*\u001B[39;49m\u001B[43mmodel_kwargs\u001B[49m\u001B[43m,\u001B[49m\n\u001B[0;32m   1729\u001B[0m \u001B[43m    \u001B[49m\u001B[43m)\u001B[49m\n\u001B[0;32m   1731\u001B[0m \u001B[38;5;28;01melif\u001B[39;00m generation_mode \u001B[38;5;241m==\u001B[39m GenerationMode\u001B[38;5;241m.\u001B[39mCONTRASTIVE_SEARCH:\n\u001B[0;32m   1732\u001B[0m     \u001B[38;5;28;01mif\u001B[39;00m \u001B[38;5;129;01mnot\u001B[39;00m model_kwargs[\u001B[38;5;124m\"\u001B[39m\u001B[38;5;124muse_cache\u001B[39m\u001B[38;5;124m\"\u001B[39m]:\n",
      "File \u001B[1;32mc:\\Users\\maxim\\Lib\\site-packages\\transformers\\generation\\utils.py:2579\u001B[0m, in \u001B[0;36mGenerationMixin.greedy_search\u001B[1;34m(self, input_ids, logits_processor, stopping_criteria, max_length, pad_token_id, eos_token_id, output_attentions, output_hidden_states, output_scores, return_dict_in_generate, synced_gpus, streamer, **model_kwargs)\u001B[0m\n\u001B[0;32m   2576\u001B[0m model_inputs \u001B[38;5;241m=\u001B[39m \u001B[38;5;28mself\u001B[39m\u001B[38;5;241m.\u001B[39mprepare_inputs_for_generation(input_ids, \u001B[38;5;241m*\u001B[39m\u001B[38;5;241m*\u001B[39mmodel_kwargs)\n\u001B[0;32m   2578\u001B[0m \u001B[38;5;66;03m# forward pass to get next token\u001B[39;00m\n\u001B[1;32m-> 2579\u001B[0m outputs \u001B[38;5;241m=\u001B[39m \u001B[38;5;28;43mself\u001B[39;49m\u001B[43m(\u001B[49m\n\u001B[0;32m   2580\u001B[0m \u001B[43m    \u001B[49m\u001B[38;5;241;43m*\u001B[39;49m\u001B[38;5;241;43m*\u001B[39;49m\u001B[43mmodel_inputs\u001B[49m\u001B[43m,\u001B[49m\n\u001B[0;32m   2581\u001B[0m \u001B[43m    \u001B[49m\u001B[43mreturn_dict\u001B[49m\u001B[38;5;241;43m=\u001B[39;49m\u001B[38;5;28;43;01mTrue\u001B[39;49;00m\u001B[43m,\u001B[49m\n\u001B[0;32m   2582\u001B[0m \u001B[43m    \u001B[49m\u001B[43moutput_attentions\u001B[49m\u001B[38;5;241;43m=\u001B[39;49m\u001B[43moutput_attentions\u001B[49m\u001B[43m,\u001B[49m\n\u001B[0;32m   2583\u001B[0m \u001B[43m    \u001B[49m\u001B[43moutput_hidden_states\u001B[49m\u001B[38;5;241;43m=\u001B[39;49m\u001B[43moutput_hidden_states\u001B[49m\u001B[43m,\u001B[49m\n\u001B[0;32m   2584\u001B[0m \u001B[43m\u001B[49m\u001B[43m)\u001B[49m\n\u001B[0;32m   2586\u001B[0m \u001B[38;5;28;01mif\u001B[39;00m synced_gpus \u001B[38;5;129;01mand\u001B[39;00m this_peer_finished:\n\u001B[0;32m   2587\u001B[0m     \u001B[38;5;28;01mcontinue\u001B[39;00m  \u001B[38;5;66;03m# don't waste resources running the code we don't need\u001B[39;00m\n",
      "File \u001B[1;32mc:\\Users\\maxim\\Lib\\site-packages\\torch\\nn\\modules\\module.py:1518\u001B[0m, in \u001B[0;36mModule._wrapped_call_impl\u001B[1;34m(self, *args, **kwargs)\u001B[0m\n\u001B[0;32m   1516\u001B[0m     \u001B[38;5;28;01mreturn\u001B[39;00m \u001B[38;5;28mself\u001B[39m\u001B[38;5;241m.\u001B[39m_compiled_call_impl(\u001B[38;5;241m*\u001B[39margs, \u001B[38;5;241m*\u001B[39m\u001B[38;5;241m*\u001B[39mkwargs)  \u001B[38;5;66;03m# type: ignore[misc]\u001B[39;00m\n\u001B[0;32m   1517\u001B[0m \u001B[38;5;28;01melse\u001B[39;00m:\n\u001B[1;32m-> 1518\u001B[0m     \u001B[38;5;28;01mreturn\u001B[39;00m \u001B[38;5;28;43mself\u001B[39;49m\u001B[38;5;241;43m.\u001B[39;49m\u001B[43m_call_impl\u001B[49m\u001B[43m(\u001B[49m\u001B[38;5;241;43m*\u001B[39;49m\u001B[43margs\u001B[49m\u001B[43m,\u001B[49m\u001B[43m \u001B[49m\u001B[38;5;241;43m*\u001B[39;49m\u001B[38;5;241;43m*\u001B[39;49m\u001B[43mkwargs\u001B[49m\u001B[43m)\u001B[49m\n",
      "File \u001B[1;32mc:\\Users\\maxim\\Lib\\site-packages\\torch\\nn\\modules\\module.py:1527\u001B[0m, in \u001B[0;36mModule._call_impl\u001B[1;34m(self, *args, **kwargs)\u001B[0m\n\u001B[0;32m   1522\u001B[0m \u001B[38;5;66;03m# If we don't have any hooks, we want to skip the rest of the logic in\u001B[39;00m\n\u001B[0;32m   1523\u001B[0m \u001B[38;5;66;03m# this function, and just call forward.\u001B[39;00m\n\u001B[0;32m   1524\u001B[0m \u001B[38;5;28;01mif\u001B[39;00m \u001B[38;5;129;01mnot\u001B[39;00m (\u001B[38;5;28mself\u001B[39m\u001B[38;5;241m.\u001B[39m_backward_hooks \u001B[38;5;129;01mor\u001B[39;00m \u001B[38;5;28mself\u001B[39m\u001B[38;5;241m.\u001B[39m_backward_pre_hooks \u001B[38;5;129;01mor\u001B[39;00m \u001B[38;5;28mself\u001B[39m\u001B[38;5;241m.\u001B[39m_forward_hooks \u001B[38;5;129;01mor\u001B[39;00m \u001B[38;5;28mself\u001B[39m\u001B[38;5;241m.\u001B[39m_forward_pre_hooks\n\u001B[0;32m   1525\u001B[0m         \u001B[38;5;129;01mor\u001B[39;00m _global_backward_pre_hooks \u001B[38;5;129;01mor\u001B[39;00m _global_backward_hooks\n\u001B[0;32m   1526\u001B[0m         \u001B[38;5;129;01mor\u001B[39;00m _global_forward_hooks \u001B[38;5;129;01mor\u001B[39;00m _global_forward_pre_hooks):\n\u001B[1;32m-> 1527\u001B[0m     \u001B[38;5;28;01mreturn\u001B[39;00m \u001B[43mforward_call\u001B[49m\u001B[43m(\u001B[49m\u001B[38;5;241;43m*\u001B[39;49m\u001B[43margs\u001B[49m\u001B[43m,\u001B[49m\u001B[43m \u001B[49m\u001B[38;5;241;43m*\u001B[39;49m\u001B[38;5;241;43m*\u001B[39;49m\u001B[43mkwargs\u001B[49m\u001B[43m)\u001B[49m\n\u001B[0;32m   1529\u001B[0m \u001B[38;5;28;01mtry\u001B[39;00m:\n\u001B[0;32m   1530\u001B[0m     result \u001B[38;5;241m=\u001B[39m \u001B[38;5;28;01mNone\u001B[39;00m\n",
      "File \u001B[1;32mc:\\Users\\maxim\\Lib\\site-packages\\transformers\\models\\gpt2\\modeling_gpt2.py:1074\u001B[0m, in \u001B[0;36mGPT2LMHeadModel.forward\u001B[1;34m(self, input_ids, past_key_values, attention_mask, token_type_ids, position_ids, head_mask, inputs_embeds, encoder_hidden_states, encoder_attention_mask, labels, use_cache, output_attentions, output_hidden_states, return_dict)\u001B[0m\n\u001B[0;32m   1066\u001B[0m \u001B[38;5;250m\u001B[39m\u001B[38;5;124mr\u001B[39m\u001B[38;5;124;03m\"\"\"\u001B[39;00m\n\u001B[0;32m   1067\u001B[0m \u001B[38;5;124;03mlabels (`torch.LongTensor` of shape `(batch_size, sequence_length)`, *optional*):\u001B[39;00m\n\u001B[0;32m   1068\u001B[0m \u001B[38;5;124;03m    Labels for language modeling. Note that the labels **are shifted** inside the model, i.e. you can set\u001B[39;00m\n\u001B[0;32m   1069\u001B[0m \u001B[38;5;124;03m    `labels = input_ids` Indices are selected in `[-100, 0, ..., config.vocab_size]` All labels set to `-100`\u001B[39;00m\n\u001B[0;32m   1070\u001B[0m \u001B[38;5;124;03m    are ignored (masked), the loss is only computed for labels in `[0, ..., config.vocab_size]`\u001B[39;00m\n\u001B[0;32m   1071\u001B[0m \u001B[38;5;124;03m\"\"\"\u001B[39;00m\n\u001B[0;32m   1072\u001B[0m return_dict \u001B[38;5;241m=\u001B[39m return_dict \u001B[38;5;28;01mif\u001B[39;00m return_dict \u001B[38;5;129;01mis\u001B[39;00m \u001B[38;5;129;01mnot\u001B[39;00m \u001B[38;5;28;01mNone\u001B[39;00m \u001B[38;5;28;01melse\u001B[39;00m \u001B[38;5;28mself\u001B[39m\u001B[38;5;241m.\u001B[39mconfig\u001B[38;5;241m.\u001B[39muse_return_dict\n\u001B[1;32m-> 1074\u001B[0m transformer_outputs \u001B[38;5;241m=\u001B[39m \u001B[38;5;28;43mself\u001B[39;49m\u001B[38;5;241;43m.\u001B[39;49m\u001B[43mtransformer\u001B[49m\u001B[43m(\u001B[49m\n\u001B[0;32m   1075\u001B[0m \u001B[43m    \u001B[49m\u001B[43minput_ids\u001B[49m\u001B[43m,\u001B[49m\n\u001B[0;32m   1076\u001B[0m \u001B[43m    \u001B[49m\u001B[43mpast_key_values\u001B[49m\u001B[38;5;241;43m=\u001B[39;49m\u001B[43mpast_key_values\u001B[49m\u001B[43m,\u001B[49m\n\u001B[0;32m   1077\u001B[0m \u001B[43m    \u001B[49m\u001B[43mattention_mask\u001B[49m\u001B[38;5;241;43m=\u001B[39;49m\u001B[43mattention_mask\u001B[49m\u001B[43m,\u001B[49m\n\u001B[0;32m   1078\u001B[0m \u001B[43m    \u001B[49m\u001B[43mtoken_type_ids\u001B[49m\u001B[38;5;241;43m=\u001B[39;49m\u001B[43mtoken_type_ids\u001B[49m\u001B[43m,\u001B[49m\n\u001B[0;32m   1079\u001B[0m \u001B[43m    \u001B[49m\u001B[43mposition_ids\u001B[49m\u001B[38;5;241;43m=\u001B[39;49m\u001B[43mposition_ids\u001B[49m\u001B[43m,\u001B[49m\n\u001B[0;32m   1080\u001B[0m \u001B[43m    \u001B[49m\u001B[43mhead_mask\u001B[49m\u001B[38;5;241;43m=\u001B[39;49m\u001B[43mhead_mask\u001B[49m\u001B[43m,\u001B[49m\n\u001B[0;32m   1081\u001B[0m \u001B[43m    \u001B[49m\u001B[43minputs_embeds\u001B[49m\u001B[38;5;241;43m=\u001B[39;49m\u001B[43minputs_embeds\u001B[49m\u001B[43m,\u001B[49m\n\u001B[0;32m   1082\u001B[0m \u001B[43m    \u001B[49m\u001B[43mencoder_hidden_states\u001B[49m\u001B[38;5;241;43m=\u001B[39;49m\u001B[43mencoder_hidden_states\u001B[49m\u001B[43m,\u001B[49m\n\u001B[0;32m   1083\u001B[0m \u001B[43m    \u001B[49m\u001B[43mencoder_attention_mask\u001B[49m\u001B[38;5;241;43m=\u001B[39;49m\u001B[43mencoder_attention_mask\u001B[49m\u001B[43m,\u001B[49m\n\u001B[0;32m   1084\u001B[0m \u001B[43m    \u001B[49m\u001B[43muse_cache\u001B[49m\u001B[38;5;241;43m=\u001B[39;49m\u001B[43muse_cache\u001B[49m\u001B[43m,\u001B[49m\n\u001B[0;32m   1085\u001B[0m \u001B[43m    \u001B[49m\u001B[43moutput_attentions\u001B[49m\u001B[38;5;241;43m=\u001B[39;49m\u001B[43moutput_attentions\u001B[49m\u001B[43m,\u001B[49m\n\u001B[0;32m   1086\u001B[0m \u001B[43m    \u001B[49m\u001B[43moutput_hidden_states\u001B[49m\u001B[38;5;241;43m=\u001B[39;49m\u001B[43moutput_hidden_states\u001B[49m\u001B[43m,\u001B[49m\n\u001B[0;32m   1087\u001B[0m \u001B[43m    \u001B[49m\u001B[43mreturn_dict\u001B[49m\u001B[38;5;241;43m=\u001B[39;49m\u001B[43mreturn_dict\u001B[49m\u001B[43m,\u001B[49m\n\u001B[0;32m   1088\u001B[0m \u001B[43m\u001B[49m\u001B[43m)\u001B[49m\n\u001B[0;32m   1089\u001B[0m hidden_states \u001B[38;5;241m=\u001B[39m transformer_outputs[\u001B[38;5;241m0\u001B[39m]\n\u001B[0;32m   1091\u001B[0m \u001B[38;5;66;03m# Set device for model parallelism\u001B[39;00m\n",
      "File \u001B[1;32mc:\\Users\\maxim\\Lib\\site-packages\\torch\\nn\\modules\\module.py:1518\u001B[0m, in \u001B[0;36mModule._wrapped_call_impl\u001B[1;34m(self, *args, **kwargs)\u001B[0m\n\u001B[0;32m   1516\u001B[0m     \u001B[38;5;28;01mreturn\u001B[39;00m \u001B[38;5;28mself\u001B[39m\u001B[38;5;241m.\u001B[39m_compiled_call_impl(\u001B[38;5;241m*\u001B[39margs, \u001B[38;5;241m*\u001B[39m\u001B[38;5;241m*\u001B[39mkwargs)  \u001B[38;5;66;03m# type: ignore[misc]\u001B[39;00m\n\u001B[0;32m   1517\u001B[0m \u001B[38;5;28;01melse\u001B[39;00m:\n\u001B[1;32m-> 1518\u001B[0m     \u001B[38;5;28;01mreturn\u001B[39;00m \u001B[38;5;28;43mself\u001B[39;49m\u001B[38;5;241;43m.\u001B[39;49m\u001B[43m_call_impl\u001B[49m\u001B[43m(\u001B[49m\u001B[38;5;241;43m*\u001B[39;49m\u001B[43margs\u001B[49m\u001B[43m,\u001B[49m\u001B[43m \u001B[49m\u001B[38;5;241;43m*\u001B[39;49m\u001B[38;5;241;43m*\u001B[39;49m\u001B[43mkwargs\u001B[49m\u001B[43m)\u001B[49m\n",
      "File \u001B[1;32mc:\\Users\\maxim\\Lib\\site-packages\\torch\\nn\\modules\\module.py:1527\u001B[0m, in \u001B[0;36mModule._call_impl\u001B[1;34m(self, *args, **kwargs)\u001B[0m\n\u001B[0;32m   1522\u001B[0m \u001B[38;5;66;03m# If we don't have any hooks, we want to skip the rest of the logic in\u001B[39;00m\n\u001B[0;32m   1523\u001B[0m \u001B[38;5;66;03m# this function, and just call forward.\u001B[39;00m\n\u001B[0;32m   1524\u001B[0m \u001B[38;5;28;01mif\u001B[39;00m \u001B[38;5;129;01mnot\u001B[39;00m (\u001B[38;5;28mself\u001B[39m\u001B[38;5;241m.\u001B[39m_backward_hooks \u001B[38;5;129;01mor\u001B[39;00m \u001B[38;5;28mself\u001B[39m\u001B[38;5;241m.\u001B[39m_backward_pre_hooks \u001B[38;5;129;01mor\u001B[39;00m \u001B[38;5;28mself\u001B[39m\u001B[38;5;241m.\u001B[39m_forward_hooks \u001B[38;5;129;01mor\u001B[39;00m \u001B[38;5;28mself\u001B[39m\u001B[38;5;241m.\u001B[39m_forward_pre_hooks\n\u001B[0;32m   1525\u001B[0m         \u001B[38;5;129;01mor\u001B[39;00m _global_backward_pre_hooks \u001B[38;5;129;01mor\u001B[39;00m _global_backward_hooks\n\u001B[0;32m   1526\u001B[0m         \u001B[38;5;129;01mor\u001B[39;00m _global_forward_hooks \u001B[38;5;129;01mor\u001B[39;00m _global_forward_pre_hooks):\n\u001B[1;32m-> 1527\u001B[0m     \u001B[38;5;28;01mreturn\u001B[39;00m \u001B[43mforward_call\u001B[49m\u001B[43m(\u001B[49m\u001B[38;5;241;43m*\u001B[39;49m\u001B[43margs\u001B[49m\u001B[43m,\u001B[49m\u001B[43m \u001B[49m\u001B[38;5;241;43m*\u001B[39;49m\u001B[38;5;241;43m*\u001B[39;49m\u001B[43mkwargs\u001B[49m\u001B[43m)\u001B[49m\n\u001B[0;32m   1529\u001B[0m \u001B[38;5;28;01mtry\u001B[39;00m:\n\u001B[0;32m   1530\u001B[0m     result \u001B[38;5;241m=\u001B[39m \u001B[38;5;28;01mNone\u001B[39;00m\n",
      "File \u001B[1;32mc:\\Users\\maxim\\Lib\\site-packages\\transformers\\models\\gpt2\\modeling_gpt2.py:888\u001B[0m, in \u001B[0;36mGPT2Model.forward\u001B[1;34m(self, input_ids, past_key_values, attention_mask, token_type_ids, position_ids, head_mask, inputs_embeds, encoder_hidden_states, encoder_attention_mask, use_cache, output_attentions, output_hidden_states, return_dict)\u001B[0m\n\u001B[0;32m    876\u001B[0m     outputs \u001B[38;5;241m=\u001B[39m \u001B[38;5;28mself\u001B[39m\u001B[38;5;241m.\u001B[39m_gradient_checkpointing_func(\n\u001B[0;32m    877\u001B[0m         block\u001B[38;5;241m.\u001B[39m\u001B[38;5;21m__call__\u001B[39m,\n\u001B[0;32m    878\u001B[0m         hidden_states,\n\u001B[1;32m   (...)\u001B[0m\n\u001B[0;32m    885\u001B[0m         output_attentions,\n\u001B[0;32m    886\u001B[0m     )\n\u001B[0;32m    887\u001B[0m \u001B[38;5;28;01melse\u001B[39;00m:\n\u001B[1;32m--> 888\u001B[0m     outputs \u001B[38;5;241m=\u001B[39m \u001B[43mblock\u001B[49m\u001B[43m(\u001B[49m\n\u001B[0;32m    889\u001B[0m \u001B[43m        \u001B[49m\u001B[43mhidden_states\u001B[49m\u001B[43m,\u001B[49m\n\u001B[0;32m    890\u001B[0m \u001B[43m        \u001B[49m\u001B[43mlayer_past\u001B[49m\u001B[38;5;241;43m=\u001B[39;49m\u001B[43mlayer_past\u001B[49m\u001B[43m,\u001B[49m\n\u001B[0;32m    891\u001B[0m \u001B[43m        \u001B[49m\u001B[43mattention_mask\u001B[49m\u001B[38;5;241;43m=\u001B[39;49m\u001B[43mattention_mask\u001B[49m\u001B[43m,\u001B[49m\n\u001B[0;32m    892\u001B[0m \u001B[43m        \u001B[49m\u001B[43mhead_mask\u001B[49m\u001B[38;5;241;43m=\u001B[39;49m\u001B[43mhead_mask\u001B[49m\u001B[43m[\u001B[49m\u001B[43mi\u001B[49m\u001B[43m]\u001B[49m\u001B[43m,\u001B[49m\n\u001B[0;32m    893\u001B[0m \u001B[43m        \u001B[49m\u001B[43mencoder_hidden_states\u001B[49m\u001B[38;5;241;43m=\u001B[39;49m\u001B[43mencoder_hidden_states\u001B[49m\u001B[43m,\u001B[49m\n\u001B[0;32m    894\u001B[0m \u001B[43m        \u001B[49m\u001B[43mencoder_attention_mask\u001B[49m\u001B[38;5;241;43m=\u001B[39;49m\u001B[43mencoder_attention_mask\u001B[49m\u001B[43m,\u001B[49m\n\u001B[0;32m    895\u001B[0m \u001B[43m        \u001B[49m\u001B[43muse_cache\u001B[49m\u001B[38;5;241;43m=\u001B[39;49m\u001B[43muse_cache\u001B[49m\u001B[43m,\u001B[49m\n\u001B[0;32m    896\u001B[0m \u001B[43m        \u001B[49m\u001B[43moutput_attentions\u001B[49m\u001B[38;5;241;43m=\u001B[39;49m\u001B[43moutput_attentions\u001B[49m\u001B[43m,\u001B[49m\n\u001B[0;32m    897\u001B[0m \u001B[43m    \u001B[49m\u001B[43m)\u001B[49m\n\u001B[0;32m    899\u001B[0m hidden_states \u001B[38;5;241m=\u001B[39m outputs[\u001B[38;5;241m0\u001B[39m]\n\u001B[0;32m    900\u001B[0m \u001B[38;5;28;01mif\u001B[39;00m use_cache \u001B[38;5;129;01mis\u001B[39;00m \u001B[38;5;28;01mTrue\u001B[39;00m:\n",
      "File \u001B[1;32mc:\\Users\\maxim\\Lib\\site-packages\\torch\\nn\\modules\\module.py:1518\u001B[0m, in \u001B[0;36mModule._wrapped_call_impl\u001B[1;34m(self, *args, **kwargs)\u001B[0m\n\u001B[0;32m   1516\u001B[0m     \u001B[38;5;28;01mreturn\u001B[39;00m \u001B[38;5;28mself\u001B[39m\u001B[38;5;241m.\u001B[39m_compiled_call_impl(\u001B[38;5;241m*\u001B[39margs, \u001B[38;5;241m*\u001B[39m\u001B[38;5;241m*\u001B[39mkwargs)  \u001B[38;5;66;03m# type: ignore[misc]\u001B[39;00m\n\u001B[0;32m   1517\u001B[0m \u001B[38;5;28;01melse\u001B[39;00m:\n\u001B[1;32m-> 1518\u001B[0m     \u001B[38;5;28;01mreturn\u001B[39;00m \u001B[38;5;28;43mself\u001B[39;49m\u001B[38;5;241;43m.\u001B[39;49m\u001B[43m_call_impl\u001B[49m\u001B[43m(\u001B[49m\u001B[38;5;241;43m*\u001B[39;49m\u001B[43margs\u001B[49m\u001B[43m,\u001B[49m\u001B[43m \u001B[49m\u001B[38;5;241;43m*\u001B[39;49m\u001B[38;5;241;43m*\u001B[39;49m\u001B[43mkwargs\u001B[49m\u001B[43m)\u001B[49m\n",
      "File \u001B[1;32mc:\\Users\\maxim\\Lib\\site-packages\\torch\\nn\\modules\\module.py:1527\u001B[0m, in \u001B[0;36mModule._call_impl\u001B[1;34m(self, *args, **kwargs)\u001B[0m\n\u001B[0;32m   1522\u001B[0m \u001B[38;5;66;03m# If we don't have any hooks, we want to skip the rest of the logic in\u001B[39;00m\n\u001B[0;32m   1523\u001B[0m \u001B[38;5;66;03m# this function, and just call forward.\u001B[39;00m\n\u001B[0;32m   1524\u001B[0m \u001B[38;5;28;01mif\u001B[39;00m \u001B[38;5;129;01mnot\u001B[39;00m (\u001B[38;5;28mself\u001B[39m\u001B[38;5;241m.\u001B[39m_backward_hooks \u001B[38;5;129;01mor\u001B[39;00m \u001B[38;5;28mself\u001B[39m\u001B[38;5;241m.\u001B[39m_backward_pre_hooks \u001B[38;5;129;01mor\u001B[39;00m \u001B[38;5;28mself\u001B[39m\u001B[38;5;241m.\u001B[39m_forward_hooks \u001B[38;5;129;01mor\u001B[39;00m \u001B[38;5;28mself\u001B[39m\u001B[38;5;241m.\u001B[39m_forward_pre_hooks\n\u001B[0;32m   1525\u001B[0m         \u001B[38;5;129;01mor\u001B[39;00m _global_backward_pre_hooks \u001B[38;5;129;01mor\u001B[39;00m _global_backward_hooks\n\u001B[0;32m   1526\u001B[0m         \u001B[38;5;129;01mor\u001B[39;00m _global_forward_hooks \u001B[38;5;129;01mor\u001B[39;00m _global_forward_pre_hooks):\n\u001B[1;32m-> 1527\u001B[0m     \u001B[38;5;28;01mreturn\u001B[39;00m \u001B[43mforward_call\u001B[49m\u001B[43m(\u001B[49m\u001B[38;5;241;43m*\u001B[39;49m\u001B[43margs\u001B[49m\u001B[43m,\u001B[49m\u001B[43m \u001B[49m\u001B[38;5;241;43m*\u001B[39;49m\u001B[38;5;241;43m*\u001B[39;49m\u001B[43mkwargs\u001B[49m\u001B[43m)\u001B[49m\n\u001B[0;32m   1529\u001B[0m \u001B[38;5;28;01mtry\u001B[39;00m:\n\u001B[0;32m   1530\u001B[0m     result \u001B[38;5;241m=\u001B[39m \u001B[38;5;28;01mNone\u001B[39;00m\n",
      "File \u001B[1;32mc:\\Users\\maxim\\Lib\\site-packages\\transformers\\models\\gpt2\\modeling_gpt2.py:427\u001B[0m, in \u001B[0;36mGPT2Block.forward\u001B[1;34m(self, hidden_states, layer_past, attention_mask, head_mask, encoder_hidden_states, encoder_attention_mask, use_cache, output_attentions)\u001B[0m\n\u001B[0;32m    425\u001B[0m residual \u001B[38;5;241m=\u001B[39m hidden_states\n\u001B[0;32m    426\u001B[0m hidden_states \u001B[38;5;241m=\u001B[39m \u001B[38;5;28mself\u001B[39m\u001B[38;5;241m.\u001B[39mln_2(hidden_states)\n\u001B[1;32m--> 427\u001B[0m feed_forward_hidden_states \u001B[38;5;241m=\u001B[39m \u001B[38;5;28;43mself\u001B[39;49m\u001B[38;5;241;43m.\u001B[39;49m\u001B[43mmlp\u001B[49m\u001B[43m(\u001B[49m\u001B[43mhidden_states\u001B[49m\u001B[43m)\u001B[49m\n\u001B[0;32m    428\u001B[0m \u001B[38;5;66;03m# residual connection\u001B[39;00m\n\u001B[0;32m    429\u001B[0m hidden_states \u001B[38;5;241m=\u001B[39m residual \u001B[38;5;241m+\u001B[39m feed_forward_hidden_states\n",
      "File \u001B[1;32mc:\\Users\\maxim\\Lib\\site-packages\\torch\\nn\\modules\\module.py:1518\u001B[0m, in \u001B[0;36mModule._wrapped_call_impl\u001B[1;34m(self, *args, **kwargs)\u001B[0m\n\u001B[0;32m   1516\u001B[0m     \u001B[38;5;28;01mreturn\u001B[39;00m \u001B[38;5;28mself\u001B[39m\u001B[38;5;241m.\u001B[39m_compiled_call_impl(\u001B[38;5;241m*\u001B[39margs, \u001B[38;5;241m*\u001B[39m\u001B[38;5;241m*\u001B[39mkwargs)  \u001B[38;5;66;03m# type: ignore[misc]\u001B[39;00m\n\u001B[0;32m   1517\u001B[0m \u001B[38;5;28;01melse\u001B[39;00m:\n\u001B[1;32m-> 1518\u001B[0m     \u001B[38;5;28;01mreturn\u001B[39;00m \u001B[38;5;28;43mself\u001B[39;49m\u001B[38;5;241;43m.\u001B[39;49m\u001B[43m_call_impl\u001B[49m\u001B[43m(\u001B[49m\u001B[38;5;241;43m*\u001B[39;49m\u001B[43margs\u001B[49m\u001B[43m,\u001B[49m\u001B[43m \u001B[49m\u001B[38;5;241;43m*\u001B[39;49m\u001B[38;5;241;43m*\u001B[39;49m\u001B[43mkwargs\u001B[49m\u001B[43m)\u001B[49m\n",
      "File \u001B[1;32mc:\\Users\\maxim\\Lib\\site-packages\\torch\\nn\\modules\\module.py:1527\u001B[0m, in \u001B[0;36mModule._call_impl\u001B[1;34m(self, *args, **kwargs)\u001B[0m\n\u001B[0;32m   1522\u001B[0m \u001B[38;5;66;03m# If we don't have any hooks, we want to skip the rest of the logic in\u001B[39;00m\n\u001B[0;32m   1523\u001B[0m \u001B[38;5;66;03m# this function, and just call forward.\u001B[39;00m\n\u001B[0;32m   1524\u001B[0m \u001B[38;5;28;01mif\u001B[39;00m \u001B[38;5;129;01mnot\u001B[39;00m (\u001B[38;5;28mself\u001B[39m\u001B[38;5;241m.\u001B[39m_backward_hooks \u001B[38;5;129;01mor\u001B[39;00m \u001B[38;5;28mself\u001B[39m\u001B[38;5;241m.\u001B[39m_backward_pre_hooks \u001B[38;5;129;01mor\u001B[39;00m \u001B[38;5;28mself\u001B[39m\u001B[38;5;241m.\u001B[39m_forward_hooks \u001B[38;5;129;01mor\u001B[39;00m \u001B[38;5;28mself\u001B[39m\u001B[38;5;241m.\u001B[39m_forward_pre_hooks\n\u001B[0;32m   1525\u001B[0m         \u001B[38;5;129;01mor\u001B[39;00m _global_backward_pre_hooks \u001B[38;5;129;01mor\u001B[39;00m _global_backward_hooks\n\u001B[0;32m   1526\u001B[0m         \u001B[38;5;129;01mor\u001B[39;00m _global_forward_hooks \u001B[38;5;129;01mor\u001B[39;00m _global_forward_pre_hooks):\n\u001B[1;32m-> 1527\u001B[0m     \u001B[38;5;28;01mreturn\u001B[39;00m \u001B[43mforward_call\u001B[49m\u001B[43m(\u001B[49m\u001B[38;5;241;43m*\u001B[39;49m\u001B[43margs\u001B[49m\u001B[43m,\u001B[49m\u001B[43m \u001B[49m\u001B[38;5;241;43m*\u001B[39;49m\u001B[38;5;241;43m*\u001B[39;49m\u001B[43mkwargs\u001B[49m\u001B[43m)\u001B[49m\n\u001B[0;32m   1529\u001B[0m \u001B[38;5;28;01mtry\u001B[39;00m:\n\u001B[0;32m   1530\u001B[0m     result \u001B[38;5;241m=\u001B[39m \u001B[38;5;28;01mNone\u001B[39;00m\n",
      "File \u001B[1;32mc:\\Users\\maxim\\Lib\\site-packages\\transformers\\models\\gpt2\\modeling_gpt2.py:355\u001B[0m, in \u001B[0;36mGPT2MLP.forward\u001B[1;34m(self, hidden_states)\u001B[0m\n\u001B[0;32m    353\u001B[0m \u001B[38;5;28;01mdef\u001B[39;00m \u001B[38;5;21mforward\u001B[39m(\u001B[38;5;28mself\u001B[39m, hidden_states: Optional[Tuple[torch\u001B[38;5;241m.\u001B[39mFloatTensor]]) \u001B[38;5;241m-\u001B[39m\u001B[38;5;241m>\u001B[39m torch\u001B[38;5;241m.\u001B[39mFloatTensor:\n\u001B[0;32m    354\u001B[0m     hidden_states \u001B[38;5;241m=\u001B[39m \u001B[38;5;28mself\u001B[39m\u001B[38;5;241m.\u001B[39mc_fc(hidden_states)\n\u001B[1;32m--> 355\u001B[0m     hidden_states \u001B[38;5;241m=\u001B[39m \u001B[38;5;28;43mself\u001B[39;49m\u001B[38;5;241;43m.\u001B[39;49m\u001B[43mact\u001B[49m\u001B[43m(\u001B[49m\u001B[43mhidden_states\u001B[49m\u001B[43m)\u001B[49m\n\u001B[0;32m    356\u001B[0m     hidden_states \u001B[38;5;241m=\u001B[39m \u001B[38;5;28mself\u001B[39m\u001B[38;5;241m.\u001B[39mc_proj(hidden_states)\n\u001B[0;32m    357\u001B[0m     hidden_states \u001B[38;5;241m=\u001B[39m \u001B[38;5;28mself\u001B[39m\u001B[38;5;241m.\u001B[39mdropout(hidden_states)\n",
      "File \u001B[1;32mc:\\Users\\maxim\\Lib\\site-packages\\torch\\nn\\modules\\module.py:1518\u001B[0m, in \u001B[0;36mModule._wrapped_call_impl\u001B[1;34m(self, *args, **kwargs)\u001B[0m\n\u001B[0;32m   1516\u001B[0m     \u001B[38;5;28;01mreturn\u001B[39;00m \u001B[38;5;28mself\u001B[39m\u001B[38;5;241m.\u001B[39m_compiled_call_impl(\u001B[38;5;241m*\u001B[39margs, \u001B[38;5;241m*\u001B[39m\u001B[38;5;241m*\u001B[39mkwargs)  \u001B[38;5;66;03m# type: ignore[misc]\u001B[39;00m\n\u001B[0;32m   1517\u001B[0m \u001B[38;5;28;01melse\u001B[39;00m:\n\u001B[1;32m-> 1518\u001B[0m     \u001B[38;5;28;01mreturn\u001B[39;00m \u001B[38;5;28;43mself\u001B[39;49m\u001B[38;5;241;43m.\u001B[39;49m\u001B[43m_call_impl\u001B[49m\u001B[43m(\u001B[49m\u001B[38;5;241;43m*\u001B[39;49m\u001B[43margs\u001B[49m\u001B[43m,\u001B[49m\u001B[43m \u001B[49m\u001B[38;5;241;43m*\u001B[39;49m\u001B[38;5;241;43m*\u001B[39;49m\u001B[43mkwargs\u001B[49m\u001B[43m)\u001B[49m\n",
      "File \u001B[1;32mc:\\Users\\maxim\\Lib\\site-packages\\torch\\nn\\modules\\module.py:1527\u001B[0m, in \u001B[0;36mModule._call_impl\u001B[1;34m(self, *args, **kwargs)\u001B[0m\n\u001B[0;32m   1522\u001B[0m \u001B[38;5;66;03m# If we don't have any hooks, we want to skip the rest of the logic in\u001B[39;00m\n\u001B[0;32m   1523\u001B[0m \u001B[38;5;66;03m# this function, and just call forward.\u001B[39;00m\n\u001B[0;32m   1524\u001B[0m \u001B[38;5;28;01mif\u001B[39;00m \u001B[38;5;129;01mnot\u001B[39;00m (\u001B[38;5;28mself\u001B[39m\u001B[38;5;241m.\u001B[39m_backward_hooks \u001B[38;5;129;01mor\u001B[39;00m \u001B[38;5;28mself\u001B[39m\u001B[38;5;241m.\u001B[39m_backward_pre_hooks \u001B[38;5;129;01mor\u001B[39;00m \u001B[38;5;28mself\u001B[39m\u001B[38;5;241m.\u001B[39m_forward_hooks \u001B[38;5;129;01mor\u001B[39;00m \u001B[38;5;28mself\u001B[39m\u001B[38;5;241m.\u001B[39m_forward_pre_hooks\n\u001B[0;32m   1525\u001B[0m         \u001B[38;5;129;01mor\u001B[39;00m _global_backward_pre_hooks \u001B[38;5;129;01mor\u001B[39;00m _global_backward_hooks\n\u001B[0;32m   1526\u001B[0m         \u001B[38;5;129;01mor\u001B[39;00m _global_forward_hooks \u001B[38;5;129;01mor\u001B[39;00m _global_forward_pre_hooks):\n\u001B[1;32m-> 1527\u001B[0m     \u001B[38;5;28;01mreturn\u001B[39;00m \u001B[43mforward_call\u001B[49m\u001B[43m(\u001B[49m\u001B[38;5;241;43m*\u001B[39;49m\u001B[43margs\u001B[49m\u001B[43m,\u001B[49m\u001B[43m \u001B[49m\u001B[38;5;241;43m*\u001B[39;49m\u001B[38;5;241;43m*\u001B[39;49m\u001B[43mkwargs\u001B[49m\u001B[43m)\u001B[49m\n\u001B[0;32m   1529\u001B[0m \u001B[38;5;28;01mtry\u001B[39;00m:\n\u001B[0;32m   1530\u001B[0m     result \u001B[38;5;241m=\u001B[39m \u001B[38;5;28;01mNone\u001B[39;00m\n",
      "File \u001B[1;32mc:\\Users\\maxim\\Lib\\site-packages\\transformers\\activations.py:56\u001B[0m, in \u001B[0;36mNewGELUActivation.forward\u001B[1;34m(self, input)\u001B[0m\n\u001B[0;32m     55\u001B[0m \u001B[38;5;28;01mdef\u001B[39;00m \u001B[38;5;21mforward\u001B[39m(\u001B[38;5;28mself\u001B[39m, \u001B[38;5;28minput\u001B[39m: Tensor) \u001B[38;5;241m-\u001B[39m\u001B[38;5;241m>\u001B[39m Tensor:\n\u001B[1;32m---> 56\u001B[0m     \u001B[38;5;28;01mreturn\u001B[39;00m \u001B[38;5;241m0.5\u001B[39m \u001B[38;5;241m*\u001B[39m \u001B[38;5;28minput\u001B[39m \u001B[38;5;241m*\u001B[39m (\u001B[38;5;241m1.0\u001B[39m \u001B[38;5;241m+\u001B[39m torch\u001B[38;5;241m.\u001B[39mtanh(math\u001B[38;5;241m.\u001B[39msqrt(\u001B[38;5;241m2.0\u001B[39m \u001B[38;5;241m/\u001B[39m math\u001B[38;5;241m.\u001B[39mpi) \u001B[38;5;241m*\u001B[39m (\u001B[38;5;28minput\u001B[39m \u001B[38;5;241m+\u001B[39m \u001B[38;5;241m0.044715\u001B[39m \u001B[38;5;241m*\u001B[39m torch\u001B[38;5;241m.\u001B[39mpow(\u001B[38;5;28minput\u001B[39m, \u001B[38;5;241m3.0\u001B[39m))))\n",
      "\u001B[1;31mKeyboardInterrupt\u001B[0m: "
     ]
    }
   ],
   "source": [
    "import torch\n",
    "from transformers import GPT2LMHeadModel, GPT2Tokenizer\n",
    "\n",
    "# Load pre-trained GPT-2 model and tokenizer\n",
    "model_name = \"gpt2\"\n",
    "model = GPT2LMHeadModel.from_pretrained(model_name)\n",
    "tokenizer = GPT2Tokenizer.from_pretrained(model_name)\n",
    "\n",
    "# Template for generating textual descriptions\n",
    "template = \"Patient {}, {}-year-old, presented with symptoms of {}. The patient reported fever is {}, cough is {}, fatigue is {}, difficulty breathing is {}. Blood pressure is {}, cholesterol level is {}. Diagnosis: {}.\"\n",
    "\n",
    "# Generate fictional patients using GPT-2\n",
    "for data_point in ds.to_dict('records'):\n",
    "    text_description = template.format(\n",
    "        data_point['Gender'],\n",
    "        data_point['Age'],\n",
    "        data_point['Disease'],\n",
    "        data_point['Fever'],\n",
    "        data_point['Cough'],\n",
    "        data_point['Fatigue'],\n",
    "        data_point['Difficulty Breathing'],\n",
    "        data_point['Blood Pressure'],\n",
    "        data_point['Cholesterol Level'],\n",
    "        data_point['Outcome Variable']\n",
    "    )\n",
    "\n",
    "    # Tokenize and generate text using GPT-2\n",
    "    input_ids = tokenizer.encode(text_description, return_tensors=\"pt\")\n",
    "    attention_mask = torch.ones(input_ids.shape, dtype=torch.long)  # Create attention mask\n",
    "    output = model.generate(input_ids, attention_mask=attention_mask, max_length=100, num_return_sequences=1, no_repeat_ngram_size=2, top_k=50, top_p=0.95)\n",
    "    generated_text = tokenizer.decode(output[0], skip_special_tokens=True)\n",
    "\n",
    "    print(\"Original Text:\", text_description)\n",
    "    print(\"Generated Text:\", generated_text)\n",
    "    print(\"=\"*50)\n"
   ]
  },
  {
   "cell_type": "code",
   "execution_count": null,
   "id": "d2f3f1d9da23ce6e",
   "metadata": {
    "ExecuteTime": {
     "end_time": "2024-01-08T18:59:02.255364800Z",
     "start_time": "2024-01-08T18:58:47.797694300Z"
    },
    "collapsed": false
   },
   "outputs": [
    {
     "name": "stderr",
     "output_type": "stream",
     "text": [
      "Setting `pad_token_id` to `eos_token_id`:50256 for open-end generation.\n",
      "Setting `pad_token_id` to `eos_token_id`:50256 for open-end generation.\n"
     ]
    },
    {
     "name": "stdout",
     "output_type": "stream",
     "text": [
      "Generated Text: Patient 63-year-old, presented with symptoms of  basket.\n",
      "\n",
      "Patients were treated with a combination of the following medications:\n",
      ".5 mg/kg,\n",
      ",5-hydroxytryptamine,2-methyl-1-phenyl-2,4-dihydro-5,6-tetrahydrocannabinol,1,3-dimethyl-3,7-trimethylsulfonyl-4,8-tri\n"
     ]
    },
    {
     "name": "stderr",
     "output_type": "stream",
     "text": [
      "Setting `pad_token_id` to `eos_token_id`:50256 for open-end generation.\n"
     ]
    },
    {
     "name": "stdout",
     "output_type": "stream",
     "text": [
      "Generated Text: Patient 31-year-old, presented with symptoms of  delicious.\n",
      "\n",
      "The patient was a young man with a very large head and a large chest. He had a severe headache and was vomiting. The patient had been taking a lot of medication and had not been able to get any relief. After a few days, the patient started to feel better. It was very difficult to tell what was going on. We were able, however, to talk to him and he was able. This\n"
     ]
    },
    {
     "name": "stderr",
     "output_type": "stream",
     "text": [
      "Setting `pad_token_id` to `eos_token_id`:50256 for open-end generation.\n"
     ]
    },
    {
     "name": "stdout",
     "output_type": "stream",
     "text": [
      "Generated Text: Patient 16-year-old, presented with symptoms of  controller. Patient 16 was taken to the hospital for treatment of the symptoms. The patient was discharged from the ICU on the morning of 8/9/2016.\n",
      "\n",
      "The patient's condition was not known at the time of his death.\n"
     ]
    },
    {
     "name": "stderr",
     "output_type": "stream",
     "text": [
      "Setting `pad_token_id` to `eos_token_id`:50256 for open-end generation.\n"
     ]
    },
    {
     "name": "stdout",
     "output_type": "stream",
     "text": [
      "Generated Text: Patient 29-year-old, presented with symptoms of  encro.\n",
      "\n",
      "The patient was taken to the hospital for treatment of the symptoms. The patient's condition was stabilized and he was discharged. He was treated with antibiotics and was released.\n",
      "Generated Text: Patient 5-year-old, presented with symptoms of  Tell.\n",
      "\n",
      "The patient was taken to the hospital for evaluation. The patient's condition was stabilized and he was discharged. He was placed in a medically induced coma. After the coma, the patient underwent a CT scan. A CT scanner revealed that the tumor was located in the right side of the brain. This was confirmed by a scan of a nearby brain tumor. In the CT, a small tumor had been identified in an area\n",
      "{'Disease': 'Fictional Disease', 'Fever': 'No', 'Cough': 'No', 'Fatigue': 'No', 'Difficulty Breathing': 'No', 'Age': 90, 'Gender': 'Female', 'Blood Pressure': 'Normal', 'Cholesterol Level': 'Normal', 'Outcome Variable': 'Unknown'}\n",
      "==================================================\n",
      "{'Disease': 'Fictional Disease', 'Fever': 'No', 'Cough': 'No', 'Fatigue': 'No', 'Difficulty Breathing': 'No', 'Age': 88, 'Gender': 'Female', 'Blood Pressure': 'Normal', 'Cholesterol Level': 'Normal', 'Outcome Variable': 'Unknown'}\n",
      "==================================================\n",
      "{'Disease': 'Fictional Disease', 'Fever': 'No', 'Cough': 'No', 'Fatigue': 'No', 'Difficulty Breathing': 'No', 'Age': 6, 'Gender': 'Female', 'Blood Pressure': 'Normal', 'Cholesterol Level': 'Normal', 'Outcome Variable': 'Unknown'}\n",
      "==================================================\n",
      "{'Disease': 'Fictional Disease', 'Fever': 'No', 'Cough': 'No', 'Fatigue': 'No', 'Difficulty Breathing': 'No', 'Age': 31, 'Gender': 'Female', 'Blood Pressure': 'Normal', 'Cholesterol Level': 'Normal', 'Outcome Variable': 'Unknown'}\n",
      "==================================================\n",
      "{'Disease': 'Fictional Disease', 'Fever': 'No', 'Cough': 'No', 'Fatigue': 'No', 'Difficulty Breathing': 'No', 'Age': 42, 'Gender': 'Female', 'Blood Pressure': 'Normal', 'Cholesterol Level': 'Normal', 'Outcome Variable': 'Unknown'}\n",
      "==================================================\n"
     ]
    }
   ],
   "source": [
    "import torch\n",
    "from transformers import GPT2LMHeadModel, GPT2Tokenizer\n",
    "\n",
    "# Load pre-trained GPT-2 model and tokenizer\n",
    "model_name = \"gpt2\"\n",
    "model = GPT2LMHeadModel.from_pretrained(model_name)\n",
    "tokenizer = GPT2Tokenizer.from_pretrained(model_name)\n",
    "\n",
    "# Template for generating textual descriptions\n",
    "template = \"Patient {}, {}-year-old, presented with symptoms of {}. The patient reported fever is {}, cough is {}, fatigue is {}, difficulty breathing is {}. Blood pressure is {}, cholesterol level is {}. Diagnosis: {}.\"\n",
    "\n",
    "# Generate fictional patients using GPT-2\n",
    "generated_dataset = []\n",
    "\n",
    "for _ in range(5):  # Adjust the number of data points you want to generate\n",
    "    # Sample a random seed for GPT-2\n",
    "    seed_text = \"Patient {}-year-old, presented with symptoms of {}.\".format(\n",
    "        torch.randint(1, 100, (1,)).item(),\n",
    "        tokenizer.decode(torch.randint(0, len(tokenizer.get_vocab()), (1,)).item(), skip_special_tokens=True)\n",
    "    )\n",
    "\n",
    "    # Generate text using GPT-2\n",
    "    input_ids = tokenizer.encode(seed_text, return_tensors=\"pt\")\n",
    "    attention_mask = torch.ones(input_ids.shape, dtype=torch.long)  # Create attention mask\n",
    "    output = model.generate(input_ids, attention_mask=attention_mask, max_length=100, num_return_sequences=1, no_repeat_ngram_size=2, top_k=50, top_p=0.95)\n",
    "    generated_text = tokenizer.decode(output[0], skip_special_tokens=True)\n",
    "    print(\"Generated Text:\", generated_text)\n",
    "\n",
    "    # Parse the generated text to create a new data point\n",
    "    generated_data_point = {\n",
    "        'Disease': 'Fictional Disease',\n",
    "        'Fever': 'Yes' if 'Fever' in generated_text else 'No',\n",
    "        'Cough': 'Yes' if 'Cough' in generated_text else 'No',\n",
    "        'Fatigue': 'Yes' if 'Fatigue' in generated_text else 'No',\n",
    "        'Difficulty Breathing': 'Yes' if 'Difficulty Breathing' in generated_text else 'No',\n",
    "        'Age': torch.randint(1, 100, (1,)).item(),\n",
    "        'Gender': 'Male' if 'Male' in generated_text else 'Female',\n",
    "        'Blood Pressure': 'Normal',\n",
    "        'Cholesterol Level': 'Normal',\n",
    "        'Outcome Variable': 'Unknown'\n",
    "    }\n",
    "\n",
    "    generated_dataset.append(generated_data_point)\n",
    "\n",
    "# Print the generated dataset\n",
    "for data_point in generated_dataset:\n",
    "    print(data_point)\n",
    "    print(\"=\"*50)"
   ]
  },
  {
   "cell_type": "code",
   "execution_count": null,
   "id": "13eb908838ece047",
   "metadata": {
    "ExecuteTime": {
     "end_time": "2024-01-08T19:14:32.568636700Z",
     "start_time": "2024-01-08T19:14:18.094651900Z"
    },
    "collapsed": false
   },
   "outputs": [
    {
     "name": "stderr",
     "output_type": "stream",
     "text": [
      "Setting `pad_token_id` to `eos_token_id`:50256 for open-end generation.\n",
      "Setting `pad_token_id` to `eos_token_id`:50256 for open-end generation.\n"
     ]
    },
    {
     "name": "stdout",
     "output_type": "stream",
     "text": [
      "Generated Text: Patient 42-year-old, presented with symptoms of  Pol.  (Pol.   ileum erythematous ichneumonia) and was admitted to the hospital. He was treated with antibiotics and then given a corticosteroid. The patient was then transferred to a hospital in the city of Pune.\n",
      "The patient's condition was stabilized and he was discharged from the intensive care unit. After a few days, the patient received a second dose of\n"
     ]
    },
    {
     "name": "stderr",
     "output_type": "stream",
     "text": [
      "Setting `pad_token_id` to `eos_token_id`:50256 for open-end generation.\n"
     ]
    },
    {
     "name": "stdout",
     "output_type": "stream",
     "text": [
      "Generated Text: Patient 26-year-old, presented with symptoms of �.\n",
      "\n",
      "�I was in a state of shock,� he said. �I had no idea what was going on. I was just so shocked. It was like I had never seen anything like this before.�\n",
      "...\n",
      "\n",
      "\n",
      "\n",
      "The man, who was not identified, was taken to the hospital with a gunshot wound to his head. He was pronounced dead at the scene.\n",
      "\n",
      "...\n",
      "\n",
      "\n",
      "\n",
      ".\n"
     ]
    },
    {
     "name": "stderr",
     "output_type": "stream",
     "text": [
      "Setting `pad_token_id` to `eos_token_id`:50256 for open-end generation.\n"
     ]
    },
    {
     "name": "stdout",
     "output_type": "stream",
     "text": [
      "Generated Text: Patient 3-year-old, presented with symptoms of  tropical.\n",
      "\n",
      "The patient was taken to the hospital for treatment of the symptoms. The patient's condition was stabilized and he was discharged. He was placed in a medically induced coma.\n"
     ]
    },
    {
     "name": "stderr",
     "output_type": "stream",
     "text": [
      "Setting `pad_token_id` to `eos_token_id`:50256 for open-end generation.\n"
     ]
    },
    {
     "name": "stdout",
     "output_type": "stream",
     "text": [
      "Generated Text: Patient 36-year-old, presented with symptoms of Stats. I.D., and was told that I was not a patient. He was then told to go to the hospital.\n",
      "\n",
      "I.E. was given a prescription for a medication called \"Tylenol.\" I had a seizure and had to be taken to a hospital for treatment. The doctor told me that the medication was \"toxic.\" He said that he was going to take me to see a doctor. When\n",
      "Generated Text: Patient 23-year-old, presented with symptoms of Food.\n",
      "\n",
      "The patient was taken to the hospital for treatment of a blood clot. The patient's condition was stabilized and he was discharged. He was placed in a medically induced coma.\n",
      "{'Disease': 'Unknown Disease', 'Fever': 'No', 'Cough': 'No', 'Fatigue': 'No', 'Difficulty Breathing': 'No', 'Age': 42, 'Gender': 'Female', 'Blood Pressure': 'Normal', 'Cholesterol Level': 'Normal', 'Outcome Variable': 'Unknown'}\n",
      "{'Disease': 'Unknown Disease', 'Fever': 'No', 'Cough': 'No', 'Fatigue': 'No', 'Difficulty Breathing': 'No', 'Age': 26, 'Gender': 'Female', 'Blood Pressure': 'Normal', 'Cholesterol Level': 'Normal', 'Outcome Variable': 'Unknown'}\n",
      "{'Disease': 'Unknown Disease', 'Fever': 'No', 'Cough': 'No', 'Fatigue': 'No', 'Difficulty Breathing': 'No', 'Age': 3, 'Gender': 'Female', 'Blood Pressure': 'Normal', 'Cholesterol Level': 'Normal', 'Outcome Variable': 'Unknown'}\n",
      "{'Disease': 'Stats', 'Fever': 'No', 'Cough': 'No', 'Fatigue': 'No', 'Difficulty Breathing': 'No', 'Age': 36, 'Gender': 'Female', 'Blood Pressure': 'Normal', 'Cholesterol Level': 'Normal', 'Outcome Variable': 'Unknown'}\n",
      "{'Disease': 'Food', 'Fever': 'No', 'Cough': 'No', 'Fatigue': 'No', 'Difficulty Breathing': 'No', 'Age': 23, 'Gender': 'Female', 'Blood Pressure': 'Normal', 'Cholesterol Level': 'Normal', 'Outcome Variable': 'Unknown'}\n"
     ]
    }
   ],
   "source": [
    "import re\n",
    "import torch\n",
    "from transformers import GPT2LMHeadModel, GPT2Tokenizer\n",
    "\n",
    "# Load pre-trained GPT-2 model and tokenizer\n",
    "model_name = \"gpt2\"\n",
    "model = GPT2LMHeadModel.from_pretrained(model_name)\n",
    "tokenizer = GPT2Tokenizer.from_pretrained(model_name)\n",
    "\n",
    "# Template for generating textual descriptions\n",
    "template = \"Patient {}, {}-year-old, presented with symptoms of {}. The patient reported fever is {}, cough is {}, fatigue is {}, difficulty breathing is {}. Blood pressure is {}, cholesterol level is {}. Diagnosis: {}.\"\n",
    "\n",
    "# Generate fictional patients using GPT-2\n",
    "generated_dataset = []\n",
    "\n",
    "for _ in range(5):  # Adjust the number of data points you want to generate\n",
    "    # Sample a random seed for GPT-2\n",
    "    seed_text = \"Patient {}-year-old, presented with symptoms of {}.\".format(\n",
    "        torch.randint(1, 100, (1,)).item(),\n",
    "        tokenizer.decode(torch.randint(0, len(tokenizer.get_vocab()), (1,)).item(), skip_special_tokens=True)\n",
    "    )\n",
    "\n",
    "    # Generate text using GPT-2\n",
    "    input_ids = tokenizer.encode(seed_text, return_tensors=\"pt\")\n",
    "    attention_mask = torch.ones(input_ids.shape, dtype=torch.long)  # Create attention mask\n",
    "    output = model.generate(input_ids, attention_mask=attention_mask, max_length=100, num_return_sequences=1, no_repeat_ngram_size=2, top_k=50, top_p=0.95)\n",
    "    generated_text = tokenizer.decode(output[0], skip_special_tokens=True)\n",
    "    \n",
    "    print(\"Generated Text:\", generated_text)\n",
    "\n",
    "    # Extract disease information from the generated text using updated regular expression\n",
    "    disease_match = re.search(r'presented with symptoms of (\\w+)[.,\\s]', generated_text)\n",
    "    generated_disease = disease_match.group(1) if disease_match else \"Unknown Disease\"\n",
    "\n",
    "    # Extract age information from the generated text using regular expression\n",
    "    age_match = re.search(r'(\\d+)-year-old', generated_text)\n",
    "    generated_age = int(age_match.group(1)) if age_match else None\n",
    "\n",
    "    # Create a new data point with the generated disease and age\n",
    "    generated_data_point = {\n",
    "        'Disease': generated_disease,\n",
    "        'Fever': 'Yes' if 'Fever' in generated_text else 'No',\n",
    "        'Cough': 'Yes' if 'Cough' in generated_text else 'No',\n",
    "        'Fatigue': 'Yes' if 'Fatigue' in generated_text else 'No',\n",
    "        'Difficulty Breathing': 'Yes' if 'Difficulty Breathing' in generated_text else 'No',\n",
    "        'Age': generated_age,\n",
    "        'Gender': 'Male' if 'Male' in generated_text else 'Female',\n",
    "        'Blood Pressure': 'Normal',\n",
    "        'Cholesterol Level': 'Normal',\n",
    "        'Outcome Variable': 'Unknown'\n",
    "    }\n",
    "\n",
    "    generated_dataset.append(generated_data_point)\n",
    "\n",
    "# Print the generated dataset\n",
    "for data_point in generated_dataset:\n",
    "    print(data_point)\n"
   ]
  },
  {
   "cell_type": "code",
   "execution_count": null,
   "id": "c3c3324e23bfcf03",
   "metadata": {
    "collapsed": false
   },
   "outputs": [],
   "source": [
    "# mount drive\n",
    "from google.colab import drive\n",
    "drive.mount('/content/drive')\n",
    "\n",
    "import torch\n",
    "from numba import cuda\n",
    "from be_great import GReaT\n",
    "from sklearn.datasets import fetch_california_housing\n",
    "import json\n",
    "\n",
    "device = cuda.get_current_device()\n",
    "device.reset()\n",
    "print(torch.cuda.is_available())\n",
    "\n",
    "# Load model configuration from JSON file\n",
    "config_file = open('/content/drive/MyDrive/Colab Notebooks/Be_Great/config.json')\n",
    "model_config = json.load(config_file)\n",
    "\n",
    "data = fetch_california_housing(as_frame=True).frame\n",
    "\n",
    "# Create an instance of the model using the loaded configuration\n",
    "model = GReaT(**model_config)\n",
    "\n",
    "# No need to train the model as it's already configured\n",
    "# If you want to train it, you can uncomment the following line:\n",
    "# model.fit(data)\n",
    "\n",
    "synthetic_data = model.sample(n_samples=100)\n",
    "\n"
   ]
  }
 ],
 "metadata": {
  "kernelspec": {
   "display_name": "Python 3",
   "language": "python",
   "name": "python3"
  },
  "language_info": {
   "codemirror_mode": {
    "name": "ipython",
    "version": 3
   },
   "file_extension": ".py",
   "mimetype": "text/x-python",
   "name": "python",
   "nbconvert_exporter": "python",
   "pygments_lexer": "ipython3",
   "version": "3.11.5"
  }
 },
 "nbformat": 4,
 "nbformat_minor": 5
}
