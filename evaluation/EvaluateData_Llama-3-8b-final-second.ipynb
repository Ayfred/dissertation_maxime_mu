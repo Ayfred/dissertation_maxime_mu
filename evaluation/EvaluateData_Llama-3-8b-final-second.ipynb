{
 "cells": [
  {
   "cell_type": "code",
   "execution_count": 1,
   "metadata": {},
   "outputs": [],
   "source": [
    "import pandas as pd\n",
    "import numpy as np\n",
    "import matplotlib.pyplot as plt\n",
    "import seaborn as sns"
   ]
  },
  {
   "cell_type": "markdown",
   "metadata": {},
   "source": [
    "## Go to the /users/pgrad/mamu/Documents/first/ directory \n"
   ]
  },
  {
   "cell_type": "code",
   "execution_count": 2,
   "metadata": {},
   "outputs": [],
   "source": [
    "# Go to the /users/pgrad/mamu/Documents/first/ directory \n",
    "import os\n",
    "#os.chdir('/users/pgrad/mamu/Documents/first/')\n",
    "os.chdir('D:/maxim/Dissertation/first')"
   ]
  },
  {
   "cell_type": "markdown",
   "metadata": {},
   "source": [
    "## Load datasets\n"
   ]
  },
  {
   "cell_type": "code",
   "execution_count": 3,
   "metadata": {},
   "outputs": [],
   "source": [
    "# Load datasets\n",
    "original_data = pd.read_csv('./datasets/data-ori.csv')\n",
    "generated_data = pd.read_csv('./llama3-8b/results/synthetic_data_llama_3_8b_data_ori.csv')\n"
   ]
  },
  {
   "cell_type": "markdown",
   "metadata": {},
   "source": [
    "## Feature Engineering"
   ]
  },
  {
   "cell_type": "code",
   "execution_count": 4,
   "metadata": {},
   "outputs": [
    {
     "name": "stdout",
     "output_type": "stream",
     "text": [
      "Original data length: 4412\n",
      "Generated data length: 4426\n"
     ]
    }
   ],
   "source": [
    "# Print the length of the datasets\n",
    "print('Original data length:', len(original_data))\n",
    "print('Generated data length:', len(generated_data))\n",
    "\n",
    "# Subset the datasets to the minimum length\n",
    "min_len = min(len(original_data), len(generated_data))\n",
    "original_data = original_data.iloc[:min_len]\n",
    "generated_data = generated_data.iloc[:min_len]"
   ]
  },
  {
   "cell_type": "markdown",
   "metadata": {},
   "source": [
    "## Descriptive statistics comparison\n"
   ]
  },
  {
   "cell_type": "markdown",
   "metadata": {},
   "source": [
    "### General description of both datasets"
   ]
  },
  {
   "cell_type": "code",
   "execution_count": 5,
   "metadata": {},
   "outputs": [
    {
     "name": "stdout",
     "output_type": "stream",
     "text": [
      "Original Data Description:\n",
      "        HAEMATOCRIT  HAEMOGLOBINS  ERYTHROCYTE    LEUCOCYTE  THROMBOCYTE  \\\n",
      "count  4412.000000   4412.000000  4412.000000  4412.000000  4412.000000   \n",
      "mean     38.197688     12.741727     4.541260     8.718608   257.524479   \n",
      "std       5.974784      2.079903     0.784091     5.049041   113.972365   \n",
      "min      13.700000      3.800000     1.480000     1.100000     8.000000   \n",
      "25%      34.375000     11.400000     4.040000     5.675000   188.000000   \n",
      "50%      38.600000     12.900000     4.570000     7.600000   256.000000   \n",
      "75%      42.500000     14.200000     5.050000    10.300000   321.000000   \n",
      "max      69.000000     18.900000     7.860000    76.600000  1183.000000   \n",
      "\n",
      "               MCH         MCHC          MCV          AGE  \n",
      "count  4412.000000  4412.000000  4412.000000  4412.000000  \n",
      "mean     28.234701    33.343042    84.612942    46.626473  \n",
      "std       2.672639     1.228664     6.859101    21.731218  \n",
      "min      14.900000    26.000000    54.000000     1.000000  \n",
      "25%      27.200000    32.700000    81.500000    29.000000  \n",
      "50%      28.700000    33.400000    85.400000    47.000000  \n",
      "75%      29.800000    34.100000    88.700000    64.000000  \n",
      "max      40.800000    39.000000   115.600000    99.000000  \n",
      "Generated Data Description:\n",
      "        HAEMATOCRIT  HAEMOGLOBINS  ERYTHROCYTE    LEUCOCYTE  THROMBOCYTE  \\\n",
      "count  4412.000000   4412.000000  4412.000000  4412.000000  4412.000000   \n",
      "mean     37.844946     12.616976     4.468942     8.716455   254.096102   \n",
      "std       6.029791      2.097782     0.825161     4.895669   111.701753   \n",
      "min      13.700000      3.800000     1.480000     1.100000     8.000000   \n",
      "25%      33.300000     11.000000     3.920000     5.800000   187.000000   \n",
      "50%      38.300000     12.700000     4.530000     7.800000   250.000000   \n",
      "75%      42.300000     14.200000     5.010000    10.100000   317.000000   \n",
      "max      69.000000     18.900000     7.860000    76.600000  1183.000000   \n",
      "\n",
      "               MCH         MCHC          MCV          AGE  \n",
      "count  4412.000000  4412.000000  4412.000000  4412.000000  \n",
      "mean     28.474751    33.321442    85.398028    49.298051  \n",
      "std       2.812292     1.205099     7.490981    24.004539  \n",
      "min      14.900000    26.000000    54.000000     1.000000  \n",
      "25%      27.300000    32.700000    81.800000    30.000000  \n",
      "50%      28.800000    33.300000    85.700000    50.000000  \n",
      "75%      30.000000    34.000000    89.400000    67.000000  \n",
      "max      40.800000    39.000000   115.600000    98.000000  \n",
      "Original Data Description for Categorical Columns:\n",
      "          SEX SOURCE\n",
      "count   4412   4412\n",
      "unique     2      2\n",
      "top        M    out\n",
      "freq    2290   2628\n",
      "Generated Data Description for Categorical Columns:\n",
      "          SEX SOURCE\n",
      "count   4412   4412\n",
      "unique     2      2\n",
      "top        F    out\n",
      "freq    2239   2505\n"
     ]
    }
   ],
   "source": [
    "# Descriptive statistics comparison\n",
    "print(\"Original Data Description:\\n\", original_data.describe())\n",
    "print(\"Generated Data Description:\\n\", generated_data.describe())\n",
    "\n",
    "# Descriptive statistics comparison for categorical columns\n",
    "print(\"Original Data Description for Categorical Columns:\\n\", original_data.describe(include=['object']))\n",
    "print(\"Generated Data Description for Categorical Columns:\\n\", generated_data.describe(include=['object']))\n"
   ]
  },
  {
   "cell_type": "markdown",
   "metadata": {},
   "source": [
    "### Plot histograms"
   ]
  }
 ],
 "metadata": {
  "kernelspec": {
   "display_name": ".venv",
   "language": "python",
   "name": "python3"
  },
  "language_info": {
   "codemirror_mode": {
    "name": "ipython",
    "version": 3
   },
   "file_extension": ".py",
   "mimetype": "text/x-python",
   "name": "python",
   "nbconvert_exporter": "python",
   "pygments_lexer": "ipython3",
   "version": "3.11.0"
  }
 },
 "nbformat": 4,
 "nbformat_minor": 2
}
